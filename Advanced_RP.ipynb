{
  "nbformat": 4,
  "nbformat_minor": 0,
  "metadata": {
    "colab": {
      "name": "Advanced RP.ipynb",
      "provenance": [],
      "collapsed_sections": [],
      "toc_visible": true,
      "authorship_tag": "ABX9TyOul9E6iUOE5yVlwI3/55Qf",
      "include_colab_link": true
    },
    "kernelspec": {
      "name": "python3",
      "display_name": "Python 3"
    }
  },
  "cells": [
    {
      "cell_type": "markdown",
      "metadata": {
        "id": "view-in-github",
        "colab_type": "text"
      },
      "source": [
        "<a href=\"https://colab.research.google.com/github/neenjo/ai-and-analytics-p4/blob/main/Advanced_RP.ipynb\" target=\"_parent\"><img src=\"https://colab.research.google.com/assets/colab-badge.svg\" alt=\"Open In Colab\"/></a>"
      ]
    },
    {
      "cell_type": "markdown",
      "metadata": {
        "id": "btf-eT1hQXka"
      },
      "source": [
        "Data Source Citation:\n",
        "Felix Gräßer, Surya Kallumadi, Hagen Malberg, and Sebastian Zaunseder. 2018. Aspect-Based Sentiment Analysis of Drug Reviews Applying Cross-Domain and Cross-Data Learning. In Proceedings of the 2018 International Conference on Digital Health (DH '18). ACM, New York, NY, USA, 121-125. DOI:\n",
        "*italicized text*\n"
      ]
    },
    {
      "cell_type": "markdown",
      "metadata": {
        "id": "YdjDyweySgd1"
      },
      "source": [
        "Loading Data from Google Drive"
      ]
    },
    {
      "cell_type": "code",
      "metadata": {
        "colab": {
          "base_uri": "https://localhost:8080/"
        },
        "id": "o-0pBwn2SgFY",
        "outputId": "7032f115-823e-490d-8a5a-acc8f5a9055a"
      },
      "source": [
        "from google.colab import drive\n",
        "drive.mount('/content/drive')"
      ],
      "execution_count": null,
      "outputs": [
        {
          "output_type": "stream",
          "text": [
            "Drive already mounted at /content/drive; to attempt to forcibly remount, call drive.mount(\"/content/drive\", force_remount=True).\n"
          ],
          "name": "stdout"
        }
      ]
    },
    {
      "cell_type": "markdown",
      "metadata": {
        "id": "1WUittiTRJ3F"
      },
      "source": [
        "Reading Data"
      ]
    },
    {
      "cell_type": "code",
      "metadata": {
        "id": "wCn8faZ2qQXd"
      },
      "source": [
        "path=\"/content/drive/My Drive/Study/s2 2020/Research Project Personal/Research Project/Data/drugLib_raw/drugLibTrain_raw.tsv\""
      ],
      "execution_count": null,
      "outputs": []
    },
    {
      "cell_type": "code",
      "metadata": {
        "id": "-KoLwhTiM7MQ"
      },
      "source": [
        "import pandas as pd\n",
        "raw_df=pd.read_csv(path,sep='\\t')"
      ],
      "execution_count": null,
      "outputs": []
    },
    {
      "cell_type": "code",
      "metadata": {
        "id": "65-jUu9KSelo",
        "colab": {
          "base_uri": "https://localhost:8080/",
          "height": 306
        },
        "outputId": "86dac175-0c3f-495b-e402-1442b5434bf0"
      },
      "source": [
        "raw_df.head()"
      ],
      "execution_count": null,
      "outputs": [
        {
          "output_type": "execute_result",
          "data": {
            "text/html": [
              "<div>\n",
              "<style scoped>\n",
              "    .dataframe tbody tr th:only-of-type {\n",
              "        vertical-align: middle;\n",
              "    }\n",
              "\n",
              "    .dataframe tbody tr th {\n",
              "        vertical-align: top;\n",
              "    }\n",
              "\n",
              "    .dataframe thead th {\n",
              "        text-align: right;\n",
              "    }\n",
              "</style>\n",
              "<table border=\"1\" class=\"dataframe\">\n",
              "  <thead>\n",
              "    <tr style=\"text-align: right;\">\n",
              "      <th></th>\n",
              "      <th>Unnamed: 0</th>\n",
              "      <th>urlDrugName</th>\n",
              "      <th>rating</th>\n",
              "      <th>effectiveness</th>\n",
              "      <th>sideEffects</th>\n",
              "      <th>condition</th>\n",
              "      <th>benefitsReview</th>\n",
              "      <th>sideEffectsReview</th>\n",
              "      <th>commentsReview</th>\n",
              "    </tr>\n",
              "  </thead>\n",
              "  <tbody>\n",
              "    <tr>\n",
              "      <th>0</th>\n",
              "      <td>2202</td>\n",
              "      <td>enalapril</td>\n",
              "      <td>4</td>\n",
              "      <td>Highly Effective</td>\n",
              "      <td>Mild Side Effects</td>\n",
              "      <td>management of congestive heart failure</td>\n",
              "      <td>slowed the progression of left ventricular dys...</td>\n",
              "      <td>cough, hypotension , proteinuria, impotence , ...</td>\n",
              "      <td>monitor blood pressure , weight and asses for ...</td>\n",
              "    </tr>\n",
              "    <tr>\n",
              "      <th>1</th>\n",
              "      <td>3117</td>\n",
              "      <td>ortho-tri-cyclen</td>\n",
              "      <td>1</td>\n",
              "      <td>Highly Effective</td>\n",
              "      <td>Severe Side Effects</td>\n",
              "      <td>birth prevention</td>\n",
              "      <td>Although this type of birth control has more c...</td>\n",
              "      <td>Heavy Cycle, Cramps, Hot Flashes, Fatigue, Lon...</td>\n",
              "      <td>I Hate This Birth Control, I Would Not Suggest...</td>\n",
              "    </tr>\n",
              "    <tr>\n",
              "      <th>2</th>\n",
              "      <td>1146</td>\n",
              "      <td>ponstel</td>\n",
              "      <td>10</td>\n",
              "      <td>Highly Effective</td>\n",
              "      <td>No Side Effects</td>\n",
              "      <td>menstrual cramps</td>\n",
              "      <td>I was used to having cramps so badly that they...</td>\n",
              "      <td>Heavier bleeding and clotting than normal.</td>\n",
              "      <td>I took 2 pills at the onset of my menstrual cr...</td>\n",
              "    </tr>\n",
              "    <tr>\n",
              "      <th>3</th>\n",
              "      <td>3947</td>\n",
              "      <td>prilosec</td>\n",
              "      <td>3</td>\n",
              "      <td>Marginally Effective</td>\n",
              "      <td>Mild Side Effects</td>\n",
              "      <td>acid reflux</td>\n",
              "      <td>The acid reflux went away for a few months aft...</td>\n",
              "      <td>Constipation, dry mouth and some mild dizzines...</td>\n",
              "      <td>I was given Prilosec prescription at a dose of...</td>\n",
              "    </tr>\n",
              "    <tr>\n",
              "      <th>4</th>\n",
              "      <td>1951</td>\n",
              "      <td>lyrica</td>\n",
              "      <td>2</td>\n",
              "      <td>Marginally Effective</td>\n",
              "      <td>Severe Side Effects</td>\n",
              "      <td>fibromyalgia</td>\n",
              "      <td>I think that the Lyrica was starting to help w...</td>\n",
              "      <td>I felt extremely drugged and dopey.  Could not...</td>\n",
              "      <td>See above</td>\n",
              "    </tr>\n",
              "  </tbody>\n",
              "</table>\n",
              "</div>"
            ],
            "text/plain": [
              "   Unnamed: 0  ...                                     commentsReview\n",
              "0        2202  ...  monitor blood pressure , weight and asses for ...\n",
              "1        3117  ...  I Hate This Birth Control, I Would Not Suggest...\n",
              "2        1146  ...  I took 2 pills at the onset of my menstrual cr...\n",
              "3        3947  ...  I was given Prilosec prescription at a dose of...\n",
              "4        1951  ...                                          See above\n",
              "\n",
              "[5 rows x 9 columns]"
            ]
          },
          "metadata": {
            "tags": []
          },
          "execution_count": 102
        }
      ]
    },
    {
      "cell_type": "markdown",
      "metadata": {
        "id": "yP36c7j2sMy-"
      },
      "source": [
        "# Feature Selection"
      ]
    },
    {
      "cell_type": "code",
      "metadata": {
        "id": "X-UiDGLUsgGq"
      },
      "source": [
        "basic_df=raw_df.iloc[:,[2,3,4,8]]"
      ],
      "execution_count": null,
      "outputs": []
    },
    {
      "cell_type": "code",
      "metadata": {
        "colab": {
          "base_uri": "https://localhost:8080/",
          "height": 419
        },
        "id": "ELoYyqdHw5lT",
        "outputId": "2c88608c-cfe2-445b-93cd-f8ea45108b70"
      },
      "source": [
        "basic_df.head(-5)"
      ],
      "execution_count": null,
      "outputs": [
        {
          "output_type": "execute_result",
          "data": {
            "text/html": [
              "<div>\n",
              "<style scoped>\n",
              "    .dataframe tbody tr th:only-of-type {\n",
              "        vertical-align: middle;\n",
              "    }\n",
              "\n",
              "    .dataframe tbody tr th {\n",
              "        vertical-align: top;\n",
              "    }\n",
              "\n",
              "    .dataframe thead th {\n",
              "        text-align: right;\n",
              "    }\n",
              "</style>\n",
              "<table border=\"1\" class=\"dataframe\">\n",
              "  <thead>\n",
              "    <tr style=\"text-align: right;\">\n",
              "      <th></th>\n",
              "      <th>rating</th>\n",
              "      <th>effectiveness</th>\n",
              "      <th>sideEffects</th>\n",
              "      <th>commentsReview</th>\n",
              "    </tr>\n",
              "  </thead>\n",
              "  <tbody>\n",
              "    <tr>\n",
              "      <th>0</th>\n",
              "      <td>4</td>\n",
              "      <td>Highly Effective</td>\n",
              "      <td>Mild Side Effects</td>\n",
              "      <td>monitor blood pressure , weight and asses for ...</td>\n",
              "    </tr>\n",
              "    <tr>\n",
              "      <th>1</th>\n",
              "      <td>1</td>\n",
              "      <td>Highly Effective</td>\n",
              "      <td>Severe Side Effects</td>\n",
              "      <td>I Hate This Birth Control, I Would Not Suggest...</td>\n",
              "    </tr>\n",
              "    <tr>\n",
              "      <th>2</th>\n",
              "      <td>10</td>\n",
              "      <td>Highly Effective</td>\n",
              "      <td>No Side Effects</td>\n",
              "      <td>I took 2 pills at the onset of my menstrual cr...</td>\n",
              "    </tr>\n",
              "    <tr>\n",
              "      <th>3</th>\n",
              "      <td>3</td>\n",
              "      <td>Marginally Effective</td>\n",
              "      <td>Mild Side Effects</td>\n",
              "      <td>I was given Prilosec prescription at a dose of...</td>\n",
              "    </tr>\n",
              "    <tr>\n",
              "      <th>4</th>\n",
              "      <td>2</td>\n",
              "      <td>Marginally Effective</td>\n",
              "      <td>Severe Side Effects</td>\n",
              "      <td>See above</td>\n",
              "    </tr>\n",
              "    <tr>\n",
              "      <th>...</th>\n",
              "      <td>...</td>\n",
              "      <td>...</td>\n",
              "      <td>...</td>\n",
              "      <td>...</td>\n",
              "    </tr>\n",
              "    <tr>\n",
              "      <th>3097</th>\n",
              "      <td>8</td>\n",
              "      <td>Considerably Effective</td>\n",
              "      <td>No Side Effects</td>\n",
              "      <td>I take one pill in the morning, and one at night.</td>\n",
              "    </tr>\n",
              "    <tr>\n",
              "      <th>3098</th>\n",
              "      <td>10</td>\n",
              "      <td>Highly Effective</td>\n",
              "      <td>No Side Effects</td>\n",
              "      <td>My son had been having terrible problems with ...</td>\n",
              "    </tr>\n",
              "    <tr>\n",
              "      <th>3099</th>\n",
              "      <td>8</td>\n",
              "      <td>Considerably Effective</td>\n",
              "      <td>Moderate Side Effects</td>\n",
              "      <td>The patient was diagnosed with ADHD after desc...</td>\n",
              "    </tr>\n",
              "    <tr>\n",
              "      <th>3100</th>\n",
              "      <td>7</td>\n",
              "      <td>Considerably Effective</td>\n",
              "      <td>Mild Side Effects</td>\n",
              "      <td>I started with a low dose, then increased the ...</td>\n",
              "    </tr>\n",
              "    <tr>\n",
              "      <th>3101</th>\n",
              "      <td>8</td>\n",
              "      <td>Considerably Effective</td>\n",
              "      <td>No Side Effects</td>\n",
              "      <td>To reduce pain generated by nerve irritation d...</td>\n",
              "    </tr>\n",
              "  </tbody>\n",
              "</table>\n",
              "<p>3102 rows × 4 columns</p>\n",
              "</div>"
            ],
            "text/plain": [
              "      rating  ...                                     commentsReview\n",
              "0          4  ...  monitor blood pressure , weight and asses for ...\n",
              "1          1  ...  I Hate This Birth Control, I Would Not Suggest...\n",
              "2         10  ...  I took 2 pills at the onset of my menstrual cr...\n",
              "3          3  ...  I was given Prilosec prescription at a dose of...\n",
              "4          2  ...                                          See above\n",
              "...      ...  ...                                                ...\n",
              "3097       8  ...  I take one pill in the morning, and one at night.\n",
              "3098      10  ...  My son had been having terrible problems with ...\n",
              "3099       8  ...  The patient was diagnosed with ADHD after desc...\n",
              "3100       7  ...  I started with a low dose, then increased the ...\n",
              "3101       8  ...  To reduce pain generated by nerve irritation d...\n",
              "\n",
              "[3102 rows x 4 columns]"
            ]
          },
          "metadata": {
            "tags": []
          },
          "execution_count": 104
        }
      ]
    },
    {
      "cell_type": "markdown",
      "metadata": {
        "id": "CPTeZ-6Rf6mx"
      },
      "source": [
        "DIsplaying Count"
      ]
    },
    {
      "cell_type": "code",
      "metadata": {
        "id": "ADLmFctxjVRb",
        "colab": {
          "base_uri": "https://localhost:8080/"
        },
        "outputId": "cbee771c-1b84-464a-d658-88c2969eb2d5"
      },
      "source": [
        "basic_df['effectiveness'].value_counts()"
      ],
      "execution_count": null,
      "outputs": [
        {
          "output_type": "execute_result",
          "data": {
            "text/plain": [
              "Highly Effective          1330\n",
              "Considerably Effective     928\n",
              "Moderately Effective       415\n",
              "Ineffective                247\n",
              "Marginally Effective       187\n",
              "Name: effectiveness, dtype: int64"
            ]
          },
          "metadata": {
            "tags": []
          },
          "execution_count": 105
        }
      ]
    },
    {
      "cell_type": "code",
      "metadata": {
        "colab": {
          "base_uri": "https://localhost:8080/"
        },
        "id": "JYNqwf_DgDTl",
        "outputId": "3c4e6005-3d48-45d1-e181-cd85e5905a06"
      },
      "source": [
        "basic_df['sideEffects'].value_counts()"
      ],
      "execution_count": null,
      "outputs": [
        {
          "output_type": "execute_result",
          "data": {
            "text/plain": [
              "Mild Side Effects                1019\n",
              "No Side Effects                   930\n",
              "Moderate Side Effects             614\n",
              "Severe Side Effects               369\n",
              "Extremely Severe Side Effects     175\n",
              "Name: sideEffects, dtype: int64"
            ]
          },
          "metadata": {
            "tags": []
          },
          "execution_count": 106
        }
      ]
    },
    {
      "cell_type": "code",
      "metadata": {
        "id": "0EDbx3vhyjxt"
      },
      "source": [
        "#basic_df['condition'].value_counts()"
      ],
      "execution_count": null,
      "outputs": []
    },
    {
      "cell_type": "code",
      "metadata": {
        "colab": {
          "base_uri": "https://localhost:8080/"
        },
        "id": "FzLOINS2Ufs4",
        "outputId": "7271c9c6-c083-468f-f832-57bf7496a7fc"
      },
      "source": [
        "basic_df['commentsReview'].value_counts()"
      ],
      "execution_count": null,
      "outputs": [
        {
          "output_type": "execute_result",
          "data": {
            "text/plain": [
              "none                                                                                                                                                                                                                                                                                                                                                                                                                                                          6\n",
              "None                                                                                                                                                                                                                                                                                                                                                                                                                                                          4\n",
              "The pills are administered once a day, daily, for as long as you think it's worth taking them.  The prescribing physician recommended taking Lexapro for at least six months to get the full benefit of its normalizing effects.                                                                                                                                                                                                                              3\n",
              "One tablet once a day                                                                                                                                                                                                                                                                                                                                                                                                                                         3\n",
              "See above                                                                                                                                                                                                                                                                                                                                                                                                                                                     3\n",
              "                                                                                                                                                                                                                                                                                                                                                                                                                                                             ..\n",
              "slightly increased attention in a 13 year old girl suffering with ADHD (predominately inattentive) and aspergers syndrome but had bad side effects so was taken off medication and switched to Adderall XR instead                                                                                                                                                                                                                                            1\n",
              "This was the last prescribed medication for out of control high blood pressure. I was first diagnosed with  hypertension when I was in my 30's (with no symptoms  - routine check-up) Gradually through the years, it has taken more meds.  Apparently, it takes all three of these medications to work together. With all of them, my blood pressure is within normal guidelines (or very close), but without any one of them, there is an immediate rise    1\n",
              "take one pill orally once per day for two weeks.                                                                                                                                                                                                                                                                                                                                                                                                              1\n",
              "It was recommended that as soon as I felt the migraine coming on that I take a zomig tablet. The one that I take is the rapimelt that I put under my tongue and it melts usually in less than a minute. I find that I usually het relief within in 1 -2 hours.                                                                                                                                                                                                1\n",
              "apply a pea-sized amount to skin, every evening over infected areas, start by putting it on your cheeks, chin, and forehead. If side effects occur, apply every other night.                                                                                                                                                                                                                                                                                  1\n",
              "Name: commentsReview, Length: 3047, dtype: int64"
            ]
          },
          "metadata": {
            "tags": []
          },
          "execution_count": 108
        }
      ]
    },
    {
      "cell_type": "code",
      "metadata": {
        "colab": {
          "base_uri": "https://localhost:8080/"
        },
        "id": "CGYNklbCVPui",
        "outputId": "2dc892fd-9495-4095-c860-c042f945b3fc"
      },
      "source": [
        "basic_df.shape"
      ],
      "execution_count": null,
      "outputs": [
        {
          "output_type": "execute_result",
          "data": {
            "text/plain": [
              "(3107, 4)"
            ]
          },
          "metadata": {
            "tags": []
          },
          "execution_count": 109
        }
      ]
    },
    {
      "cell_type": "markdown",
      "metadata": {
        "id": "M65K2ebtVnN4"
      },
      "source": [
        "Dropping all rows which has see above"
      ]
    },
    {
      "cell_type": "code",
      "metadata": {
        "id": "0lz58D9jUin3"
      },
      "source": [
        "basic_df=basic_df.drop(basic_df[basic_df['commentsReview']==\"see above\"].index)"
      ],
      "execution_count": null,
      "outputs": []
    },
    {
      "cell_type": "code",
      "metadata": {
        "colab": {
          "base_uri": "https://localhost:8080/"
        },
        "id": "3FYCRmstW0l3",
        "outputId": "e32ffc93-25de-4354-819a-2e877ebf5a4e"
      },
      "source": [
        "basic_df.shape"
      ],
      "execution_count": null,
      "outputs": [
        {
          "output_type": "execute_result",
          "data": {
            "text/plain": [
              "(3104, 4)"
            ]
          },
          "metadata": {
            "tags": []
          },
          "execution_count": 111
        }
      ]
    },
    {
      "cell_type": "markdown",
      "metadata": {
        "id": "zETYu8R_W2sG"
      },
      "source": [
        "3 rows deleted"
      ]
    },
    {
      "cell_type": "markdown",
      "metadata": {
        "id": "MPb1Y8jjWDKt"
      },
      "source": [
        "Need to create a Pipeline for all the following steps"
      ]
    },
    {
      "cell_type": "markdown",
      "metadata": {
        "id": "8fhY7WQlHaUx"
      },
      "source": [
        "Categorising review ratings as **Negative 0 and Positive 1**"
      ]
    },
    {
      "cell_type": "code",
      "metadata": {
        "colab": {
          "base_uri": "https://localhost:8080/"
        },
        "id": "2L6Yq_TrHaUx",
        "outputId": "c0d8b7fc-5408-4733-c6c4-f7858984c0d8"
      },
      "source": [
        "def rank_bin(array):\n",
        "  y_rank = []\n",
        "  for i in array:\n",
        "    if i <= 5: # Negative Rating Cut Off (Inclusive)\n",
        "      y_rank.append(0)\n",
        "#    elif i >= 7: # Positive Rating Cut Off (Inclusive)\n",
        "#      y_rank.append(2)\n",
        "    else:  # Neutral Rating Cut off \n",
        "      y_rank.append(1)\n",
        "  return y_rank\n",
        "\n",
        "basic_df[\"rank_bin\"] = rank_bin(basic_df[\"rating\"])\n",
        "basic_df.rank_bin.value_counts() "
      ],
      "execution_count": null,
      "outputs": [
        {
          "output_type": "execute_result",
          "data": {
            "text/plain": [
              "1    2285\n",
              "0     819\n",
              "Name: rank_bin, dtype: int64"
            ]
          },
          "metadata": {
            "tags": []
          },
          "execution_count": 112
        }
      ]
    },
    {
      "cell_type": "code",
      "metadata": {
        "colab": {
          "base_uri": "https://localhost:8080/",
          "height": 204
        },
        "id": "xH_I9T4uHaUx",
        "outputId": "d3e98582-4a13-41b2-8c8f-54835c8d0da0"
      },
      "source": [
        "basic_df.head()"
      ],
      "execution_count": null,
      "outputs": [
        {
          "output_type": "execute_result",
          "data": {
            "text/html": [
              "<div>\n",
              "<style scoped>\n",
              "    .dataframe tbody tr th:only-of-type {\n",
              "        vertical-align: middle;\n",
              "    }\n",
              "\n",
              "    .dataframe tbody tr th {\n",
              "        vertical-align: top;\n",
              "    }\n",
              "\n",
              "    .dataframe thead th {\n",
              "        text-align: right;\n",
              "    }\n",
              "</style>\n",
              "<table border=\"1\" class=\"dataframe\">\n",
              "  <thead>\n",
              "    <tr style=\"text-align: right;\">\n",
              "      <th></th>\n",
              "      <th>rating</th>\n",
              "      <th>effectiveness</th>\n",
              "      <th>sideEffects</th>\n",
              "      <th>commentsReview</th>\n",
              "      <th>rank_bin</th>\n",
              "    </tr>\n",
              "  </thead>\n",
              "  <tbody>\n",
              "    <tr>\n",
              "      <th>0</th>\n",
              "      <td>4</td>\n",
              "      <td>Highly Effective</td>\n",
              "      <td>Mild Side Effects</td>\n",
              "      <td>monitor blood pressure , weight and asses for ...</td>\n",
              "      <td>0</td>\n",
              "    </tr>\n",
              "    <tr>\n",
              "      <th>1</th>\n",
              "      <td>1</td>\n",
              "      <td>Highly Effective</td>\n",
              "      <td>Severe Side Effects</td>\n",
              "      <td>I Hate This Birth Control, I Would Not Suggest...</td>\n",
              "      <td>0</td>\n",
              "    </tr>\n",
              "    <tr>\n",
              "      <th>2</th>\n",
              "      <td>10</td>\n",
              "      <td>Highly Effective</td>\n",
              "      <td>No Side Effects</td>\n",
              "      <td>I took 2 pills at the onset of my menstrual cr...</td>\n",
              "      <td>1</td>\n",
              "    </tr>\n",
              "    <tr>\n",
              "      <th>3</th>\n",
              "      <td>3</td>\n",
              "      <td>Marginally Effective</td>\n",
              "      <td>Mild Side Effects</td>\n",
              "      <td>I was given Prilosec prescription at a dose of...</td>\n",
              "      <td>0</td>\n",
              "    </tr>\n",
              "    <tr>\n",
              "      <th>4</th>\n",
              "      <td>2</td>\n",
              "      <td>Marginally Effective</td>\n",
              "      <td>Severe Side Effects</td>\n",
              "      <td>See above</td>\n",
              "      <td>0</td>\n",
              "    </tr>\n",
              "  </tbody>\n",
              "</table>\n",
              "</div>"
            ],
            "text/plain": [
              "   rating  ... rank_bin\n",
              "0       4  ...        0\n",
              "1       1  ...        0\n",
              "2      10  ...        1\n",
              "3       3  ...        0\n",
              "4       2  ...        0\n",
              "\n",
              "[5 rows x 5 columns]"
            ]
          },
          "metadata": {
            "tags": []
          },
          "execution_count": 113
        }
      ]
    },
    {
      "cell_type": "markdown",
      "metadata": {
        "id": "KgJ4xb8_Xjan"
      },
      "source": [
        "Train Test Split with Stratisfied sampling"
      ]
    },
    {
      "cell_type": "code",
      "metadata": {
        "colab": {
          "base_uri": "https://localhost:8080/"
        },
        "id": "d2FdgipzXsBS",
        "outputId": "0912c23d-280e-4ceb-ce6a-b57bb26dde70"
      },
      "source": [
        "basic_df[\"rank_bin\"].value_counts(normalize=True)"
      ],
      "execution_count": null,
      "outputs": [
        {
          "output_type": "execute_result",
          "data": {
            "text/plain": [
              "1    0.736147\n",
              "0    0.263853\n",
              "Name: rank_bin, dtype: float64"
            ]
          },
          "metadata": {
            "tags": []
          },
          "execution_count": 114
        }
      ]
    },
    {
      "cell_type": "markdown",
      "metadata": {
        "id": "IEk8bo-aYbKV"
      },
      "source": [
        "Resetting Index"
      ]
    },
    {
      "cell_type": "code",
      "metadata": {
        "id": "QZWyWoC2YZcN"
      },
      "source": [
        "basic_df.reset_index(drop=True, inplace=True)"
      ],
      "execution_count": null,
      "outputs": []
    },
    {
      "cell_type": "code",
      "metadata": {
        "id": "jJ4DmVQFXAZK"
      },
      "source": [
        "from sklearn.model_selection import StratifiedShuffleSplit\n",
        "\n",
        "split = StratifiedShuffleSplit(n_splits=1, test_size=0.3, random_state=42)\n",
        "for train_index, test_index in split.split(basic_df, basic_df['rank_bin']):\n",
        "    strat_train_set = basic_df.loc[train_index]\n",
        "    strat_test_set = basic_df.loc[test_index]"
      ],
      "execution_count": null,
      "outputs": []
    },
    {
      "cell_type": "code",
      "metadata": {
        "colab": {
          "base_uri": "https://localhost:8080/"
        },
        "id": "Qclv8bMcYOo4",
        "outputId": "fefb6e15-fd38-4522-c971-b90206fe0c6a"
      },
      "source": [
        "  strat_train_set[\"rank_bin\"].value_counts(normalize=True)"
      ],
      "execution_count": null,
      "outputs": [
        {
          "output_type": "execute_result",
          "data": {
            "text/plain": [
              "1    0.736164\n",
              "0    0.263836\n",
              "Name: rank_bin, dtype: float64"
            ]
          },
          "metadata": {
            "tags": []
          },
          "execution_count": 117
        }
      ]
    },
    {
      "cell_type": "code",
      "metadata": {
        "colab": {
          "base_uri": "https://localhost:8080/"
        },
        "id": "Tb49At4xYhzR",
        "outputId": "31e15d92-9c9a-471c-edfe-46f06762a9c1"
      },
      "source": [
        "strat_test_set[\"rank_bin\"].value_counts(normalize=True)"
      ],
      "execution_count": null,
      "outputs": [
        {
          "output_type": "execute_result",
          "data": {
            "text/plain": [
              "1    0.736052\n",
              "0    0.263948\n",
              "Name: rank_bin, dtype: float64"
            ]
          },
          "metadata": {
            "tags": []
          },
          "execution_count": 118
        }
      ]
    },
    {
      "cell_type": "markdown",
      "metadata": {
        "id": "ofunZqUhYt3r"
      },
      "source": [
        "Thus the ratio of rank_bin is same in both train and test data"
      ]
    },
    {
      "cell_type": "code",
      "metadata": {
        "id": "UlW0Va7fYoBf"
      },
      "source": [
        ""
      ],
      "execution_count": null,
      "outputs": []
    },
    {
      "cell_type": "markdown",
      "metadata": {
        "id": "HMuQ8M8QQL4H"
      },
      "source": [
        "# Classification Performance"
      ]
    },
    {
      "cell_type": "code",
      "metadata": {
        "id": "VPpj-yG5bsMY"
      },
      "source": [
        "def get_performance_class(model,X,y):\n",
        "  y_pred = model.predict(X)\n",
        "  y_pred=get_category(y_pred)\n",
        "  from sklearn.metrics import confusion_matrix\n",
        "  print(confusion_matrix(y, y_pred))\n",
        "  from sklearn.metrics import classification_report\n",
        "  print(classification_report(y, y_pred))"
      ],
      "execution_count": null,
      "outputs": []
    },
    {
      "cell_type": "markdown",
      "metadata": {
        "id": "QlwcrIQPZTz1"
      },
      "source": [
        "# Predict rating Category from counts: RNN LSTM"
      ]
    },
    {
      "cell_type": "code",
      "metadata": {
        "id": "zprPVD1qHaUr"
      },
      "source": [
        "from keras.preprocessing.text import Tokenizer"
      ],
      "execution_count": null,
      "outputs": []
    },
    {
      "cell_type": "markdown",
      "metadata": {
        "id": "Nm0I0lEAeoR3"
      },
      "source": [
        "Train review feature"
      ]
    },
    {
      "cell_type": "code",
      "metadata": {
        "colab": {
          "base_uri": "https://localhost:8080/",
          "height": 204
        },
        "id": "iV6cq8X-exQp",
        "outputId": "083676ef-5e26-41b2-cf78-044023695730"
      },
      "source": [
        "strat_train_set.head()"
      ],
      "execution_count": null,
      "outputs": [
        {
          "output_type": "execute_result",
          "data": {
            "text/html": [
              "<div>\n",
              "<style scoped>\n",
              "    .dataframe tbody tr th:only-of-type {\n",
              "        vertical-align: middle;\n",
              "    }\n",
              "\n",
              "    .dataframe tbody tr th {\n",
              "        vertical-align: top;\n",
              "    }\n",
              "\n",
              "    .dataframe thead th {\n",
              "        text-align: right;\n",
              "    }\n",
              "</style>\n",
              "<table border=\"1\" class=\"dataframe\">\n",
              "  <thead>\n",
              "    <tr style=\"text-align: right;\">\n",
              "      <th></th>\n",
              "      <th>rating</th>\n",
              "      <th>effectiveness</th>\n",
              "      <th>sideEffects</th>\n",
              "      <th>commentsReview</th>\n",
              "      <th>rank_bin</th>\n",
              "    </tr>\n",
              "  </thead>\n",
              "  <tbody>\n",
              "    <tr>\n",
              "      <th>480</th>\n",
              "      <td>8</td>\n",
              "      <td>Considerably Effective</td>\n",
              "      <td>Mild Side Effects</td>\n",
              "      <td>1 mg pill taken daily for hair loss on the cro...</td>\n",
              "      <td>1</td>\n",
              "    </tr>\n",
              "    <tr>\n",
              "      <th>2819</th>\n",
              "      <td>2</td>\n",
              "      <td>Ineffective</td>\n",
              "      <td>Mild Side Effects</td>\n",
              "      <td>Took Imitrex for a 3 month period and still ha...</td>\n",
              "      <td>0</td>\n",
              "    </tr>\n",
              "    <tr>\n",
              "      <th>309</th>\n",
              "      <td>8</td>\n",
              "      <td>Considerably Effective</td>\n",
              "      <td>Mild Side Effects</td>\n",
              "      <td>once a day at night time for a period of 3 mon...</td>\n",
              "      <td>1</td>\n",
              "    </tr>\n",
              "    <tr>\n",
              "      <th>2293</th>\n",
              "      <td>1</td>\n",
              "      <td>Ineffective</td>\n",
              "      <td>Extremely Severe Side Effects</td>\n",
              "      <td>This drug should NOT be on the market!</td>\n",
              "      <td>0</td>\n",
              "    </tr>\n",
              "    <tr>\n",
              "      <th>1725</th>\n",
              "      <td>10</td>\n",
              "      <td>Highly Effective</td>\n",
              "      <td>No Side Effects</td>\n",
              "      <td>At the start of this disorder I thought I was ...</td>\n",
              "      <td>1</td>\n",
              "    </tr>\n",
              "  </tbody>\n",
              "</table>\n",
              "</div>"
            ],
            "text/plain": [
              "      rating  ... rank_bin\n",
              "480        8  ...        1\n",
              "2819       2  ...        0\n",
              "309        8  ...        1\n",
              "2293       1  ...        0\n",
              "1725      10  ...        1\n",
              "\n",
              "[5 rows x 5 columns]"
            ]
          },
          "metadata": {
            "tags": []
          },
          "execution_count": 25
        }
      ]
    },
    {
      "cell_type": "code",
      "metadata": {
        "id": "kemEj1eRem-z"
      },
      "source": [
        "X_train_review_df=strat_train_set[['commentsReview','rating']]"
      ],
      "execution_count": null,
      "outputs": []
    },
    {
      "cell_type": "code",
      "metadata": {
        "colab": {
          "base_uri": "https://localhost:8080/",
          "height": 419
        },
        "id": "4NxrrnDwfQdZ",
        "outputId": "a5371d23-4287-43f7-d2bc-246bb22ba102"
      },
      "source": [
        "X_train_review_df"
      ],
      "execution_count": null,
      "outputs": [
        {
          "output_type": "execute_result",
          "data": {
            "text/html": [
              "<div>\n",
              "<style scoped>\n",
              "    .dataframe tbody tr th:only-of-type {\n",
              "        vertical-align: middle;\n",
              "    }\n",
              "\n",
              "    .dataframe tbody tr th {\n",
              "        vertical-align: top;\n",
              "    }\n",
              "\n",
              "    .dataframe thead th {\n",
              "        text-align: right;\n",
              "    }\n",
              "</style>\n",
              "<table border=\"1\" class=\"dataframe\">\n",
              "  <thead>\n",
              "    <tr style=\"text-align: right;\">\n",
              "      <th></th>\n",
              "      <th>commentsReview</th>\n",
              "      <th>rating</th>\n",
              "    </tr>\n",
              "  </thead>\n",
              "  <tbody>\n",
              "    <tr>\n",
              "      <th>480</th>\n",
              "      <td>1 mg pill taken daily for hair loss on the cro...</td>\n",
              "      <td>8</td>\n",
              "    </tr>\n",
              "    <tr>\n",
              "      <th>2819</th>\n",
              "      <td>Took Imitrex for a 3 month period and still ha...</td>\n",
              "      <td>2</td>\n",
              "    </tr>\n",
              "    <tr>\n",
              "      <th>309</th>\n",
              "      <td>once a day at night time for a period of 3 mon...</td>\n",
              "      <td>8</td>\n",
              "    </tr>\n",
              "    <tr>\n",
              "      <th>2293</th>\n",
              "      <td>This drug should NOT be on the market!</td>\n",
              "      <td>1</td>\n",
              "    </tr>\n",
              "    <tr>\n",
              "      <th>1725</th>\n",
              "      <td>At the start of this disorder I thought I was ...</td>\n",
              "      <td>10</td>\n",
              "    </tr>\n",
              "    <tr>\n",
              "      <th>...</th>\n",
              "      <td>...</td>\n",
              "      <td>...</td>\n",
              "    </tr>\n",
              "    <tr>\n",
              "      <th>1669</th>\n",
              "      <td>I took 1 x 25mg per day which built up to 4 x ...</td>\n",
              "      <td>1</td>\n",
              "    </tr>\n",
              "    <tr>\n",
              "      <th>843</th>\n",
              "      <td>I always take the pill at night with lots of w...</td>\n",
              "      <td>10</td>\n",
              "    </tr>\n",
              "    <tr>\n",
              "      <th>2119</th>\n",
              "      <td>I was taking 100mg ambien each night for appro...</td>\n",
              "      <td>8</td>\n",
              "    </tr>\n",
              "    <tr>\n",
              "      <th>3073</th>\n",
              "      <td>I had a cold for 6 days that would not go away...</td>\n",
              "      <td>9</td>\n",
              "    </tr>\n",
              "    <tr>\n",
              "      <th>2325</th>\n",
              "      <td>I started to have it after a nervous breakdown...</td>\n",
              "      <td>10</td>\n",
              "    </tr>\n",
              "  </tbody>\n",
              "</table>\n",
              "<p>2638 rows × 2 columns</p>\n",
              "</div>"
            ],
            "text/plain": [
              "                                         commentsReview  rating\n",
              "480   1 mg pill taken daily for hair loss on the cro...       8\n",
              "2819  Took Imitrex for a 3 month period and still ha...       2\n",
              "309   once a day at night time for a period of 3 mon...       8\n",
              "2293             This drug should NOT be on the market!       1\n",
              "1725  At the start of this disorder I thought I was ...      10\n",
              "...                                                 ...     ...\n",
              "1669  I took 1 x 25mg per day which built up to 4 x ...       1\n",
              "843   I always take the pill at night with lots of w...      10\n",
              "2119  I was taking 100mg ambien each night for appro...       8\n",
              "3073  I had a cold for 6 days that would not go away...       9\n",
              "2325  I started to have it after a nervous breakdown...      10\n",
              "\n",
              "[2638 rows x 2 columns]"
            ]
          },
          "metadata": {
            "tags": []
          },
          "execution_count": 27
        }
      ]
    },
    {
      "cell_type": "code",
      "metadata": {
        "id": "rrY5ZuqCfIcM"
      },
      "source": [
        "y_train_review_df=strat_train_set['rank_bin']"
      ],
      "execution_count": null,
      "outputs": []
    },
    {
      "cell_type": "code",
      "metadata": {
        "colab": {
          "base_uri": "https://localhost:8080/"
        },
        "id": "a2fBM3L4fSfj",
        "outputId": "97e756aa-e4b6-4413-a1ad-d4276d1994c9"
      },
      "source": [
        "y_train_review_df"
      ],
      "execution_count": null,
      "outputs": [
        {
          "output_type": "execute_result",
          "data": {
            "text/plain": [
              "480     1\n",
              "2819    0\n",
              "309     1\n",
              "2293    0\n",
              "1725    1\n",
              "       ..\n",
              "1669    0\n",
              "843     1\n",
              "2119    1\n",
              "3073    1\n",
              "2325    1\n",
              "Name: rank_bin, Length: 2638, dtype: int64"
            ]
          },
          "metadata": {
            "tags": []
          },
          "execution_count": 29
        }
      ]
    },
    {
      "cell_type": "markdown",
      "metadata": {
        "id": "QNGoCcV4fnSr"
      },
      "source": [
        "Test review features"
      ]
    },
    {
      "cell_type": "code",
      "metadata": {
        "id": "STK75Hcrffir"
      },
      "source": [
        "X_test_review_df=strat_test_set[['commentsReview','rating']]"
      ],
      "execution_count": null,
      "outputs": []
    },
    {
      "cell_type": "code",
      "metadata": {
        "colab": {
          "base_uri": "https://localhost:8080/",
          "height": 419
        },
        "id": "ju1VoaJGffi1",
        "outputId": "5270063d-f060-48e6-c013-fa96a8c70725"
      },
      "source": [
        "X_test_review_df"
      ],
      "execution_count": null,
      "outputs": [
        {
          "output_type": "execute_result",
          "data": {
            "text/html": [
              "<div>\n",
              "<style scoped>\n",
              "    .dataframe tbody tr th:only-of-type {\n",
              "        vertical-align: middle;\n",
              "    }\n",
              "\n",
              "    .dataframe tbody tr th {\n",
              "        vertical-align: top;\n",
              "    }\n",
              "\n",
              "    .dataframe thead th {\n",
              "        text-align: right;\n",
              "    }\n",
              "</style>\n",
              "<table border=\"1\" class=\"dataframe\">\n",
              "  <thead>\n",
              "    <tr style=\"text-align: right;\">\n",
              "      <th></th>\n",
              "      <th>commentsReview</th>\n",
              "      <th>rating</th>\n",
              "    </tr>\n",
              "  </thead>\n",
              "  <tbody>\n",
              "    <tr>\n",
              "      <th>111</th>\n",
              "      <td>When my cholesterol was found to be slightly e...</td>\n",
              "      <td>1</td>\n",
              "    </tr>\n",
              "    <tr>\n",
              "      <th>2992</th>\n",
              "      <td>The treatment details are simply a taking one ...</td>\n",
              "      <td>9</td>\n",
              "    </tr>\n",
              "    <tr>\n",
              "      <th>3031</th>\n",
              "      <td>Treatment has been ongoing for several months ...</td>\n",
              "      <td>9</td>\n",
              "    </tr>\n",
              "    <tr>\n",
              "      <th>2686</th>\n",
              "      <td>My dotor precribed this for treatment of whipl...</td>\n",
              "      <td>3</td>\n",
              "    </tr>\n",
              "    <tr>\n",
              "      <th>2263</th>\n",
              "      <td>I was experiencing hot flashes, mood swings an...</td>\n",
              "      <td>10</td>\n",
              "    </tr>\n",
              "    <tr>\n",
              "      <th>...</th>\n",
              "      <td>...</td>\n",
              "      <td>...</td>\n",
              "    </tr>\n",
              "    <tr>\n",
              "      <th>986</th>\n",
              "      <td>I began taking the product to stave off the on...</td>\n",
              "      <td>7</td>\n",
              "    </tr>\n",
              "    <tr>\n",
              "      <th>1779</th>\n",
              "      <td>i started at a very low dose, to be worked up ...</td>\n",
              "      <td>1</td>\n",
              "    </tr>\n",
              "    <tr>\n",
              "      <th>2226</th>\n",
              "      <td>After being assessed by a psychiaterist using ...</td>\n",
              "      <td>7</td>\n",
              "    </tr>\n",
              "    <tr>\n",
              "      <th>2793</th>\n",
              "      <td>It reduced the tingling sensation, and numbnes...</td>\n",
              "      <td>8</td>\n",
              "    </tr>\n",
              "    <tr>\n",
              "      <th>1726</th>\n",
              "      <td>I apply a patch about every 4 days, even thoug...</td>\n",
              "      <td>10</td>\n",
              "    </tr>\n",
              "  </tbody>\n",
              "</table>\n",
              "<p>466 rows × 2 columns</p>\n",
              "</div>"
            ],
            "text/plain": [
              "                                         commentsReview  rating\n",
              "111   When my cholesterol was found to be slightly e...       1\n",
              "2992  The treatment details are simply a taking one ...       9\n",
              "3031  Treatment has been ongoing for several months ...       9\n",
              "2686  My dotor precribed this for treatment of whipl...       3\n",
              "2263  I was experiencing hot flashes, mood swings an...      10\n",
              "...                                                 ...     ...\n",
              "986   I began taking the product to stave off the on...       7\n",
              "1779  i started at a very low dose, to be worked up ...       1\n",
              "2226  After being assessed by a psychiaterist using ...       7\n",
              "2793  It reduced the tingling sensation, and numbnes...       8\n",
              "1726  I apply a patch about every 4 days, even thoug...      10\n",
              "\n",
              "[466 rows x 2 columns]"
            ]
          },
          "metadata": {
            "tags": []
          },
          "execution_count": 31
        }
      ]
    },
    {
      "cell_type": "code",
      "metadata": {
        "id": "V2fj-YtTffi2"
      },
      "source": [
        "y_test_review_df=strat_test_set['rank_bin']"
      ],
      "execution_count": null,
      "outputs": []
    },
    {
      "cell_type": "code",
      "metadata": {
        "colab": {
          "base_uri": "https://localhost:8080/"
        },
        "id": "a07y_Lrjffi2",
        "outputId": "2e931ac4-db68-43ae-bd79-197b2e0e2593"
      },
      "source": [
        "y_test_review_df"
      ],
      "execution_count": null,
      "outputs": [
        {
          "output_type": "execute_result",
          "data": {
            "text/plain": [
              "111     0\n",
              "2992    1\n",
              "3031    1\n",
              "2686    0\n",
              "2263    1\n",
              "       ..\n",
              "986     1\n",
              "1779    0\n",
              "2226    1\n",
              "2793    1\n",
              "1726    1\n",
              "Name: rank_bin, Length: 466, dtype: int64"
            ]
          },
          "metadata": {
            "tags": []
          },
          "execution_count": 33
        }
      ]
    },
    {
      "cell_type": "markdown",
      "metadata": {
        "id": "IgbnM32IHaUs"
      },
      "source": [
        "Converting text to **lower case**"
      ]
    },
    {
      "cell_type": "code",
      "metadata": {
        "colab": {
          "base_uri": "https://localhost:8080/"
        },
        "id": "gPP7sOGDHaUt",
        "outputId": "d1253126-3b09-4183-c452-61d6d169c06b"
      },
      "source": [
        "X_train_review_df['commentsReview']=X_train_review_df['commentsReview'].str.lower()\n",
        "X_test_review_df['commentsReview']=X_test_review_df['commentsReview'].str.lower()"
      ],
      "execution_count": null,
      "outputs": [
        {
          "output_type": "stream",
          "text": [
            "/usr/local/lib/python3.7/dist-packages/ipykernel_launcher.py:1: SettingWithCopyWarning: \n",
            "A value is trying to be set on a copy of a slice from a DataFrame.\n",
            "Try using .loc[row_indexer,col_indexer] = value instead\n",
            "\n",
            "See the caveats in the documentation: https://pandas.pydata.org/pandas-docs/stable/user_guide/indexing.html#returning-a-view-versus-a-copy\n",
            "  \"\"\"Entry point for launching an IPython kernel.\n",
            "/usr/local/lib/python3.7/dist-packages/ipykernel_launcher.py:2: SettingWithCopyWarning: \n",
            "A value is trying to be set on a copy of a slice from a DataFrame.\n",
            "Try using .loc[row_indexer,col_indexer] = value instead\n",
            "\n",
            "See the caveats in the documentation: https://pandas.pydata.org/pandas-docs/stable/user_guide/indexing.html#returning-a-view-versus-a-copy\n",
            "  \n"
          ],
          "name": "stderr"
        }
      ]
    },
    {
      "cell_type": "code",
      "metadata": {
        "colab": {
          "base_uri": "https://localhost:8080/",
          "height": 204
        },
        "id": "LkHj5vwhHaUt",
        "outputId": "78dabb49-6d66-4889-86f5-6b4676eb19fd"
      },
      "source": [
        "X_train_review_df.head()"
      ],
      "execution_count": null,
      "outputs": [
        {
          "output_type": "execute_result",
          "data": {
            "text/html": [
              "<div>\n",
              "<style scoped>\n",
              "    .dataframe tbody tr th:only-of-type {\n",
              "        vertical-align: middle;\n",
              "    }\n",
              "\n",
              "    .dataframe tbody tr th {\n",
              "        vertical-align: top;\n",
              "    }\n",
              "\n",
              "    .dataframe thead th {\n",
              "        text-align: right;\n",
              "    }\n",
              "</style>\n",
              "<table border=\"1\" class=\"dataframe\">\n",
              "  <thead>\n",
              "    <tr style=\"text-align: right;\">\n",
              "      <th></th>\n",
              "      <th>commentsReview</th>\n",
              "      <th>rating</th>\n",
              "    </tr>\n",
              "  </thead>\n",
              "  <tbody>\n",
              "    <tr>\n",
              "      <th>480</th>\n",
              "      <td>1 mg pill taken daily for hair loss on the cro...</td>\n",
              "      <td>8</td>\n",
              "    </tr>\n",
              "    <tr>\n",
              "      <th>2819</th>\n",
              "      <td>took imitrex for a 3 month period and still ha...</td>\n",
              "      <td>2</td>\n",
              "    </tr>\n",
              "    <tr>\n",
              "      <th>309</th>\n",
              "      <td>once a day at night time for a period of 3 mon...</td>\n",
              "      <td>8</td>\n",
              "    </tr>\n",
              "    <tr>\n",
              "      <th>2293</th>\n",
              "      <td>this drug should not be on the market!</td>\n",
              "      <td>1</td>\n",
              "    </tr>\n",
              "    <tr>\n",
              "      <th>1725</th>\n",
              "      <td>at the start of this disorder i thought i was ...</td>\n",
              "      <td>10</td>\n",
              "    </tr>\n",
              "  </tbody>\n",
              "</table>\n",
              "</div>"
            ],
            "text/plain": [
              "                                         commentsReview  rating\n",
              "480   1 mg pill taken daily for hair loss on the cro...       8\n",
              "2819  took imitrex for a 3 month period and still ha...       2\n",
              "309   once a day at night time for a period of 3 mon...       8\n",
              "2293             this drug should not be on the market!       1\n",
              "1725  at the start of this disorder i thought i was ...      10"
            ]
          },
          "metadata": {
            "tags": []
          },
          "execution_count": 35
        }
      ]
    },
    {
      "cell_type": "markdown",
      "metadata": {
        "id": "yvEDKeLVHaUt"
      },
      "source": [
        "Tokenizing and padding"
      ]
    },
    {
      "cell_type": "code",
      "metadata": {
        "id": "hvA3IgNmHaUt"
      },
      "source": [
        "from keras.preprocessing import sequence\n"
      ],
      "execution_count": null,
      "outputs": []
    },
    {
      "cell_type": "code",
      "metadata": {
        "id": "Xz4k11EnHaUu"
      },
      "source": [
        "tokenizer = Tokenizer(num_words=500, split=' ',oov_token=\"<OOV>\")"
      ],
      "execution_count": null,
      "outputs": []
    },
    {
      "cell_type": "code",
      "metadata": {
        "colab": {
          "base_uri": "https://localhost:8080/"
        },
        "id": "H5q70lvqHaUu",
        "outputId": "f35c83d1-92c0-40da-803d-142cd36ade42"
      },
      "source": [
        "X_train_review_df['commentsReview']=X_train_review_df['commentsReview'].astype(str)"
      ],
      "execution_count": null,
      "outputs": [
        {
          "output_type": "stream",
          "text": [
            "/usr/local/lib/python3.7/dist-packages/ipykernel_launcher.py:1: SettingWithCopyWarning: \n",
            "A value is trying to be set on a copy of a slice from a DataFrame.\n",
            "Try using .loc[row_indexer,col_indexer] = value instead\n",
            "\n",
            "See the caveats in the documentation: https://pandas.pydata.org/pandas-docs/stable/user_guide/indexing.html#returning-a-view-versus-a-copy\n",
            "  \"\"\"Entry point for launching an IPython kernel.\n"
          ],
          "name": "stderr"
        }
      ]
    },
    {
      "cell_type": "code",
      "metadata": {
        "colab": {
          "base_uri": "https://localhost:8080/"
        },
        "id": "itt6Tby8kTvr",
        "outputId": "456fbef3-427b-4e75-9cd5-05f5d8c555ef"
      },
      "source": [
        "X_test_review_df['commentsReview']=X_test_review_df['commentsReview'].astype(str)"
      ],
      "execution_count": null,
      "outputs": [
        {
          "output_type": "stream",
          "text": [
            "/usr/local/lib/python3.7/dist-packages/ipykernel_launcher.py:1: SettingWithCopyWarning: \n",
            "A value is trying to be set on a copy of a slice from a DataFrame.\n",
            "Try using .loc[row_indexer,col_indexer] = value instead\n",
            "\n",
            "See the caveats in the documentation: https://pandas.pydata.org/pandas-docs/stable/user_guide/indexing.html#returning-a-view-versus-a-copy\n",
            "  \"\"\"Entry point for launching an IPython kernel.\n"
          ],
          "name": "stderr"
        }
      ]
    },
    {
      "cell_type": "code",
      "metadata": {
        "id": "y-SsjPkwHaUu"
      },
      "source": [
        "tokenizer.fit_on_texts(X_train_review_df['commentsReview'].values)"
      ],
      "execution_count": null,
      "outputs": []
    },
    {
      "cell_type": "code",
      "metadata": {
        "colab": {
          "base_uri": "https://localhost:8080/"
        },
        "id": "_R1joUCJLvIG",
        "outputId": "fe9a333f-d9b8-4f47-8c5f-514481180dbd"
      },
      "source": [
        "tokenizer.word_index"
      ],
      "execution_count": null,
      "outputs": [
        {
          "output_type": "execute_result",
          "data": {
            "text/plain": [
              "{'<OOV>': 1,\n",
              " 'i': 2,\n",
              " 'the': 3,\n",
              " 'to': 4,\n",
              " 'and': 5,\n",
              " 'a': 6,\n",
              " 'of': 7,\n",
              " 'was': 8,\n",
              " 'my': 9,\n",
              " 'it': 10,\n",
              " 'for': 11,\n",
              " 'in': 12,\n",
              " 'with': 13,\n",
              " 'day': 14,\n",
              " 'have': 15,\n",
              " 'that': 16,\n",
              " 'on': 17,\n",
              " 'take': 18,\n",
              " 'this': 19,\n",
              " 'as': 20,\n",
              " 'not': 21,\n",
              " 'at': 22,\n",
              " 'is': 23,\n",
              " 'but': 24,\n",
              " 'after': 25,\n",
              " 'me': 26,\n",
              " 'had': 27,\n",
              " 'one': 28,\n",
              " 'taking': 29,\n",
              " 'mg': 30,\n",
              " 'be': 31,\n",
              " 'so': 32,\n",
              " 'took': 33,\n",
              " 'drug': 34,\n",
              " 'or': 35,\n",
              " '2': 36,\n",
              " '\\r\\r': 37,\n",
              " 'about': 38,\n",
              " 'then': 39,\n",
              " 'treatment': 40,\n",
              " 'medication': 41,\n",
              " 'side': 42,\n",
              " 'effects': 43,\n",
              " 'when': 44,\n",
              " 'once': 45,\n",
              " 'would': 46,\n",
              " 'am': 47,\n",
              " 'daily': 48,\n",
              " 'days': 49,\n",
              " 'time': 50,\n",
              " 'doctor': 51,\n",
              " 'every': 52,\n",
              " 'very': 53,\n",
              " 'pain': 54,\n",
              " 'prescribed': 55,\n",
              " 'no': 56,\n",
              " 'if': 57,\n",
              " 'years': 58,\n",
              " '1': 59,\n",
              " 'before': 60,\n",
              " 'been': 61,\n",
              " 'pill': 62,\n",
              " 'up': 63,\n",
              " 'did': 64,\n",
              " 'you': 65,\n",
              " 'started': 66,\n",
              " '3': 67,\n",
              " 'months': 68,\n",
              " 'by': 69,\n",
              " 'dose': 70,\n",
              " 'which': 71,\n",
              " 'from': 72,\n",
              " 'an': 73,\n",
              " 'night': 74,\n",
              " 'only': 75,\n",
              " 'more': 76,\n",
              " 'were': 77,\n",
              " 'morning': 78,\n",
              " 'taken': 79,\n",
              " 'week': 80,\n",
              " 'has': 81,\n",
              " 'also': 82,\n",
              " 'weeks': 83,\n",
              " 'first': 84,\n",
              " 'all': 85,\n",
              " 'because': 86,\n",
              " 'off': 87,\n",
              " 'two': 88,\n",
              " 'now': 89,\n",
              " 'use': 90,\n",
              " 'back': 91,\n",
              " 'get': 92,\n",
              " '5': 93,\n",
              " 'are': 94,\n",
              " 'per': 95,\n",
              " 'any': 96,\n",
              " 'out': 97,\n",
              " 'just': 98,\n",
              " 'still': 99,\n",
              " 'over': 100,\n",
              " 'times': 101,\n",
              " 'other': 102,\n",
              " 'dosage': 103,\n",
              " '4': 104,\n",
              " 'like': 105,\n",
              " 'sleep': 106,\n",
              " 'do': 107,\n",
              " 'symptoms': 108,\n",
              " 'will': 109,\n",
              " 'hours': 110,\n",
              " 'tablet': 111,\n",
              " 'much': 112,\n",
              " 'feel': 113,\n",
              " 'depression': 114,\n",
              " 'skin': 115,\n",
              " 'used': 116,\n",
              " 'some': 117,\n",
              " 'blood': 118,\n",
              " 'work': 119,\n",
              " 'went': 120,\n",
              " 'they': 121,\n",
              " 'twice': 122,\n",
              " 'he': 123,\n",
              " 'well': 124,\n",
              " '6': 125,\n",
              " 'could': 126,\n",
              " 'again': 127,\n",
              " 'than': 128,\n",
              " 'can': 129,\n",
              " 'better': 130,\n",
              " 'needed': 131,\n",
              " 'there': 132,\n",
              " 'felt': 133,\n",
              " 'month': 134,\n",
              " 'since': 135,\n",
              " 'help': 136,\n",
              " 'stopped': 137,\n",
              " 'even': 138,\n",
              " 'tried': 139,\n",
              " 'severe': 140,\n",
              " 'effective': 141,\n",
              " 'three': 142,\n",
              " 'acne': 143,\n",
              " 'anxiety': 144,\n",
              " '10': 145,\n",
              " 'each': 146,\n",
              " 'face': 147,\n",
              " 'year': 148,\n",
              " 'never': 149,\n",
              " 'pills': 150,\n",
              " 'during': 151,\n",
              " 'few': 152,\n",
              " 'worked': 153,\n",
              " 'what': 154,\n",
              " 'same': 155,\n",
              " 'really': 156,\n",
              " 'until': 157,\n",
              " 'life': 158,\n",
              " 'long': 159,\n",
              " 'due': 160,\n",
              " '20': 161,\n",
              " 'increased': 162,\n",
              " 'see': 163,\n",
              " 'while': 164,\n",
              " 'your': 165,\n",
              " 'effect': 166,\n",
              " 'without': 167,\n",
              " 'however': 168,\n",
              " 'using': 169,\n",
              " 'good': 170,\n",
              " 'put': 171,\n",
              " 'go': 172,\n",
              " 'found': 173,\n",
              " \"don't\": 174,\n",
              " 'she': 175,\n",
              " 'another': 176,\n",
              " 'cream': 177,\n",
              " 'given': 178,\n",
              " 'down': 179,\n",
              " 'having': 180,\n",
              " 'stop': 181,\n",
              " 'need': 182,\n",
              " \"didn't\": 183,\n",
              " 'bed': 184,\n",
              " '30': 185,\n",
              " 'able': 186,\n",
              " 'control': 187,\n",
              " 'too': 188,\n",
              " \"i'm\": 189,\n",
              " 'told': 190,\n",
              " 'several': 191,\n",
              " 'results': 192,\n",
              " 'helped': 193,\n",
              " 'began': 194,\n",
              " 'medicine': 195,\n",
              " 'got': 196,\n",
              " 'patient': 197,\n",
              " 'into': 198,\n",
              " 'being': 199,\n",
              " 'tablets': 200,\n",
              " 'within': 201,\n",
              " 'normal': 202,\n",
              " 'made': 203,\n",
              " 'going': 204,\n",
              " 'weight': 205,\n",
              " 'body': 206,\n",
              " '50': 207,\n",
              " 'away': 208,\n",
              " 'try': 209,\n",
              " 'less': 210,\n",
              " 'ago': 211,\n",
              " 'half': 212,\n",
              " 'stomach': 213,\n",
              " 'applied': 214,\n",
              " 'next': 215,\n",
              " 'bad': 216,\n",
              " 'period': 217,\n",
              " \"i've\": 218,\n",
              " 'minutes': 219,\n",
              " 'through': 220,\n",
              " \"it's\": 221,\n",
              " 'them': 222,\n",
              " 'most': 223,\n",
              " 'evening': 224,\n",
              " 'who': 225,\n",
              " 'hour': 226,\n",
              " 'apply': 227,\n",
              " 'think': 228,\n",
              " 'high': 229,\n",
              " 'later': 230,\n",
              " 'prescription': 231,\n",
              " 'water': 232,\n",
              " 'many': 233,\n",
              " 'feeling': 234,\n",
              " 'pressure': 235,\n",
              " 'completely': 236,\n",
              " 'continue': 237,\n",
              " 'bedtime': 238,\n",
              " '7': 239,\n",
              " 'problem': 240,\n",
              " 'may': 241,\n",
              " 'keep': 242,\n",
              " 'sure': 243,\n",
              " 'therapy': 244,\n",
              " 'great': 245,\n",
              " 'longer': 246,\n",
              " 'how': 247,\n",
              " 'though': 248,\n",
              " 'know': 249,\n",
              " 'increase': 250,\n",
              " 'thought': 251,\n",
              " 'became': 252,\n",
              " 'amount': 253,\n",
              " 'drugs': 254,\n",
              " 'low': 255,\n",
              " 'does': 256,\n",
              " 'right': 257,\n",
              " 'above': 258,\n",
              " 'around': 259,\n",
              " 'infection': 260,\n",
              " 'caused': 261,\n",
              " 'last': 262,\n",
              " '8': 263,\n",
              " 'its': 264,\n",
              " 'dry': 265,\n",
              " 'levels': 266,\n",
              " 'these': 267,\n",
              " 'start': 268,\n",
              " 'people': 269,\n",
              " '100': 270,\n",
              " 'problems': 271,\n",
              " 'eat': 272,\n",
              " 'should': 273,\n",
              " 'small': 274,\n",
              " 'noticed': 275,\n",
              " 'surgery': 276,\n",
              " 'getting': 277,\n",
              " 'food': 278,\n",
              " 'little': 279,\n",
              " 'although': 280,\n",
              " 'almost': 281,\n",
              " 'worse': 282,\n",
              " 'continued': 283,\n",
              " 'usually': 284,\n",
              " '12': 285,\n",
              " 'reduced': 286,\n",
              " 'relief': 287,\n",
              " 'myself': 288,\n",
              " 'medications': 289,\n",
              " 'far': 290,\n",
              " 'said': 291,\n",
              " 'always': 292,\n",
              " 'mood': 293,\n",
              " 'diet': 294,\n",
              " 'gave': 295,\n",
              " 'under': 296,\n",
              " 'sometimes': 297,\n",
              " 'such': 298,\n",
              " 'way': 299,\n",
              " 'immediately': 300,\n",
              " 'we': 301,\n",
              " '25': 302,\n",
              " 'product': 303,\n",
              " 'nothing': 304,\n",
              " 'along': 305,\n",
              " 'headache': 306,\n",
              " '10mg': 307,\n",
              " 'treat': 308,\n",
              " 'lower': 309,\n",
              " 'mild': 310,\n",
              " 'doses': 311,\n",
              " 'generic': 312,\n",
              " 'make': 313,\n",
              " 'diagnosed': 314,\n",
              " 'second': 315,\n",
              " 'prozac': 316,\n",
              " 'thyroid': 317,\n",
              " 'new': 318,\n",
              " 'her': 319,\n",
              " 'works': 320,\n",
              " 'exercise': 321,\n",
              " 'area': 322,\n",
              " 'different': 323,\n",
              " 'term': 324,\n",
              " 'finally': 325,\n",
              " 'physician': 326,\n",
              " 'lot': 327,\n",
              " 'couple': 328,\n",
              " 'seemed': 329,\n",
              " 'loss': 330,\n",
              " 'best': 331,\n",
              " 'anti': 332,\n",
              " '15': 333,\n",
              " 'condition': 334,\n",
              " 'ever': 335,\n",
              " 'want': 336,\n",
              " 'thing': 337,\n",
              " 'both': 338,\n",
              " 'meds': 339,\n",
              " 'changed': 340,\n",
              " 'enough': 341,\n",
              " 'decided': 342,\n",
              " 'improvement': 343,\n",
              " 'migraine': 344,\n",
              " 'cold': 345,\n",
              " 'experience': 346,\n",
              " 'benefits': 347,\n",
              " 'done': 348,\n",
              " '5mg': 349,\n",
              " 'heart': 350,\n",
              " 'starting': 351,\n",
              " 'test': 352,\n",
              " 'course': 353,\n",
              " 'came': 354,\n",
              " 'least': 355,\n",
              " 'doctors': 356,\n",
              " 'six': 357,\n",
              " 'believe': 358,\n",
              " 'retin': 359,\n",
              " 'trying': 360,\n",
              " 'end': 361,\n",
              " 'where': 362,\n",
              " 'lost': 363,\n",
              " 'four': 364,\n",
              " '20mg': 365,\n",
              " 'recommend': 366,\n",
              " 'etc': 367,\n",
              " 'lexapro': 368,\n",
              " 'full': 369,\n",
              " 'hair': 370,\n",
              " 'wait': 371,\n",
              " 'something': 372,\n",
              " 'quit': 373,\n",
              " 'working': 374,\n",
              " 'effexor': 375,\n",
              " 'anything': 376,\n",
              " 'wellbutrin': 377,\n",
              " '40': 378,\n",
              " 'tests': 379,\n",
              " 'patch': 380,\n",
              " 'come': 381,\n",
              " 'experienced': 382,\n",
              " 'gone': 383,\n",
              " 'psychiatrist': 384,\n",
              " 'eye': 385,\n",
              " 'treated': 386,\n",
              " 'notice': 387,\n",
              " 'point': 388,\n",
              " 'worth': 389,\n",
              " 'recommended': 390,\n",
              " 'headaches': 391,\n",
              " 'onset': 392,\n",
              " 'panic': 393,\n",
              " 'wake': 394,\n",
              " 'acid': 395,\n",
              " 'slowly': 396,\n",
              " 'following': 397,\n",
              " 'cholesterol': 398,\n",
              " 'eventually': 399,\n",
              " 'helps': 400,\n",
              " 'past': 401,\n",
              " 'change': 402,\n",
              " 'chronic': 403,\n",
              " 'level': 404,\n",
              " 'nausea': 405,\n",
              " 'care': 406,\n",
              " 'sinus': 407,\n",
              " 'possible': 408,\n",
              " 'seems': 409,\n",
              " 'eyes': 410,\n",
              " 'those': 411,\n",
              " 'eating': 412,\n",
              " 'must': 413,\n",
              " \"can't\": 414,\n",
              " '60': 415,\n",
              " 'breakfast': 416,\n",
              " 'wash': 417,\n",
              " 'insomnia': 418,\n",
              " 'fine': 419,\n",
              " 'break': 420,\n",
              " 'details': 421,\n",
              " 'disorder': 422,\n",
              " 'doing': 423,\n",
              " 'actually': 424,\n",
              " 'sleeping': 425,\n",
              " 'find': 426,\n",
              " 'prior': 427,\n",
              " 'stay': 428,\n",
              " 'dr': 429,\n",
              " 'combination': 430,\n",
              " 'left': 431,\n",
              " 'tired': 432,\n",
              " 'attacks': 433,\n",
              " 'reaction': 434,\n",
              " 'hard': 435,\n",
              " 'gel': 436,\n",
              " 'reduce': 437,\n",
              " 'gradually': 438,\n",
              " 'free': 439,\n",
              " 'negative': 440,\n",
              " 'add': 441,\n",
              " 'dermatologist': 442,\n",
              " 'regular': 443,\n",
              " '100mg': 444,\n",
              " 'result': 445,\n",
              " 'cleared': 446,\n",
              " \"couldn't\": 447,\n",
              " 'overall': 448,\n",
              " 'stress': 449,\n",
              " 'beginning': 450,\n",
              " 'mouth': 451,\n",
              " 'decrease': 452,\n",
              " 'form': 453,\n",
              " 'makes': 454,\n",
              " 'often': 455,\n",
              " 'function': 456,\n",
              " 'dinner': 457,\n",
              " 'difference': 458,\n",
              " 'drink': 459,\n",
              " 'say': 460,\n",
              " 'paxil': 461,\n",
              " 'either': 462,\n",
              " 'age': 463,\n",
              " 'xanax': 464,\n",
              " 'return': 465,\n",
              " 'soon': 466,\n",
              " 'short': 467,\n",
              " 'everyday': 468,\n",
              " 'none': 469,\n",
              " 'returned': 470,\n",
              " 'supposed': 471,\n",
              " 'switched': 472,\n",
              " 'approximately': 473,\n",
              " \"doesn't\": 474,\n",
              " 'pretty': 475,\n",
              " 'order': 476,\n",
              " 'topical': 477,\n",
              " 'allergies': 478,\n",
              " 'initial': 479,\n",
              " 'improved': 480,\n",
              " 'asleep': 481,\n",
              " 'smoking': 482,\n",
              " 'antibiotic': 483,\n",
              " 'neck': 484,\n",
              " 'application': 485,\n",
              " 'nightly': 486,\n",
              " 'things': 487,\n",
              " 'benefit': 488,\n",
              " 'cause': 489,\n",
              " 'rest': 490,\n",
              " '150mg': 491,\n",
              " 'reflux': 492,\n",
              " 'experiencing': 493,\n",
              " 'positive': 494,\n",
              " 'decreased': 495,\n",
              " 'easy': 496,\n",
              " 'basis': 497,\n",
              " 'terrible': 498,\n",
              " '150': 499,\n",
              " 'birth': 500,\n",
              " 'quickly': 501,\n",
              " 'saw': 502,\n",
              " 'initially': 503,\n",
              " 'remember': 504,\n",
              " 'called': 505,\n",
              " 'vyvanse': 506,\n",
              " '25mg': 507,\n",
              " 'swelling': 508,\n",
              " 'difficult': 509,\n",
              " 'suffered': 510,\n",
              " 'treatments': 511,\n",
              " 'healthy': 512,\n",
              " 'family': 513,\n",
              " 'prednisone': 514,\n",
              " \"wasn't\": 515,\n",
              " 'instead': 516,\n",
              " 'allergy': 517,\n",
              " 'depressed': 518,\n",
              " 'affected': 519,\n",
              " '200': 520,\n",
              " 'wanted': 521,\n",
              " 'brain': 522,\n",
              " 'maybe': 523,\n",
              " 'prevent': 524,\n",
              " 'counter': 525,\n",
              " 'probably': 526,\n",
              " 'empty': 527,\n",
              " 'might': 528,\n",
              " 'nights': 529,\n",
              " 'd': 530,\n",
              " 'injection': 531,\n",
              " 'cut': 532,\n",
              " 'hospital': 533,\n",
              " 'periods': 534,\n",
              " 'currently': 535,\n",
              " 'moisturizer': 536,\n",
              " 'x': 537,\n",
              " 'his': 538,\n",
              " 'sex': 539,\n",
              " 'especially': 540,\n",
              " 'asthma': 541,\n",
              " 'job': 542,\n",
              " 'throughout': 543,\n",
              " '24': 544,\n",
              " 'spots': 545,\n",
              " 'become': 546,\n",
              " 'necessary': 547,\n",
              " 'nexium': 548,\n",
              " 'pounds': 549,\n",
              " 'capsule': 550,\n",
              " 'expensive': 551,\n",
              " 'early': 552,\n",
              " '500': 553,\n",
              " 'developed': 554,\n",
              " 'suffering': 555,\n",
              " 'injections': 556,\n",
              " 'itching': 557,\n",
              " 'gain': 558,\n",
              " 'physical': 559,\n",
              " 'happy': 560,\n",
              " 'significant': 561,\n",
              " 'withdrawal': 562,\n",
              " 'old': 563,\n",
              " 'size': 564,\n",
              " 'system': 565,\n",
              " 'alcohol': 566,\n",
              " 'asked': 567,\n",
              " 'rash': 568,\n",
              " 'fall': 569,\n",
              " 'self': 570,\n",
              " 'migraines': 571,\n",
              " 'entire': 572,\n",
              " 'nose': 573,\n",
              " 'antibiotics': 574,\n",
              " 'administered': 575,\n",
              " 'required': 576,\n",
              " 'changes': 577,\n",
              " 'bit': 578,\n",
              " '50mg': 579,\n",
              " 'clear': 580,\n",
              " 'stopping': 581,\n",
              " 'between': 582,\n",
              " 'glass': 583,\n",
              " 'non': 584,\n",
              " 'seem': 585,\n",
              " 'issues': 586,\n",
              " 'natural': 587,\n",
              " 'disease': 588,\n",
              " 'sun': 589,\n",
              " 'takes': 590,\n",
              " 'brand': 591,\n",
              " 'legs': 592,\n",
              " 'mcg': 593,\n",
              " 'zoloft': 594,\n",
              " 'insurance': 595,\n",
              " 'attack': 596,\n",
              " 'why': 597,\n",
              " '0': 598,\n",
              " 'case': 599,\n",
              " 'total': 600,\n",
              " 'increasing': 601,\n",
              " 'received': 602,\n",
              " 'home': 603,\n",
              " 'sexual': 604,\n",
              " 'moderate': 605,\n",
              " 'ritalin': 606,\n",
              " 'red': 607,\n",
              " '75': 608,\n",
              " 'already': 609,\n",
              " 'looking': 610,\n",
              " 'doc': 611,\n",
              " 'whole': 612,\n",
              " 'horrible': 613,\n",
              " 'liver': 614,\n",
              " '30mg': 615,\n",
              " 'ibuprofen': 616,\n",
              " 'extremely': 617,\n",
              " 'anyone': 618,\n",
              " 'irritation': 619,\n",
              " 'school': 620,\n",
              " '9': 621,\n",
              " '300mg': 622,\n",
              " 'own': 623,\n",
              " 'energy': 624,\n",
              " 'forehead': 625,\n",
              " 'give': 626,\n",
              " 'extreme': 627,\n",
              " 'health': 628,\n",
              " 'type': 629,\n",
              " 'effectiveness': 630,\n",
              " 'him': 631,\n",
              " 'advised': 632,\n",
              " 'med': 633,\n",
              " 'reason': 634,\n",
              " 'instructed': 635,\n",
              " 'singulair': 636,\n",
              " 'kept': 637,\n",
              " 'coughing': 638,\n",
              " 'read': 639,\n",
              " 'rather': 640,\n",
              " 'risk': 641,\n",
              " 'pea': 642,\n",
              " 'cycle': 643,\n",
              " 'others': 644,\n",
              " 'strong': 645,\n",
              " 'hot': 646,\n",
              " 'anymore': 647,\n",
              " 'unable': 648,\n",
              " 'tabs': 649,\n",
              " '300': 650,\n",
              " 'alone': 651,\n",
              " 'pack': 652,\n",
              " 'subsided': 653,\n",
              " 'constant': 654,\n",
              " 'infections': 655,\n",
              " 'prescribe': 656,\n",
              " 'washing': 657,\n",
              " 'areas': 658,\n",
              " 'light': 659,\n",
              " 'addition': 660,\n",
              " 'xr': 661,\n",
              " 'oral': 662,\n",
              " \"that's\": 663,\n",
              " 'lipitor': 664,\n",
              " 'accutane': 665,\n",
              " 'avoid': 666,\n",
              " 'hope': 667,\n",
              " 'available': 668,\n",
              " 'arthritis': 669,\n",
              " 'nasal': 670,\n",
              " 'topamax': 671,\n",
              " 'simple': 672,\n",
              " 'sore': 673,\n",
              " 'everything': 674,\n",
              " 'check': 675,\n",
              " 'dont': 676,\n",
              " 'sunscreen': 677,\n",
              " 'simply': 678,\n",
              " 'medical': 679,\n",
              " 'described': 680,\n",
              " 'recently': 681,\n",
              " 'thinking': 682,\n",
              " 'bladder': 683,\n",
              " 'painful': 684,\n",
              " 'weekly': 685,\n",
              " 'followed': 686,\n",
              " 'person': 687,\n",
              " 'look': 688,\n",
              " 'prilosec': 689,\n",
              " 'vitamin': 690,\n",
              " 'inflammation': 691,\n",
              " 'ten': 692,\n",
              " 'quite': 693,\n",
              " 'suggested': 694,\n",
              " 'zyrtec': 695,\n",
              " 'clean': 696,\n",
              " 'tramadol': 697,\n",
              " 'else': 698,\n",
              " 'unfortunately': 699,\n",
              " 'synthroid': 700,\n",
              " 'shot': 701,\n",
              " 'release': 702,\n",
              " 'lunch': 703,\n",
              " 'inhaler': 704,\n",
              " 'part': 705,\n",
              " 'gp': 706,\n",
              " 'appetite': 707,\n",
              " 'added': 708,\n",
              " 'discomfort': 709,\n",
              " 'large': 710,\n",
              " 'previous': 711,\n",
              " 'lamictal': 712,\n",
              " 'seroquel': 713,\n",
              " 'disappeared': 714,\n",
              " 'slight': 715,\n",
              " 'adverse': 716,\n",
              " 'nerve': 717,\n",
              " \"i'd\": 718,\n",
              " 'bone': 719,\n",
              " 'upper': 720,\n",
              " 'highly': 721,\n",
              " 'hormone': 722,\n",
              " 'products': 723,\n",
              " 'leg': 724,\n",
              " 'hrs': 725,\n",
              " 'seven': 726,\n",
              " 'checked': 727,\n",
              " 'plan': 728,\n",
              " 'let': 729,\n",
              " 'wish': 730,\n",
              " 'big': 731,\n",
              " 'drop': 732,\n",
              " 'intense': 733,\n",
              " 'cymbalta': 734,\n",
              " 'applying': 735,\n",
              " '2x': 736,\n",
              " 'absolutely': 737,\n",
              " 'estrogen': 738,\n",
              " 'bleeding': 739,\n",
              " '1mg': 740,\n",
              " 'hoping': 741,\n",
              " 'cancer': 742,\n",
              " 'adderall': 743,\n",
              " 'peeling': 744,\n",
              " 'seeing': 745,\n",
              " 'mentioned': 746,\n",
              " 'affect': 747,\n",
              " 'five': 748,\n",
              " 'upon': 749,\n",
              " 'tab': 750,\n",
              " 'deal': 751,\n",
              " 'damage': 752,\n",
              " 'third': 753,\n",
              " 'hands': 754,\n",
              " 'slow': 755,\n",
              " 'affects': 756,\n",
              " 'major': 757,\n",
              " 'episodes': 758,\n",
              " 'drive': 759,\n",
              " 'chest': 760,\n",
              " 'their': 761,\n",
              " 'name': 762,\n",
              " 'otc': 763,\n",
              " 'somewhat': 764,\n",
              " 'meal': 765,\n",
              " 'discontinued': 766,\n",
              " 'coming': 767,\n",
              " 'afternoon': 768,\n",
              " 'sleepy': 769,\n",
              " 'awake': 770,\n",
              " 'lose': 771,\n",
              " 'head': 772,\n",
              " 'noticeable': 773,\n",
              " 'state': 774,\n",
              " 'begin': 775,\n",
              " 'allow': 776,\n",
              " 'mgs': 777,\n",
              " 'associated': 778,\n",
              " 'except': 779,\n",
              " 'higher': 780,\n",
              " 'definitely': 781,\n",
              " 'allergic': 782,\n",
              " '200mg': 783,\n",
              " 'lack': 784,\n",
              " 'significantly': 785,\n",
              " 'situation': 786,\n",
              " 'including': 787,\n",
              " 'drops': 788,\n",
              " 'monthly': 789,\n",
              " 'vaginal': 790,\n",
              " 'fatigue': 791,\n",
              " 'swings': 792,\n",
              " 'bipolar': 793,\n",
              " 'pregnant': 794,\n",
              " 'valium': 795,\n",
              " 'mind': 796,\n",
              " 'flashes': 797,\n",
              " 'removed': 798,\n",
              " 'cough': 799,\n",
              " 'smoke': 800,\n",
              " 'waking': 801,\n",
              " 'cleanser': 802,\n",
              " 'memory': 803,\n",
              " 'weaned': 804,\n",
              " 'cost': 805,\n",
              " 'child': 806,\n",
              " 'oxycodone': 807,\n",
              " 'late': 808,\n",
              " 'dropped': 809,\n",
              " 'intake': 810,\n",
              " 'iv': 811,\n",
              " 'lasted': 812,\n",
              " '500mg': 813,\n",
              " 'walk': 814,\n",
              " 'reduction': 815,\n",
              " 'lots': 816,\n",
              " 'ambien': 817,\n",
              " 'hormones': 818,\n",
              " 'heartburn': 819,\n",
              " 'hrt': 820,\n",
              " 'related': 821,\n",
              " 'yet': 822,\n",
              " 'dizziness': 823,\n",
              " 'visit': 824,\n",
              " 'helping': 825,\n",
              " 'normally': 826,\n",
              " 'active': 827,\n",
              " 'sensitive': 828,\n",
              " 'reducing': 829,\n",
              " 'muscle': 830,\n",
              " 'm': 831,\n",
              " 'important': 832,\n",
              " 'deep': 833,\n",
              " 'realize': 834,\n",
              " 'knee': 835,\n",
              " 'focus': 836,\n",
              " 'fully': 837,\n",
              " 'unless': 838,\n",
              " 'included': 839,\n",
              " 'plus': 840,\n",
              " 'fibromyalgia': 841,\n",
              " 'treating': 842,\n",
              " 'success': 843,\n",
              " 'sores': 844,\n",
              " 'meals': 845,\n",
              " 'slightly': 846,\n",
              " 'didnt': 847,\n",
              " 'patients': 848,\n",
              " 'procedure': 849,\n",
              " 'allowed': 850,\n",
              " 'leave': 851,\n",
              " 'counseling': 852,\n",
              " 'information': 853,\n",
              " 'ask': 854,\n",
              " 'remained': 855,\n",
              " 'woke': 856,\n",
              " 'originally': 857,\n",
              " 'muscles': 858,\n",
              " 'ongoing': 859,\n",
              " 'live': 860,\n",
              " 'rosacea': 861,\n",
              " 'kind': 862,\n",
              " 'totally': 863,\n",
              " '3x': 864,\n",
              " 'otherwise': 865,\n",
              " 'extra': 866,\n",
              " 'tell': 867,\n",
              " 'desire': 868,\n",
              " 'effectively': 869,\n",
              " 'basically': 870,\n",
              " 'redness': 871,\n",
              " 'easily': 872,\n",
              " 'difficulty': 873,\n",
              " 'comes': 874,\n",
              " 'shoulder': 875,\n",
              " 'alternative': 876,\n",
              " 'injury': 877,\n",
              " 'supplements': 878,\n",
              " 'directed': 879,\n",
              " 'realized': 880,\n",
              " 'please': 881,\n",
              " '11': 882,\n",
              " 'activity': 883,\n",
              " 'adult': 884,\n",
              " 'adhd': 885,\n",
              " 'controlled': 886,\n",
              " 'understand': 887,\n",
              " 'hand': 888,\n",
              " 'joint': 889,\n",
              " 'real': 890,\n",
              " 'frequent': 891,\n",
              " 'primary': 892,\n",
              " 'calcium': 893,\n",
              " 'propecia': 894,\n",
              " 'ended': 895,\n",
              " 'causes': 896,\n",
              " \"haven't\": 897,\n",
              " 'swollen': 898,\n",
              " '75mg': 899,\n",
              " 'future': 900,\n",
              " 'relieve': 901,\n",
              " 'together': 902,\n",
              " 'seizure': 903,\n",
              " 'directly': 904,\n",
              " 'number': 905,\n",
              " 'differin': 906,\n",
              " 'vomiting': 907,\n",
              " 'afraid': 908,\n",
              " 'consisted': 909,\n",
              " 'rid': 910,\n",
              " 'love': 911,\n",
              " 'fairly': 912,\n",
              " '15mg': 913,\n",
              " '40mg': 914,\n",
              " 'throat': 915,\n",
              " 'lbs': 916,\n",
              " 'thin': 917,\n",
              " 'pharmacy': 918,\n",
              " 'subside': 919,\n",
              " 'known': 920,\n",
              " 'doxycycline': 921,\n",
              " 'husband': 922,\n",
              " 'pm': 923,\n",
              " 'study': 924,\n",
              " 'showed': 925,\n",
              " 're': 926,\n",
              " 'falling': 927,\n",
              " 'seen': 928,\n",
              " 'specialist': 929,\n",
              " 'breast': 930,\n",
              " 'stated': 931,\n",
              " 'foods': 932,\n",
              " 'room': 933,\n",
              " 'women': 934,\n",
              " 'mid': 935,\n",
              " 'outbreak': 936,\n",
              " 'imitrex': 937,\n",
              " 'here': 938,\n",
              " 'diagnosis': 939,\n",
              " 'finished': 940,\n",
              " 'minocycline': 941,\n",
              " 'ldl': 942,\n",
              " 'calm': 943,\n",
              " 'mostly': 944,\n",
              " 'solution': 945,\n",
              " '37': 946,\n",
              " 'fact': 947,\n",
              " 'tolerance': 948,\n",
              " 'yeast': 949,\n",
              " 'concerned': 950,\n",
              " 'signs': 951,\n",
              " 'constipation': 952,\n",
              " 'careful': 953,\n",
              " 'potential': 954,\n",
              " 'advair': 955,\n",
              " 'son': 956,\n",
              " 'means': 957,\n",
              " 'fat': 958,\n",
              " 'immediate': 959,\n",
              " 'drowsiness': 960,\n",
              " 'shortly': 961,\n",
              " 'complete': 962,\n",
              " 'someone': 963,\n",
              " 'metformin': 964,\n",
              " 'yrs': 965,\n",
              " 'eight': 966,\n",
              " 'regularly': 967,\n",
              " 'process': 968,\n",
              " 'lowered': 969,\n",
              " 'approx': 970,\n",
              " 'tolerate': 971,\n",
              " 'fast': 972,\n",
              " 'capsules': 973,\n",
              " 'pregnancy': 974,\n",
              " 'elavil': 975,\n",
              " 'occasionally': 976,\n",
              " 'suffer': 977,\n",
              " 'trouble': 978,\n",
              " 'perscribed': 979,\n",
              " 'extended': 980,\n",
              " 'turned': 981,\n",
              " 'chantix': 982,\n",
              " 'easier': 983,\n",
              " 'wear': 984,\n",
              " 'general': 985,\n",
              " 'further': 986,\n",
              " 'alleviate': 987,\n",
              " 'today': 988,\n",
              " 'suicidal': 989,\n",
              " 'sick': 990,\n",
              " 'discontinue': 991,\n",
              " 'cramping': 992,\n",
              " 'previously': 993,\n",
              " 'gained': 994,\n",
              " 'determined': 995,\n",
              " 'stayed': 996,\n",
              " 'issue': 997,\n",
              " 'upset': 998,\n",
              " 'daughter': 999,\n",
              " 's': 1000,\n",
              " ...}"
            ]
          },
          "metadata": {
            "tags": []
          },
          "execution_count": 41
        }
      ]
    },
    {
      "cell_type": "code",
      "metadata": {
        "id": "RUnvlfl5HaUu"
      },
      "source": [
        "max_words=500\n",
        "X_train_review_sequence = tokenizer.texts_to_sequences(X_train_review_df['commentsReview'])\n",
        "X_train_review_sequence = sequence.pad_sequences(X_train_review_sequence,maxlen=max_words)\n",
        "\n",
        "X_test_review_sequence = tokenizer.texts_to_sequences(X_test_review_df['commentsReview'])\n",
        "X_test_review_sequence = sequence.pad_sequences(X_test_review_sequence,maxlen=max_words)"
      ],
      "execution_count": null,
      "outputs": []
    },
    {
      "cell_type": "code",
      "metadata": {
        "colab": {
          "base_uri": "https://localhost:8080/"
        },
        "id": "BPGBn9vKHaUv",
        "outputId": "1f55d0fe-14bb-43ba-8614-5d336c55ed58"
      },
      "source": [
        "X_train_review_sequence"
      ],
      "execution_count": null,
      "outputs": [
        {
          "output_type": "execute_result",
          "data": {
            "text/plain": [
              "array([[  0,   0,   0, ...,   1,   6, 134],\n",
              "       [  0,   0,   0, ...,  14,  11,   1],\n",
              "       [  0,   0,   0, ...,   3, 159, 324],\n",
              "       ...,\n",
              "       [  0,   0,   0, ...,   8,  53, 141],\n",
              "       [  0,   0,   0, ...,   6, 279,   1],\n",
              "       [  0,   0,   0, ...,   1,  13, 106]], dtype=int32)"
            ]
          },
          "metadata": {
            "tags": []
          },
          "execution_count": 43
        }
      ]
    },
    {
      "cell_type": "code",
      "metadata": {
        "colab": {
          "base_uri": "https://localhost:8080/"
        },
        "id": "WQXFjNPHJScB",
        "outputId": "de6564aa-a135-430f-c227-83eb0fd74513"
      },
      "source": [
        "X_train_review_sequence.shape"
      ],
      "execution_count": null,
      "outputs": [
        {
          "output_type": "execute_result",
          "data": {
            "text/plain": [
              "(2638, 500)"
            ]
          },
          "metadata": {
            "tags": []
          },
          "execution_count": 44
        }
      ]
    },
    {
      "cell_type": "code",
      "metadata": {
        "colab": {
          "base_uri": "https://localhost:8080/"
        },
        "id": "LxNwBNI5kYR8",
        "outputId": "0bed4041-e5d2-4c98-f8bb-809987a5203a"
      },
      "source": [
        "X_test_review_sequence.shape"
      ],
      "execution_count": null,
      "outputs": [
        {
          "output_type": "execute_result",
          "data": {
            "text/plain": [
              "(466, 500)"
            ]
          },
          "metadata": {
            "tags": []
          },
          "execution_count": 45
        }
      ]
    },
    {
      "cell_type": "markdown",
      "metadata": {
        "id": "iHwlkHXdHaUv"
      },
      "source": [
        "Visualising Length of sentences"
      ]
    },
    {
      "cell_type": "code",
      "metadata": {
        "id": "VzOIhEd7HaUv"
      },
      "source": [
        "len=X_train_review_df['commentsReview'].apply(lambda row: len(row))"
      ],
      "execution_count": null,
      "outputs": []
    },
    {
      "cell_type": "code",
      "metadata": {
        "colab": {
          "base_uri": "https://localhost:8080/",
          "height": 265
        },
        "id": "mamGLQAcHaUw",
        "outputId": "4525ce34-48e0-4e8b-ad84-9c7f209bd7a9"
      },
      "source": [
        "import matplotlib.pyplot as plt\n",
        "%matplotlib inline\n",
        "pd.Series(len).hist()\n",
        "plt.show()\n"
      ],
      "execution_count": null,
      "outputs": [
        {
          "output_type": "display_data",
          "data": {
            "image/png": "[encoded data removed]",
            "text/plain": [
              "<Figure size 432x288 with 1 Axes>"
            ]
          },
          "metadata": {
            "tags": [],
            "needs_background": "light"
          }
        }
      ]
    },
    {
      "cell_type": "code",
      "metadata": {
        "colab": {
          "base_uri": "https://localhost:8080/"
        },
        "id": "WP2EXkXUHaUw",
        "outputId": "b9301778-ba1f-4f71-9b46-3651d7bfd503"
      },
      "source": [
        "len.describe()"
      ],
      "execution_count": null,
      "outputs": [
        {
          "output_type": "execute_result",
          "data": {
            "text/plain": [
              "count    2638.000000\n",
              "mean      268.235406\n",
              "std       273.660445\n",
              "min         1.000000\n",
              "25%        94.000000\n",
              "50%       195.000000\n",
              "75%       348.000000\n",
              "max      3857.000000\n",
              "Name: commentsReview, dtype: float64"
            ]
          },
          "metadata": {
            "tags": []
          },
          "execution_count": 48
        }
      ]
    },
    {
      "cell_type": "markdown",
      "metadata": {
        "id": "m5YToEVJHaUw"
      },
      "source": [
        "Most of the reviews are less than **500 words**"
      ]
    },
    {
      "cell_type": "code",
      "metadata": {
        "id": "8qHJhPYzk1V1"
      },
      "source": [
        "y_train_review_sequence=y_train_review_df\n",
        "y_test_review_sequence=y_test_review_df"
      ],
      "execution_count": null,
      "outputs": []
    },
    {
      "cell_type": "code",
      "metadata": {
        "id": "fijJ0HD8HaUx",
        "colab": {
          "base_uri": "https://localhost:8080/"
        },
        "outputId": "4b8c3678-e305-42fb-bba8-551a4b80e8eb"
      },
      "source": [
        "y_test_review_sequence"
      ],
      "execution_count": null,
      "outputs": [
        {
          "output_type": "execute_result",
          "data": {
            "text/plain": [
              "111     0\n",
              "2992    1\n",
              "3031    1\n",
              "2686    0\n",
              "2263    1\n",
              "       ..\n",
              "986     1\n",
              "1779    0\n",
              "2226    1\n",
              "2793    1\n",
              "1726    1\n",
              "Name: rank_bin, Length: 466, dtype: int64"
            ]
          },
          "metadata": {
            "tags": []
          },
          "execution_count": 50
        }
      ]
    },
    {
      "cell_type": "code",
      "metadata": {
        "colab": {
          "base_uri": "https://localhost:8080/"
        },
        "id": "5PBNy3yCOykE",
        "outputId": "aeb6e8fc-22d7-404b-f979-5b03793befd6"
      },
      "source": [
        "X_train_review_df.shape"
      ],
      "execution_count": null,
      "outputs": [
        {
          "output_type": "execute_result",
          "data": {
            "text/plain": [
              "(2638, 2)"
            ]
          },
          "metadata": {
            "tags": []
          },
          "execution_count": 51
        }
      ]
    },
    {
      "cell_type": "code",
      "metadata": {
        "colab": {
          "base_uri": "https://localhost:8080/"
        },
        "id": "eT6tCxhoHaUz",
        "outputId": "9c1c6a97-97ff-4f26-b93e-2ef4b3b83a4e"
      },
      "source": [
        "from keras import Sequential\n",
        "from keras.layers import Embedding, LSTM, Dense, Dropout\n",
        "embedding_size=32\n",
        "vocabulary_size=5000\n",
        "max_words=500\n",
        "model=Sequential()\n",
        "model.add(Embedding(vocabulary_size, embedding_size, input_length=max_words))\n",
        "model.add(LSTM(256, return_sequences=True, dropout=0.3, recurrent_dropout=0.2))\n",
        "model.add(Dense(32,activation='relu'))\n",
        "model.add(LSTM(128, dropout=0.3, recurrent_dropout=0.2))\n",
        "model.add(Dense(1, activation='sigmoid'))\n",
        "print(model.summary())"
      ],
      "execution_count": null,
      "outputs": [
        {
          "output_type": "stream",
          "text": [
            "Model: \"sequential\"\n",
            "_________________________________________________________________\n",
            "Layer (type)                 Output Shape              Param #   \n",
            "=================================================================\n",
            "embedding (Embedding)        (None, 500, 32)           160000    \n",
            "_________________________________________________________________\n",
            "lstm (LSTM)                  (None, 500, 256)          295936    \n",
            "_________________________________________________________________\n",
            "dense (Dense)                (None, 500, 32)           8224      \n",
            "_________________________________________________________________\n",
            "lstm_1 (LSTM)                (None, 128)               82432     \n",
            "_________________________________________________________________\n",
            "dense_1 (Dense)              (None, 1)                 129       \n",
            "=================================================================\n",
            "Total params: 546,721\n",
            "Trainable params: 546,721\n",
            "Non-trainable params: 0\n",
            "_________________________________________________________________\n",
            "None\n"
          ],
          "name": "stdout"
        }
      ]
    },
    {
      "cell_type": "code",
      "metadata": {
        "id": "wDgdJG95HaUz"
      },
      "source": [
        "model.compile(loss='binary_crossentropy', \n",
        "             optimizer='adam', \n",
        "             metrics=['accuracy'])"
      ],
      "execution_count": null,
      "outputs": []
    },
    {
      "cell_type": "code",
      "metadata": {
        "colab": {
          "base_uri": "https://localhost:8080/"
        },
        "id": "cOZzMZ6lHaU0",
        "outputId": "551847ed-aad4-4ad4-cdc0-1d96a4e33cf5"
      },
      "source": [
        "batch_size = 32\n",
        "num_epochs = 3\n",
        "model.fit(X_train_review_sequence, y_train_review_sequence, validation_data=(X_test_review_sequence, y_test_review_sequence), batch_size=batch_size, epochs=num_epochs)"
      ],
      "execution_count": null,
      "outputs": [
        {
          "output_type": "stream",
          "text": [
            "Epoch 1/3\n",
            "83/83 [==============================] - 390s 5s/step - loss: 0.6039 - accuracy: 0.7298 - val_loss: 0.5859 - val_accuracy: 0.7361\n",
            "Epoch 2/3\n",
            "83/83 [==============================] - 382s 5s/step - loss: 0.5712 - accuracy: 0.7372 - val_loss: 0.5453 - val_accuracy: 0.7361\n",
            "Epoch 3/3\n",
            "83/83 [==============================] - 379s 5s/step - loss: 0.5175 - accuracy: 0.7549 - val_loss: 0.5409 - val_accuracy: 0.7318\n"
          ],
          "name": "stdout"
        },
        {
          "output_type": "execute_result",
          "data": {
            "text/plain": [
              "<tensorflow.python.keras.callbacks.History at 0x7f369fe15050>"
            ]
          },
          "metadata": {
            "tags": []
          },
          "execution_count": 54
        }
      ]
    },
    {
      "cell_type": "code",
      "metadata": {
        "id": "CiI9lFp1HaU0"
      },
      "source": [
        "res=model.predict(X_train_review_sequence)"
      ],
      "execution_count": null,
      "outputs": []
    },
    {
      "cell_type": "code",
      "metadata": {
        "colab": {
          "base_uri": "https://localhost:8080/"
        },
        "id": "P7qdbTwRHaU1",
        "outputId": "af0f3d52-3332-415e-ede9-5d5b6ec841a1"
      },
      "source": [
        "\n",
        "res[50:79]"
      ],
      "execution_count": null,
      "outputs": [
        {
          "output_type": "execute_result",
          "data": {
            "text/plain": [
              "array([[0.93680555],\n",
              "       [0.273837  ],\n",
              "       [0.94082224],\n",
              "       [0.7682358 ],\n",
              "       [0.8105223 ],\n",
              "       [0.16833046],\n",
              "       [0.686385  ],\n",
              "       [0.15843657],\n",
              "       [0.9191784 ],\n",
              "       [0.5724978 ],\n",
              "       [0.7711943 ],\n",
              "       [0.84031284],\n",
              "       [0.9021317 ],\n",
              "       [0.86533624],\n",
              "       [0.7498339 ],\n",
              "       [0.78659236],\n",
              "       [0.36557072],\n",
              "       [0.9063928 ],\n",
              "       [0.41679868],\n",
              "       [0.6122178 ],\n",
              "       [0.8584959 ],\n",
              "       [0.45398358],\n",
              "       [0.906199  ],\n",
              "       [0.7667433 ],\n",
              "       [0.48979467],\n",
              "       [0.91093844],\n",
              "       [0.7967025 ],\n",
              "       [0.9427726 ],\n",
              "       [0.92480904]], dtype=float32)"
            ]
          },
          "metadata": {
            "tags": []
          },
          "execution_count": 56
        }
      ]
    },
    {
      "cell_type": "code",
      "metadata": {
        "id": "R9zDmJWeUGIo"
      },
      "source": [
        "def get_category(res):\n",
        "  val=[]\n",
        "  for i in res:\n",
        "    if(i<0.68):\n",
        "      val.append(0)\n",
        "    else:\n",
        "      val.append(1)\n",
        "  return val"
      ],
      "execution_count": null,
      "outputs": []
    },
    {
      "cell_type": "code",
      "metadata": {
        "colab": {
          "base_uri": "https://localhost:8080/",
          "height": 163
        },
        "id": "NNpUWO1xUS0E",
        "outputId": "61d293f9-2deb-4de2-e837-f7a7985c7404"
      },
      "source": [
        "val"
      ],
      "execution_count": null,
      "outputs": [
        {
          "output_type": "error",
          "ename": "NameError",
          "evalue": "ignored",
          "traceback": [
            "\u001b[0;31m---------------------------------------------------------------------------\u001b[0m",
            "\u001b[0;31mNameError\u001b[0m                                 Traceback (most recent call last)",
            "\u001b[0;32m<ipython-input-94-22e33626e689>\u001b[0m in \u001b[0;36m<module>\u001b[0;34m()\u001b[0m\n\u001b[0;32m----> 1\u001b[0;31m \u001b[0mval\u001b[0m\u001b[0;34m\u001b[0m\u001b[0;34m\u001b[0m\u001b[0m\n\u001b[0m",
            "\u001b[0;31mNameError\u001b[0m: name 'val' is not defined"
          ]
        }
      ]
    },
    {
      "cell_type": "code",
      "metadata": {
        "id": "cjF1yDyARfu7",
        "colab": {
          "base_uri": "https://localhost:8080/"
        },
        "outputId": "065f73ef-3403-4ca6-de68-dcc850bedbfb"
      },
      "source": [
        "get_performance_class(model,X_train_review_sequence,y_train_review_sequence)"
      ],
      "execution_count": null,
      "outputs": [
        {
          "output_type": "stream",
          "text": [
            "[[ 429  267]\n",
            " [ 380 1562]]\n",
            "              precision    recall  f1-score   support\n",
            "\n",
            "           0       0.53      0.62      0.57       696\n",
            "           1       0.85      0.80      0.83      1942\n",
            "\n",
            "    accuracy                           0.75      2638\n",
            "   macro avg       0.69      0.71      0.70      2638\n",
            "weighted avg       0.77      0.75      0.76      2638\n",
            "\n"
          ],
          "name": "stdout"
        }
      ]
    },
    {
      "cell_type": "code",
      "metadata": {
        "id": "sqx97QqPV6YO",
        "colab": {
          "base_uri": "https://localhost:8080/"
        },
        "outputId": "1edbfa3d-ed9d-4292-d575-184084c888a1"
      },
      "source": [
        "get_performance_class(model,X_test_review_sequence,y_test_review_sequence)"
      ],
      "execution_count": null,
      "outputs": [
        {
          "output_type": "stream",
          "text": [
            "[[ 66  57]\n",
            " [ 73 270]]\n",
            "              precision    recall  f1-score   support\n",
            "\n",
            "           0       0.47      0.54      0.50       123\n",
            "           1       0.83      0.79      0.81       343\n",
            "\n",
            "    accuracy                           0.72       466\n",
            "   macro avg       0.65      0.66      0.65       466\n",
            "weighted avg       0.73      0.72      0.73       466\n",
            "\n"
          ],
          "name": "stdout"
        }
      ]
    },
    {
      "cell_type": "markdown",
      "metadata": {
        "id": "PUNLEEHGEFMM"
      },
      "source": [
        "# Regression: Predict rating from counts: RNN LSTM"
      ]
    },
    {
      "cell_type": "code",
      "metadata": {
        "id": "zNltC10dEFMa"
      },
      "source": [
        "from keras.preprocessing.text import Tokenizer"
      ],
      "execution_count": null,
      "outputs": []
    },
    {
      "cell_type": "markdown",
      "metadata": {
        "id": "DKMQQYuCEFMb"
      },
      "source": [
        "Train review feature"
      ]
    },
    {
      "cell_type": "code",
      "metadata": {
        "colab": {
          "base_uri": "https://localhost:8080/",
          "height": 204
        },
        "id": "SJQRjK6REFMc",
        "outputId": "7a7bc97f-48ee-445f-8633-8b5686a08814"
      },
      "source": [
        "strat_train_set.head()"
      ],
      "execution_count": null,
      "outputs": [
        {
          "output_type": "execute_result",
          "data": {
            "text/html": [
              "<div>\n",
              "<style scoped>\n",
              "    .dataframe tbody tr th:only-of-type {\n",
              "        vertical-align: middle;\n",
              "    }\n",
              "\n",
              "    .dataframe tbody tr th {\n",
              "        vertical-align: top;\n",
              "    }\n",
              "\n",
              "    .dataframe thead th {\n",
              "        text-align: right;\n",
              "    }\n",
              "</style>\n",
              "<table border=\"1\" class=\"dataframe\">\n",
              "  <thead>\n",
              "    <tr style=\"text-align: right;\">\n",
              "      <th></th>\n",
              "      <th>rating</th>\n",
              "      <th>effectiveness</th>\n",
              "      <th>sideEffects</th>\n",
              "      <th>commentsReview</th>\n",
              "      <th>rank_bin</th>\n",
              "    </tr>\n",
              "  </thead>\n",
              "  <tbody>\n",
              "    <tr>\n",
              "      <th>480</th>\n",
              "      <td>8</td>\n",
              "      <td>Considerably Effective</td>\n",
              "      <td>Mild Side Effects</td>\n",
              "      <td>1 mg pill taken daily for hair loss on the cro...</td>\n",
              "      <td>1</td>\n",
              "    </tr>\n",
              "    <tr>\n",
              "      <th>2819</th>\n",
              "      <td>2</td>\n",
              "      <td>Ineffective</td>\n",
              "      <td>Mild Side Effects</td>\n",
              "      <td>Took Imitrex for a 3 month period and still ha...</td>\n",
              "      <td>0</td>\n",
              "    </tr>\n",
              "    <tr>\n",
              "      <th>309</th>\n",
              "      <td>8</td>\n",
              "      <td>Considerably Effective</td>\n",
              "      <td>Mild Side Effects</td>\n",
              "      <td>once a day at night time for a period of 3 mon...</td>\n",
              "      <td>1</td>\n",
              "    </tr>\n",
              "    <tr>\n",
              "      <th>2293</th>\n",
              "      <td>1</td>\n",
              "      <td>Ineffective</td>\n",
              "      <td>Extremely Severe Side Effects</td>\n",
              "      <td>This drug should NOT be on the market!</td>\n",
              "      <td>0</td>\n",
              "    </tr>\n",
              "    <tr>\n",
              "      <th>1725</th>\n",
              "      <td>10</td>\n",
              "      <td>Highly Effective</td>\n",
              "      <td>No Side Effects</td>\n",
              "      <td>At the start of this disorder I thought I was ...</td>\n",
              "      <td>1</td>\n",
              "    </tr>\n",
              "  </tbody>\n",
              "</table>\n",
              "</div>"
            ],
            "text/plain": [
              "      rating  ... rank_bin\n",
              "480        8  ...        1\n",
              "2819       2  ...        0\n",
              "309        8  ...        1\n",
              "2293       1  ...        0\n",
              "1725      10  ...        1\n",
              "\n",
              "[5 rows x 5 columns]"
            ]
          },
          "metadata": {
            "tags": []
          },
          "execution_count": 143
        }
      ]
    },
    {
      "cell_type": "code",
      "metadata": {
        "id": "LeTsNcdtEFMd"
      },
      "source": [
        "X_train_review_df=strat_train_set[['commentsReview','rating']]"
      ],
      "execution_count": null,
      "outputs": []
    },
    {
      "cell_type": "code",
      "metadata": {
        "colab": {
          "base_uri": "https://localhost:8080/",
          "height": 419
        },
        "id": "3v7oHnmuEFMd",
        "outputId": "fb67b95e-fbbd-47fb-8691-4b85b8a3bd22"
      },
      "source": [
        "X_train_review_df"
      ],
      "execution_count": null,
      "outputs": [
        {
          "output_type": "execute_result",
          "data": {
            "text/html": [
              "<div>\n",
              "<style scoped>\n",
              "    .dataframe tbody tr th:only-of-type {\n",
              "        vertical-align: middle;\n",
              "    }\n",
              "\n",
              "    .dataframe tbody tr th {\n",
              "        vertical-align: top;\n",
              "    }\n",
              "\n",
              "    .dataframe thead th {\n",
              "        text-align: right;\n",
              "    }\n",
              "</style>\n",
              "<table border=\"1\" class=\"dataframe\">\n",
              "  <thead>\n",
              "    <tr style=\"text-align: right;\">\n",
              "      <th></th>\n",
              "      <th>commentsReview</th>\n",
              "      <th>rating</th>\n",
              "    </tr>\n",
              "  </thead>\n",
              "  <tbody>\n",
              "    <tr>\n",
              "      <th>480</th>\n",
              "      <td>1 mg pill taken daily for hair loss on the cro...</td>\n",
              "      <td>8</td>\n",
              "    </tr>\n",
              "    <tr>\n",
              "      <th>2819</th>\n",
              "      <td>Took Imitrex for a 3 month period and still ha...</td>\n",
              "      <td>2</td>\n",
              "    </tr>\n",
              "    <tr>\n",
              "      <th>309</th>\n",
              "      <td>once a day at night time for a period of 3 mon...</td>\n",
              "      <td>8</td>\n",
              "    </tr>\n",
              "    <tr>\n",
              "      <th>2293</th>\n",
              "      <td>This drug should NOT be on the market!</td>\n",
              "      <td>1</td>\n",
              "    </tr>\n",
              "    <tr>\n",
              "      <th>1725</th>\n",
              "      <td>At the start of this disorder I thought I was ...</td>\n",
              "      <td>10</td>\n",
              "    </tr>\n",
              "    <tr>\n",
              "      <th>...</th>\n",
              "      <td>...</td>\n",
              "      <td>...</td>\n",
              "    </tr>\n",
              "    <tr>\n",
              "      <th>1669</th>\n",
              "      <td>I took 1 x 25mg per day which built up to 4 x ...</td>\n",
              "      <td>1</td>\n",
              "    </tr>\n",
              "    <tr>\n",
              "      <th>843</th>\n",
              "      <td>I always take the pill at night with lots of w...</td>\n",
              "      <td>10</td>\n",
              "    </tr>\n",
              "    <tr>\n",
              "      <th>2119</th>\n",
              "      <td>I was taking 100mg ambien each night for appro...</td>\n",
              "      <td>8</td>\n",
              "    </tr>\n",
              "    <tr>\n",
              "      <th>3073</th>\n",
              "      <td>I had a cold for 6 days that would not go away...</td>\n",
              "      <td>9</td>\n",
              "    </tr>\n",
              "    <tr>\n",
              "      <th>2325</th>\n",
              "      <td>I started to have it after a nervous breakdown...</td>\n",
              "      <td>10</td>\n",
              "    </tr>\n",
              "  </tbody>\n",
              "</table>\n",
              "<p>2638 rows × 2 columns</p>\n",
              "</div>"
            ],
            "text/plain": [
              "                                         commentsReview  rating\n",
              "480   1 mg pill taken daily for hair loss on the cro...       8\n",
              "2819  Took Imitrex for a 3 month period and still ha...       2\n",
              "309   once a day at night time for a period of 3 mon...       8\n",
              "2293             This drug should NOT be on the market!       1\n",
              "1725  At the start of this disorder I thought I was ...      10\n",
              "...                                                 ...     ...\n",
              "1669  I took 1 x 25mg per day which built up to 4 x ...       1\n",
              "843   I always take the pill at night with lots of w...      10\n",
              "2119  I was taking 100mg ambien each night for appro...       8\n",
              "3073  I had a cold for 6 days that would not go away...       9\n",
              "2325  I started to have it after a nervous breakdown...      10\n",
              "\n",
              "[2638 rows x 2 columns]"
            ]
          },
          "metadata": {
            "tags": []
          },
          "execution_count": 145
        }
      ]
    },
    {
      "cell_type": "code",
      "metadata": {
        "id": "FhPYqZGaEFMe"
      },
      "source": [
        "y_train_review_df=strat_train_set['rating']"
      ],
      "execution_count": null,
      "outputs": []
    },
    {
      "cell_type": "code",
      "metadata": {
        "colab": {
          "base_uri": "https://localhost:8080/"
        },
        "id": "u1WRpDqzEFMe",
        "outputId": "01aeb13d-f4ee-4213-9701-f9292aa6f6f0"
      },
      "source": [
        "y_train_review_df"
      ],
      "execution_count": null,
      "outputs": [
        {
          "output_type": "execute_result",
          "data": {
            "text/plain": [
              "480      8\n",
              "2819     2\n",
              "309      8\n",
              "2293     1\n",
              "1725    10\n",
              "        ..\n",
              "1669     1\n",
              "843     10\n",
              "2119     8\n",
              "3073     9\n",
              "2325    10\n",
              "Name: rating, Length: 2638, dtype: int64"
            ]
          },
          "metadata": {
            "tags": []
          },
          "execution_count": 147
        }
      ]
    },
    {
      "cell_type": "markdown",
      "metadata": {
        "id": "6gxpuhwfEFMe"
      },
      "source": [
        "Test review features"
      ]
    },
    {
      "cell_type": "code",
      "metadata": {
        "id": "kbGoY5K9EFMf"
      },
      "source": [
        "X_test_review_df=strat_test_set[['commentsReview','rating']]"
      ],
      "execution_count": null,
      "outputs": []
    },
    {
      "cell_type": "code",
      "metadata": {
        "colab": {
          "base_uri": "https://localhost:8080/",
          "height": 419
        },
        "id": "WEpq92xGEFMf",
        "outputId": "72fe40ae-888a-4baa-8b1b-69c5c8ae14c0"
      },
      "source": [
        "X_test_review_df"
      ],
      "execution_count": null,
      "outputs": [
        {
          "output_type": "execute_result",
          "data": {
            "text/html": [
              "<div>\n",
              "<style scoped>\n",
              "    .dataframe tbody tr th:only-of-type {\n",
              "        vertical-align: middle;\n",
              "    }\n",
              "\n",
              "    .dataframe tbody tr th {\n",
              "        vertical-align: top;\n",
              "    }\n",
              "\n",
              "    .dataframe thead th {\n",
              "        text-align: right;\n",
              "    }\n",
              "</style>\n",
              "<table border=\"1\" class=\"dataframe\">\n",
              "  <thead>\n",
              "    <tr style=\"text-align: right;\">\n",
              "      <th></th>\n",
              "      <th>commentsReview</th>\n",
              "      <th>rating</th>\n",
              "    </tr>\n",
              "  </thead>\n",
              "  <tbody>\n",
              "    <tr>\n",
              "      <th>111</th>\n",
              "      <td>When my cholesterol was found to be slightly e...</td>\n",
              "      <td>1</td>\n",
              "    </tr>\n",
              "    <tr>\n",
              "      <th>2992</th>\n",
              "      <td>The treatment details are simply a taking one ...</td>\n",
              "      <td>9</td>\n",
              "    </tr>\n",
              "    <tr>\n",
              "      <th>3031</th>\n",
              "      <td>Treatment has been ongoing for several months ...</td>\n",
              "      <td>9</td>\n",
              "    </tr>\n",
              "    <tr>\n",
              "      <th>2686</th>\n",
              "      <td>My dotor precribed this for treatment of whipl...</td>\n",
              "      <td>3</td>\n",
              "    </tr>\n",
              "    <tr>\n",
              "      <th>2263</th>\n",
              "      <td>I was experiencing hot flashes, mood swings an...</td>\n",
              "      <td>10</td>\n",
              "    </tr>\n",
              "    <tr>\n",
              "      <th>...</th>\n",
              "      <td>...</td>\n",
              "      <td>...</td>\n",
              "    </tr>\n",
              "    <tr>\n",
              "      <th>986</th>\n",
              "      <td>I began taking the product to stave off the on...</td>\n",
              "      <td>7</td>\n",
              "    </tr>\n",
              "    <tr>\n",
              "      <th>1779</th>\n",
              "      <td>i started at a very low dose, to be worked up ...</td>\n",
              "      <td>1</td>\n",
              "    </tr>\n",
              "    <tr>\n",
              "      <th>2226</th>\n",
              "      <td>After being assessed by a psychiaterist using ...</td>\n",
              "      <td>7</td>\n",
              "    </tr>\n",
              "    <tr>\n",
              "      <th>2793</th>\n",
              "      <td>It reduced the tingling sensation, and numbnes...</td>\n",
              "      <td>8</td>\n",
              "    </tr>\n",
              "    <tr>\n",
              "      <th>1726</th>\n",
              "      <td>I apply a patch about every 4 days, even thoug...</td>\n",
              "      <td>10</td>\n",
              "    </tr>\n",
              "  </tbody>\n",
              "</table>\n",
              "<p>466 rows × 2 columns</p>\n",
              "</div>"
            ],
            "text/plain": [
              "                                         commentsReview  rating\n",
              "111   When my cholesterol was found to be slightly e...       1\n",
              "2992  The treatment details are simply a taking one ...       9\n",
              "3031  Treatment has been ongoing for several months ...       9\n",
              "2686  My dotor precribed this for treatment of whipl...       3\n",
              "2263  I was experiencing hot flashes, mood swings an...      10\n",
              "...                                                 ...     ...\n",
              "986   I began taking the product to stave off the on...       7\n",
              "1779  i started at a very low dose, to be worked up ...       1\n",
              "2226  After being assessed by a psychiaterist using ...       7\n",
              "2793  It reduced the tingling sensation, and numbnes...       8\n",
              "1726  I apply a patch about every 4 days, even thoug...      10\n",
              "\n",
              "[466 rows x 2 columns]"
            ]
          },
          "metadata": {
            "tags": []
          },
          "execution_count": 149
        }
      ]
    },
    {
      "cell_type": "code",
      "metadata": {
        "id": "WFbnyxfIEFMf"
      },
      "source": [
        "y_test_review_df=strat_test_set['rating']"
      ],
      "execution_count": null,
      "outputs": []
    },
    {
      "cell_type": "code",
      "metadata": {
        "colab": {
          "base_uri": "https://localhost:8080/"
        },
        "id": "ADoKDESEEFMg",
        "outputId": "260eaf04-3014-47a0-d57a-6f6af51b7396"
      },
      "source": [
        "y_test_review_df"
      ],
      "execution_count": null,
      "outputs": [
        {
          "output_type": "execute_result",
          "data": {
            "text/plain": [
              "111      1\n",
              "2992     9\n",
              "3031     9\n",
              "2686     3\n",
              "2263    10\n",
              "        ..\n",
              "986      7\n",
              "1779     1\n",
              "2226     7\n",
              "2793     8\n",
              "1726    10\n",
              "Name: rating, Length: 466, dtype: int64"
            ]
          },
          "metadata": {
            "tags": []
          },
          "execution_count": 152
        }
      ]
    },
    {
      "cell_type": "markdown",
      "metadata": {
        "id": "_32dP1DHEFMg"
      },
      "source": [
        "Converting text to **lower case**"
      ]
    },
    {
      "cell_type": "code",
      "metadata": {
        "colab": {
          "base_uri": "https://localhost:8080/"
        },
        "id": "zLgvcYz8EFMg",
        "outputId": "67fa53d2-73e9-41e2-8094-9f929c96b20f"
      },
      "source": [
        "X_train_review_df['commentsReview']=X_train_review_df['commentsReview'].str.lower()\n",
        "X_test_review_df['commentsReview']=X_test_review_df['commentsReview'].str.lower()"
      ],
      "execution_count": null,
      "outputs": [
        {
          "output_type": "stream",
          "text": [
            "/usr/local/lib/python3.7/dist-packages/ipykernel_launcher.py:1: SettingWithCopyWarning: \n",
            "A value is trying to be set on a copy of a slice from a DataFrame.\n",
            "Try using .loc[row_indexer,col_indexer] = value instead\n",
            "\n",
            "See the caveats in the documentation: https://pandas.pydata.org/pandas-docs/stable/user_guide/indexing.html#returning-a-view-versus-a-copy\n",
            "  \"\"\"Entry point for launching an IPython kernel.\n",
            "/usr/local/lib/python3.7/dist-packages/ipykernel_launcher.py:2: SettingWithCopyWarning: \n",
            "A value is trying to be set on a copy of a slice from a DataFrame.\n",
            "Try using .loc[row_indexer,col_indexer] = value instead\n",
            "\n",
            "See the caveats in the documentation: https://pandas.pydata.org/pandas-docs/stable/user_guide/indexing.html#returning-a-view-versus-a-copy\n",
            "  \n"
          ],
          "name": "stderr"
        }
      ]
    },
    {
      "cell_type": "code",
      "metadata": {
        "colab": {
          "base_uri": "https://localhost:8080/",
          "height": 204
        },
        "id": "CHt7lvucEFMh",
        "outputId": "53193c74-7fff-4cc7-f9a5-b5de8730109c"
      },
      "source": [
        "X_train_review_df.head()"
      ],
      "execution_count": null,
      "outputs": [
        {
          "output_type": "execute_result",
          "data": {
            "text/html": [
              "<div>\n",
              "<style scoped>\n",
              "    .dataframe tbody tr th:only-of-type {\n",
              "        vertical-align: middle;\n",
              "    }\n",
              "\n",
              "    .dataframe tbody tr th {\n",
              "        vertical-align: top;\n",
              "    }\n",
              "\n",
              "    .dataframe thead th {\n",
              "        text-align: right;\n",
              "    }\n",
              "</style>\n",
              "<table border=\"1\" class=\"dataframe\">\n",
              "  <thead>\n",
              "    <tr style=\"text-align: right;\">\n",
              "      <th></th>\n",
              "      <th>commentsReview</th>\n",
              "      <th>rating</th>\n",
              "    </tr>\n",
              "  </thead>\n",
              "  <tbody>\n",
              "    <tr>\n",
              "      <th>480</th>\n",
              "      <td>1 mg pill taken daily for hair loss on the cro...</td>\n",
              "      <td>8</td>\n",
              "    </tr>\n",
              "    <tr>\n",
              "      <th>2819</th>\n",
              "      <td>took imitrex for a 3 month period and still ha...</td>\n",
              "      <td>2</td>\n",
              "    </tr>\n",
              "    <tr>\n",
              "      <th>309</th>\n",
              "      <td>once a day at night time for a period of 3 mon...</td>\n",
              "      <td>8</td>\n",
              "    </tr>\n",
              "    <tr>\n",
              "      <th>2293</th>\n",
              "      <td>this drug should not be on the market!</td>\n",
              "      <td>1</td>\n",
              "    </tr>\n",
              "    <tr>\n",
              "      <th>1725</th>\n",
              "      <td>at the start of this disorder i thought i was ...</td>\n",
              "      <td>10</td>\n",
              "    </tr>\n",
              "  </tbody>\n",
              "</table>\n",
              "</div>"
            ],
            "text/plain": [
              "                                         commentsReview  rating\n",
              "480   1 mg pill taken daily for hair loss on the cro...       8\n",
              "2819  took imitrex for a 3 month period and still ha...       2\n",
              "309   once a day at night time for a period of 3 mon...       8\n",
              "2293             this drug should not be on the market!       1\n",
              "1725  at the start of this disorder i thought i was ...      10"
            ]
          },
          "metadata": {
            "tags": []
          },
          "execution_count": 154
        }
      ]
    },
    {
      "cell_type": "markdown",
      "metadata": {
        "id": "3GEwku_CEFMi"
      },
      "source": [
        "Tokenizing and padding"
      ]
    },
    {
      "cell_type": "code",
      "metadata": {
        "id": "PqeR6opJEFMi"
      },
      "source": [
        "from keras.preprocessing import sequence\n"
      ],
      "execution_count": null,
      "outputs": []
    },
    {
      "cell_type": "code",
      "metadata": {
        "id": "dtsSOPFZEFMi"
      },
      "source": [
        "tokenizer = Tokenizer(num_words=500, split=' ',oov_token=\"<OOV>\")"
      ],
      "execution_count": null,
      "outputs": []
    },
    {
      "cell_type": "code",
      "metadata": {
        "colab": {
          "base_uri": "https://localhost:8080/"
        },
        "id": "pswz1PbQEFMj",
        "outputId": "946773ef-3d0a-4d1a-fb70-43e9c6f59eac"
      },
      "source": [
        "X_train_review_df['commentsReview']=X_train_review_df['commentsReview'].astype(str)"
      ],
      "execution_count": null,
      "outputs": [
        {
          "output_type": "stream",
          "text": [
            "/usr/local/lib/python3.7/dist-packages/ipykernel_launcher.py:1: SettingWithCopyWarning: \n",
            "A value is trying to be set on a copy of a slice from a DataFrame.\n",
            "Try using .loc[row_indexer,col_indexer] = value instead\n",
            "\n",
            "See the caveats in the documentation: https://pandas.pydata.org/pandas-docs/stable/user_guide/indexing.html#returning-a-view-versus-a-copy\n",
            "  \"\"\"Entry point for launching an IPython kernel.\n"
          ],
          "name": "stderr"
        }
      ]
    },
    {
      "cell_type": "code",
      "metadata": {
        "colab": {
          "base_uri": "https://localhost:8080/"
        },
        "id": "WTvybOi1EFMj",
        "outputId": "5ea15179-1179-47f8-87e7-8d1083d09249"
      },
      "source": [
        "X_test_review_df['commentsReview']=X_test_review_df['commentsReview'].astype(str)"
      ],
      "execution_count": null,
      "outputs": [
        {
          "output_type": "stream",
          "text": [
            "/usr/local/lib/python3.7/dist-packages/ipykernel_launcher.py:1: SettingWithCopyWarning: \n",
            "A value is trying to be set on a copy of a slice from a DataFrame.\n",
            "Try using .loc[row_indexer,col_indexer] = value instead\n",
            "\n",
            "See the caveats in the documentation: https://pandas.pydata.org/pandas-docs/stable/user_guide/indexing.html#returning-a-view-versus-a-copy\n",
            "  \"\"\"Entry point for launching an IPython kernel.\n"
          ],
          "name": "stderr"
        }
      ]
    },
    {
      "cell_type": "code",
      "metadata": {
        "id": "aT2AQL8TEFMj"
      },
      "source": [
        "tokenizer.fit_on_texts(X_train_review_df['commentsReview'].values)"
      ],
      "execution_count": null,
      "outputs": []
    },
    {
      "cell_type": "code",
      "metadata": {
        "colab": {
          "base_uri": "https://localhost:8080/"
        },
        "id": "b-eK29WOEFMk",
        "outputId": "d1ddfdad-5015-4d26-e479-8b8a138a5f43"
      },
      "source": [
        "tokenizer.word_index"
      ],
      "execution_count": null,
      "outputs": [
        {
          "output_type": "execute_result",
          "data": {
            "text/plain": [
              "{'<OOV>': 1,\n",
              " 'i': 2,\n",
              " 'the': 3,\n",
              " 'to': 4,\n",
              " 'and': 5,\n",
              " 'a': 6,\n",
              " 'of': 7,\n",
              " 'was': 8,\n",
              " 'my': 9,\n",
              " 'it': 10,\n",
              " 'for': 11,\n",
              " 'in': 12,\n",
              " 'with': 13,\n",
              " 'day': 14,\n",
              " 'have': 15,\n",
              " 'that': 16,\n",
              " 'on': 17,\n",
              " 'take': 18,\n",
              " 'this': 19,\n",
              " 'as': 20,\n",
              " 'not': 21,\n",
              " 'at': 22,\n",
              " 'is': 23,\n",
              " 'but': 24,\n",
              " 'after': 25,\n",
              " 'me': 26,\n",
              " 'had': 27,\n",
              " 'one': 28,\n",
              " 'taking': 29,\n",
              " 'mg': 30,\n",
              " 'be': 31,\n",
              " 'so': 32,\n",
              " 'took': 33,\n",
              " 'drug': 34,\n",
              " 'or': 35,\n",
              " '2': 36,\n",
              " '\\r\\r': 37,\n",
              " 'about': 38,\n",
              " 'then': 39,\n",
              " 'treatment': 40,\n",
              " 'medication': 41,\n",
              " 'side': 42,\n",
              " 'effects': 43,\n",
              " 'when': 44,\n",
              " 'once': 45,\n",
              " 'would': 46,\n",
              " 'am': 47,\n",
              " 'daily': 48,\n",
              " 'days': 49,\n",
              " 'time': 50,\n",
              " 'doctor': 51,\n",
              " 'every': 52,\n",
              " 'very': 53,\n",
              " 'pain': 54,\n",
              " 'prescribed': 55,\n",
              " 'no': 56,\n",
              " 'if': 57,\n",
              " 'years': 58,\n",
              " '1': 59,\n",
              " 'before': 60,\n",
              " 'been': 61,\n",
              " 'pill': 62,\n",
              " 'up': 63,\n",
              " 'did': 64,\n",
              " 'you': 65,\n",
              " 'started': 66,\n",
              " '3': 67,\n",
              " 'months': 68,\n",
              " 'by': 69,\n",
              " 'dose': 70,\n",
              " 'which': 71,\n",
              " 'from': 72,\n",
              " 'an': 73,\n",
              " 'night': 74,\n",
              " 'only': 75,\n",
              " 'more': 76,\n",
              " 'were': 77,\n",
              " 'morning': 78,\n",
              " 'taken': 79,\n",
              " 'week': 80,\n",
              " 'has': 81,\n",
              " 'also': 82,\n",
              " 'weeks': 83,\n",
              " 'first': 84,\n",
              " 'all': 85,\n",
              " 'because': 86,\n",
              " 'off': 87,\n",
              " 'two': 88,\n",
              " 'now': 89,\n",
              " 'use': 90,\n",
              " 'back': 91,\n",
              " 'get': 92,\n",
              " '5': 93,\n",
              " 'are': 94,\n",
              " 'per': 95,\n",
              " 'any': 96,\n",
              " 'out': 97,\n",
              " 'just': 98,\n",
              " 'still': 99,\n",
              " 'over': 100,\n",
              " 'times': 101,\n",
              " 'other': 102,\n",
              " 'dosage': 103,\n",
              " '4': 104,\n",
              " 'like': 105,\n",
              " 'sleep': 106,\n",
              " 'do': 107,\n",
              " 'symptoms': 108,\n",
              " 'will': 109,\n",
              " 'hours': 110,\n",
              " 'tablet': 111,\n",
              " 'much': 112,\n",
              " 'feel': 113,\n",
              " 'depression': 114,\n",
              " 'skin': 115,\n",
              " 'used': 116,\n",
              " 'some': 117,\n",
              " 'blood': 118,\n",
              " 'work': 119,\n",
              " 'went': 120,\n",
              " 'they': 121,\n",
              " 'twice': 122,\n",
              " 'he': 123,\n",
              " 'well': 124,\n",
              " '6': 125,\n",
              " 'could': 126,\n",
              " 'again': 127,\n",
              " 'than': 128,\n",
              " 'can': 129,\n",
              " 'better': 130,\n",
              " 'needed': 131,\n",
              " 'there': 132,\n",
              " 'felt': 133,\n",
              " 'month': 134,\n",
              " 'since': 135,\n",
              " 'help': 136,\n",
              " 'stopped': 137,\n",
              " 'even': 138,\n",
              " 'tried': 139,\n",
              " 'severe': 140,\n",
              " 'effective': 141,\n",
              " 'three': 142,\n",
              " 'acne': 143,\n",
              " 'anxiety': 144,\n",
              " '10': 145,\n",
              " 'each': 146,\n",
              " 'face': 147,\n",
              " 'year': 148,\n",
              " 'never': 149,\n",
              " 'pills': 150,\n",
              " 'during': 151,\n",
              " 'few': 152,\n",
              " 'worked': 153,\n",
              " 'what': 154,\n",
              " 'same': 155,\n",
              " 'really': 156,\n",
              " 'until': 157,\n",
              " 'life': 158,\n",
              " 'long': 159,\n",
              " 'due': 160,\n",
              " '20': 161,\n",
              " 'increased': 162,\n",
              " 'see': 163,\n",
              " 'while': 164,\n",
              " 'your': 165,\n",
              " 'effect': 166,\n",
              " 'without': 167,\n",
              " 'however': 168,\n",
              " 'using': 169,\n",
              " 'good': 170,\n",
              " 'put': 171,\n",
              " 'go': 172,\n",
              " 'found': 173,\n",
              " \"don't\": 174,\n",
              " 'she': 175,\n",
              " 'another': 176,\n",
              " 'cream': 177,\n",
              " 'given': 178,\n",
              " 'down': 179,\n",
              " 'having': 180,\n",
              " 'stop': 181,\n",
              " 'need': 182,\n",
              " \"didn't\": 183,\n",
              " 'bed': 184,\n",
              " '30': 185,\n",
              " 'able': 186,\n",
              " 'control': 187,\n",
              " 'too': 188,\n",
              " \"i'm\": 189,\n",
              " 'told': 190,\n",
              " 'several': 191,\n",
              " 'results': 192,\n",
              " 'helped': 193,\n",
              " 'began': 194,\n",
              " 'medicine': 195,\n",
              " 'got': 196,\n",
              " 'patient': 197,\n",
              " 'into': 198,\n",
              " 'being': 199,\n",
              " 'tablets': 200,\n",
              " 'within': 201,\n",
              " 'normal': 202,\n",
              " 'made': 203,\n",
              " 'going': 204,\n",
              " 'weight': 205,\n",
              " 'body': 206,\n",
              " '50': 207,\n",
              " 'away': 208,\n",
              " 'try': 209,\n",
              " 'less': 210,\n",
              " 'ago': 211,\n",
              " 'half': 212,\n",
              " 'stomach': 213,\n",
              " 'applied': 214,\n",
              " 'next': 215,\n",
              " 'bad': 216,\n",
              " 'period': 217,\n",
              " \"i've\": 218,\n",
              " 'minutes': 219,\n",
              " 'through': 220,\n",
              " \"it's\": 221,\n",
              " 'them': 222,\n",
              " 'most': 223,\n",
              " 'evening': 224,\n",
              " 'who': 225,\n",
              " 'hour': 226,\n",
              " 'apply': 227,\n",
              " 'think': 228,\n",
              " 'high': 229,\n",
              " 'later': 230,\n",
              " 'prescription': 231,\n",
              " 'water': 232,\n",
              " 'many': 233,\n",
              " 'feeling': 234,\n",
              " 'pressure': 235,\n",
              " 'completely': 236,\n",
              " 'continue': 237,\n",
              " 'bedtime': 238,\n",
              " '7': 239,\n",
              " 'problem': 240,\n",
              " 'may': 241,\n",
              " 'keep': 242,\n",
              " 'sure': 243,\n",
              " 'therapy': 244,\n",
              " 'great': 245,\n",
              " 'longer': 246,\n",
              " 'how': 247,\n",
              " 'though': 248,\n",
              " 'know': 249,\n",
              " 'increase': 250,\n",
              " 'thought': 251,\n",
              " 'became': 252,\n",
              " 'amount': 253,\n",
              " 'drugs': 254,\n",
              " 'low': 255,\n",
              " 'does': 256,\n",
              " 'right': 257,\n",
              " 'above': 258,\n",
              " 'around': 259,\n",
              " 'infection': 260,\n",
              " 'caused': 261,\n",
              " 'last': 262,\n",
              " '8': 263,\n",
              " 'its': 264,\n",
              " 'dry': 265,\n",
              " 'levels': 266,\n",
              " 'these': 267,\n",
              " 'start': 268,\n",
              " 'people': 269,\n",
              " '100': 270,\n",
              " 'problems': 271,\n",
              " 'eat': 272,\n",
              " 'should': 273,\n",
              " 'small': 274,\n",
              " 'noticed': 275,\n",
              " 'surgery': 276,\n",
              " 'getting': 277,\n",
              " 'food': 278,\n",
              " 'little': 279,\n",
              " 'although': 280,\n",
              " 'almost': 281,\n",
              " 'worse': 282,\n",
              " 'continued': 283,\n",
              " 'usually': 284,\n",
              " '12': 285,\n",
              " 'reduced': 286,\n",
              " 'relief': 287,\n",
              " 'myself': 288,\n",
              " 'medications': 289,\n",
              " 'far': 290,\n",
              " 'said': 291,\n",
              " 'always': 292,\n",
              " 'mood': 293,\n",
              " 'diet': 294,\n",
              " 'gave': 295,\n",
              " 'under': 296,\n",
              " 'sometimes': 297,\n",
              " 'such': 298,\n",
              " 'way': 299,\n",
              " 'immediately': 300,\n",
              " 'we': 301,\n",
              " '25': 302,\n",
              " 'product': 303,\n",
              " 'nothing': 304,\n",
              " 'along': 305,\n",
              " 'headache': 306,\n",
              " '10mg': 307,\n",
              " 'treat': 308,\n",
              " 'lower': 309,\n",
              " 'mild': 310,\n",
              " 'doses': 311,\n",
              " 'generic': 312,\n",
              " 'make': 313,\n",
              " 'diagnosed': 314,\n",
              " 'second': 315,\n",
              " 'prozac': 316,\n",
              " 'thyroid': 317,\n",
              " 'new': 318,\n",
              " 'her': 319,\n",
              " 'works': 320,\n",
              " 'exercise': 321,\n",
              " 'area': 322,\n",
              " 'different': 323,\n",
              " 'term': 324,\n",
              " 'finally': 325,\n",
              " 'physician': 326,\n",
              " 'lot': 327,\n",
              " 'couple': 328,\n",
              " 'seemed': 329,\n",
              " 'loss': 330,\n",
              " 'best': 331,\n",
              " 'anti': 332,\n",
              " '15': 333,\n",
              " 'condition': 334,\n",
              " 'ever': 335,\n",
              " 'want': 336,\n",
              " 'thing': 337,\n",
              " 'both': 338,\n",
              " 'meds': 339,\n",
              " 'changed': 340,\n",
              " 'enough': 341,\n",
              " 'decided': 342,\n",
              " 'improvement': 343,\n",
              " 'migraine': 344,\n",
              " 'cold': 345,\n",
              " 'experience': 346,\n",
              " 'benefits': 347,\n",
              " 'done': 348,\n",
              " '5mg': 349,\n",
              " 'heart': 350,\n",
              " 'starting': 351,\n",
              " 'test': 352,\n",
              " 'course': 353,\n",
              " 'came': 354,\n",
              " 'least': 355,\n",
              " 'doctors': 356,\n",
              " 'six': 357,\n",
              " 'believe': 358,\n",
              " 'retin': 359,\n",
              " 'trying': 360,\n",
              " 'end': 361,\n",
              " 'where': 362,\n",
              " 'lost': 363,\n",
              " 'four': 364,\n",
              " '20mg': 365,\n",
              " 'recommend': 366,\n",
              " 'etc': 367,\n",
              " 'lexapro': 368,\n",
              " 'full': 369,\n",
              " 'hair': 370,\n",
              " 'wait': 371,\n",
              " 'something': 372,\n",
              " 'quit': 373,\n",
              " 'working': 374,\n",
              " 'effexor': 375,\n",
              " 'anything': 376,\n",
              " 'wellbutrin': 377,\n",
              " '40': 378,\n",
              " 'tests': 379,\n",
              " 'patch': 380,\n",
              " 'come': 381,\n",
              " 'experienced': 382,\n",
              " 'gone': 383,\n",
              " 'psychiatrist': 384,\n",
              " 'eye': 385,\n",
              " 'treated': 386,\n",
              " 'notice': 387,\n",
              " 'point': 388,\n",
              " 'worth': 389,\n",
              " 'recommended': 390,\n",
              " 'headaches': 391,\n",
              " 'onset': 392,\n",
              " 'panic': 393,\n",
              " 'wake': 394,\n",
              " 'acid': 395,\n",
              " 'slowly': 396,\n",
              " 'following': 397,\n",
              " 'cholesterol': 398,\n",
              " 'eventually': 399,\n",
              " 'helps': 400,\n",
              " 'past': 401,\n",
              " 'change': 402,\n",
              " 'chronic': 403,\n",
              " 'level': 404,\n",
              " 'nausea': 405,\n",
              " 'care': 406,\n",
              " 'sinus': 407,\n",
              " 'possible': 408,\n",
              " 'seems': 409,\n",
              " 'eyes': 410,\n",
              " 'those': 411,\n",
              " 'eating': 412,\n",
              " 'must': 413,\n",
              " \"can't\": 414,\n",
              " '60': 415,\n",
              " 'breakfast': 416,\n",
              " 'wash': 417,\n",
              " 'insomnia': 418,\n",
              " 'fine': 419,\n",
              " 'break': 420,\n",
              " 'details': 421,\n",
              " 'disorder': 422,\n",
              " 'doing': 423,\n",
              " 'actually': 424,\n",
              " 'sleeping': 425,\n",
              " 'find': 426,\n",
              " 'prior': 427,\n",
              " 'stay': 428,\n",
              " 'dr': 429,\n",
              " 'combination': 430,\n",
              " 'left': 431,\n",
              " 'tired': 432,\n",
              " 'attacks': 433,\n",
              " 'reaction': 434,\n",
              " 'hard': 435,\n",
              " 'gel': 436,\n",
              " 'reduce': 437,\n",
              " 'gradually': 438,\n",
              " 'free': 439,\n",
              " 'negative': 440,\n",
              " 'add': 441,\n",
              " 'dermatologist': 442,\n",
              " 'regular': 443,\n",
              " '100mg': 444,\n",
              " 'result': 445,\n",
              " 'cleared': 446,\n",
              " \"couldn't\": 447,\n",
              " 'overall': 448,\n",
              " 'stress': 449,\n",
              " 'beginning': 450,\n",
              " 'mouth': 451,\n",
              " 'decrease': 452,\n",
              " 'form': 453,\n",
              " 'makes': 454,\n",
              " 'often': 455,\n",
              " 'function': 456,\n",
              " 'dinner': 457,\n",
              " 'difference': 458,\n",
              " 'drink': 459,\n",
              " 'say': 460,\n",
              " 'paxil': 461,\n",
              " 'either': 462,\n",
              " 'age': 463,\n",
              " 'xanax': 464,\n",
              " 'return': 465,\n",
              " 'soon': 466,\n",
              " 'short': 467,\n",
              " 'everyday': 468,\n",
              " 'none': 469,\n",
              " 'returned': 470,\n",
              " 'supposed': 471,\n",
              " 'switched': 472,\n",
              " 'approximately': 473,\n",
              " \"doesn't\": 474,\n",
              " 'pretty': 475,\n",
              " 'order': 476,\n",
              " 'topical': 477,\n",
              " 'allergies': 478,\n",
              " 'initial': 479,\n",
              " 'improved': 480,\n",
              " 'asleep': 481,\n",
              " 'smoking': 482,\n",
              " 'antibiotic': 483,\n",
              " 'neck': 484,\n",
              " 'application': 485,\n",
              " 'nightly': 486,\n",
              " 'things': 487,\n",
              " 'benefit': 488,\n",
              " 'cause': 489,\n",
              " 'rest': 490,\n",
              " '150mg': 491,\n",
              " 'reflux': 492,\n",
              " 'experiencing': 493,\n",
              " 'positive': 494,\n",
              " 'decreased': 495,\n",
              " 'easy': 496,\n",
              " 'basis': 497,\n",
              " 'terrible': 498,\n",
              " '150': 499,\n",
              " 'birth': 500,\n",
              " 'quickly': 501,\n",
              " 'saw': 502,\n",
              " 'initially': 503,\n",
              " 'remember': 504,\n",
              " 'called': 505,\n",
              " 'vyvanse': 506,\n",
              " '25mg': 507,\n",
              " 'swelling': 508,\n",
              " 'difficult': 509,\n",
              " 'suffered': 510,\n",
              " 'treatments': 511,\n",
              " 'healthy': 512,\n",
              " 'family': 513,\n",
              " 'prednisone': 514,\n",
              " \"wasn't\": 515,\n",
              " 'instead': 516,\n",
              " 'allergy': 517,\n",
              " 'depressed': 518,\n",
              " 'affected': 519,\n",
              " '200': 520,\n",
              " 'wanted': 521,\n",
              " 'brain': 522,\n",
              " 'maybe': 523,\n",
              " 'prevent': 524,\n",
              " 'counter': 525,\n",
              " 'probably': 526,\n",
              " 'empty': 527,\n",
              " 'might': 528,\n",
              " 'nights': 529,\n",
              " 'd': 530,\n",
              " 'injection': 531,\n",
              " 'cut': 532,\n",
              " 'hospital': 533,\n",
              " 'periods': 534,\n",
              " 'currently': 535,\n",
              " 'moisturizer': 536,\n",
              " 'x': 537,\n",
              " 'his': 538,\n",
              " 'sex': 539,\n",
              " 'especially': 540,\n",
              " 'asthma': 541,\n",
              " 'job': 542,\n",
              " 'throughout': 543,\n",
              " '24': 544,\n",
              " 'spots': 545,\n",
              " 'become': 546,\n",
              " 'necessary': 547,\n",
              " 'nexium': 548,\n",
              " 'pounds': 549,\n",
              " 'capsule': 550,\n",
              " 'expensive': 551,\n",
              " 'early': 552,\n",
              " '500': 553,\n",
              " 'developed': 554,\n",
              " 'suffering': 555,\n",
              " 'injections': 556,\n",
              " 'itching': 557,\n",
              " 'gain': 558,\n",
              " 'physical': 559,\n",
              " 'happy': 560,\n",
              " 'significant': 561,\n",
              " 'withdrawal': 562,\n",
              " 'old': 563,\n",
              " 'size': 564,\n",
              " 'system': 565,\n",
              " 'alcohol': 566,\n",
              " 'asked': 567,\n",
              " 'rash': 568,\n",
              " 'fall': 569,\n",
              " 'self': 570,\n",
              " 'migraines': 571,\n",
              " 'entire': 572,\n",
              " 'nose': 573,\n",
              " 'antibiotics': 574,\n",
              " 'administered': 575,\n",
              " 'required': 576,\n",
              " 'changes': 577,\n",
              " 'bit': 578,\n",
              " '50mg': 579,\n",
              " 'clear': 580,\n",
              " 'stopping': 581,\n",
              " 'between': 582,\n",
              " 'glass': 583,\n",
              " 'non': 584,\n",
              " 'seem': 585,\n",
              " 'issues': 586,\n",
              " 'natural': 587,\n",
              " 'disease': 588,\n",
              " 'sun': 589,\n",
              " 'takes': 590,\n",
              " 'brand': 591,\n",
              " 'legs': 592,\n",
              " 'mcg': 593,\n",
              " 'zoloft': 594,\n",
              " 'insurance': 595,\n",
              " 'attack': 596,\n",
              " 'why': 597,\n",
              " '0': 598,\n",
              " 'case': 599,\n",
              " 'total': 600,\n",
              " 'increasing': 601,\n",
              " 'received': 602,\n",
              " 'home': 603,\n",
              " 'sexual': 604,\n",
              " 'moderate': 605,\n",
              " 'ritalin': 606,\n",
              " 'red': 607,\n",
              " '75': 608,\n",
              " 'already': 609,\n",
              " 'looking': 610,\n",
              " 'doc': 611,\n",
              " 'whole': 612,\n",
              " 'horrible': 613,\n",
              " 'liver': 614,\n",
              " '30mg': 615,\n",
              " 'ibuprofen': 616,\n",
              " 'extremely': 617,\n",
              " 'anyone': 618,\n",
              " 'irritation': 619,\n",
              " 'school': 620,\n",
              " '9': 621,\n",
              " '300mg': 622,\n",
              " 'own': 623,\n",
              " 'energy': 624,\n",
              " 'forehead': 625,\n",
              " 'give': 626,\n",
              " 'extreme': 627,\n",
              " 'health': 628,\n",
              " 'type': 629,\n",
              " 'effectiveness': 630,\n",
              " 'him': 631,\n",
              " 'advised': 632,\n",
              " 'med': 633,\n",
              " 'reason': 634,\n",
              " 'instructed': 635,\n",
              " 'singulair': 636,\n",
              " 'kept': 637,\n",
              " 'coughing': 638,\n",
              " 'read': 639,\n",
              " 'rather': 640,\n",
              " 'risk': 641,\n",
              " 'pea': 642,\n",
              " 'cycle': 643,\n",
              " 'others': 644,\n",
              " 'strong': 645,\n",
              " 'hot': 646,\n",
              " 'anymore': 647,\n",
              " 'unable': 648,\n",
              " 'tabs': 649,\n",
              " '300': 650,\n",
              " 'alone': 651,\n",
              " 'pack': 652,\n",
              " 'subsided': 653,\n",
              " 'constant': 654,\n",
              " 'infections': 655,\n",
              " 'prescribe': 656,\n",
              " 'washing': 657,\n",
              " 'areas': 658,\n",
              " 'light': 659,\n",
              " 'addition': 660,\n",
              " 'xr': 661,\n",
              " 'oral': 662,\n",
              " \"that's\": 663,\n",
              " 'lipitor': 664,\n",
              " 'accutane': 665,\n",
              " 'avoid': 666,\n",
              " 'hope': 667,\n",
              " 'available': 668,\n",
              " 'arthritis': 669,\n",
              " 'nasal': 670,\n",
              " 'topamax': 671,\n",
              " 'simple': 672,\n",
              " 'sore': 673,\n",
              " 'everything': 674,\n",
              " 'check': 675,\n",
              " 'dont': 676,\n",
              " 'sunscreen': 677,\n",
              " 'simply': 678,\n",
              " 'medical': 679,\n",
              " 'described': 680,\n",
              " 'recently': 681,\n",
              " 'thinking': 682,\n",
              " 'bladder': 683,\n",
              " 'painful': 684,\n",
              " 'weekly': 685,\n",
              " 'followed': 686,\n",
              " 'person': 687,\n",
              " 'look': 688,\n",
              " 'prilosec': 689,\n",
              " 'vitamin': 690,\n",
              " 'inflammation': 691,\n",
              " 'ten': 692,\n",
              " 'quite': 693,\n",
              " 'suggested': 694,\n",
              " 'zyrtec': 695,\n",
              " 'clean': 696,\n",
              " 'tramadol': 697,\n",
              " 'else': 698,\n",
              " 'unfortunately': 699,\n",
              " 'synthroid': 700,\n",
              " 'shot': 701,\n",
              " 'release': 702,\n",
              " 'lunch': 703,\n",
              " 'inhaler': 704,\n",
              " 'part': 705,\n",
              " 'gp': 706,\n",
              " 'appetite': 707,\n",
              " 'added': 708,\n",
              " 'discomfort': 709,\n",
              " 'large': 710,\n",
              " 'previous': 711,\n",
              " 'lamictal': 712,\n",
              " 'seroquel': 713,\n",
              " 'disappeared': 714,\n",
              " 'slight': 715,\n",
              " 'adverse': 716,\n",
              " 'nerve': 717,\n",
              " \"i'd\": 718,\n",
              " 'bone': 719,\n",
              " 'upper': 720,\n",
              " 'highly': 721,\n",
              " 'hormone': 722,\n",
              " 'products': 723,\n",
              " 'leg': 724,\n",
              " 'hrs': 725,\n",
              " 'seven': 726,\n",
              " 'checked': 727,\n",
              " 'plan': 728,\n",
              " 'let': 729,\n",
              " 'wish': 730,\n",
              " 'big': 731,\n",
              " 'drop': 732,\n",
              " 'intense': 733,\n",
              " 'cymbalta': 734,\n",
              " 'applying': 735,\n",
              " '2x': 736,\n",
              " 'absolutely': 737,\n",
              " 'estrogen': 738,\n",
              " 'bleeding': 739,\n",
              " '1mg': 740,\n",
              " 'hoping': 741,\n",
              " 'cancer': 742,\n",
              " 'adderall': 743,\n",
              " 'peeling': 744,\n",
              " 'seeing': 745,\n",
              " 'mentioned': 746,\n",
              " 'affect': 747,\n",
              " 'five': 748,\n",
              " 'upon': 749,\n",
              " 'tab': 750,\n",
              " 'deal': 751,\n",
              " 'damage': 752,\n",
              " 'third': 753,\n",
              " 'hands': 754,\n",
              " 'slow': 755,\n",
              " 'affects': 756,\n",
              " 'major': 757,\n",
              " 'episodes': 758,\n",
              " 'drive': 759,\n",
              " 'chest': 760,\n",
              " 'their': 761,\n",
              " 'name': 762,\n",
              " 'otc': 763,\n",
              " 'somewhat': 764,\n",
              " 'meal': 765,\n",
              " 'discontinued': 766,\n",
              " 'coming': 767,\n",
              " 'afternoon': 768,\n",
              " 'sleepy': 769,\n",
              " 'awake': 770,\n",
              " 'lose': 771,\n",
              " 'head': 772,\n",
              " 'noticeable': 773,\n",
              " 'state': 774,\n",
              " 'begin': 775,\n",
              " 'allow': 776,\n",
              " 'mgs': 777,\n",
              " 'associated': 778,\n",
              " 'except': 779,\n",
              " 'higher': 780,\n",
              " 'definitely': 781,\n",
              " 'allergic': 782,\n",
              " '200mg': 783,\n",
              " 'lack': 784,\n",
              " 'significantly': 785,\n",
              " 'situation': 786,\n",
              " 'including': 787,\n",
              " 'drops': 788,\n",
              " 'monthly': 789,\n",
              " 'vaginal': 790,\n",
              " 'fatigue': 791,\n",
              " 'swings': 792,\n",
              " 'bipolar': 793,\n",
              " 'pregnant': 794,\n",
              " 'valium': 795,\n",
              " 'mind': 796,\n",
              " 'flashes': 797,\n",
              " 'removed': 798,\n",
              " 'cough': 799,\n",
              " 'smoke': 800,\n",
              " 'waking': 801,\n",
              " 'cleanser': 802,\n",
              " 'memory': 803,\n",
              " 'weaned': 804,\n",
              " 'cost': 805,\n",
              " 'child': 806,\n",
              " 'oxycodone': 807,\n",
              " 'late': 808,\n",
              " 'dropped': 809,\n",
              " 'intake': 810,\n",
              " 'iv': 811,\n",
              " 'lasted': 812,\n",
              " '500mg': 813,\n",
              " 'walk': 814,\n",
              " 'reduction': 815,\n",
              " 'lots': 816,\n",
              " 'ambien': 817,\n",
              " 'hormones': 818,\n",
              " 'heartburn': 819,\n",
              " 'hrt': 820,\n",
              " 'related': 821,\n",
              " 'yet': 822,\n",
              " 'dizziness': 823,\n",
              " 'visit': 824,\n",
              " 'helping': 825,\n",
              " 'normally': 826,\n",
              " 'active': 827,\n",
              " 'sensitive': 828,\n",
              " 'reducing': 829,\n",
              " 'muscle': 830,\n",
              " 'm': 831,\n",
              " 'important': 832,\n",
              " 'deep': 833,\n",
              " 'realize': 834,\n",
              " 'knee': 835,\n",
              " 'focus': 836,\n",
              " 'fully': 837,\n",
              " 'unless': 838,\n",
              " 'included': 839,\n",
              " 'plus': 840,\n",
              " 'fibromyalgia': 841,\n",
              " 'treating': 842,\n",
              " 'success': 843,\n",
              " 'sores': 844,\n",
              " 'meals': 845,\n",
              " 'slightly': 846,\n",
              " 'didnt': 847,\n",
              " 'patients': 848,\n",
              " 'procedure': 849,\n",
              " 'allowed': 850,\n",
              " 'leave': 851,\n",
              " 'counseling': 852,\n",
              " 'information': 853,\n",
              " 'ask': 854,\n",
              " 'remained': 855,\n",
              " 'woke': 856,\n",
              " 'originally': 857,\n",
              " 'muscles': 858,\n",
              " 'ongoing': 859,\n",
              " 'live': 860,\n",
              " 'rosacea': 861,\n",
              " 'kind': 862,\n",
              " 'totally': 863,\n",
              " '3x': 864,\n",
              " 'otherwise': 865,\n",
              " 'extra': 866,\n",
              " 'tell': 867,\n",
              " 'desire': 868,\n",
              " 'effectively': 869,\n",
              " 'basically': 870,\n",
              " 'redness': 871,\n",
              " 'easily': 872,\n",
              " 'difficulty': 873,\n",
              " 'comes': 874,\n",
              " 'shoulder': 875,\n",
              " 'alternative': 876,\n",
              " 'injury': 877,\n",
              " 'supplements': 878,\n",
              " 'directed': 879,\n",
              " 'realized': 880,\n",
              " 'please': 881,\n",
              " '11': 882,\n",
              " 'activity': 883,\n",
              " 'adult': 884,\n",
              " 'adhd': 885,\n",
              " 'controlled': 886,\n",
              " 'understand': 887,\n",
              " 'hand': 888,\n",
              " 'joint': 889,\n",
              " 'real': 890,\n",
              " 'frequent': 891,\n",
              " 'primary': 892,\n",
              " 'calcium': 893,\n",
              " 'propecia': 894,\n",
              " 'ended': 895,\n",
              " 'causes': 896,\n",
              " \"haven't\": 897,\n",
              " 'swollen': 898,\n",
              " '75mg': 899,\n",
              " 'future': 900,\n",
              " 'relieve': 901,\n",
              " 'together': 902,\n",
              " 'seizure': 903,\n",
              " 'directly': 904,\n",
              " 'number': 905,\n",
              " 'differin': 906,\n",
              " 'vomiting': 907,\n",
              " 'afraid': 908,\n",
              " 'consisted': 909,\n",
              " 'rid': 910,\n",
              " 'love': 911,\n",
              " 'fairly': 912,\n",
              " '15mg': 913,\n",
              " '40mg': 914,\n",
              " 'throat': 915,\n",
              " 'lbs': 916,\n",
              " 'thin': 917,\n",
              " 'pharmacy': 918,\n",
              " 'subside': 919,\n",
              " 'known': 920,\n",
              " 'doxycycline': 921,\n",
              " 'husband': 922,\n",
              " 'pm': 923,\n",
              " 'study': 924,\n",
              " 'showed': 925,\n",
              " 're': 926,\n",
              " 'falling': 927,\n",
              " 'seen': 928,\n",
              " 'specialist': 929,\n",
              " 'breast': 930,\n",
              " 'stated': 931,\n",
              " 'foods': 932,\n",
              " 'room': 933,\n",
              " 'women': 934,\n",
              " 'mid': 935,\n",
              " 'outbreak': 936,\n",
              " 'imitrex': 937,\n",
              " 'here': 938,\n",
              " 'diagnosis': 939,\n",
              " 'finished': 940,\n",
              " 'minocycline': 941,\n",
              " 'ldl': 942,\n",
              " 'calm': 943,\n",
              " 'mostly': 944,\n",
              " 'solution': 945,\n",
              " '37': 946,\n",
              " 'fact': 947,\n",
              " 'tolerance': 948,\n",
              " 'yeast': 949,\n",
              " 'concerned': 950,\n",
              " 'signs': 951,\n",
              " 'constipation': 952,\n",
              " 'careful': 953,\n",
              " 'potential': 954,\n",
              " 'advair': 955,\n",
              " 'son': 956,\n",
              " 'means': 957,\n",
              " 'fat': 958,\n",
              " 'immediate': 959,\n",
              " 'drowsiness': 960,\n",
              " 'shortly': 961,\n",
              " 'complete': 962,\n",
              " 'someone': 963,\n",
              " 'metformin': 964,\n",
              " 'yrs': 965,\n",
              " 'eight': 966,\n",
              " 'regularly': 967,\n",
              " 'process': 968,\n",
              " 'lowered': 969,\n",
              " 'approx': 970,\n",
              " 'tolerate': 971,\n",
              " 'fast': 972,\n",
              " 'capsules': 973,\n",
              " 'pregnancy': 974,\n",
              " 'elavil': 975,\n",
              " 'occasionally': 976,\n",
              " 'suffer': 977,\n",
              " 'trouble': 978,\n",
              " 'perscribed': 979,\n",
              " 'extended': 980,\n",
              " 'turned': 981,\n",
              " 'chantix': 982,\n",
              " 'easier': 983,\n",
              " 'wear': 984,\n",
              " 'general': 985,\n",
              " 'further': 986,\n",
              " 'alleviate': 987,\n",
              " 'today': 988,\n",
              " 'suicidal': 989,\n",
              " 'sick': 990,\n",
              " 'discontinue': 991,\n",
              " 'cramping': 992,\n",
              " 'previously': 993,\n",
              " 'gained': 994,\n",
              " 'determined': 995,\n",
              " 'stayed': 996,\n",
              " 'issue': 997,\n",
              " 'upset': 998,\n",
              " 'daughter': 999,\n",
              " 's': 1000,\n",
              " ...}"
            ]
          },
          "metadata": {
            "tags": []
          },
          "execution_count": 160
        }
      ]
    },
    {
      "cell_type": "code",
      "metadata": {
        "id": "QDaOl86bEFMk"
      },
      "source": [
        "max_words=500\n",
        "X_train_review_sequence = tokenizer.texts_to_sequences(X_train_review_df['commentsReview'])\n",
        "X_train_review_sequence = sequence.pad_sequences(X_train_review_sequence,maxlen=max_words)\n",
        "\n",
        "X_test_review_sequence = tokenizer.texts_to_sequences(X_test_review_df['commentsReview'])\n",
        "X_test_review_sequence = sequence.pad_sequences(X_test_review_sequence,maxlen=max_words)"
      ],
      "execution_count": null,
      "outputs": []
    },
    {
      "cell_type": "code",
      "metadata": {
        "colab": {
          "base_uri": "https://localhost:8080/"
        },
        "id": "ItIo943pEFMk",
        "outputId": "a0b57d2b-661e-4c6b-ab45-42163411a600"
      },
      "source": [
        "X_train_review_sequence"
      ],
      "execution_count": null,
      "outputs": [
        {
          "output_type": "execute_result",
          "data": {
            "text/plain": [
              "array([[  0,   0,   0, ...,   1,   6, 134],\n",
              "       [  0,   0,   0, ...,  14,  11,   1],\n",
              "       [  0,   0,   0, ...,   3, 159, 324],\n",
              "       ...,\n",
              "       [  0,   0,   0, ...,   8,  53, 141],\n",
              "       [  0,   0,   0, ...,   6, 279,   1],\n",
              "       [  0,   0,   0, ...,   1,  13, 106]], dtype=int32)"
            ]
          },
          "metadata": {
            "tags": []
          },
          "execution_count": 162
        }
      ]
    },
    {
      "cell_type": "code",
      "metadata": {
        "colab": {
          "base_uri": "https://localhost:8080/"
        },
        "id": "dDkh3wk9EFMl",
        "outputId": "f8b26fc8-1f31-4f0d-a812-f252beb0c9e5"
      },
      "source": [
        "X_train_review_sequence.shape"
      ],
      "execution_count": null,
      "outputs": [
        {
          "output_type": "execute_result",
          "data": {
            "text/plain": [
              "(2638, 500)"
            ]
          },
          "metadata": {
            "tags": []
          },
          "execution_count": 163
        }
      ]
    },
    {
      "cell_type": "code",
      "metadata": {
        "colab": {
          "base_uri": "https://localhost:8080/"
        },
        "id": "dCkvfreiEFMl",
        "outputId": "61f9ed0d-6a3b-4c9a-da09-3cacc05a00a7"
      },
      "source": [
        "X_test_review_sequence.shape"
      ],
      "execution_count": null,
      "outputs": [
        {
          "output_type": "execute_result",
          "data": {
            "text/plain": [
              "(466, 500)"
            ]
          },
          "metadata": {
            "tags": []
          },
          "execution_count": 164
        }
      ]
    },
    {
      "cell_type": "markdown",
      "metadata": {
        "id": "eYBxLsL9EFMl"
      },
      "source": [
        "Visualising Length of sentences"
      ]
    },
    {
      "cell_type": "code",
      "metadata": {
        "id": "HHk1vRHAEFMl"
      },
      "source": [
        "len_train=X_train_review_df['commentsReview'].apply(lambda row: len(row))"
      ],
      "execution_count": null,
      "outputs": []
    },
    {
      "cell_type": "code",
      "metadata": {
        "colab": {
          "base_uri": "https://localhost:8080/",
          "height": 265
        },
        "id": "gB-yBEGvEFMm",
        "outputId": "ee116031-fd91-4902-e090-41ffbe33ef02"
      },
      "source": [
        "import matplotlib.pyplot as plt\n",
        "%matplotlib inline\n",
        "pd.Series(len_train).hist()\n",
        "plt.show()\n"
      ],
      "execution_count": null,
      "outputs": [
        {
          "output_type": "display_data",
          "data": {
            "image/png": "[encoded data removed]",
            "text/plain": [
              "<Figure size 432x288 with 1 Axes>"
            ]
          },
          "metadata": {
            "tags": [],
            "needs_background": "light"
          }
        }
      ]
    },
    {
      "cell_type": "code",
      "metadata": {
        "colab": {
          "base_uri": "https://localhost:8080/"
        },
        "id": "pHWDf1DyEFMm",
        "outputId": "0b83a345-d1e9-462f-854b-b35da505cc1b"
      },
      "source": [
        "len_train.describe()"
      ],
      "execution_count": null,
      "outputs": [
        {
          "output_type": "execute_result",
          "data": {
            "text/plain": [
              "count    2638.000000\n",
              "mean      268.235406\n",
              "std       273.660445\n",
              "min         1.000000\n",
              "25%        94.000000\n",
              "50%       195.000000\n",
              "75%       348.000000\n",
              "max      3857.000000\n",
              "Name: commentsReview, dtype: float64"
            ]
          },
          "metadata": {
            "tags": []
          },
          "execution_count": 187
        }
      ]
    },
    {
      "cell_type": "markdown",
      "metadata": {
        "id": "giwJXQlUEFMm"
      },
      "source": [
        "Most of the reviews are less than **500 words**"
      ]
    },
    {
      "cell_type": "code",
      "metadata": {
        "id": "Jt9wwaJDEFMm"
      },
      "source": [
        "y_train_review_sequence=y_train_review_df\n",
        "y_test_review_sequence=y_test_review_df"
      ],
      "execution_count": null,
      "outputs": []
    },
    {
      "cell_type": "code",
      "metadata": {
        "colab": {
          "base_uri": "https://localhost:8080/"
        },
        "id": "FOGKZuUvEFMn",
        "outputId": "a441e5e8-7c21-4a3f-e597-c07b7afacd28"
      },
      "source": [
        "y_test_review_sequence"
      ],
      "execution_count": null,
      "outputs": [
        {
          "output_type": "execute_result",
          "data": {
            "text/plain": [
              "111      1\n",
              "2992     9\n",
              "3031     9\n",
              "2686     3\n",
              "2263    10\n",
              "        ..\n",
              "986      7\n",
              "1779     1\n",
              "2226     7\n",
              "2793     8\n",
              "1726    10\n",
              "Name: rating, Length: 466, dtype: int64"
            ]
          },
          "metadata": {
            "tags": []
          },
          "execution_count": 189
        }
      ]
    },
    {
      "cell_type": "code",
      "metadata": {
        "colab": {
          "base_uri": "https://localhost:8080/"
        },
        "id": "4kIwLgHqEFMn",
        "outputId": "af317ddd-5a78-45ce-8d94-4b62a0ffcb04"
      },
      "source": [
        "X_train_review_df.shape"
      ],
      "execution_count": null,
      "outputs": [
        {
          "output_type": "execute_result",
          "data": {
            "text/plain": [
              "(2638, 2)"
            ]
          },
          "metadata": {
            "tags": []
          },
          "execution_count": 190
        }
      ]
    },
    {
      "cell_type": "code",
      "metadata": {
        "colab": {
          "base_uri": "https://localhost:8080/"
        },
        "id": "AS8mD8MoEFMn",
        "outputId": "865b11f4-0649-4b87-8027-aa9256b42a90"
      },
      "source": [
        "from keras import Sequential\n",
        "from keras.layers import Embedding, LSTM, Dense, Dropout\n",
        "embedding_size=32\n",
        "vocabulary_size=5000\n",
        "max_words=500\n",
        "model=Sequential()\n",
        "model.add(Embedding(vocabulary_size, embedding_size, input_length=max_words))\n",
        "model.add(SpatialDropout1D(0.4))\n",
        "model.add(LSTM(196, dropout=0.2, recurrent_dropout=0.2))\n",
        "model.add(Dense(1, activation='softmax'))\n",
        "\n",
        "print(model.summary())"
      ],
      "execution_count": null,
      "outputs": [
        {
          "output_type": "stream",
          "text": [
            "Model: \"sequential_3\"\n",
            "_________________________________________________________________\n",
            "Layer (type)                 Output Shape              Param #   \n",
            "=================================================================\n",
            "embedding_3 (Embedding)      (None, 500, 32)           160000    \n",
            "_________________________________________________________________\n",
            "lstm_6 (LSTM)                (None, 500, 1024)         4329472   \n",
            "_________________________________________________________________\n",
            "dense_6 (Dense)              (None, 500, 512)          524800    \n",
            "_________________________________________________________________\n",
            "lstm_7 (LSTM)                (None, 256)               787456    \n",
            "_________________________________________________________________\n",
            "dense_7 (Dense)              (None, 1)                 257       \n",
            "=================================================================\n",
            "Total params: 5,801,985\n",
            "Trainable params: 5,801,985\n",
            "Non-trainable params: 0\n",
            "_________________________________________________________________\n",
            "None\n"
          ],
          "name": "stdout"
        }
      ]
    },
    {
      "cell_type": "code",
      "metadata": {
        "id": "i2obi5jMEFMn"
      },
      "source": [
        "model.compile(loss='binary_crossentropy', \n",
        "             optimizer='adam', \n",
        "             metrics=['accuracy'])"
      ],
      "execution_count": null,
      "outputs": []
    },
    {
      "cell_type": "code",
      "metadata": {
        "colab": {
          "base_uri": "https://localhost:8080/"
        },
        "id": "fY7jXXh5EFMo",
        "outputId": "0f1d378c-1cb9-4c93-b096-ffa74aa576ec"
      },
      "source": [
        "batch_size = 64\n",
        "num_epochs = 10\n",
        "model.fit(X_train_review_sequence, y_train_review_sequence, validation_data=(X_test_review_sequence, y_test_review_sequence), batch_size=batch_size, epochs=num_epochs)"
      ],
      "execution_count": null,
      "outputs": [
        {
          "output_type": "stream",
          "text": [
            "Epoch 1/10\n"
          ],
          "name": "stdout"
        }
      ]
    },
    {
      "cell_type": "code",
      "metadata": {
        "id": "Pl2MufJcEFMo"
      },
      "source": [
        "res=model.predict(X_train_review_sequence)"
      ],
      "execution_count": null,
      "outputs": []
    },
    {
      "cell_type": "code",
      "metadata": {
        "colab": {
          "base_uri": "https://localhost:8080/"
        },
        "id": "qoPLoSw4EFMo",
        "outputId": "af0f3d52-3332-415e-ede9-5d5b6ec841a1"
      },
      "source": [
        "\n",
        "res[50:79]"
      ],
      "execution_count": null,
      "outputs": [
        {
          "output_type": "execute_result",
          "data": {
            "text/plain": [
              "array([[0.93680555],\n",
              "       [0.273837  ],\n",
              "       [0.94082224],\n",
              "       [0.7682358 ],\n",
              "       [0.8105223 ],\n",
              "       [0.16833046],\n",
              "       [0.686385  ],\n",
              "       [0.15843657],\n",
              "       [0.9191784 ],\n",
              "       [0.5724978 ],\n",
              "       [0.7711943 ],\n",
              "       [0.84031284],\n",
              "       [0.9021317 ],\n",
              "       [0.86533624],\n",
              "       [0.7498339 ],\n",
              "       [0.78659236],\n",
              "       [0.36557072],\n",
              "       [0.9063928 ],\n",
              "       [0.41679868],\n",
              "       [0.6122178 ],\n",
              "       [0.8584959 ],\n",
              "       [0.45398358],\n",
              "       [0.906199  ],\n",
              "       [0.7667433 ],\n",
              "       [0.48979467],\n",
              "       [0.91093844],\n",
              "       [0.7967025 ],\n",
              "       [0.9427726 ],\n",
              "       [0.92480904]], dtype=float32)"
            ]
          },
          "metadata": {
            "tags": []
          },
          "execution_count": 56
        }
      ]
    },
    {
      "cell_type": "code",
      "metadata": {
        "id": "0hjA-YnfEFMo"
      },
      "source": [
        "def get_category(res):\n",
        "  val=[]\n",
        "  for i in res:\n",
        "    if(i<0.68):\n",
        "      val.append(0)\n",
        "    else:\n",
        "      val.append(1)\n",
        "  return val"
      ],
      "execution_count": null,
      "outputs": []
    },
    {
      "cell_type": "code",
      "metadata": {
        "colab": {
          "base_uri": "https://localhost:8080/",
          "height": 163
        },
        "id": "qpKVW-56EFMp",
        "outputId": "61d293f9-2deb-4de2-e837-f7a7985c7404"
      },
      "source": [
        "val"
      ],
      "execution_count": null,
      "outputs": [
        {
          "output_type": "error",
          "ename": "NameError",
          "evalue": "ignored",
          "traceback": [
            "\u001b[0;31m---------------------------------------------------------------------------\u001b[0m",
            "\u001b[0;31mNameError\u001b[0m                                 Traceback (most recent call last)",
            "\u001b[0;32m<ipython-input-94-22e33626e689>\u001b[0m in \u001b[0;36m<module>\u001b[0;34m()\u001b[0m\n\u001b[0;32m----> 1\u001b[0;31m \u001b[0mval\u001b[0m\u001b[0;34m\u001b[0m\u001b[0;34m\u001b[0m\u001b[0m\n\u001b[0m",
            "\u001b[0;31mNameError\u001b[0m: name 'val' is not defined"
          ]
        }
      ]
    },
    {
      "cell_type": "code",
      "metadata": {
        "colab": {
          "base_uri": "https://localhost:8080/"
        },
        "id": "_N72BN9LEFMp",
        "outputId": "065f73ef-3403-4ca6-de68-dcc850bedbfb"
      },
      "source": [
        "get_performance_class(model,X_train_review_sequence,y_train_review_sequence)"
      ],
      "execution_count": null,
      "outputs": [
        {
          "output_type": "stream",
          "text": [
            "[[ 429  267]\n",
            " [ 380 1562]]\n",
            "              precision    recall  f1-score   support\n",
            "\n",
            "           0       0.53      0.62      0.57       696\n",
            "           1       0.85      0.80      0.83      1942\n",
            "\n",
            "    accuracy                           0.75      2638\n",
            "   macro avg       0.69      0.71      0.70      2638\n",
            "weighted avg       0.77      0.75      0.76      2638\n",
            "\n"
          ],
          "name": "stdout"
        }
      ]
    },
    {
      "cell_type": "code",
      "metadata": {
        "colab": {
          "base_uri": "https://localhost:8080/"
        },
        "id": "ybpKYg5NEFMp",
        "outputId": "1edbfa3d-ed9d-4292-d575-184084c888a1"
      },
      "source": [
        "get_performance_class(model,X_test_review_sequence,y_test_review_sequence)"
      ],
      "execution_count": null,
      "outputs": [
        {
          "output_type": "stream",
          "text": [
            "[[ 66  57]\n",
            " [ 73 270]]\n",
            "              precision    recall  f1-score   support\n",
            "\n",
            "           0       0.47      0.54      0.50       123\n",
            "           1       0.83      0.79      0.81       343\n",
            "\n",
            "    accuracy                           0.72       466\n",
            "   macro avg       0.65      0.66      0.65       466\n",
            "weighted avg       0.73      0.72      0.73       466\n",
            "\n"
          ],
          "name": "stdout"
        }
      ]
    },
    {
      "cell_type": "markdown",
      "metadata": {
        "id": "aoJ_rc4-ZOjF"
      },
      "source": [
        "# Categorical Data Preprocessing"
      ]
    },
    {
      "cell_type": "markdown",
      "metadata": {
        "id": "YrQmJanrZt1s"
      },
      "source": [
        "One hot encoding"
      ]
    },
    {
      "cell_type": "code",
      "metadata": {
        "colab": {
          "base_uri": "https://localhost:8080/"
        },
        "id": "N9I0QfxZZ-Im",
        "outputId": "faf2ca1d-1568-4329-9b09-ab4600587216"
      },
      "source": [
        "strat_train_set.head()"
      ],
      "execution_count": null,
      "outputs": [
        {
          "output_type": "execute_result",
          "data": {
            "text/html": [
              "<div>\n",
              "<style scoped>\n",
              "    .dataframe tbody tr th:only-of-type {\n",
              "        vertical-align: middle;\n",
              "    }\n",
              "\n",
              "    .dataframe tbody tr th {\n",
              "        vertical-align: top;\n",
              "    }\n",
              "\n",
              "    .dataframe thead th {\n",
              "        text-align: right;\n",
              "    }\n",
              "</style>\n",
              "<table border=\"1\" class=\"dataframe\">\n",
              "  <thead>\n",
              "    <tr style=\"text-align: right;\">\n",
              "      <th></th>\n",
              "      <th>rating</th>\n",
              "      <th>effectiveness</th>\n",
              "      <th>sideEffects</th>\n",
              "      <th>commentsReview</th>\n",
              "      <th>rank_bin</th>\n",
              "    </tr>\n",
              "  </thead>\n",
              "  <tbody>\n",
              "    <tr>\n",
              "      <th>480</th>\n",
              "      <td>8</td>\n",
              "      <td>Considerably Effective</td>\n",
              "      <td>Mild Side Effects</td>\n",
              "      <td>1 mg pill taken daily for hair loss on the cro...</td>\n",
              "      <td>1</td>\n",
              "    </tr>\n",
              "    <tr>\n",
              "      <th>2819</th>\n",
              "      <td>2</td>\n",
              "      <td>Ineffective</td>\n",
              "      <td>Mild Side Effects</td>\n",
              "      <td>Took Imitrex for a 3 month period and still ha...</td>\n",
              "      <td>0</td>\n",
              "    </tr>\n",
              "    <tr>\n",
              "      <th>309</th>\n",
              "      <td>8</td>\n",
              "      <td>Considerably Effective</td>\n",
              "      <td>Mild Side Effects</td>\n",
              "      <td>once a day at night time for a period of 3 mon...</td>\n",
              "      <td>1</td>\n",
              "    </tr>\n",
              "    <tr>\n",
              "      <th>2293</th>\n",
              "      <td>1</td>\n",
              "      <td>Ineffective</td>\n",
              "      <td>Extremely Severe Side Effects</td>\n",
              "      <td>This drug should NOT be on the market!</td>\n",
              "      <td>0</td>\n",
              "    </tr>\n",
              "    <tr>\n",
              "      <th>1725</th>\n",
              "      <td>10</td>\n",
              "      <td>Highly Effective</td>\n",
              "      <td>No Side Effects</td>\n",
              "      <td>At the start of this disorder I thought I was ...</td>\n",
              "      <td>1</td>\n",
              "    </tr>\n",
              "  </tbody>\n",
              "</table>\n",
              "</div>"
            ],
            "text/plain": [
              "      rating  ... rank_bin\n",
              "480        8  ...        1\n",
              "2819       2  ...        0\n",
              "309        8  ...        1\n",
              "2293       1  ...        0\n",
              "1725      10  ...        1\n",
              "\n",
              "[5 rows x 5 columns]"
            ]
          },
          "metadata": {
            "tags": []
          },
          "execution_count": 120
        }
      ]
    },
    {
      "cell_type": "markdown",
      "metadata": {
        "id": "SKZ1WHTZa9uh"
      },
      "source": [
        "Creating X_train and y_train"
      ]
    },
    {
      "cell_type": "code",
      "metadata": {
        "id": "i0GTLB7aaRxE"
      },
      "source": [
        "X_train=strat_train_set[[\"effectiveness\",\"sideEffects\"]]"
      ],
      "execution_count": null,
      "outputs": []
    },
    {
      "cell_type": "code",
      "metadata": {
        "colab": {
          "base_uri": "https://localhost:8080/"
        },
        "id": "uNY8MyNSagry",
        "outputId": "45aec7e7-0539-47d0-865b-af4e4603a636"
      },
      "source": [
        "X_train.head()"
      ],
      "execution_count": null,
      "outputs": [
        {
          "output_type": "execute_result",
          "data": {
            "text/html": [
              "<div>\n",
              "<style scoped>\n",
              "    .dataframe tbody tr th:only-of-type {\n",
              "        vertical-align: middle;\n",
              "    }\n",
              "\n",
              "    .dataframe tbody tr th {\n",
              "        vertical-align: top;\n",
              "    }\n",
              "\n",
              "    .dataframe thead th {\n",
              "        text-align: right;\n",
              "    }\n",
              "</style>\n",
              "<table border=\"1\" class=\"dataframe\">\n",
              "  <thead>\n",
              "    <tr style=\"text-align: right;\">\n",
              "      <th></th>\n",
              "      <th>effectiveness</th>\n",
              "      <th>sideEffects</th>\n",
              "    </tr>\n",
              "  </thead>\n",
              "  <tbody>\n",
              "    <tr>\n",
              "      <th>480</th>\n",
              "      <td>Considerably Effective</td>\n",
              "      <td>Mild Side Effects</td>\n",
              "    </tr>\n",
              "    <tr>\n",
              "      <th>2819</th>\n",
              "      <td>Ineffective</td>\n",
              "      <td>Mild Side Effects</td>\n",
              "    </tr>\n",
              "    <tr>\n",
              "      <th>309</th>\n",
              "      <td>Considerably Effective</td>\n",
              "      <td>Mild Side Effects</td>\n",
              "    </tr>\n",
              "    <tr>\n",
              "      <th>2293</th>\n",
              "      <td>Ineffective</td>\n",
              "      <td>Extremely Severe Side Effects</td>\n",
              "    </tr>\n",
              "    <tr>\n",
              "      <th>1725</th>\n",
              "      <td>Highly Effective</td>\n",
              "      <td>No Side Effects</td>\n",
              "    </tr>\n",
              "  </tbody>\n",
              "</table>\n",
              "</div>"
            ],
            "text/plain": [
              "               effectiveness                    sideEffects\n",
              "480   Considerably Effective              Mild Side Effects\n",
              "2819             Ineffective              Mild Side Effects\n",
              "309   Considerably Effective              Mild Side Effects\n",
              "2293             Ineffective  Extremely Severe Side Effects\n",
              "1725        Highly Effective                No Side Effects"
            ]
          },
          "metadata": {
            "tags": []
          },
          "execution_count": 122
        }
      ]
    },
    {
      "cell_type": "code",
      "metadata": {
        "id": "iJlFMp9uapkd"
      },
      "source": [
        "y_train=strat_train_set[\"rating\"]"
      ],
      "execution_count": null,
      "outputs": []
    },
    {
      "cell_type": "code",
      "metadata": {
        "colab": {
          "base_uri": "https://localhost:8080/"
        },
        "id": "49W9s1qAayAD",
        "outputId": "bedfb773-312e-4764-a5b7-16fedf653a17"
      },
      "source": [
        "y_train.head()"
      ],
      "execution_count": null,
      "outputs": [
        {
          "output_type": "execute_result",
          "data": {
            "text/plain": [
              "480      8\n",
              "2819     2\n",
              "309      8\n",
              "2293     1\n",
              "1725    10\n",
              "Name: rating, dtype: int64"
            ]
          },
          "metadata": {
            "tags": []
          },
          "execution_count": 124
        }
      ]
    },
    {
      "cell_type": "markdown",
      "metadata": {
        "id": "ZaPrGNq0bTVz"
      },
      "source": [
        "Creating X_test and y_test"
      ]
    },
    {
      "cell_type": "code",
      "metadata": {
        "id": "az5vv0STbFRk"
      },
      "source": [
        "X_test=strat_test_set[[\"effectiveness\",\"sideEffects\"]]"
      ],
      "execution_count": null,
      "outputs": []
    },
    {
      "cell_type": "code",
      "metadata": {
        "colab": {
          "base_uri": "https://localhost:8080/"
        },
        "id": "JHByWCwobFRu",
        "outputId": "610a84a6-44f0-4a5e-9d61-422916545537"
      },
      "source": [
        "X_test.head()"
      ],
      "execution_count": null,
      "outputs": [
        {
          "output_type": "execute_result",
          "data": {
            "text/html": [
              "<div>\n",
              "<style scoped>\n",
              "    .dataframe tbody tr th:only-of-type {\n",
              "        vertical-align: middle;\n",
              "    }\n",
              "\n",
              "    .dataframe tbody tr th {\n",
              "        vertical-align: top;\n",
              "    }\n",
              "\n",
              "    .dataframe thead th {\n",
              "        text-align: right;\n",
              "    }\n",
              "</style>\n",
              "<table border=\"1\" class=\"dataframe\">\n",
              "  <thead>\n",
              "    <tr style=\"text-align: right;\">\n",
              "      <th></th>\n",
              "      <th>effectiveness</th>\n",
              "      <th>sideEffects</th>\n",
              "    </tr>\n",
              "  </thead>\n",
              "  <tbody>\n",
              "    <tr>\n",
              "      <th>111</th>\n",
              "      <td>Ineffective</td>\n",
              "      <td>Severe Side Effects</td>\n",
              "    </tr>\n",
              "    <tr>\n",
              "      <th>2992</th>\n",
              "      <td>Considerably Effective</td>\n",
              "      <td>No Side Effects</td>\n",
              "    </tr>\n",
              "    <tr>\n",
              "      <th>3031</th>\n",
              "      <td>Considerably Effective</td>\n",
              "      <td>No Side Effects</td>\n",
              "    </tr>\n",
              "    <tr>\n",
              "      <th>2686</th>\n",
              "      <td>Ineffective</td>\n",
              "      <td>Moderate Side Effects</td>\n",
              "    </tr>\n",
              "    <tr>\n",
              "      <th>2263</th>\n",
              "      <td>Highly Effective</td>\n",
              "      <td>Mild Side Effects</td>\n",
              "    </tr>\n",
              "  </tbody>\n",
              "</table>\n",
              "</div>"
            ],
            "text/plain": [
              "               effectiveness            sideEffects\n",
              "111              Ineffective    Severe Side Effects\n",
              "2992  Considerably Effective        No Side Effects\n",
              "3031  Considerably Effective        No Side Effects\n",
              "2686             Ineffective  Moderate Side Effects\n",
              "2263        Highly Effective      Mild Side Effects"
            ]
          },
          "metadata": {
            "tags": []
          },
          "execution_count": 126
        }
      ]
    },
    {
      "cell_type": "code",
      "metadata": {
        "id": "FaqdXaMlbFRu"
      },
      "source": [
        "y_test=strat_test_set[\"rating\"]"
      ],
      "execution_count": null,
      "outputs": []
    },
    {
      "cell_type": "code",
      "metadata": {
        "colab": {
          "base_uri": "https://localhost:8080/"
        },
        "id": "hN4fBADPbFRv",
        "outputId": "68ce88ae-e824-4c55-97fc-5c0823eba2b4"
      },
      "source": [
        "y_test.head()"
      ],
      "execution_count": null,
      "outputs": [
        {
          "output_type": "execute_result",
          "data": {
            "text/plain": [
              "111      1\n",
              "2992     9\n",
              "3031     9\n",
              "2686     3\n",
              "2263    10\n",
              "Name: rating, dtype: int64"
            ]
          },
          "metadata": {
            "tags": []
          },
          "execution_count": 128
        }
      ]
    },
    {
      "cell_type": "code",
      "metadata": {
        "id": "ilHyk-uUj2qr"
      },
      "source": [
        "from sklearn.compose import ColumnTransformer\n",
        "from sklearn.preprocessing import OneHotEncoder"
      ],
      "execution_count": null,
      "outputs": []
    },
    {
      "cell_type": "code",
      "metadata": {
        "id": "5ASXuM6em3Ss"
      },
      "source": [
        "ct=ColumnTransformer(transformers=[('encoder',OneHotEncoder(sparse=False,drop='first'),[0,1])])"
      ],
      "execution_count": null,
      "outputs": []
    },
    {
      "cell_type": "code",
      "metadata": {
        "id": "jGS811r9o3Tg"
      },
      "source": [
        "X_train=ct.fit_transform(X_train)\n",
        "X_test=ct.transform(X_test)"
      ],
      "execution_count": null,
      "outputs": []
    },
    {
      "cell_type": "code",
      "metadata": {
        "id": "NRv3-XzupMri"
      },
      "source": [
        "X_train=pd.DataFrame(data=X_train,columns=ct.get_feature_names())\n",
        "X_test=pd.DataFrame(data=X_test,columns=ct.get_feature_names())"
      ],
      "execution_count": null,
      "outputs": []
    },
    {
      "cell_type": "code",
      "metadata": {
        "colab": {
          "base_uri": "https://localhost:8080/"
        },
        "id": "ADJYBV4C5LIT",
        "outputId": "5c4242f6-982e-4bf1-f523-cc26b9bc490d"
      },
      "source": [
        "X_train.head()"
      ],
      "execution_count": null,
      "outputs": [
        {
          "output_type": "execute_result",
          "data": {
            "text/html": [
              "<div>\n",
              "<style scoped>\n",
              "    .dataframe tbody tr th:only-of-type {\n",
              "        vertical-align: middle;\n",
              "    }\n",
              "\n",
              "    .dataframe tbody tr th {\n",
              "        vertical-align: top;\n",
              "    }\n",
              "\n",
              "    .dataframe thead th {\n",
              "        text-align: right;\n",
              "    }\n",
              "</style>\n",
              "<table border=\"1\" class=\"dataframe\">\n",
              "  <thead>\n",
              "    <tr style=\"text-align: right;\">\n",
              "      <th></th>\n",
              "      <th>encoder__x0_Highly Effective</th>\n",
              "      <th>encoder__x0_Ineffective</th>\n",
              "      <th>encoder__x0_Marginally Effective</th>\n",
              "      <th>encoder__x0_Moderately Effective</th>\n",
              "      <th>encoder__x1_Mild Side Effects</th>\n",
              "      <th>encoder__x1_Moderate Side Effects</th>\n",
              "      <th>encoder__x1_No Side Effects</th>\n",
              "      <th>encoder__x1_Severe Side Effects</th>\n",
              "    </tr>\n",
              "  </thead>\n",
              "  <tbody>\n",
              "    <tr>\n",
              "      <th>0</th>\n",
              "      <td>0.0</td>\n",
              "      <td>0.0</td>\n",
              "      <td>0.0</td>\n",
              "      <td>0.0</td>\n",
              "      <td>1.0</td>\n",
              "      <td>0.0</td>\n",
              "      <td>0.0</td>\n",
              "      <td>0.0</td>\n",
              "    </tr>\n",
              "    <tr>\n",
              "      <th>1</th>\n",
              "      <td>0.0</td>\n",
              "      <td>1.0</td>\n",
              "      <td>0.0</td>\n",
              "      <td>0.0</td>\n",
              "      <td>1.0</td>\n",
              "      <td>0.0</td>\n",
              "      <td>0.0</td>\n",
              "      <td>0.0</td>\n",
              "    </tr>\n",
              "    <tr>\n",
              "      <th>2</th>\n",
              "      <td>0.0</td>\n",
              "      <td>0.0</td>\n",
              "      <td>0.0</td>\n",
              "      <td>0.0</td>\n",
              "      <td>1.0</td>\n",
              "      <td>0.0</td>\n",
              "      <td>0.0</td>\n",
              "      <td>0.0</td>\n",
              "    </tr>\n",
              "    <tr>\n",
              "      <th>3</th>\n",
              "      <td>0.0</td>\n",
              "      <td>1.0</td>\n",
              "      <td>0.0</td>\n",
              "      <td>0.0</td>\n",
              "      <td>0.0</td>\n",
              "      <td>0.0</td>\n",
              "      <td>0.0</td>\n",
              "      <td>0.0</td>\n",
              "    </tr>\n",
              "    <tr>\n",
              "      <th>4</th>\n",
              "      <td>1.0</td>\n",
              "      <td>0.0</td>\n",
              "      <td>0.0</td>\n",
              "      <td>0.0</td>\n",
              "      <td>0.0</td>\n",
              "      <td>0.0</td>\n",
              "      <td>1.0</td>\n",
              "      <td>0.0</td>\n",
              "    </tr>\n",
              "  </tbody>\n",
              "</table>\n",
              "</div>"
            ],
            "text/plain": [
              "   encoder__x0_Highly Effective  ...  encoder__x1_Severe Side Effects\n",
              "0                           0.0  ...                              0.0\n",
              "1                           0.0  ...                              0.0\n",
              "2                           0.0  ...                              0.0\n",
              "3                           0.0  ...                              0.0\n",
              "4                           1.0  ...                              0.0\n",
              "\n",
              "[5 rows x 8 columns]"
            ]
          },
          "metadata": {
            "tags": []
          },
          "execution_count": 133
        }
      ]
    },
    {
      "cell_type": "markdown",
      "metadata": {
        "id": "63KVGajGh3w-"
      },
      "source": [
        "# Categorical Model: Random Forest"
      ]
    },
    {
      "cell_type": "code",
      "metadata": {
        "id": "dMLHvq7lqeaB"
      },
      "source": [
        "from sklearn.model_selection import GridSearchCV\n",
        "# Create the parameter grid based on the results of random search \n",
        "param_grid = {\n",
        "    'bootstrap': [True],\n",
        "    'max_depth': [600],\n",
        "    'max_features': [5,6,7,8],\n",
        "#    'max_features':['auto', 'sqrt'],\n",
        "\n",
        "    'min_samples_leaf': [2,4,8,10,15],\n",
        "    'min_samples_split': [10,20,40,50],\n",
        "    'n_estimators': [25,50,100,200,300]\n",
        "}"
      ],
      "execution_count": null,
      "outputs": []
    },
    {
      "cell_type": "code",
      "metadata": {
        "colab": {
          "base_uri": "https://localhost:8080/"
        },
        "id": "CPRmvSJiiN6M",
        "outputId": "be46076c-60c8-45f2-a45a-c530ae182cd1"
      },
      "source": [
        "from sklearn.ensemble import RandomForestRegressor\n",
        "rf = RandomForestRegressor()\n",
        "# Instantiate the grid search model\n",
        "grid_search = GridSearchCV(estimator = rf, param_grid = param_grid, \n",
        "                          cv = 3, n_jobs = -1, verbose = 3)\n",
        "grid_search.fit(X_train, y_train)"
      ],
      "execution_count": null,
      "outputs": [
        {
          "output_type": "stream",
          "text": [
            "Fitting 3 folds for each of 400 candidates, totalling 1200 fits\n"
          ],
          "name": "stdout"
        },
        {
          "output_type": "stream",
          "text": [
            "[Parallel(n_jobs=-1)]: Using backend LokyBackend with 2 concurrent workers.\n",
            "[Parallel(n_jobs=-1)]: Done  28 tasks      | elapsed:    7.5s\n",
            "[Parallel(n_jobs=-1)]: Done 124 tasks      | elapsed:   27.0s\n",
            "[Parallel(n_jobs=-1)]: Done 284 tasks      | elapsed:  1.0min\n",
            "[Parallel(n_jobs=-1)]: Done 508 tasks      | elapsed:  2.0min\n",
            "[Parallel(n_jobs=-1)]: Done 796 tasks      | elapsed:  3.2min\n",
            "[Parallel(n_jobs=-1)]: Done 1148 tasks      | elapsed:  4.8min\n",
            "[Parallel(n_jobs=-1)]: Done 1200 out of 1200 | elapsed:  5.0min finished\n"
          ],
          "name": "stderr"
        },
        {
          "output_type": "execute_result",
          "data": {
            "text/plain": [
              "GridSearchCV(cv=3, error_score=nan,\n",
              "             estimator=RandomForestRegressor(bootstrap=True, ccp_alpha=0.0,\n",
              "                                             criterion='mse', max_depth=None,\n",
              "                                             max_features='auto',\n",
              "                                             max_leaf_nodes=None,\n",
              "                                             max_samples=None,\n",
              "                                             min_impurity_decrease=0.0,\n",
              "                                             min_impurity_split=None,\n",
              "                                             min_samples_leaf=1,\n",
              "                                             min_samples_split=2,\n",
              "                                             min_weight_fraction_leaf=0.0,\n",
              "                                             n_estimators=100, n_jobs=None,\n",
              "                                             oob_score=False, random_state=None,\n",
              "                                             verbose=0, warm_start=False),\n",
              "             iid='deprecated', n_jobs=-1,\n",
              "             param_grid={'bootstrap': [True], 'max_depth': [600],\n",
              "                         'max_features': [5, 6, 7, 8],\n",
              "                         'min_samples_leaf': [2, 4, 8, 10, 15],\n",
              "                         'min_samples_split': [10, 20, 40, 50],\n",
              "                         'n_estimators': [25, 50, 100, 200, 300]},\n",
              "             pre_dispatch='2*n_jobs', refit=True, return_train_score=False,\n",
              "             scoring=None, verbose=3)"
            ]
          },
          "metadata": {
            "tags": []
          },
          "execution_count": 135
        }
      ]
    },
    {
      "cell_type": "code",
      "metadata": {
        "id": "6_JhPCAwiWLo"
      },
      "source": [
        "model=grid_search.best_estimator_"
      ],
      "execution_count": null,
      "outputs": []
    },
    {
      "cell_type": "code",
      "metadata": {
        "colab": {
          "base_uri": "https://localhost:8080/"
        },
        "id": "XYgTpyIDdSlk",
        "outputId": "c0442ef7-3200-4e8e-ee8e-51fcc9e53497"
      },
      "source": [
        "model"
      ],
      "execution_count": null,
      "outputs": [
        {
          "output_type": "execute_result",
          "data": {
            "text/plain": [
              "RandomForestRegressor(bootstrap=True, ccp_alpha=0.0, criterion='mse',\n",
              "                      max_depth=600, max_features=6, max_leaf_nodes=None,\n",
              "                      max_samples=None, min_impurity_decrease=0.0,\n",
              "                      min_impurity_split=None, min_samples_leaf=2,\n",
              "                      min_samples_split=10, min_weight_fraction_leaf=0.0,\n",
              "                      n_estimators=25, n_jobs=None, oob_score=False,\n",
              "                      random_state=None, verbose=0, warm_start=False)"
            ]
          },
          "metadata": {
            "tags": []
          },
          "execution_count": 137
        }
      ]
    },
    {
      "cell_type": "markdown",
      "metadata": {
        "id": "z7dkhmeyiyxj"
      },
      "source": [
        "Performance"
      ]
    },
    {
      "cell_type": "code",
      "metadata": {
        "colab": {
          "base_uri": "https://localhost:8080/"
        },
        "id": "seFQxoliitTq",
        "outputId": "0b49db31-a372-41aa-99d5-3665291a6b46"
      },
      "source": [
        "def get_performance_R(model,X,y):\n",
        "  y_pred = model.predict(X)\n",
        "  from sklearn.metrics import r2_score\n",
        "  print(r2_score(y, y_pred))\n",
        "\n",
        "get_performance_R(model,X_train,y_train)\n"
      ],
      "execution_count": null,
      "outputs": [
        {
          "output_type": "stream",
          "text": [
            "0.7846241550377178\n"
          ],
          "name": "stdout"
        }
      ]
    },
    {
      "cell_type": "code",
      "metadata": {
        "colab": {
          "base_uri": "https://localhost:8080/"
        },
        "id": "3GhpyYhHoPxW",
        "outputId": "7eb37958-c5b8-4114-af28-997d8ba4233f"
      },
      "source": [
        "get_performance_R(model,X_test,y_test)\n"
      ],
      "execution_count": null,
      "outputs": [
        {
          "output_type": "stream",
          "text": [
            "0.8059652800789897\n"
          ],
          "name": "stdout"
        }
      ]
    },
    {
      "cell_type": "code",
      "metadata": {
        "colab": {
          "base_uri": "https://localhost:8080/"
        },
        "id": "-lJcRhMgkEN6",
        "outputId": "9222f35b-dbf5-48e7-ebd2-1302016a409f"
      },
      "source": [
        "X_train.columns.to_list()"
      ],
      "execution_count": null,
      "outputs": [
        {
          "output_type": "execute_result",
          "data": {
            "text/plain": [
              "['encoder__x0_Highly Effective',\n",
              " 'encoder__x0_Ineffective',\n",
              " 'encoder__x0_Marginally Effective',\n",
              " 'encoder__x0_Moderately Effective',\n",
              " 'encoder__x1_Mild Side Effects',\n",
              " 'encoder__x1_Moderate Side Effects',\n",
              " 'encoder__x1_No Side Effects',\n",
              " 'encoder__x1_Severe Side Effects']"
            ]
          },
          "metadata": {
            "tags": []
          },
          "execution_count": 140
        }
      ]
    },
    {
      "cell_type": "code",
      "metadata": {
        "colab": {
          "base_uri": "https://localhost:8080/"
        },
        "id": "_ZQ_4YAfj8Ui",
        "outputId": "ccbdaee8-9394-477e-ab8d-75cf84a8b2da"
      },
      "source": [
        "for name, score in zip(X_train.columns.to_list(), model.feature_importances_):\n",
        "  print(name, score)"
      ],
      "execution_count": null,
      "outputs": [
        {
          "output_type": "stream",
          "text": [
            "encoder__x0_Highly Effective 0.22013692018290795\n",
            "encoder__x0_Ineffective 0.33291039512074355\n",
            "encoder__x0_Marginally Effective 0.0847554350876031\n",
            "encoder__x0_Moderately Effective 0.03955506563407701\n",
            "encoder__x1_Mild Side Effects 0.08449597225219169\n",
            "encoder__x1_Moderate Side Effects 0.057888195576809236\n",
            "encoder__x1_No Side Effects 0.049793740279940386\n",
            "encoder__x1_Severe Side Effects 0.13046427586572712\n"
          ],
          "name": "stdout"
        }
      ]
    },
    {
      "cell_type": "markdown",
      "metadata": {
        "id": "ch606IrpZXYe"
      },
      "source": [
        "# Merged Prediction"
      ]
    },
    {
      "cell_type": "code",
      "metadata": {
        "id": "-3ITjI96ZaQH"
      },
      "source": [
        ""
      ],
      "execution_count": null,
      "outputs": []
    }
  ]
}