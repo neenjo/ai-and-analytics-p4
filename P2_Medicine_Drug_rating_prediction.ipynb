{
  "nbformat": 4,
  "nbformat_minor": 0,
  "metadata": {
    "colab": {
      "name": "P2 Medicine Drug rating prediction.ipynb",
      "provenance": [],
      "collapsed_sections": [
        "RUXAubgjYX71",
        "yP36c7j2sMy-",
        "HMuQ8M8QQL4H",
        "6ZXUZtDSf15O",
        "uy-TIvTYK7V4",
        "yvEDKeLVHaUt",
        "l_RDcUJkQl3f",
        "B0S9ggvbtQmx",
        "63KVGajGh3w-"
      ],
      "toc_visible": true,
      "authorship_tag": "ABX9TyNk2kbjtNXcN77oDPQ5LWtA",
      "include_colab_link": true
    },
    "kernelspec": {
      "display_name": "Python 3",
      "name": "python3"
    }
  },
  "cells": [
    {
      "cell_type": "markdown",
      "metadata": {
        "id": "view-in-github",
        "colab_type": "text"
      },
      "source": [
        "<a href=\"https://colab.research.google.com/github/neenjo/ai-and-analytics-p4/blob/main/P2_Medicine_Drug_rating_prediction.ipynb\" target=\"_parent\"><img src=\"https://colab.research.google.com/assets/colab-badge.svg\" alt=\"Open In Colab\"/></a>"
      ]
    },
    {
      "cell_type": "markdown",
      "metadata": {
        "id": "btf-eT1hQXka"
      },
      "source": [
        "Data Source Citation:\n",
        "Felix Gräßer, Surya Kallumadi, Hagen Malberg, and Sebastian Zaunseder. 2018. Aspect-Based Sentiment Analysis of Drug Reviews Applying Cross-Domain and Cross-Data Learning. In Proceedings of the 2018 International Conference on Digital Health (DH '18). ACM, New York, NY, USA, 121-125. DOI:\n",
        "*italicized text*\n"
      ]
    },
    {
      "cell_type": "markdown",
      "metadata": {
        "id": "RUXAubgjYX71"
      },
      "source": [
        "# Loader"
      ]
    },
    {
      "cell_type": "markdown",
      "metadata": {
        "id": "YdjDyweySgd1"
      },
      "source": [
        "Loading Data from Google Drive"
      ]
    },
    {
      "cell_type": "code",
      "metadata": {
        "id": "9eqCI8abBl_t"
      },
      "source": [
        "from numpy.random import seed\n",
        "seed(1)"
      ],
      "execution_count": null,
      "outputs": []
    },
    {
      "cell_type": "markdown",
      "metadata": {
        "id": "-eQraLsBO4C8"
      },
      "source": [
        "Replace with data loading of your preference.\n",
        "\n"
      ]
    },
    {
      "cell_type": "code",
      "metadata": {
        "colab": {
          "base_uri": "https://localhost:8080/"
        },
        "id": "o-0pBwn2SgFY",
        "outputId": "72b18d38-cd5e-4a80-e853-1f1548d901b7"
      },
      "source": [
        "from google.colab import drive\n",
        "drive.mount('/content/drive')"
      ],
      "execution_count": 1,
      "outputs": [
        {
          "output_type": "stream",
          "text": [
            "Mounted at /content/drive\n"
          ],
          "name": "stdout"
        }
      ]
    },
    {
      "cell_type": "code",
      "metadata": {
        "colab": {
          "base_uri": "https://localhost:8080/"
        },
        "id": "FwlTMzaKwuhk",
        "outputId": "50e73a33-e4af-42c8-8522-fa846c58fa6f"
      },
      "source": [
        "#Download this on first time use\n",
        "import nltk\n",
        "\n",
        "nltk.download('stopwords')"
      ],
      "execution_count": 2,
      "outputs": [
        {
          "output_type": "stream",
          "text": [
            "[nltk_data] Downloading package stopwords to /root/nltk_data...\n",
            "[nltk_data]   Unzipping corpora/stopwords.zip.\n"
          ],
          "name": "stdout"
        },
        {
          "output_type": "execute_result",
          "data": {
            "text/plain": [
              "True"
            ]
          },
          "metadata": {
            "tags": []
          },
          "execution_count": 2
        }
      ]
    },
    {
      "cell_type": "markdown",
      "metadata": {
        "id": "1WUittiTRJ3F"
      },
      "source": [
        "Reading Data"
      ]
    },
    {
      "cell_type": "code",
      "metadata": {
        "id": "wCn8faZ2qQXd"
      },
      "source": [
        "path=\"/content/drive/My Drive/Study/s2 2020/Research Project Personal/Research Project/Data/drugLib_raw/drugLibTrain_raw.tsv\""
      ],
      "execution_count": 3,
      "outputs": []
    },
    {
      "cell_type": "code",
      "metadata": {
        "id": "-KoLwhTiM7MQ"
      },
      "source": [
        "import pandas as pd\n",
        "raw_df=pd.read_csv(path,sep='\\t')"
      ],
      "execution_count": 4,
      "outputs": []
    },
    {
      "cell_type": "code",
      "metadata": {
        "colab": {
          "base_uri": "https://localhost:8080/",
          "height": 306
        },
        "id": "65-jUu9KSelo",
        "outputId": "65b4e18d-3e7b-49ea-f694-f6b2f7ea68e6"
      },
      "source": [
        "raw_df.head()"
      ],
      "execution_count": 5,
      "outputs": [
        {
          "output_type": "execute_result",
          "data": {
            "text/html": [
              "<div>\n",
              "<style scoped>\n",
              "    .dataframe tbody tr th:only-of-type {\n",
              "        vertical-align: middle;\n",
              "    }\n",
              "\n",
              "    .dataframe tbody tr th {\n",
              "        vertical-align: top;\n",
              "    }\n",
              "\n",
              "    .dataframe thead th {\n",
              "        text-align: right;\n",
              "    }\n",
              "</style>\n",
              "<table border=\"1\" class=\"dataframe\">\n",
              "  <thead>\n",
              "    <tr style=\"text-align: right;\">\n",
              "      <th></th>\n",
              "      <th>Unnamed: 0</th>\n",
              "      <th>urlDrugName</th>\n",
              "      <th>rating</th>\n",
              "      <th>effectiveness</th>\n",
              "      <th>sideEffects</th>\n",
              "      <th>condition</th>\n",
              "      <th>benefitsReview</th>\n",
              "      <th>sideEffectsReview</th>\n",
              "      <th>commentsReview</th>\n",
              "    </tr>\n",
              "  </thead>\n",
              "  <tbody>\n",
              "    <tr>\n",
              "      <th>0</th>\n",
              "      <td>2202</td>\n",
              "      <td>enalapril</td>\n",
              "      <td>4</td>\n",
              "      <td>Highly Effective</td>\n",
              "      <td>Mild Side Effects</td>\n",
              "      <td>management of congestive heart failure</td>\n",
              "      <td>slowed the progression of left ventricular dys...</td>\n",
              "      <td>cough, hypotension , proteinuria, impotence , ...</td>\n",
              "      <td>monitor blood pressure , weight and asses for ...</td>\n",
              "    </tr>\n",
              "    <tr>\n",
              "      <th>1</th>\n",
              "      <td>3117</td>\n",
              "      <td>ortho-tri-cyclen</td>\n",
              "      <td>1</td>\n",
              "      <td>Highly Effective</td>\n",
              "      <td>Severe Side Effects</td>\n",
              "      <td>birth prevention</td>\n",
              "      <td>Although this type of birth control has more c...</td>\n",
              "      <td>Heavy Cycle, Cramps, Hot Flashes, Fatigue, Lon...</td>\n",
              "      <td>I Hate This Birth Control, I Would Not Suggest...</td>\n",
              "    </tr>\n",
              "    <tr>\n",
              "      <th>2</th>\n",
              "      <td>1146</td>\n",
              "      <td>ponstel</td>\n",
              "      <td>10</td>\n",
              "      <td>Highly Effective</td>\n",
              "      <td>No Side Effects</td>\n",
              "      <td>menstrual cramps</td>\n",
              "      <td>I was used to having cramps so badly that they...</td>\n",
              "      <td>Heavier bleeding and clotting than normal.</td>\n",
              "      <td>I took 2 pills at the onset of my menstrual cr...</td>\n",
              "    </tr>\n",
              "    <tr>\n",
              "      <th>3</th>\n",
              "      <td>3947</td>\n",
              "      <td>prilosec</td>\n",
              "      <td>3</td>\n",
              "      <td>Marginally Effective</td>\n",
              "      <td>Mild Side Effects</td>\n",
              "      <td>acid reflux</td>\n",
              "      <td>The acid reflux went away for a few months aft...</td>\n",
              "      <td>Constipation, dry mouth and some mild dizzines...</td>\n",
              "      <td>I was given Prilosec prescription at a dose of...</td>\n",
              "    </tr>\n",
              "    <tr>\n",
              "      <th>4</th>\n",
              "      <td>1951</td>\n",
              "      <td>lyrica</td>\n",
              "      <td>2</td>\n",
              "      <td>Marginally Effective</td>\n",
              "      <td>Severe Side Effects</td>\n",
              "      <td>fibromyalgia</td>\n",
              "      <td>I think that the Lyrica was starting to help w...</td>\n",
              "      <td>I felt extremely drugged and dopey.  Could not...</td>\n",
              "      <td>See above</td>\n",
              "    </tr>\n",
              "  </tbody>\n",
              "</table>\n",
              "</div>"
            ],
            "text/plain": [
              "   Unnamed: 0  ...                                     commentsReview\n",
              "0        2202  ...  monitor blood pressure , weight and asses for ...\n",
              "1        3117  ...  I Hate This Birth Control, I Would Not Suggest...\n",
              "2        1146  ...  I took 2 pills at the onset of my menstrual cr...\n",
              "3        3947  ...  I was given Prilosec prescription at a dose of...\n",
              "4        1951  ...                                          See above\n",
              "\n",
              "[5 rows x 9 columns]"
            ]
          },
          "metadata": {
            "tags": []
          },
          "execution_count": 5
        }
      ]
    },
    {
      "cell_type": "markdown",
      "metadata": {
        "id": "yP36c7j2sMy-"
      },
      "source": [
        "# Feature Selection"
      ]
    },
    {
      "cell_type": "code",
      "metadata": {
        "id": "X-UiDGLUsgGq"
      },
      "source": [
        "basic_df=raw_df.iloc[:,[2,3,4,8]]"
      ],
      "execution_count": 6,
      "outputs": []
    },
    {
      "cell_type": "code",
      "metadata": {
        "colab": {
          "base_uri": "https://localhost:8080/",
          "height": 0
        },
        "id": "ELoYyqdHw5lT",
        "outputId": "23e846e3-db58-4e04-91e8-9dc28cdd2332"
      },
      "source": [
        "basic_df.head(-5)"
      ],
      "execution_count": 7,
      "outputs": [
        {
          "output_type": "execute_result",
          "data": {
            "text/html": [
              "<div>\n",
              "<style scoped>\n",
              "    .dataframe tbody tr th:only-of-type {\n",
              "        vertical-align: middle;\n",
              "    }\n",
              "\n",
              "    .dataframe tbody tr th {\n",
              "        vertical-align: top;\n",
              "    }\n",
              "\n",
              "    .dataframe thead th {\n",
              "        text-align: right;\n",
              "    }\n",
              "</style>\n",
              "<table border=\"1\" class=\"dataframe\">\n",
              "  <thead>\n",
              "    <tr style=\"text-align: right;\">\n",
              "      <th></th>\n",
              "      <th>rating</th>\n",
              "      <th>effectiveness</th>\n",
              "      <th>sideEffects</th>\n",
              "      <th>commentsReview</th>\n",
              "    </tr>\n",
              "  </thead>\n",
              "  <tbody>\n",
              "    <tr>\n",
              "      <th>0</th>\n",
              "      <td>4</td>\n",
              "      <td>Highly Effective</td>\n",
              "      <td>Mild Side Effects</td>\n",
              "      <td>monitor blood pressure , weight and asses for ...</td>\n",
              "    </tr>\n",
              "    <tr>\n",
              "      <th>1</th>\n",
              "      <td>1</td>\n",
              "      <td>Highly Effective</td>\n",
              "      <td>Severe Side Effects</td>\n",
              "      <td>I Hate This Birth Control, I Would Not Suggest...</td>\n",
              "    </tr>\n",
              "    <tr>\n",
              "      <th>2</th>\n",
              "      <td>10</td>\n",
              "      <td>Highly Effective</td>\n",
              "      <td>No Side Effects</td>\n",
              "      <td>I took 2 pills at the onset of my menstrual cr...</td>\n",
              "    </tr>\n",
              "    <tr>\n",
              "      <th>3</th>\n",
              "      <td>3</td>\n",
              "      <td>Marginally Effective</td>\n",
              "      <td>Mild Side Effects</td>\n",
              "      <td>I was given Prilosec prescription at a dose of...</td>\n",
              "    </tr>\n",
              "    <tr>\n",
              "      <th>4</th>\n",
              "      <td>2</td>\n",
              "      <td>Marginally Effective</td>\n",
              "      <td>Severe Side Effects</td>\n",
              "      <td>See above</td>\n",
              "    </tr>\n",
              "    <tr>\n",
              "      <th>...</th>\n",
              "      <td>...</td>\n",
              "      <td>...</td>\n",
              "      <td>...</td>\n",
              "      <td>...</td>\n",
              "    </tr>\n",
              "    <tr>\n",
              "      <th>3097</th>\n",
              "      <td>8</td>\n",
              "      <td>Considerably Effective</td>\n",
              "      <td>No Side Effects</td>\n",
              "      <td>I take one pill in the morning, and one at night.</td>\n",
              "    </tr>\n",
              "    <tr>\n",
              "      <th>3098</th>\n",
              "      <td>10</td>\n",
              "      <td>Highly Effective</td>\n",
              "      <td>No Side Effects</td>\n",
              "      <td>My son had been having terrible problems with ...</td>\n",
              "    </tr>\n",
              "    <tr>\n",
              "      <th>3099</th>\n",
              "      <td>8</td>\n",
              "      <td>Considerably Effective</td>\n",
              "      <td>Moderate Side Effects</td>\n",
              "      <td>The patient was diagnosed with ADHD after desc...</td>\n",
              "    </tr>\n",
              "    <tr>\n",
              "      <th>3100</th>\n",
              "      <td>7</td>\n",
              "      <td>Considerably Effective</td>\n",
              "      <td>Mild Side Effects</td>\n",
              "      <td>I started with a low dose, then increased the ...</td>\n",
              "    </tr>\n",
              "    <tr>\n",
              "      <th>3101</th>\n",
              "      <td>8</td>\n",
              "      <td>Considerably Effective</td>\n",
              "      <td>No Side Effects</td>\n",
              "      <td>To reduce pain generated by nerve irritation d...</td>\n",
              "    </tr>\n",
              "  </tbody>\n",
              "</table>\n",
              "<p>3102 rows × 4 columns</p>\n",
              "</div>"
            ],
            "text/plain": [
              "      rating  ...                                     commentsReview\n",
              "0          4  ...  monitor blood pressure , weight and asses for ...\n",
              "1          1  ...  I Hate This Birth Control, I Would Not Suggest...\n",
              "2         10  ...  I took 2 pills at the onset of my menstrual cr...\n",
              "3          3  ...  I was given Prilosec prescription at a dose of...\n",
              "4          2  ...                                          See above\n",
              "...      ...  ...                                                ...\n",
              "3097       8  ...  I take one pill in the morning, and one at night.\n",
              "3098      10  ...  My son had been having terrible problems with ...\n",
              "3099       8  ...  The patient was diagnosed with ADHD after desc...\n",
              "3100       7  ...  I started with a low dose, then increased the ...\n",
              "3101       8  ...  To reduce pain generated by nerve irritation d...\n",
              "\n",
              "[3102 rows x 4 columns]"
            ]
          },
          "metadata": {
            "tags": []
          },
          "execution_count": 7
        }
      ]
    },
    {
      "cell_type": "markdown",
      "metadata": {
        "id": "CPTeZ-6Rf6mx"
      },
      "source": [
        "DIsplaying Count"
      ]
    },
    {
      "cell_type": "code",
      "metadata": {
        "colab": {
          "base_uri": "https://localhost:8080/"
        },
        "id": "ADLmFctxjVRb",
        "outputId": "0638709b-62d7-4803-8f1a-ef322fd2f1e7"
      },
      "source": [
        "basic_df['effectiveness'].value_counts()"
      ],
      "execution_count": 8,
      "outputs": [
        {
          "output_type": "execute_result",
          "data": {
            "text/plain": [
              "Highly Effective          1330\n",
              "Considerably Effective     928\n",
              "Moderately Effective       415\n",
              "Ineffective                247\n",
              "Marginally Effective       187\n",
              "Name: effectiveness, dtype: int64"
            ]
          },
          "metadata": {
            "tags": []
          },
          "execution_count": 8
        }
      ]
    },
    {
      "cell_type": "code",
      "metadata": {
        "colab": {
          "base_uri": "https://localhost:8080/"
        },
        "id": "JYNqwf_DgDTl",
        "outputId": "358ac511-8902-488c-87ad-927b170a242d"
      },
      "source": [
        "basic_df['sideEffects'].value_counts()"
      ],
      "execution_count": 9,
      "outputs": [
        {
          "output_type": "execute_result",
          "data": {
            "text/plain": [
              "Mild Side Effects                1019\n",
              "No Side Effects                   930\n",
              "Moderate Side Effects             614\n",
              "Severe Side Effects               369\n",
              "Extremely Severe Side Effects     175\n",
              "Name: sideEffects, dtype: int64"
            ]
          },
          "metadata": {
            "tags": []
          },
          "execution_count": 9
        }
      ]
    },
    {
      "cell_type": "code",
      "metadata": {
        "id": "0EDbx3vhyjxt"
      },
      "source": [
        "#basic_df['condition'].value_counts()"
      ],
      "execution_count": 10,
      "outputs": []
    },
    {
      "cell_type": "code",
      "metadata": {
        "colab": {
          "base_uri": "https://localhost:8080/"
        },
        "id": "FzLOINS2Ufs4",
        "outputId": "4fd4124e-4496-4be4-d1a5-b01949309344"
      },
      "source": [
        "basic_df['commentsReview'].value_counts()"
      ],
      "execution_count": 11,
      "outputs": [
        {
          "output_type": "execute_result",
          "data": {
            "text/plain": [
              "none                                                                                                                                                                                                                                                                                                             6\n",
              "None                                                                                                                                                                                                                                                                                                             4\n",
              "See above                                                                                                                                                                                                                                                                                                        3\n",
              "One tablet once a day                                                                                                                                                                                                                                                                                            3\n",
              "see above                                                                                                                                                                                                                                                                                                        3\n",
              "                                                                                                                                                                                                                                                                                                                ..\n",
              "Was originally prescribed medication by psychiatrist, continued prescription from GP after cessation of psychiatric treatment                                                                                                                                                                                    1\n",
              "take motrin 800mg, 1 three times a day as needed for arthritis pain                                                                                                                                                                                                                                              1\n",
              "Treatment was initiated by a general practictioner for self-reported tiredness and panic attacks. The next appointment was in two weeks. Since there were no continuing side effects, and the drug seemed effective, we decided to continue it for at least 6 months. I have now been taking it for 3 months.    1\n",
              "I take the pre-prepared 50 mg. injection once a week subcutaneously, usually either stomach, or loose skin beneath left tricep.                                                                                                                                                                                  1\n",
              "I took omnicef orally for 10 days.  After the clostridium difficil was diagnosed, I had to start a new course of drugs which had to be repeated before the new infection/condition was cured.                                                                                                                    1\n",
              "Name: commentsReview, Length: 3047, dtype: int64"
            ]
          },
          "metadata": {
            "tags": []
          },
          "execution_count": 11
        }
      ]
    },
    {
      "cell_type": "code",
      "metadata": {
        "colab": {
          "base_uri": "https://localhost:8080/"
        },
        "id": "CGYNklbCVPui",
        "outputId": "deef0742-c987-442a-8d69-19504190fd3a"
      },
      "source": [
        "basic_df.shape"
      ],
      "execution_count": 12,
      "outputs": [
        {
          "output_type": "execute_result",
          "data": {
            "text/plain": [
              "(3107, 4)"
            ]
          },
          "metadata": {
            "tags": []
          },
          "execution_count": 12
        }
      ]
    },
    {
      "cell_type": "markdown",
      "metadata": {
        "id": "M65K2ebtVnN4"
      },
      "source": [
        "Dropping all rows which has see above"
      ]
    },
    {
      "cell_type": "code",
      "metadata": {
        "id": "0lz58D9jUin3"
      },
      "source": [
        "basic_df=basic_df.drop(basic_df[basic_df['commentsReview']==\"see above\"].index)"
      ],
      "execution_count": 13,
      "outputs": []
    },
    {
      "cell_type": "code",
      "metadata": {
        "colab": {
          "base_uri": "https://localhost:8080/"
        },
        "id": "3FYCRmstW0l3",
        "outputId": "d378cfd9-a37a-43d1-dc7e-526a9843b951"
      },
      "source": [
        "basic_df.shape"
      ],
      "execution_count": 14,
      "outputs": [
        {
          "output_type": "execute_result",
          "data": {
            "text/plain": [
              "(3104, 4)"
            ]
          },
          "metadata": {
            "tags": []
          },
          "execution_count": 14
        }
      ]
    },
    {
      "cell_type": "markdown",
      "metadata": {
        "id": "zETYu8R_W2sG"
      },
      "source": [
        "3 rows deleted"
      ]
    },
    {
      "cell_type": "markdown",
      "metadata": {
        "id": "MPb1Y8jjWDKt"
      },
      "source": [
        "Need to create a Pipeline for all the following steps"
      ]
    },
    {
      "cell_type": "markdown",
      "metadata": {
        "id": "8fhY7WQlHaUx"
      },
      "source": [
        "Categorising review ratings as **Negative 0 and Positive 1**"
      ]
    },
    {
      "cell_type": "code",
      "metadata": {
        "colab": {
          "base_uri": "https://localhost:8080/"
        },
        "id": "2L6Yq_TrHaUx",
        "outputId": "be25659f-260d-4c24-f1c5-922e7c8836e5"
      },
      "source": [
        "def rank_bin(array):\n",
        "  y_rank = []\n",
        "  for i in array:\n",
        "    if i <= 5: # Negative Rating Cut Off (Inclusive)\n",
        "      y_rank.append(0)\n",
        "#    elif i >= 7: # Positive Rating Cut Off (Inclusive)\n",
        "#      y_rank.append(2)\n",
        "    else:  # Neutral Rating Cut off \n",
        "      y_rank.append(1)\n",
        "  return y_rank\n",
        "\n",
        "basic_df[\"rank_bin\"] = rank_bin(basic_df[\"rating\"])\n",
        "basic_df.rank_bin.value_counts() "
      ],
      "execution_count": 15,
      "outputs": [
        {
          "output_type": "execute_result",
          "data": {
            "text/plain": [
              "1    2285\n",
              "0     819\n",
              "Name: rank_bin, dtype: int64"
            ]
          },
          "metadata": {
            "tags": []
          },
          "execution_count": 15
        }
      ]
    },
    {
      "cell_type": "code",
      "metadata": {
        "colab": {
          "base_uri": "https://localhost:8080/",
          "height": 0
        },
        "id": "xH_I9T4uHaUx",
        "outputId": "76472df3-d0ca-4389-92ee-65a141539643"
      },
      "source": [
        "basic_df.head()"
      ],
      "execution_count": 16,
      "outputs": [
        {
          "output_type": "execute_result",
          "data": {
            "text/html": [
              "<div>\n",
              "<style scoped>\n",
              "    .dataframe tbody tr th:only-of-type {\n",
              "        vertical-align: middle;\n",
              "    }\n",
              "\n",
              "    .dataframe tbody tr th {\n",
              "        vertical-align: top;\n",
              "    }\n",
              "\n",
              "    .dataframe thead th {\n",
              "        text-align: right;\n",
              "    }\n",
              "</style>\n",
              "<table border=\"1\" class=\"dataframe\">\n",
              "  <thead>\n",
              "    <tr style=\"text-align: right;\">\n",
              "      <th></th>\n",
              "      <th>rating</th>\n",
              "      <th>effectiveness</th>\n",
              "      <th>sideEffects</th>\n",
              "      <th>commentsReview</th>\n",
              "      <th>rank_bin</th>\n",
              "    </tr>\n",
              "  </thead>\n",
              "  <tbody>\n",
              "    <tr>\n",
              "      <th>0</th>\n",
              "      <td>4</td>\n",
              "      <td>Highly Effective</td>\n",
              "      <td>Mild Side Effects</td>\n",
              "      <td>monitor blood pressure , weight and asses for ...</td>\n",
              "      <td>0</td>\n",
              "    </tr>\n",
              "    <tr>\n",
              "      <th>1</th>\n",
              "      <td>1</td>\n",
              "      <td>Highly Effective</td>\n",
              "      <td>Severe Side Effects</td>\n",
              "      <td>I Hate This Birth Control, I Would Not Suggest...</td>\n",
              "      <td>0</td>\n",
              "    </tr>\n",
              "    <tr>\n",
              "      <th>2</th>\n",
              "      <td>10</td>\n",
              "      <td>Highly Effective</td>\n",
              "      <td>No Side Effects</td>\n",
              "      <td>I took 2 pills at the onset of my menstrual cr...</td>\n",
              "      <td>1</td>\n",
              "    </tr>\n",
              "    <tr>\n",
              "      <th>3</th>\n",
              "      <td>3</td>\n",
              "      <td>Marginally Effective</td>\n",
              "      <td>Mild Side Effects</td>\n",
              "      <td>I was given Prilosec prescription at a dose of...</td>\n",
              "      <td>0</td>\n",
              "    </tr>\n",
              "    <tr>\n",
              "      <th>4</th>\n",
              "      <td>2</td>\n",
              "      <td>Marginally Effective</td>\n",
              "      <td>Severe Side Effects</td>\n",
              "      <td>See above</td>\n",
              "      <td>0</td>\n",
              "    </tr>\n",
              "  </tbody>\n",
              "</table>\n",
              "</div>"
            ],
            "text/plain": [
              "   rating  ... rank_bin\n",
              "0       4  ...        0\n",
              "1       1  ...        0\n",
              "2      10  ...        1\n",
              "3       3  ...        0\n",
              "4       2  ...        0\n",
              "\n",
              "[5 rows x 5 columns]"
            ]
          },
          "metadata": {
            "tags": []
          },
          "execution_count": 16
        }
      ]
    },
    {
      "cell_type": "markdown",
      "metadata": {
        "id": "KgJ4xb8_Xjan"
      },
      "source": [
        "Train Test Split with Stratisfied sampling"
      ]
    },
    {
      "cell_type": "code",
      "metadata": {
        "colab": {
          "base_uri": "https://localhost:8080/"
        },
        "id": "d2FdgipzXsBS",
        "outputId": "6ec8145f-fb18-4b80-fa4c-5082671d26e2"
      },
      "source": [
        "basic_df[\"rank_bin\"].value_counts(normalize=True)"
      ],
      "execution_count": 17,
      "outputs": [
        {
          "output_type": "execute_result",
          "data": {
            "text/plain": [
              "1    0.736147\n",
              "0    0.263853\n",
              "Name: rank_bin, dtype: float64"
            ]
          },
          "metadata": {
            "tags": []
          },
          "execution_count": 17
        }
      ]
    },
    {
      "cell_type": "markdown",
      "metadata": {
        "id": "IEk8bo-aYbKV"
      },
      "source": [
        "Resetting Index"
      ]
    },
    {
      "cell_type": "code",
      "metadata": {
        "id": "QZWyWoC2YZcN"
      },
      "source": [
        "basic_df.reset_index(drop=True, inplace=True)"
      ],
      "execution_count": 18,
      "outputs": []
    },
    {
      "cell_type": "code",
      "metadata": {
        "id": "jJ4DmVQFXAZK"
      },
      "source": [
        "from sklearn.model_selection import StratifiedShuffleSplit\n",
        "\n",
        "split = StratifiedShuffleSplit(n_splits=1, test_size=0.3, random_state=42)\n",
        "for train_index, test_index in split.split(basic_df, basic_df['rank_bin']):\n",
        "    strat_train_set = basic_df.loc[train_index]\n",
        "    strat_test_set = basic_df.loc[test_index]"
      ],
      "execution_count": 19,
      "outputs": []
    },
    {
      "cell_type": "code",
      "metadata": {
        "colab": {
          "base_uri": "https://localhost:8080/"
        },
        "id": "Qclv8bMcYOo4",
        "outputId": "81fed7a5-7801-48e7-c1c3-7d1905d03200"
      },
      "source": [
        "strat_train_set[\"rank_bin\"].value_counts(normalize=True)"
      ],
      "execution_count": 20,
      "outputs": [
        {
          "output_type": "execute_result",
          "data": {
            "text/plain": [
              "1    0.736188\n",
              "0    0.263812\n",
              "Name: rank_bin, dtype: float64"
            ]
          },
          "metadata": {
            "tags": []
          },
          "execution_count": 20
        }
      ]
    },
    {
      "cell_type": "code",
      "metadata": {
        "colab": {
          "base_uri": "https://localhost:8080/"
        },
        "id": "Tb49At4xYhzR",
        "outputId": "73e24a7a-e48d-476a-c06e-87a2c398ef24"
      },
      "source": [
        "strat_test_set[\"rank_bin\"].value_counts(normalize=True)"
      ],
      "execution_count": 21,
      "outputs": [
        {
          "output_type": "execute_result",
          "data": {
            "text/plain": [
              "1    0.736052\n",
              "0    0.263948\n",
              "Name: rank_bin, dtype: float64"
            ]
          },
          "metadata": {
            "tags": []
          },
          "execution_count": 21
        }
      ]
    },
    {
      "cell_type": "markdown",
      "metadata": {
        "id": "ofunZqUhYt3r"
      },
      "source": [
        "Thus the ratio of rank_bin is same in both train and test data"
      ]
    },
    {
      "cell_type": "code",
      "metadata": {
        "id": "UlW0Va7fYoBf"
      },
      "source": [
        ""
      ],
      "execution_count": 21,
      "outputs": []
    },
    {
      "cell_type": "markdown",
      "metadata": {
        "id": "HMuQ8M8QQL4H"
      },
      "source": [
        "# Classification Performance"
      ]
    },
    {
      "cell_type": "code",
      "metadata": {
        "id": "VPpj-yG5bsMY"
      },
      "source": [
        "def get_performance_class(model,X,y):\n",
        "  y_pred = model.predict(X)\n",
        "  y_pred=get_category(y_pred)\n",
        "  from sklearn.metrics import confusion_matrix\n",
        "  print(confusion_matrix(y, y_pred))\n",
        "  from sklearn.metrics import roc_auc_score\n",
        "  print(roc_auc_score(y, y_pred))\n",
        "  from sklearn.metrics import classification_report\n",
        "  print(classification_report(y, y_pred))\n",
        "  return roc_auc_score(y, y_pred)"
      ],
      "execution_count": 22,
      "outputs": []
    },
    {
      "cell_type": "markdown",
      "metadata": {
        "id": "6ZXUZtDSf15O"
      },
      "source": [
        "# Custom Drug StopWords"
      ]
    },
    {
      "cell_type": "code",
      "metadata": {
        "id": "E5Kievk8f493"
      },
      "source": [
        "\n",
        "drug_stopwords=raw_df['urlDrugName'].value_counts().index.values\n"
      ],
      "execution_count": 23,
      "outputs": []
    },
    {
      "cell_type": "code",
      "metadata": {
        "colab": {
          "base_uri": "https://localhost:8080/"
        },
        "id": "fe0UpzRvhmhc",
        "outputId": "00361dcb-f483-4a67-9c7c-2c149409e304"
      },
      "source": [
        "drug_stopwords"
      ],
      "execution_count": 24,
      "outputs": [
        {
          "output_type": "execute_result",
          "data": {
            "text/plain": [
              "array(['lexapro', 'prozac', 'zoloft', 'retin-a', 'propecia', 'paxil',\n",
              "       'synthroid', 'cymbalta', 'effexor', 'doxycycline', 'chantix',\n",
              "       'wellbutrin', 'neurontin', 'ambien', 'lipitor', 'lamictal',\n",
              "       'effexor-xr', 'accutane', 'nexium', 'imitrex', 'renova',\n",
              "       'adipex-p', 'topamax', 'differin', 'flonase', 'vyvanse', 'xanax',\n",
              "       'zyrtec', 'wellbutrin-xl', 'seroquel', 'retin-a-micro', 'cipro',\n",
              "       'valtrex', 'tramadol', 'nuvaring', 'provigil', 'lyrica',\n",
              "       'citalopram', 'prevacid', 'singulair', 'prinivil', 'levoxyl',\n",
              "       'flexeril', 'allegra', 'augmentin', 'prednisone', 'spironolactone',\n",
              "       'seasonique', 'elavil', 'celebrex', 'minocycline', 'claritin',\n",
              "       'prilosec', 'lunesta', 'premarin', 'ortho-tri-cyclen', 'prempro',\n",
              "       'yasmin', 'metformin', 'vicodin', 'amoxil', 'mobic', 'avita',\n",
              "       'protonix', 'zomig', 'adderall', 'tazorac', 'metrogel', 'naproxen',\n",
              "       'lamisil', 'ativan', 'strattera', 'celexa', 'biaxin', 'ultram',\n",
              "       'crestor', 'methotrexate', 'motrin', 'zithromax', 'voltaren',\n",
              "       'tri-luma', 'klonopin', 'oxycodone', 'valium', 'wellbutrin-sr',\n",
              "       'concerta', 'norvasc', 'ambien-cr', 'fosamax', 'zyban', 'zocor',\n",
              "       'clonazepam', 'lumigan', 'keflex', 'proscar', 'zegerid',\n",
              "       'albuterol', 'remicade', 'enbrel', 'armour-thyroid', 'lorazepam',\n",
              "       'sarafem', 'meridia', 'zovirax', 'humira', 'lamotrigine',\n",
              "       'percocet', 'diclofenac', 'desyrel', 'alprazolam', 'macrobid',\n",
              "       'doryx', 'elidel', 'acyclovir', 'xyrem', 'claripel-cream',\n",
              "       'nortriptyline', 'tetracycline', 'diazepam', 'climara', 'levaquin',\n",
              "       'pristiq', 'oxycontin', 'nasonex', 'tamiflu', 'tirosint', 'zofran',\n",
              "       'dispermox', 'xenical', 'aricept', 'vivelle-dot', 'zmax', 'maxalt',\n",
              "       'depo-provera', 'adderall-xr', 'niaspan', 'sotret', 'actonel',\n",
              "       'botox', 'tylenol', 'zantac', 'oracea', 'evista', 'estrace',\n",
              "       'advair-diskus', 'ritalin', 'aldara', 'byetta', 'flagyl', 'cialis',\n",
              "       'requip', 'metronidazole', 'omnicef', 'trazodone', 'avelox',\n",
              "       'clindamycin', 'mirtazapine', 'vagifem', 'innofem', 'erythromycin',\n",
              "       'restasis', 'risperdal', 'solodyn', 'coumadin', 'aldactone',\n",
              "       'diovan', 'methadone', 'lortab', 'avage', 'atenolol', 'seasonale',\n",
              "       'fluconazole', 'zyprexa', 'remeron', 'abilify', 'advair-hfa',\n",
              "       'tenormin', 'symbicort', 'glucophage', 'hyzaar', 'inderal',\n",
              "       'prednisolone', 'keppra', 'mirapex', 'asacol', 'finacea',\n",
              "       'panixine-disperdose', 'plavix', 'vasotec', 'duragesic',\n",
              "       'ultracet', 'selegiline', 'detrol-la', 'provera', 'levitra',\n",
              "       'latisse', 'relpax', 'proquin-xr', 'fiorinal', 'diflucan',\n",
              "       'micardis', 'cytomel', 'ecotrin', 'duac', 'sulfasalazine',\n",
              "       'protopic', 'sumatriptan', 'soma', 'lithium-carbonate',\n",
              "       'fexofenadine', 'pentasa', 'divigel', 'relafen', 'nuvigil',\n",
              "       'zyrtec-d', 'buspar', 'triaz', 'paxil-cr', 'benicar', 'restoril',\n",
              "       'ortho-tri-cyclen-lo', 'alendronate', 'atarax', 'aciphex',\n",
              "       'dilaudid', 'clarinex', 'toradol', 'carac', 'naprosyn', 'tegretol',\n",
              "       'vytorin', 'femring', 'ditropan', 'noroxin', 'levothroid', 'coreg',\n",
              "       'baclofen', 'hydrochlorothiazide', 'nitrofurantoin', 'ranitidine',\n",
              "       'estratest', 'cozaar', 'prometrium', 'septra', 'flomax', 'reglan',\n",
              "       'viagra', 'imodium', 'cleocin', 'fioricet', 'malarone', 'nolvadex',\n",
              "       'minocin', 'fluvoxamine', 'emsam', 'copaxone', 'sonata',\n",
              "       'dexedrine', 'grifulvin-v', 'boniva', 'nasacort', 'allegra-d',\n",
              "       'parlodel', 'deltasone', 'serzone', 'aromasin', 'toprol-xl',\n",
              "       'delestrogen', 'temovate', 'nystatin', 'dilantin', 'enalapril',\n",
              "       'dostinex', 'cosopt', 'angeliq', 'lotrel', 'ventolin-hfa',\n",
              "       'lupron', 'sular', 'efudex', 'ziana', 'compazine', 'propranolol',\n",
              "       'clomid', 'symbyax', 'neoprofen', 'triphasil', 'tussionex',\n",
              "       'anafranil', 'betamethasone', 'premarin-vaginal', 'clobex',\n",
              "       'benzaclin', 'ampicillin', 'minoxidil', 'amitiza', 'lopressor',\n",
              "       'avodart', 'depakote', 'oxazepam', 'methimazole', 'cyproheptadine',\n",
              "       'arava', 'ponstel', 'skelaxin', 'catapres', 'galzin', 'soltamox',\n",
              "       'seroquel-xr', 'ortho-novum', 'avapro', 'imuran', 'triamcinolone',\n",
              "       'azelex', 'klaron', 'ceclor', 'dysport', 'climara-pro',\n",
              "       'clarithromycin', 'levora', 'atacand', 'benadryl',\n",
              "       'dextroamphetamine', 'morphine', 'suboxone', 'metoprolol',\n",
              "       'niacor', 'periogard', 'permapen', 'darvocet-n', 'adcirca',\n",
              "       'hytrin', 'vivelle', 'ketorolac', 'glucophage-xr', 'fentanyl',\n",
              "       'eulexin', 'lo-ovral', 'polymyxin-b', 'trilipix', 'levetiracetam',\n",
              "       'aloprim', 'tequin', 'amphetamine', 'estring', 'lidocaine',\n",
              "       'fosinopril', 'caduet', 'betaseron', 'estrasorb', 'ultram-er',\n",
              "       'cefzil', 'lodine', 'dovonex', 'desonide', 'enablex', 'vicoprofen',\n",
              "       'rebif', 'xyzal', 'tofranil-pm', 'dextrostat', 'vesicare', 'ziac',\n",
              "       'medroxyprogesterone', 'cardura-xl', 'hyoscyamine',\n",
              "       'phendimetrazine', 'penicillin-v', 'bystolic', 'locoid-lipocream',\n",
              "       'rhinocort', 'arthrotec', 'warfarin', 'topicort',\n",
              "       'zovirax-topical', 'bisoprolol', 'buprenorphine', 'mercaptopurine',\n",
              "       'isoniazid', 'ortho-evra', 'amerge', 'haldol', 'zyvox',\n",
              "       'oxycodone-and-acetaminophen', 'geodon', 'flovent', 'ribavirin',\n",
              "       'erythra-derm', 'follistim', 'arimidex', 'oxybutynin', 'tapazole',\n",
              "       'mevacor', 'alesse', 'hydrocortisone', 'norpramin', 'aygestin',\n",
              "       'clindamycin-topical', 'benicar-hct', 'proair-hfa', 'naltrexone',\n",
              "       'tambocor', 'nasarel', 'elocon', 'bactroban', 'fortaz',\n",
              "       'pilocarpine', 'quibron-t', 'accolate', 'ketoconazole',\n",
              "       'ritalin-la', 'tobramycin', 'pravachol', 'periostat', 'plendil',\n",
              "       'fosamax-plus-d', 'lac-hydrin', 'exelon', 'actos', 'doxepin',\n",
              "       'nasacort-aq', 'prograf', 'femara', 'lotronex', 'penlac', 'pepcid',\n",
              "       'kenalog', 'nizoral-shampoo', 'trental', 'inspra', 'saizen',\n",
              "       'spiriva', 'metformin-extended-release', 'prochlorperazine',\n",
              "       'evoclin', 'meperidine', 'lidex', 'danazol', 'estrostep-fe',\n",
              "       'aralen', 'pamelor', 'tekturna', 'trimethoprim',\n",
              "       'risperdal-consta', 'asmanex', 'zestoretic', 'proloprim', 'nardil',\n",
              "       'trileptal', 'hydrocodone-and-acetaminophen', 'frova',\n",
              "       'progesterone', 'elmiron', 'axert', 'nizoral', 'xalatan',\n",
              "       'dapsone', 'actiq', 'clobetasol', 'atripla', 'corgard', 'lantus',\n",
              "       'metrolotion', 'sulindac', 'lasix', 'lybrel', 'baraclude',\n",
              "       'miralax', 'vioxx', 'gonal-f-rff', 'dicyclomine', 'omnitrope',\n",
              "       'androgel', 'depakene', 'baciim', 'diltiazem', 'bactrim-ds',\n",
              "       'sanctura-xr', 'phenergan', 'accupril', 'mirena', 'cataflam',\n",
              "       'vaniqa', 'detrol', 'dexamethasone', 'trimethobenzamide',\n",
              "       'cardura', 'azopt', 'antivert', 'rifadin', 'azasan', 'vigamox',\n",
              "       'azor', 'xanax-xr', 'aczone', 'qvar', 'metoclopramide', 'vistaril',\n",
              "       'halcion', 'omacor', 'femhrt', 'tarka'], dtype=object)"
            ]
          },
          "metadata": {
            "tags": []
          },
          "execution_count": 24
        }
      ]
    },
    {
      "cell_type": "markdown",
      "metadata": {
        "id": "uy-TIvTYK7V4"
      },
      "source": [
        "# Text Preprocessing"
      ]
    },
    {
      "cell_type": "code",
      "metadata": {
        "colab": {
          "base_uri": "https://localhost:8080/"
        },
        "id": "GNgoj7qIRYDV",
        "outputId": "703e823e-8d22-4957-a579-75901aeb82d4"
      },
      "source": [
        "import re,unicodedata,inflect\n",
        "import nltk\n",
        "from nltk.corpus import stopwords\n",
        "from nltk.stem import SnowballStemmer\n",
        "\n",
        "from nltk import word_tokenize, sent_tokenize\n",
        "from nltk.corpus import stopwords\n",
        "from nltk.stem import LancasterStemmer, WordNetLemmatizer\n",
        "\n",
        "# Regex for removing non-alphanumeric characters and spaces\n",
        "remove_special_char = re.compile('r[^a-z\\d]',re.IGNORECASE)\n",
        "\n",
        "# Regex to replace all numerics\n",
        "replace_numerics = re.compile(r'\\d+',re.IGNORECASE)\n",
        "\n",
        "# F&#K Unicode Emojis\n",
        "emoji_pattern = re.compile(\"[\"\n",
        "                       u\"\\U0001F600-\\U0001F64F\"  # emoticons\n",
        "                       u\"\\U0001F300-\\U0001F5FF\"  # symbols & pictographs\n",
        "                       u\"\\U0001F680-\\U0001F6FF\"  # transport & map symbols\n",
        "                       u\"\\U0001F1E0-\\U0001F1FF\"  # flags (iOS)\n",
        "                       u\"\\U00002702-\\U000027B0\"\n",
        "                       u\"\\U000024C2-\\U0001F251\"\n",
        "                       u\"\\U0001f926-\\U0001f937\"\n",
        "                       u\"\\u200d\"\n",
        "                       u\"\\u2640-\\u2642\" \n",
        "                       \"]+\", flags=re.UNICODE)\n",
        "\n",
        "# Load NLTK stop words\n",
        "stop_words = nltk.corpus.stopwords.words('english')\n",
        "print (\"NLTK stopword list length: \",len(stop_words),'words')\n",
        "\n",
        "# Add custom drug stopwords\n",
        "stop_words.extend(drug_stopwords)\n",
        "print (\"Added custom stopwords\")\n",
        "print (\"New stopword list length: \",len(stop_words),'words')\n",
        "\n",
        "\n",
        "\n",
        "#######################################################\n",
        "#NORMALIZER, RUNS IN PREPROCESS\n",
        "def remove_non_ascii(words):\n",
        "    \"\"\"Remove non-ASCII characters from list of tokenized words\"\"\"\n",
        "    new_words = []\n",
        "    for word in words:\n",
        "        new_word = unicodedata.normalize('NFKD', word).encode('ascii', 'ignore').decode('utf-8', 'ignore')\n",
        "        new_words.append(new_word)\n",
        "    return new_words\n",
        "\n",
        "def remove_punctuation(words):\n",
        "    \"\"\"Remove punctuation from list of tokenized words\"\"\"\n",
        "    new_words = []\n",
        "    for word in words:\n",
        "        new_word = re.sub(r'[^\\w\\s]', '', word)\n",
        "        if new_word != '':\n",
        "            new_words.append(new_word)\n",
        "    return new_words\n",
        "\n",
        "def replace_numbers(words):\n",
        "    \"\"\"Replace all interger occurrences in list of tokenized words with textual representation\"\"\"\n",
        "    p = inflect.engine()\n",
        "    new_words = []\n",
        "    for word in words:\n",
        "      if word.isdigit():\n",
        "        new_word = p.number_to_words(word)\n",
        "        new_words.append(word)\n",
        "      else:\n",
        "        new_words.append(word)\n",
        "    return new_words\n",
        "\n",
        "\n",
        "def remove_stopwords(words):\n",
        "    \"\"\"Remove stop words from list of tokenized words\"\"\"\n",
        "    new_words = []\n",
        "    for word in words:\n",
        "        if word not in stop_words:\n",
        "            new_words.append(word)\n",
        "    return new_words\n",
        "\n",
        "def normalize(words):\n",
        "    words = remove_non_ascii(words)\n",
        "    words = remove_punctuation(words)\n",
        "    words = replace_numbers(words)\n",
        "    words = remove_stopwords(words)\n",
        "    return words\n",
        "\n",
        "\n",
        "# Define Text-PreProcessing function\n",
        "#################################################################\n",
        "def preprocess_text(text, remove_stopwords = True, perform_stemming = True):\n",
        "    #first clean text then go to lowercase and split.\n",
        "    text = text.replace(r\"http\\S+\", \"\")\n",
        "    text = text.replace(r\"http\", \"\")\n",
        "    text = text.replace(r\"(\\d)\", \"\")\n",
        "    text = text.replace(r\"@\\S+\", \"\")\n",
        "    text = text.replace(r\"@\", \"at\")\n",
        "#    text = remove_special_char.sub('', text)\n",
        "    text = replace_numerics.sub(' n ', text)\n",
        "    text = emoji_pattern.sub('', text)\n",
        "    text = text.replace( r\"(\\\\r)|(\\\\n)|(\\\\t)|(\\\\f)|(\\.)|(\\;)|(\\:)|(\\!)|(\\')|(\\?)|(\\,)|(\\\")|(\\()|(\\))|(\\[)|(\\])|(&#039;)|(\\d\\s)|(\\d)|(\\/)\",\"\")\n",
        "    text = text.replace( r\"(\\-)|(\\\\)|(\\s{2,})\",\" \")\n",
        "    text = text.replace(r\"[^A-Za-z0-9(),!?@\\'\\`\\\"\\_\\n]\", \" \")\n",
        "    text = text.replace(r\"(&#n;)\", \"\")\n",
        "    text = text.replace(' +',' ')\n",
        "    \n",
        "    # per/wordprocessing\n",
        "    textlist = text.lower().split()\n",
        "    textlist = normalize(textlist)\n",
        "    text = ' '.join(textlist) \n",
        "    #stopword removal (nltk + custom drug stopwords)\n",
        "#    if(remove_stopwords):\n",
        "#        textlist = [word for word in textlist if word not in stop_words]\n",
        "  \n",
        "    # stemming  \n",
        "    if(perform_stemming):\n",
        "        text = text.split()\n",
        "        stemmer = SnowballStemmer('english')\n",
        "        stemmed_words = [stemmer.stem(word) for word in text]\n",
        "        text = ' '.join(stemmed_words)\n",
        "        \n",
        "    return text\n",
        "\n",
        "\n"
      ],
      "execution_count": 25,
      "outputs": [
        {
          "output_type": "stream",
          "text": [
            "NLTK stopword list length:  179 words\n",
            "Added custom stopwords\n",
            "New stopword list length:  681 words\n"
          ],
          "name": "stdout"
        }
      ]
    },
    {
      "cell_type": "code",
      "metadata": {
        "colab": {
          "base_uri": "https://localhost:8080/",
          "height": 0
        },
        "id": "aLavlCfxl9i_",
        "outputId": "0b144e5e-ad55-4b28-d5d0-113c0363dfdc"
      },
      "source": [
        "preprocess_text(\"I was taking 100mg ambien each night for loudly\")"
      ],
      "execution_count": 26,
      "outputs": [
        {
          "output_type": "execute_result",
          "data": {
            "application/vnd.google.colaboratory.intrinsic+json": {
              "type": "string"
            },
            "text/plain": [
              "'take n mg night loud'"
            ]
          },
          "metadata": {
            "tags": []
          },
          "execution_count": 26
        }
      ]
    },
    {
      "cell_type": "code",
      "metadata": {
        "colab": {
          "base_uri": "https://localhost:8080/"
        },
        "id": "J0So3eEuf0dC",
        "outputId": "4e9de25d-e3c3-4669-955f-eab8c80e5772"
      },
      "source": [
        "stop_words"
      ],
      "execution_count": 27,
      "outputs": [
        {
          "output_type": "execute_result",
          "data": {
            "text/plain": [
              "['i',\n",
              " 'me',\n",
              " 'my',\n",
              " 'myself',\n",
              " 'we',\n",
              " 'our',\n",
              " 'ours',\n",
              " 'ourselves',\n",
              " 'you',\n",
              " \"you're\",\n",
              " \"you've\",\n",
              " \"you'll\",\n",
              " \"you'd\",\n",
              " 'your',\n",
              " 'yours',\n",
              " 'yourself',\n",
              " 'yourselves',\n",
              " 'he',\n",
              " 'him',\n",
              " 'his',\n",
              " 'himself',\n",
              " 'she',\n",
              " \"she's\",\n",
              " 'her',\n",
              " 'hers',\n",
              " 'herself',\n",
              " 'it',\n",
              " \"it's\",\n",
              " 'its',\n",
              " 'itself',\n",
              " 'they',\n",
              " 'them',\n",
              " 'their',\n",
              " 'theirs',\n",
              " 'themselves',\n",
              " 'what',\n",
              " 'which',\n",
              " 'who',\n",
              " 'whom',\n",
              " 'this',\n",
              " 'that',\n",
              " \"that'll\",\n",
              " 'these',\n",
              " 'those',\n",
              " 'am',\n",
              " 'is',\n",
              " 'are',\n",
              " 'was',\n",
              " 'were',\n",
              " 'be',\n",
              " 'been',\n",
              " 'being',\n",
              " 'have',\n",
              " 'has',\n",
              " 'had',\n",
              " 'having',\n",
              " 'do',\n",
              " 'does',\n",
              " 'did',\n",
              " 'doing',\n",
              " 'a',\n",
              " 'an',\n",
              " 'the',\n",
              " 'and',\n",
              " 'but',\n",
              " 'if',\n",
              " 'or',\n",
              " 'because',\n",
              " 'as',\n",
              " 'until',\n",
              " 'while',\n",
              " 'of',\n",
              " 'at',\n",
              " 'by',\n",
              " 'for',\n",
              " 'with',\n",
              " 'about',\n",
              " 'against',\n",
              " 'between',\n",
              " 'into',\n",
              " 'through',\n",
              " 'during',\n",
              " 'before',\n",
              " 'after',\n",
              " 'above',\n",
              " 'below',\n",
              " 'to',\n",
              " 'from',\n",
              " 'up',\n",
              " 'down',\n",
              " 'in',\n",
              " 'out',\n",
              " 'on',\n",
              " 'off',\n",
              " 'over',\n",
              " 'under',\n",
              " 'again',\n",
              " 'further',\n",
              " 'then',\n",
              " 'once',\n",
              " 'here',\n",
              " 'there',\n",
              " 'when',\n",
              " 'where',\n",
              " 'why',\n",
              " 'how',\n",
              " 'all',\n",
              " 'any',\n",
              " 'both',\n",
              " 'each',\n",
              " 'few',\n",
              " 'more',\n",
              " 'most',\n",
              " 'other',\n",
              " 'some',\n",
              " 'such',\n",
              " 'no',\n",
              " 'nor',\n",
              " 'not',\n",
              " 'only',\n",
              " 'own',\n",
              " 'same',\n",
              " 'so',\n",
              " 'than',\n",
              " 'too',\n",
              " 'very',\n",
              " 's',\n",
              " 't',\n",
              " 'can',\n",
              " 'will',\n",
              " 'just',\n",
              " 'don',\n",
              " \"don't\",\n",
              " 'should',\n",
              " \"should've\",\n",
              " 'now',\n",
              " 'd',\n",
              " 'll',\n",
              " 'm',\n",
              " 'o',\n",
              " 're',\n",
              " 've',\n",
              " 'y',\n",
              " 'ain',\n",
              " 'aren',\n",
              " \"aren't\",\n",
              " 'couldn',\n",
              " \"couldn't\",\n",
              " 'didn',\n",
              " \"didn't\",\n",
              " 'doesn',\n",
              " \"doesn't\",\n",
              " 'hadn',\n",
              " \"hadn't\",\n",
              " 'hasn',\n",
              " \"hasn't\",\n",
              " 'haven',\n",
              " \"haven't\",\n",
              " 'isn',\n",
              " \"isn't\",\n",
              " 'ma',\n",
              " 'mightn',\n",
              " \"mightn't\",\n",
              " 'mustn',\n",
              " \"mustn't\",\n",
              " 'needn',\n",
              " \"needn't\",\n",
              " 'shan',\n",
              " \"shan't\",\n",
              " 'shouldn',\n",
              " \"shouldn't\",\n",
              " 'wasn',\n",
              " \"wasn't\",\n",
              " 'weren',\n",
              " \"weren't\",\n",
              " 'won',\n",
              " \"won't\",\n",
              " 'wouldn',\n",
              " \"wouldn't\",\n",
              " 'lexapro',\n",
              " 'prozac',\n",
              " 'zoloft',\n",
              " 'retin-a',\n",
              " 'propecia',\n",
              " 'paxil',\n",
              " 'synthroid',\n",
              " 'cymbalta',\n",
              " 'effexor',\n",
              " 'doxycycline',\n",
              " 'chantix',\n",
              " 'wellbutrin',\n",
              " 'neurontin',\n",
              " 'ambien',\n",
              " 'lipitor',\n",
              " 'lamictal',\n",
              " 'effexor-xr',\n",
              " 'accutane',\n",
              " 'nexium',\n",
              " 'imitrex',\n",
              " 'renova',\n",
              " 'adipex-p',\n",
              " 'topamax',\n",
              " 'differin',\n",
              " 'flonase',\n",
              " 'vyvanse',\n",
              " 'xanax',\n",
              " 'zyrtec',\n",
              " 'wellbutrin-xl',\n",
              " 'seroquel',\n",
              " 'retin-a-micro',\n",
              " 'cipro',\n",
              " 'valtrex',\n",
              " 'tramadol',\n",
              " 'nuvaring',\n",
              " 'provigil',\n",
              " 'lyrica',\n",
              " 'citalopram',\n",
              " 'prevacid',\n",
              " 'singulair',\n",
              " 'prinivil',\n",
              " 'levoxyl',\n",
              " 'flexeril',\n",
              " 'allegra',\n",
              " 'augmentin',\n",
              " 'prednisone',\n",
              " 'spironolactone',\n",
              " 'seasonique',\n",
              " 'elavil',\n",
              " 'celebrex',\n",
              " 'minocycline',\n",
              " 'claritin',\n",
              " 'prilosec',\n",
              " 'lunesta',\n",
              " 'premarin',\n",
              " 'ortho-tri-cyclen',\n",
              " 'prempro',\n",
              " 'yasmin',\n",
              " 'metformin',\n",
              " 'vicodin',\n",
              " 'amoxil',\n",
              " 'mobic',\n",
              " 'avita',\n",
              " 'protonix',\n",
              " 'zomig',\n",
              " 'adderall',\n",
              " 'tazorac',\n",
              " 'metrogel',\n",
              " 'naproxen',\n",
              " 'lamisil',\n",
              " 'ativan',\n",
              " 'strattera',\n",
              " 'celexa',\n",
              " 'biaxin',\n",
              " 'ultram',\n",
              " 'crestor',\n",
              " 'methotrexate',\n",
              " 'motrin',\n",
              " 'zithromax',\n",
              " 'voltaren',\n",
              " 'tri-luma',\n",
              " 'klonopin',\n",
              " 'oxycodone',\n",
              " 'valium',\n",
              " 'wellbutrin-sr',\n",
              " 'concerta',\n",
              " 'norvasc',\n",
              " 'ambien-cr',\n",
              " 'fosamax',\n",
              " 'zyban',\n",
              " 'zocor',\n",
              " 'clonazepam',\n",
              " 'lumigan',\n",
              " 'keflex',\n",
              " 'proscar',\n",
              " 'zegerid',\n",
              " 'albuterol',\n",
              " 'remicade',\n",
              " 'enbrel',\n",
              " 'armour-thyroid',\n",
              " 'lorazepam',\n",
              " 'sarafem',\n",
              " 'meridia',\n",
              " 'zovirax',\n",
              " 'humira',\n",
              " 'lamotrigine',\n",
              " 'percocet',\n",
              " 'diclofenac',\n",
              " 'desyrel',\n",
              " 'alprazolam',\n",
              " 'macrobid',\n",
              " 'doryx',\n",
              " 'elidel',\n",
              " 'acyclovir',\n",
              " 'xyrem',\n",
              " 'claripel-cream',\n",
              " 'nortriptyline',\n",
              " 'tetracycline',\n",
              " 'diazepam',\n",
              " 'climara',\n",
              " 'levaquin',\n",
              " 'pristiq',\n",
              " 'oxycontin',\n",
              " 'nasonex',\n",
              " 'tamiflu',\n",
              " 'tirosint',\n",
              " 'zofran',\n",
              " 'dispermox',\n",
              " 'xenical',\n",
              " 'aricept',\n",
              " 'vivelle-dot',\n",
              " 'zmax',\n",
              " 'maxalt',\n",
              " 'depo-provera',\n",
              " 'adderall-xr',\n",
              " 'niaspan',\n",
              " 'sotret',\n",
              " 'actonel',\n",
              " 'botox',\n",
              " 'tylenol',\n",
              " 'zantac',\n",
              " 'oracea',\n",
              " 'evista',\n",
              " 'estrace',\n",
              " 'advair-diskus',\n",
              " 'ritalin',\n",
              " 'aldara',\n",
              " 'byetta',\n",
              " 'flagyl',\n",
              " 'cialis',\n",
              " 'requip',\n",
              " 'metronidazole',\n",
              " 'omnicef',\n",
              " 'trazodone',\n",
              " 'avelox',\n",
              " 'clindamycin',\n",
              " 'mirtazapine',\n",
              " 'vagifem',\n",
              " 'innofem',\n",
              " 'erythromycin',\n",
              " 'restasis',\n",
              " 'risperdal',\n",
              " 'solodyn',\n",
              " 'coumadin',\n",
              " 'aldactone',\n",
              " 'diovan',\n",
              " 'methadone',\n",
              " 'lortab',\n",
              " 'avage',\n",
              " 'atenolol',\n",
              " 'seasonale',\n",
              " 'fluconazole',\n",
              " 'zyprexa',\n",
              " 'remeron',\n",
              " 'abilify',\n",
              " 'advair-hfa',\n",
              " 'tenormin',\n",
              " 'symbicort',\n",
              " 'glucophage',\n",
              " 'hyzaar',\n",
              " 'inderal',\n",
              " 'prednisolone',\n",
              " 'keppra',\n",
              " 'mirapex',\n",
              " 'asacol',\n",
              " 'finacea',\n",
              " 'panixine-disperdose',\n",
              " 'plavix',\n",
              " 'vasotec',\n",
              " 'duragesic',\n",
              " 'ultracet',\n",
              " 'selegiline',\n",
              " 'detrol-la',\n",
              " 'provera',\n",
              " 'levitra',\n",
              " 'latisse',\n",
              " 'relpax',\n",
              " 'proquin-xr',\n",
              " 'fiorinal',\n",
              " 'diflucan',\n",
              " 'micardis',\n",
              " 'cytomel',\n",
              " 'ecotrin',\n",
              " 'duac',\n",
              " 'sulfasalazine',\n",
              " 'protopic',\n",
              " 'sumatriptan',\n",
              " 'soma',\n",
              " 'lithium-carbonate',\n",
              " 'fexofenadine',\n",
              " 'pentasa',\n",
              " 'divigel',\n",
              " 'relafen',\n",
              " 'nuvigil',\n",
              " 'zyrtec-d',\n",
              " 'buspar',\n",
              " 'triaz',\n",
              " 'paxil-cr',\n",
              " 'benicar',\n",
              " 'restoril',\n",
              " 'ortho-tri-cyclen-lo',\n",
              " 'alendronate',\n",
              " 'atarax',\n",
              " 'aciphex',\n",
              " 'dilaudid',\n",
              " 'clarinex',\n",
              " 'toradol',\n",
              " 'carac',\n",
              " 'naprosyn',\n",
              " 'tegretol',\n",
              " 'vytorin',\n",
              " 'femring',\n",
              " 'ditropan',\n",
              " 'noroxin',\n",
              " 'levothroid',\n",
              " 'coreg',\n",
              " 'baclofen',\n",
              " 'hydrochlorothiazide',\n",
              " 'nitrofurantoin',\n",
              " 'ranitidine',\n",
              " 'estratest',\n",
              " 'cozaar',\n",
              " 'prometrium',\n",
              " 'septra',\n",
              " 'flomax',\n",
              " 'reglan',\n",
              " 'viagra',\n",
              " 'imodium',\n",
              " 'cleocin',\n",
              " 'fioricet',\n",
              " 'malarone',\n",
              " 'nolvadex',\n",
              " 'minocin',\n",
              " 'fluvoxamine',\n",
              " 'emsam',\n",
              " 'copaxone',\n",
              " 'sonata',\n",
              " 'dexedrine',\n",
              " 'grifulvin-v',\n",
              " 'boniva',\n",
              " 'nasacort',\n",
              " 'allegra-d',\n",
              " 'parlodel',\n",
              " 'deltasone',\n",
              " 'serzone',\n",
              " 'aromasin',\n",
              " 'toprol-xl',\n",
              " 'delestrogen',\n",
              " 'temovate',\n",
              " 'nystatin',\n",
              " 'dilantin',\n",
              " 'enalapril',\n",
              " 'dostinex',\n",
              " 'cosopt',\n",
              " 'angeliq',\n",
              " 'lotrel',\n",
              " 'ventolin-hfa',\n",
              " 'lupron',\n",
              " 'sular',\n",
              " 'efudex',\n",
              " 'ziana',\n",
              " 'compazine',\n",
              " 'propranolol',\n",
              " 'clomid',\n",
              " 'symbyax',\n",
              " 'neoprofen',\n",
              " 'triphasil',\n",
              " 'tussionex',\n",
              " 'anafranil',\n",
              " 'betamethasone',\n",
              " 'premarin-vaginal',\n",
              " 'clobex',\n",
              " 'benzaclin',\n",
              " 'ampicillin',\n",
              " 'minoxidil',\n",
              " 'amitiza',\n",
              " 'lopressor',\n",
              " 'avodart',\n",
              " 'depakote',\n",
              " 'oxazepam',\n",
              " 'methimazole',\n",
              " 'cyproheptadine',\n",
              " 'arava',\n",
              " 'ponstel',\n",
              " 'skelaxin',\n",
              " 'catapres',\n",
              " 'galzin',\n",
              " 'soltamox',\n",
              " 'seroquel-xr',\n",
              " 'ortho-novum',\n",
              " 'avapro',\n",
              " 'imuran',\n",
              " 'triamcinolone',\n",
              " 'azelex',\n",
              " 'klaron',\n",
              " 'ceclor',\n",
              " 'dysport',\n",
              " 'climara-pro',\n",
              " 'clarithromycin',\n",
              " 'levora',\n",
              " 'atacand',\n",
              " 'benadryl',\n",
              " 'dextroamphetamine',\n",
              " 'morphine',\n",
              " 'suboxone',\n",
              " 'metoprolol',\n",
              " 'niacor',\n",
              " 'periogard',\n",
              " 'permapen',\n",
              " 'darvocet-n',\n",
              " 'adcirca',\n",
              " 'hytrin',\n",
              " 'vivelle',\n",
              " 'ketorolac',\n",
              " 'glucophage-xr',\n",
              " 'fentanyl',\n",
              " 'eulexin',\n",
              " 'lo-ovral',\n",
              " 'polymyxin-b',\n",
              " 'trilipix',\n",
              " 'levetiracetam',\n",
              " 'aloprim',\n",
              " 'tequin',\n",
              " 'amphetamine',\n",
              " 'estring',\n",
              " 'lidocaine',\n",
              " 'fosinopril',\n",
              " 'caduet',\n",
              " 'betaseron',\n",
              " 'estrasorb',\n",
              " 'ultram-er',\n",
              " 'cefzil',\n",
              " 'lodine',\n",
              " 'dovonex',\n",
              " 'desonide',\n",
              " 'enablex',\n",
              " 'vicoprofen',\n",
              " 'rebif',\n",
              " 'xyzal',\n",
              " 'tofranil-pm',\n",
              " 'dextrostat',\n",
              " 'vesicare',\n",
              " 'ziac',\n",
              " 'medroxyprogesterone',\n",
              " 'cardura-xl',\n",
              " 'hyoscyamine',\n",
              " 'phendimetrazine',\n",
              " 'penicillin-v',\n",
              " 'bystolic',\n",
              " 'locoid-lipocream',\n",
              " 'rhinocort',\n",
              " 'arthrotec',\n",
              " 'warfarin',\n",
              " 'topicort',\n",
              " 'zovirax-topical',\n",
              " 'bisoprolol',\n",
              " 'buprenorphine',\n",
              " 'mercaptopurine',\n",
              " 'isoniazid',\n",
              " 'ortho-evra',\n",
              " 'amerge',\n",
              " 'haldol',\n",
              " 'zyvox',\n",
              " 'oxycodone-and-acetaminophen',\n",
              " 'geodon',\n",
              " 'flovent',\n",
              " 'ribavirin',\n",
              " 'erythra-derm',\n",
              " 'follistim',\n",
              " 'arimidex',\n",
              " 'oxybutynin',\n",
              " 'tapazole',\n",
              " 'mevacor',\n",
              " 'alesse',\n",
              " 'hydrocortisone',\n",
              " 'norpramin',\n",
              " 'aygestin',\n",
              " 'clindamycin-topical',\n",
              " 'benicar-hct',\n",
              " 'proair-hfa',\n",
              " 'naltrexone',\n",
              " 'tambocor',\n",
              " 'nasarel',\n",
              " 'elocon',\n",
              " 'bactroban',\n",
              " 'fortaz',\n",
              " 'pilocarpine',\n",
              " 'quibron-t',\n",
              " 'accolate',\n",
              " 'ketoconazole',\n",
              " 'ritalin-la',\n",
              " 'tobramycin',\n",
              " 'pravachol',\n",
              " 'periostat',\n",
              " 'plendil',\n",
              " 'fosamax-plus-d',\n",
              " 'lac-hydrin',\n",
              " 'exelon',\n",
              " 'actos',\n",
              " 'doxepin',\n",
              " 'nasacort-aq',\n",
              " 'prograf',\n",
              " 'femara',\n",
              " 'lotronex',\n",
              " 'penlac',\n",
              " 'pepcid',\n",
              " 'kenalog',\n",
              " 'nizoral-shampoo',\n",
              " 'trental',\n",
              " 'inspra',\n",
              " 'saizen',\n",
              " 'spiriva',\n",
              " 'metformin-extended-release',\n",
              " 'prochlorperazine',\n",
              " 'evoclin',\n",
              " 'meperidine',\n",
              " 'lidex',\n",
              " 'danazol',\n",
              " 'estrostep-fe',\n",
              " 'aralen',\n",
              " 'pamelor',\n",
              " 'tekturna',\n",
              " 'trimethoprim',\n",
              " 'risperdal-consta',\n",
              " 'asmanex',\n",
              " 'zestoretic',\n",
              " 'proloprim',\n",
              " 'nardil',\n",
              " 'trileptal',\n",
              " 'hydrocodone-and-acetaminophen',\n",
              " 'frova',\n",
              " 'progesterone',\n",
              " 'elmiron',\n",
              " 'axert',\n",
              " 'nizoral',\n",
              " 'xalatan',\n",
              " 'dapsone',\n",
              " 'actiq',\n",
              " 'clobetasol',\n",
              " 'atripla',\n",
              " 'corgard',\n",
              " 'lantus',\n",
              " 'metrolotion',\n",
              " 'sulindac',\n",
              " 'lasix',\n",
              " 'lybrel',\n",
              " 'baraclude',\n",
              " 'miralax',\n",
              " 'vioxx',\n",
              " 'gonal-f-rff',\n",
              " 'dicyclomine',\n",
              " 'omnitrope',\n",
              " 'androgel',\n",
              " 'depakene',\n",
              " 'baciim',\n",
              " 'diltiazem',\n",
              " 'bactrim-ds',\n",
              " 'sanctura-xr',\n",
              " 'phenergan',\n",
              " 'accupril',\n",
              " 'mirena',\n",
              " 'cataflam',\n",
              " 'vaniqa',\n",
              " 'detrol',\n",
              " 'dexamethasone',\n",
              " 'trimethobenzamide',\n",
              " 'cardura',\n",
              " 'azopt',\n",
              " 'antivert',\n",
              " 'rifadin',\n",
              " 'azasan',\n",
              " 'vigamox',\n",
              " 'azor',\n",
              " 'xanax-xr',\n",
              " 'aczone',\n",
              " 'qvar',\n",
              " 'metoclopramide',\n",
              " 'vistaril',\n",
              " 'halcion',\n",
              " 'omacor',\n",
              " 'femhrt',\n",
              " 'tarka']"
            ]
          },
          "metadata": {
            "tags": []
          },
          "execution_count": 27
        }
      ]
    },
    {
      "cell_type": "markdown",
      "metadata": {
        "id": "QlwcrIQPZTz1"
      },
      "source": [
        "# Predict rating Category from counts: RNN LSTM"
      ]
    },
    {
      "cell_type": "markdown",
      "metadata": {
        "id": "e4trBid87CjR"
      },
      "source": [
        "### Model Preparation"
      ]
    },
    {
      "cell_type": "markdown",
      "metadata": {
        "id": "WIUaRFPDCY9M"
      },
      "source": [
        "#### Preparation"
      ]
    },
    {
      "cell_type": "code",
      "metadata": {
        "id": "zprPVD1qHaUr"
      },
      "source": [
        "from keras.preprocessing.text import Tokenizer"
      ],
      "execution_count": 28,
      "outputs": []
    },
    {
      "cell_type": "markdown",
      "metadata": {
        "id": "Nm0I0lEAeoR3"
      },
      "source": [
        "Train review feature"
      ]
    },
    {
      "cell_type": "code",
      "metadata": {
        "colab": {
          "base_uri": "https://localhost:8080/",
          "height": 669
        },
        "id": "iV6cq8X-exQp",
        "outputId": "5dc76bd4-f5a0-4279-bdc7-ede9a413e16a"
      },
      "source": [
        "strat_train_set.head(20)"
      ],
      "execution_count": 29,
      "outputs": [
        {
          "output_type": "execute_result",
          "data": {
            "text/html": [
              "<div>\n",
              "<style scoped>\n",
              "    .dataframe tbody tr th:only-of-type {\n",
              "        vertical-align: middle;\n",
              "    }\n",
              "\n",
              "    .dataframe tbody tr th {\n",
              "        vertical-align: top;\n",
              "    }\n",
              "\n",
              "    .dataframe thead th {\n",
              "        text-align: right;\n",
              "    }\n",
              "</style>\n",
              "<table border=\"1\" class=\"dataframe\">\n",
              "  <thead>\n",
              "    <tr style=\"text-align: right;\">\n",
              "      <th></th>\n",
              "      <th>rating</th>\n",
              "      <th>effectiveness</th>\n",
              "      <th>sideEffects</th>\n",
              "      <th>commentsReview</th>\n",
              "      <th>rank_bin</th>\n",
              "    </tr>\n",
              "  </thead>\n",
              "  <tbody>\n",
              "    <tr>\n",
              "      <th>1542</th>\n",
              "      <td>10</td>\n",
              "      <td>Highly Effective</td>\n",
              "      <td>No Side Effects</td>\n",
              "      <td>I had a heart scan after experiencing exercise...</td>\n",
              "      <td>1</td>\n",
              "    </tr>\n",
              "    <tr>\n",
              "      <th>1888</th>\n",
              "      <td>9</td>\n",
              "      <td>Highly Effective</td>\n",
              "      <td>Mild Side Effects</td>\n",
              "      <td>Prescribed for adult ADD. I take one per day -...</td>\n",
              "      <td>1</td>\n",
              "    </tr>\n",
              "    <tr>\n",
              "      <th>2395</th>\n",
              "      <td>7</td>\n",
              "      <td>Moderately Effective</td>\n",
              "      <td>Moderate Side Effects</td>\n",
              "      <td>After starting at.325mg-1.5 dose and now up to...</td>\n",
              "      <td>1</td>\n",
              "    </tr>\n",
              "    <tr>\n",
              "      <th>1362</th>\n",
              "      <td>8</td>\n",
              "      <td>Considerably Effective</td>\n",
              "      <td>Mild Side Effects</td>\n",
              "      <td>Taken on a daily basis at the same time everyd...</td>\n",
              "      <td>1</td>\n",
              "    </tr>\n",
              "    <tr>\n",
              "      <th>2856</th>\n",
              "      <td>8</td>\n",
              "      <td>Considerably Effective</td>\n",
              "      <td>No Side Effects</td>\n",
              "      <td>I took it once a day.. in the beginning it wor...</td>\n",
              "      <td>1</td>\n",
              "    </tr>\n",
              "    <tr>\n",
              "      <th>730</th>\n",
              "      <td>10</td>\n",
              "      <td>Highly Effective</td>\n",
              "      <td>No Side Effects</td>\n",
              "      <td>I took in the am when nauseated, I would take ...</td>\n",
              "      <td>1</td>\n",
              "    </tr>\n",
              "    <tr>\n",
              "      <th>1368</th>\n",
              "      <td>7</td>\n",
              "      <td>Considerably Effective</td>\n",
              "      <td>Mild Side Effects</td>\n",
              "      <td>Excellent in treating GERD.</td>\n",
              "      <td>1</td>\n",
              "    </tr>\n",
              "    <tr>\n",
              "      <th>888</th>\n",
              "      <td>8</td>\n",
              "      <td>Highly Effective</td>\n",
              "      <td>Moderate Side Effects</td>\n",
              "      <td>I was put on Aromasin after 6 months on Tamoxi...</td>\n",
              "      <td>1</td>\n",
              "    </tr>\n",
              "    <tr>\n",
              "      <th>1190</th>\n",
              "      <td>7</td>\n",
              "      <td>Considerably Effective</td>\n",
              "      <td>No Side Effects</td>\n",
              "      <td>He takes a capsule in the morning and one at n...</td>\n",
              "      <td>1</td>\n",
              "    </tr>\n",
              "    <tr>\n",
              "      <th>855</th>\n",
              "      <td>1</td>\n",
              "      <td>Ineffective</td>\n",
              "      <td>Severe Side Effects</td>\n",
              "      <td>I stopped taking the medicine after side effec...</td>\n",
              "      <td>0</td>\n",
              "    </tr>\n",
              "    <tr>\n",
              "      <th>1082</th>\n",
              "      <td>9</td>\n",
              "      <td>Considerably Effective</td>\n",
              "      <td>Mild Side Effects</td>\n",
              "      <td>Before I started on the Prednisone I was sick ...</td>\n",
              "      <td>1</td>\n",
              "    </tr>\n",
              "    <tr>\n",
              "      <th>2929</th>\n",
              "      <td>9</td>\n",
              "      <td>Considerably Effective</td>\n",
              "      <td>Mild Side Effects</td>\n",
              "      <td>Adderall was prescribed for use while antidepr...</td>\n",
              "      <td>1</td>\n",
              "    </tr>\n",
              "    <tr>\n",
              "      <th>2451</th>\n",
              "      <td>8</td>\n",
              "      <td>Considerably Effective</td>\n",
              "      <td>No Side Effects</td>\n",
              "      <td>Apply the topical ketoconazole every twelve ho...</td>\n",
              "      <td>1</td>\n",
              "    </tr>\n",
              "    <tr>\n",
              "      <th>1235</th>\n",
              "      <td>2</td>\n",
              "      <td>Ineffective</td>\n",
              "      <td>Severe Side Effects</td>\n",
              "      <td>For depression take 20mg once a day. Will now ...</td>\n",
              "      <td>0</td>\n",
              "    </tr>\n",
              "    <tr>\n",
              "      <th>1009</th>\n",
              "      <td>10</td>\n",
              "      <td>Highly Effective</td>\n",
              "      <td>Mild Side Effects</td>\n",
              "      <td>Take 1 capsule by mouth three times daily for ...</td>\n",
              "      <td>1</td>\n",
              "    </tr>\n",
              "    <tr>\n",
              "      <th>2182</th>\n",
              "      <td>10</td>\n",
              "      <td>Highly Effective</td>\n",
              "      <td>No Side Effects</td>\n",
              "      <td>The radio active iodine treatment was conducte...</td>\n",
              "      <td>1</td>\n",
              "    </tr>\n",
              "    <tr>\n",
              "      <th>1840</th>\n",
              "      <td>10</td>\n",
              "      <td>Highly Effective</td>\n",
              "      <td>Mild Side Effects</td>\n",
              "      <td>I take this medicine on and off, usually for a...</td>\n",
              "      <td>1</td>\n",
              "    </tr>\n",
              "    <tr>\n",
              "      <th>2175</th>\n",
              "      <td>9</td>\n",
              "      <td>Highly Effective</td>\n",
              "      <td>Mild Side Effects</td>\n",
              "      <td>My family doctor prescribed it for panic attac...</td>\n",
              "      <td>1</td>\n",
              "    </tr>\n",
              "    <tr>\n",
              "      <th>849</th>\n",
              "      <td>8</td>\n",
              "      <td>Considerably Effective</td>\n",
              "      <td>Moderate Side Effects</td>\n",
              "      <td>Took 75 mgs once daily for about three months,...</td>\n",
              "      <td>1</td>\n",
              "    </tr>\n",
              "    <tr>\n",
              "      <th>1719</th>\n",
              "      <td>10</td>\n",
              "      <td>Highly Effective</td>\n",
              "      <td>Mild Side Effects</td>\n",
              "      <td>Prescribed for migraine relief</td>\n",
              "      <td>1</td>\n",
              "    </tr>\n",
              "  </tbody>\n",
              "</table>\n",
              "</div>"
            ],
            "text/plain": [
              "      rating  ... rank_bin\n",
              "1542      10  ...        1\n",
              "1888       9  ...        1\n",
              "2395       7  ...        1\n",
              "1362       8  ...        1\n",
              "2856       8  ...        1\n",
              "730       10  ...        1\n",
              "1368       7  ...        1\n",
              "888        8  ...        1\n",
              "1190       7  ...        1\n",
              "855        1  ...        0\n",
              "1082       9  ...        1\n",
              "2929       9  ...        1\n",
              "2451       8  ...        1\n",
              "1235       2  ...        0\n",
              "1009      10  ...        1\n",
              "2182      10  ...        1\n",
              "1840      10  ...        1\n",
              "2175       9  ...        1\n",
              "849        8  ...        1\n",
              "1719      10  ...        1\n",
              "\n",
              "[20 rows x 5 columns]"
            ]
          },
          "metadata": {
            "tags": []
          },
          "execution_count": 29
        }
      ]
    },
    {
      "cell_type": "code",
      "metadata": {
        "colab": {
          "base_uri": "https://localhost:8080/",
          "height": 419
        },
        "id": "ehfPW4HtLpo9",
        "outputId": "c73a66e1-3643-499c-f622-65c8eb87f59d"
      },
      "source": [
        "strat_test_set"
      ],
      "execution_count": 30,
      "outputs": [
        {
          "output_type": "execute_result",
          "data": {
            "text/html": [
              "<div>\n",
              "<style scoped>\n",
              "    .dataframe tbody tr th:only-of-type {\n",
              "        vertical-align: middle;\n",
              "    }\n",
              "\n",
              "    .dataframe tbody tr th {\n",
              "        vertical-align: top;\n",
              "    }\n",
              "\n",
              "    .dataframe thead th {\n",
              "        text-align: right;\n",
              "    }\n",
              "</style>\n",
              "<table border=\"1\" class=\"dataframe\">\n",
              "  <thead>\n",
              "    <tr style=\"text-align: right;\">\n",
              "      <th></th>\n",
              "      <th>rating</th>\n",
              "      <th>effectiveness</th>\n",
              "      <th>sideEffects</th>\n",
              "      <th>commentsReview</th>\n",
              "      <th>rank_bin</th>\n",
              "    </tr>\n",
              "  </thead>\n",
              "  <tbody>\n",
              "    <tr>\n",
              "      <th>214</th>\n",
              "      <td>8</td>\n",
              "      <td>Highly Effective</td>\n",
              "      <td>Moderate Side Effects</td>\n",
              "      <td>20mg daily for 3 months, taken as one pill eac...</td>\n",
              "      <td>1</td>\n",
              "    </tr>\n",
              "    <tr>\n",
              "      <th>1814</th>\n",
              "      <td>6</td>\n",
              "      <td>Considerably Effective</td>\n",
              "      <td>No Side Effects</td>\n",
              "      <td>I believe you mean the treatment of the diseas...</td>\n",
              "      <td>1</td>\n",
              "    </tr>\n",
              "    <tr>\n",
              "      <th>2347</th>\n",
              "      <td>9</td>\n",
              "      <td>Highly Effective</td>\n",
              "      <td>Mild Side Effects</td>\n",
              "      <td>the doctors started me off on high dosage and ...</td>\n",
              "      <td>1</td>\n",
              "    </tr>\n",
              "    <tr>\n",
              "      <th>3035</th>\n",
              "      <td>9</td>\n",
              "      <td>Highly Effective</td>\n",
              "      <td>Moderate Side Effects</td>\n",
              "      <td>it came in 4mg tablets that dissolved under my...</td>\n",
              "      <td>1</td>\n",
              "    </tr>\n",
              "    <tr>\n",
              "      <th>457</th>\n",
              "      <td>10</td>\n",
              "      <td>Highly Effective</td>\n",
              "      <td>No Side Effects</td>\n",
              "      <td>Take 2 tablets once per day.</td>\n",
              "      <td>1</td>\n",
              "    </tr>\n",
              "    <tr>\n",
              "      <th>...</th>\n",
              "      <td>...</td>\n",
              "      <td>...</td>\n",
              "      <td>...</td>\n",
              "      <td>...</td>\n",
              "      <td>...</td>\n",
              "    </tr>\n",
              "    <tr>\n",
              "      <th>1160</th>\n",
              "      <td>8</td>\n",
              "      <td>Highly Effective</td>\n",
              "      <td>Mild Side Effects</td>\n",
              "      <td>once a night mixed with Vit. C serum</td>\n",
              "      <td>1</td>\n",
              "    </tr>\n",
              "    <tr>\n",
              "      <th>195</th>\n",
              "      <td>10</td>\n",
              "      <td>Highly Effective</td>\n",
              "      <td>Mild Side Effects</td>\n",
              "      <td>take by mouth twice daily for 10 days</td>\n",
              "      <td>1</td>\n",
              "    </tr>\n",
              "    <tr>\n",
              "      <th>1097</th>\n",
              "      <td>10</td>\n",
              "      <td>Highly Effective</td>\n",
              "      <td>Severe Side Effects</td>\n",
              "      <td>I applied Tretinoin every evening to entire fa...</td>\n",
              "      <td>1</td>\n",
              "    </tr>\n",
              "    <tr>\n",
              "      <th>530</th>\n",
              "      <td>10</td>\n",
              "      <td>Highly Effective</td>\n",
              "      <td>Mild Side Effects</td>\n",
              "      <td>i take 50 mg tablet. one a day in the morning ...</td>\n",
              "      <td>1</td>\n",
              "    </tr>\n",
              "    <tr>\n",
              "      <th>2992</th>\n",
              "      <td>9</td>\n",
              "      <td>Considerably Effective</td>\n",
              "      <td>No Side Effects</td>\n",
              "      <td>The treatment details are simply a taking one ...</td>\n",
              "      <td>1</td>\n",
              "    </tr>\n",
              "  </tbody>\n",
              "</table>\n",
              "<p>932 rows × 5 columns</p>\n",
              "</div>"
            ],
            "text/plain": [
              "      rating  ... rank_bin\n",
              "214        8  ...        1\n",
              "1814       6  ...        1\n",
              "2347       9  ...        1\n",
              "3035       9  ...        1\n",
              "457       10  ...        1\n",
              "...      ...  ...      ...\n",
              "1160       8  ...        1\n",
              "195       10  ...        1\n",
              "1097      10  ...        1\n",
              "530       10  ...        1\n",
              "2992       9  ...        1\n",
              "\n",
              "[932 rows x 5 columns]"
            ]
          },
          "metadata": {
            "tags": []
          },
          "execution_count": 30
        }
      ]
    },
    {
      "cell_type": "code",
      "metadata": {
        "id": "kemEj1eRem-z"
      },
      "source": [
        "X_train_review_df=strat_train_set[['commentsReview','rating']]"
      ],
      "execution_count": 31,
      "outputs": []
    },
    {
      "cell_type": "code",
      "metadata": {
        "colab": {
          "base_uri": "https://localhost:8080/",
          "height": 419
        },
        "id": "4NxrrnDwfQdZ",
        "outputId": "0fb11015-5a93-404a-89d4-e83556b37e0d"
      },
      "source": [
        "X_train_review_df"
      ],
      "execution_count": 32,
      "outputs": [
        {
          "output_type": "execute_result",
          "data": {
            "text/html": [
              "<div>\n",
              "<style scoped>\n",
              "    .dataframe tbody tr th:only-of-type {\n",
              "        vertical-align: middle;\n",
              "    }\n",
              "\n",
              "    .dataframe tbody tr th {\n",
              "        vertical-align: top;\n",
              "    }\n",
              "\n",
              "    .dataframe thead th {\n",
              "        text-align: right;\n",
              "    }\n",
              "</style>\n",
              "<table border=\"1\" class=\"dataframe\">\n",
              "  <thead>\n",
              "    <tr style=\"text-align: right;\">\n",
              "      <th></th>\n",
              "      <th>commentsReview</th>\n",
              "      <th>rating</th>\n",
              "    </tr>\n",
              "  </thead>\n",
              "  <tbody>\n",
              "    <tr>\n",
              "      <th>1542</th>\n",
              "      <td>I had a heart scan after experiencing exercise...</td>\n",
              "      <td>10</td>\n",
              "    </tr>\n",
              "    <tr>\n",
              "      <th>1888</th>\n",
              "      <td>Prescribed for adult ADD. I take one per day -...</td>\n",
              "      <td>9</td>\n",
              "    </tr>\n",
              "    <tr>\n",
              "      <th>2395</th>\n",
              "      <td>After starting at.325mg-1.5 dose and now up to...</td>\n",
              "      <td>7</td>\n",
              "    </tr>\n",
              "    <tr>\n",
              "      <th>1362</th>\n",
              "      <td>Taken on a daily basis at the same time everyd...</td>\n",
              "      <td>8</td>\n",
              "    </tr>\n",
              "    <tr>\n",
              "      <th>2856</th>\n",
              "      <td>I took it once a day.. in the beginning it wor...</td>\n",
              "      <td>8</td>\n",
              "    </tr>\n",
              "    <tr>\n",
              "      <th>...</th>\n",
              "      <td>...</td>\n",
              "      <td>...</td>\n",
              "    </tr>\n",
              "    <tr>\n",
              "      <th>1669</th>\n",
              "      <td>I took 1 x 25mg per day which built up to 4 x ...</td>\n",
              "      <td>1</td>\n",
              "    </tr>\n",
              "    <tr>\n",
              "      <th>1334</th>\n",
              "      <td>I took this drug as a prophylactic treatment f...</td>\n",
              "      <td>6</td>\n",
              "    </tr>\n",
              "    <tr>\n",
              "      <th>3096</th>\n",
              "      <td>The patient was diagnosed with ADHD after desc...</td>\n",
              "      <td>8</td>\n",
              "    </tr>\n",
              "    <tr>\n",
              "      <th>1051</th>\n",
              "      <td>Please note \"treatment side effects\"</td>\n",
              "      <td>8</td>\n",
              "    </tr>\n",
              "    <tr>\n",
              "      <th>1432</th>\n",
              "      <td>My blood pressre dopped. I lost 103 lbs to dat...</td>\n",
              "      <td>10</td>\n",
              "    </tr>\n",
              "  </tbody>\n",
              "</table>\n",
              "<p>2172 rows × 2 columns</p>\n",
              "</div>"
            ],
            "text/plain": [
              "                                         commentsReview  rating\n",
              "1542  I had a heart scan after experiencing exercise...      10\n",
              "1888  Prescribed for adult ADD. I take one per day -...       9\n",
              "2395  After starting at.325mg-1.5 dose and now up to...       7\n",
              "1362  Taken on a daily basis at the same time everyd...       8\n",
              "2856  I took it once a day.. in the beginning it wor...       8\n",
              "...                                                 ...     ...\n",
              "1669  I took 1 x 25mg per day which built up to 4 x ...       1\n",
              "1334  I took this drug as a prophylactic treatment f...       6\n",
              "3096  The patient was diagnosed with ADHD after desc...       8\n",
              "1051               Please note \"treatment side effects\"       8\n",
              "1432  My blood pressre dopped. I lost 103 lbs to dat...      10\n",
              "\n",
              "[2172 rows x 2 columns]"
            ]
          },
          "metadata": {
            "tags": []
          },
          "execution_count": 32
        }
      ]
    },
    {
      "cell_type": "code",
      "metadata": {
        "colab": {
          "base_uri": "https://localhost:8080/",
          "height": 419
        },
        "id": "IqwQmwTo271X",
        "outputId": "acc9070d-cd2f-4b7b-f193-238ef96e90d3"
      },
      "source": [
        "X_train_review_df"
      ],
      "execution_count": 33,
      "outputs": [
        {
          "output_type": "execute_result",
          "data": {
            "text/html": [
              "<div>\n",
              "<style scoped>\n",
              "    .dataframe tbody tr th:only-of-type {\n",
              "        vertical-align: middle;\n",
              "    }\n",
              "\n",
              "    .dataframe tbody tr th {\n",
              "        vertical-align: top;\n",
              "    }\n",
              "\n",
              "    .dataframe thead th {\n",
              "        text-align: right;\n",
              "    }\n",
              "</style>\n",
              "<table border=\"1\" class=\"dataframe\">\n",
              "  <thead>\n",
              "    <tr style=\"text-align: right;\">\n",
              "      <th></th>\n",
              "      <th>commentsReview</th>\n",
              "      <th>rating</th>\n",
              "    </tr>\n",
              "  </thead>\n",
              "  <tbody>\n",
              "    <tr>\n",
              "      <th>1542</th>\n",
              "      <td>I had a heart scan after experiencing exercise...</td>\n",
              "      <td>10</td>\n",
              "    </tr>\n",
              "    <tr>\n",
              "      <th>1888</th>\n",
              "      <td>Prescribed for adult ADD. I take one per day -...</td>\n",
              "      <td>9</td>\n",
              "    </tr>\n",
              "    <tr>\n",
              "      <th>2395</th>\n",
              "      <td>After starting at.325mg-1.5 dose and now up to...</td>\n",
              "      <td>7</td>\n",
              "    </tr>\n",
              "    <tr>\n",
              "      <th>1362</th>\n",
              "      <td>Taken on a daily basis at the same time everyd...</td>\n",
              "      <td>8</td>\n",
              "    </tr>\n",
              "    <tr>\n",
              "      <th>2856</th>\n",
              "      <td>I took it once a day.. in the beginning it wor...</td>\n",
              "      <td>8</td>\n",
              "    </tr>\n",
              "    <tr>\n",
              "      <th>...</th>\n",
              "      <td>...</td>\n",
              "      <td>...</td>\n",
              "    </tr>\n",
              "    <tr>\n",
              "      <th>1669</th>\n",
              "      <td>I took 1 x 25mg per day which built up to 4 x ...</td>\n",
              "      <td>1</td>\n",
              "    </tr>\n",
              "    <tr>\n",
              "      <th>1334</th>\n",
              "      <td>I took this drug as a prophylactic treatment f...</td>\n",
              "      <td>6</td>\n",
              "    </tr>\n",
              "    <tr>\n",
              "      <th>3096</th>\n",
              "      <td>The patient was diagnosed with ADHD after desc...</td>\n",
              "      <td>8</td>\n",
              "    </tr>\n",
              "    <tr>\n",
              "      <th>1051</th>\n",
              "      <td>Please note \"treatment side effects\"</td>\n",
              "      <td>8</td>\n",
              "    </tr>\n",
              "    <tr>\n",
              "      <th>1432</th>\n",
              "      <td>My blood pressre dopped. I lost 103 lbs to dat...</td>\n",
              "      <td>10</td>\n",
              "    </tr>\n",
              "  </tbody>\n",
              "</table>\n",
              "<p>2172 rows × 2 columns</p>\n",
              "</div>"
            ],
            "text/plain": [
              "                                         commentsReview  rating\n",
              "1542  I had a heart scan after experiencing exercise...      10\n",
              "1888  Prescribed for adult ADD. I take one per day -...       9\n",
              "2395  After starting at.325mg-1.5 dose and now up to...       7\n",
              "1362  Taken on a daily basis at the same time everyd...       8\n",
              "2856  I took it once a day.. in the beginning it wor...       8\n",
              "...                                                 ...     ...\n",
              "1669  I took 1 x 25mg per day which built up to 4 x ...       1\n",
              "1334  I took this drug as a prophylactic treatment f...       6\n",
              "3096  The patient was diagnosed with ADHD after desc...       8\n",
              "1051               Please note \"treatment side effects\"       8\n",
              "1432  My blood pressre dopped. I lost 103 lbs to dat...      10\n",
              "\n",
              "[2172 rows x 2 columns]"
            ]
          },
          "metadata": {
            "tags": []
          },
          "execution_count": 33
        }
      ]
    },
    {
      "cell_type": "code",
      "metadata": {
        "id": "rrY5ZuqCfIcM"
      },
      "source": [
        "y_train_review_df=strat_train_set['rank_bin']"
      ],
      "execution_count": 34,
      "outputs": []
    },
    {
      "cell_type": "code",
      "metadata": {
        "colab": {
          "base_uri": "https://localhost:8080/"
        },
        "id": "a2fBM3L4fSfj",
        "outputId": "0b516f39-ac69-4f82-b541-dbc676b74a88"
      },
      "source": [
        "y_train_review_df"
      ],
      "execution_count": 35,
      "outputs": [
        {
          "output_type": "execute_result",
          "data": {
            "text/plain": [
              "1542    1\n",
              "1888    1\n",
              "2395    1\n",
              "1362    1\n",
              "2856    1\n",
              "       ..\n",
              "1669    0\n",
              "1334    1\n",
              "3096    1\n",
              "1051    1\n",
              "1432    1\n",
              "Name: rank_bin, Length: 2172, dtype: int64"
            ]
          },
          "metadata": {
            "tags": []
          },
          "execution_count": 35
        }
      ]
    },
    {
      "cell_type": "markdown",
      "metadata": {
        "id": "QNGoCcV4fnSr"
      },
      "source": [
        "Test review features"
      ]
    },
    {
      "cell_type": "code",
      "metadata": {
        "id": "STK75Hcrffir"
      },
      "source": [
        "X_test_review_df=strat_test_set[['commentsReview','rating']]"
      ],
      "execution_count": 36,
      "outputs": []
    },
    {
      "cell_type": "code",
      "metadata": {
        "colab": {
          "base_uri": "https://localhost:8080/",
          "height": 419
        },
        "id": "ju1VoaJGffi1",
        "outputId": "c8e8205f-5030-4ede-ef3b-2c6a37843105"
      },
      "source": [
        "X_test_review_df"
      ],
      "execution_count": 37,
      "outputs": [
        {
          "output_type": "execute_result",
          "data": {
            "text/html": [
              "<div>\n",
              "<style scoped>\n",
              "    .dataframe tbody tr th:only-of-type {\n",
              "        vertical-align: middle;\n",
              "    }\n",
              "\n",
              "    .dataframe tbody tr th {\n",
              "        vertical-align: top;\n",
              "    }\n",
              "\n",
              "    .dataframe thead th {\n",
              "        text-align: right;\n",
              "    }\n",
              "</style>\n",
              "<table border=\"1\" class=\"dataframe\">\n",
              "  <thead>\n",
              "    <tr style=\"text-align: right;\">\n",
              "      <th></th>\n",
              "      <th>commentsReview</th>\n",
              "      <th>rating</th>\n",
              "    </tr>\n",
              "  </thead>\n",
              "  <tbody>\n",
              "    <tr>\n",
              "      <th>214</th>\n",
              "      <td>20mg daily for 3 months, taken as one pill eac...</td>\n",
              "      <td>8</td>\n",
              "    </tr>\n",
              "    <tr>\n",
              "      <th>1814</th>\n",
              "      <td>I believe you mean the treatment of the diseas...</td>\n",
              "      <td>6</td>\n",
              "    </tr>\n",
              "    <tr>\n",
              "      <th>2347</th>\n",
              "      <td>the doctors started me off on high dosage and ...</td>\n",
              "      <td>9</td>\n",
              "    </tr>\n",
              "    <tr>\n",
              "      <th>3035</th>\n",
              "      <td>it came in 4mg tablets that dissolved under my...</td>\n",
              "      <td>9</td>\n",
              "    </tr>\n",
              "    <tr>\n",
              "      <th>457</th>\n",
              "      <td>Take 2 tablets once per day.</td>\n",
              "      <td>10</td>\n",
              "    </tr>\n",
              "    <tr>\n",
              "      <th>...</th>\n",
              "      <td>...</td>\n",
              "      <td>...</td>\n",
              "    </tr>\n",
              "    <tr>\n",
              "      <th>1160</th>\n",
              "      <td>once a night mixed with Vit. C serum</td>\n",
              "      <td>8</td>\n",
              "    </tr>\n",
              "    <tr>\n",
              "      <th>195</th>\n",
              "      <td>take by mouth twice daily for 10 days</td>\n",
              "      <td>10</td>\n",
              "    </tr>\n",
              "    <tr>\n",
              "      <th>1097</th>\n",
              "      <td>I applied Tretinoin every evening to entire fa...</td>\n",
              "      <td>10</td>\n",
              "    </tr>\n",
              "    <tr>\n",
              "      <th>530</th>\n",
              "      <td>i take 50 mg tablet. one a day in the morning ...</td>\n",
              "      <td>10</td>\n",
              "    </tr>\n",
              "    <tr>\n",
              "      <th>2992</th>\n",
              "      <td>The treatment details are simply a taking one ...</td>\n",
              "      <td>9</td>\n",
              "    </tr>\n",
              "  </tbody>\n",
              "</table>\n",
              "<p>932 rows × 2 columns</p>\n",
              "</div>"
            ],
            "text/plain": [
              "                                         commentsReview  rating\n",
              "214   20mg daily for 3 months, taken as one pill eac...       8\n",
              "1814  I believe you mean the treatment of the diseas...       6\n",
              "2347  the doctors started me off on high dosage and ...       9\n",
              "3035  it came in 4mg tablets that dissolved under my...       9\n",
              "457                        Take 2 tablets once per day.      10\n",
              "...                                                 ...     ...\n",
              "1160               once a night mixed with Vit. C serum       8\n",
              "195               take by mouth twice daily for 10 days      10\n",
              "1097  I applied Tretinoin every evening to entire fa...      10\n",
              "530   i take 50 mg tablet. one a day in the morning ...      10\n",
              "2992  The treatment details are simply a taking one ...       9\n",
              "\n",
              "[932 rows x 2 columns]"
            ]
          },
          "metadata": {
            "tags": []
          },
          "execution_count": 37
        }
      ]
    },
    {
      "cell_type": "code",
      "metadata": {
        "id": "V2fj-YtTffi2"
      },
      "source": [
        "y_test_review_df=strat_test_set['rank_bin']"
      ],
      "execution_count": 38,
      "outputs": []
    },
    {
      "cell_type": "code",
      "metadata": {
        "colab": {
          "base_uri": "https://localhost:8080/"
        },
        "id": "a07y_Lrjffi2",
        "outputId": "23d6516a-205e-41ef-8db3-0c1c37843875"
      },
      "source": [
        "y_test_review_df"
      ],
      "execution_count": 39,
      "outputs": [
        {
          "output_type": "execute_result",
          "data": {
            "text/plain": [
              "214     1\n",
              "1814    1\n",
              "2347    1\n",
              "3035    1\n",
              "457     1\n",
              "       ..\n",
              "1160    1\n",
              "195     1\n",
              "1097    1\n",
              "530     1\n",
              "2992    1\n",
              "Name: rank_bin, Length: 932, dtype: int64"
            ]
          },
          "metadata": {
            "tags": []
          },
          "execution_count": 39
        }
      ]
    },
    {
      "cell_type": "markdown",
      "metadata": {
        "id": "0vytXcuXsyQt"
      },
      "source": [
        "Preprocessing text"
      ]
    },
    {
      "cell_type": "code",
      "metadata": {
        "colab": {
          "base_uri": "https://localhost:8080/"
        },
        "id": "busBCSf10e1E",
        "outputId": "7511d394-73a5-4ab7-d049-341de846867f"
      },
      "source": [
        "#Train Data\n",
        "from tqdm import tqdm#For progress bar\n",
        "\n",
        "for i, row in tqdm(X_train_review_df.iterrows()):\n",
        "  #print(preprocess_text(str(row['commentsReview'])))\n",
        "  X_train_review_df.at[i,'commentsReview']=preprocess_text(str(row['commentsReview']),perform_stemming=False)\n",
        "#    df.at[i,'ifor'] = ifor_val"
      ],
      "execution_count": 40,
      "outputs": [
        {
          "output_type": "stream",
          "text": [
            "2172it [00:01, 1676.33it/s]\n"
          ],
          "name": "stderr"
        }
      ]
    },
    {
      "cell_type": "code",
      "metadata": {
        "colab": {
          "base_uri": "https://localhost:8080/"
        },
        "id": "nxPntuum3SnV",
        "outputId": "24bcbc91-de8e-4cde-d419-f19425ba01bf"
      },
      "source": [
        "#Test Data\n",
        "for i, row in tqdm(X_test_review_df.iterrows()):\n",
        "  #print(preprocess_text(str(row['commentsReview'])))\n",
        "  X_test_review_df.at[i,'commentsReview']=preprocess_text(str(row['commentsReview']),perform_stemming=False)\n",
        "#    df.at[i,'ifor'] = ifor_val"
      ],
      "execution_count": 41,
      "outputs": [
        {
          "output_type": "stream",
          "text": [
            "932it [00:00, 1490.51it/s]\n"
          ],
          "name": "stderr"
        }
      ]
    },
    {
      "cell_type": "code",
      "metadata": {
        "colab": {
          "base_uri": "https://localhost:8080/",
          "height": 419
        },
        "id": "_DUjgwGx24nD",
        "outputId": "df7b4829-84bb-4540-8349-0ba91b7d84ea"
      },
      "source": [
        "X_train_review_df"
      ],
      "execution_count": 42,
      "outputs": [
        {
          "output_type": "execute_result",
          "data": {
            "text/html": [
              "<div>\n",
              "<style scoped>\n",
              "    .dataframe tbody tr th:only-of-type {\n",
              "        vertical-align: middle;\n",
              "    }\n",
              "\n",
              "    .dataframe tbody tr th {\n",
              "        vertical-align: top;\n",
              "    }\n",
              "\n",
              "    .dataframe thead th {\n",
              "        text-align: right;\n",
              "    }\n",
              "</style>\n",
              "<table border=\"1\" class=\"dataframe\">\n",
              "  <thead>\n",
              "    <tr style=\"text-align: right;\">\n",
              "      <th></th>\n",
              "      <th>commentsReview</th>\n",
              "      <th>rating</th>\n",
              "    </tr>\n",
              "  </thead>\n",
              "  <tbody>\n",
              "    <tr>\n",
              "      <th>1542</th>\n",
              "      <td>heart scan experiencing exerciseinduced arrhyt...</td>\n",
              "      <td>10</td>\n",
              "    </tr>\n",
              "    <tr>\n",
              "      <th>1888</th>\n",
              "      <td>prescribed adult add take one per day n mg</td>\n",
              "      <td>9</td>\n",
              "    </tr>\n",
              "    <tr>\n",
              "      <th>2395</th>\n",
              "      <td>starting n mg n n dose n mg n n mg estrogenpro...</td>\n",
              "      <td>7</td>\n",
              "    </tr>\n",
              "    <tr>\n",
              "      <th>1362</th>\n",
              "      <td>taken daily basis time everyday taking everyda...</td>\n",
              "      <td>8</td>\n",
              "    </tr>\n",
              "    <tr>\n",
              "      <th>2856</th>\n",
              "      <td>took day beginning worked great time didnt see...</td>\n",
              "      <td>8</td>\n",
              "    </tr>\n",
              "    <tr>\n",
              "      <th>...</th>\n",
              "      <td>...</td>\n",
              "      <td>...</td>\n",
              "    </tr>\n",
              "    <tr>\n",
              "      <th>1669</th>\n",
              "      <td>took n x n mg per day built n x n mg per day n...</td>\n",
              "      <td>1</td>\n",
              "    </tr>\n",
              "    <tr>\n",
              "      <th>1334</th>\n",
              "      <td>took drug prophylactic treatment chronic pain ...</td>\n",
              "      <td>6</td>\n",
              "    </tr>\n",
              "    <tr>\n",
              "      <th>3096</th>\n",
              "      <td>patient diagnosed adhd describing pattern focu...</td>\n",
              "      <td>8</td>\n",
              "    </tr>\n",
              "    <tr>\n",
              "      <th>1051</th>\n",
              "      <td>please note treatment side effects</td>\n",
              "      <td>8</td>\n",
              "    </tr>\n",
              "    <tr>\n",
              "      <th>1432</th>\n",
              "      <td>blood pressre dopped lost n lbs date increesed...</td>\n",
              "      <td>10</td>\n",
              "    </tr>\n",
              "  </tbody>\n",
              "</table>\n",
              "<p>2172 rows × 2 columns</p>\n",
              "</div>"
            ],
            "text/plain": [
              "                                         commentsReview  rating\n",
              "1542  heart scan experiencing exerciseinduced arrhyt...      10\n",
              "1888         prescribed adult add take one per day n mg       9\n",
              "2395  starting n mg n n dose n mg n n mg estrogenpro...       7\n",
              "1362  taken daily basis time everyday taking everyda...       8\n",
              "2856  took day beginning worked great time didnt see...       8\n",
              "...                                                 ...     ...\n",
              "1669  took n x n mg per day built n x n mg per day n...       1\n",
              "1334  took drug prophylactic treatment chronic pain ...       6\n",
              "3096  patient diagnosed adhd describing pattern focu...       8\n",
              "1051                 please note treatment side effects       8\n",
              "1432  blood pressre dopped lost n lbs date increesed...      10\n",
              "\n",
              "[2172 rows x 2 columns]"
            ]
          },
          "metadata": {
            "tags": []
          },
          "execution_count": 42
        }
      ]
    },
    {
      "cell_type": "code",
      "metadata": {
        "colab": {
          "base_uri": "https://localhost:8080/"
        },
        "id": "ypzXyvKNz26N",
        "outputId": "e228e700-b10a-4a2e-c539-0c92b218271f"
      },
      "source": [
        "y_train_review_df"
      ],
      "execution_count": 43,
      "outputs": [
        {
          "output_type": "execute_result",
          "data": {
            "text/plain": [
              "1542    1\n",
              "1888    1\n",
              "2395    1\n",
              "1362    1\n",
              "2856    1\n",
              "       ..\n",
              "1669    0\n",
              "1334    1\n",
              "3096    1\n",
              "1051    1\n",
              "1432    1\n",
              "Name: rank_bin, Length: 2172, dtype: int64"
            ]
          },
          "metadata": {
            "tags": []
          },
          "execution_count": 43
        }
      ]
    },
    {
      "cell_type": "markdown",
      "metadata": {
        "id": "IgbnM32IHaUs"
      },
      "source": [
        "Converting text to **lower case**"
      ]
    },
    {
      "cell_type": "code",
      "metadata": {
        "colab": {
          "base_uri": "https://localhost:8080/"
        },
        "id": "gPP7sOGDHaUt",
        "outputId": "56f40f70-10a6-4eef-f9cb-69c22a64b630"
      },
      "source": [
        "X_train_review_df['commentsReview']=X_train_review_df['commentsReview'].str.lower()\n",
        "X_test_review_df['commentsReview']=X_test_review_df['commentsReview'].str.lower()"
      ],
      "execution_count": 44,
      "outputs": [
        {
          "output_type": "stream",
          "text": [
            "/usr/local/lib/python3.7/dist-packages/ipykernel_launcher.py:1: SettingWithCopyWarning: \n",
            "A value is trying to be set on a copy of a slice from a DataFrame.\n",
            "Try using .loc[row_indexer,col_indexer] = value instead\n",
            "\n",
            "See the caveats in the documentation: https://pandas.pydata.org/pandas-docs/stable/user_guide/indexing.html#returning-a-view-versus-a-copy\n",
            "  \"\"\"Entry point for launching an IPython kernel.\n",
            "/usr/local/lib/python3.7/dist-packages/ipykernel_launcher.py:2: SettingWithCopyWarning: \n",
            "A value is trying to be set on a copy of a slice from a DataFrame.\n",
            "Try using .loc[row_indexer,col_indexer] = value instead\n",
            "\n",
            "See the caveats in the documentation: https://pandas.pydata.org/pandas-docs/stable/user_guide/indexing.html#returning-a-view-versus-a-copy\n",
            "  \n"
          ],
          "name": "stderr"
        }
      ]
    },
    {
      "cell_type": "code",
      "metadata": {
        "colab": {
          "base_uri": "https://localhost:8080/",
          "height": 204
        },
        "id": "LkHj5vwhHaUt",
        "outputId": "71770427-f9e4-4087-c419-1c5158c9c594"
      },
      "source": [
        "X_train_review_df.head()"
      ],
      "execution_count": 45,
      "outputs": [
        {
          "output_type": "execute_result",
          "data": {
            "text/html": [
              "<div>\n",
              "<style scoped>\n",
              "    .dataframe tbody tr th:only-of-type {\n",
              "        vertical-align: middle;\n",
              "    }\n",
              "\n",
              "    .dataframe tbody tr th {\n",
              "        vertical-align: top;\n",
              "    }\n",
              "\n",
              "    .dataframe thead th {\n",
              "        text-align: right;\n",
              "    }\n",
              "</style>\n",
              "<table border=\"1\" class=\"dataframe\">\n",
              "  <thead>\n",
              "    <tr style=\"text-align: right;\">\n",
              "      <th></th>\n",
              "      <th>commentsReview</th>\n",
              "      <th>rating</th>\n",
              "    </tr>\n",
              "  </thead>\n",
              "  <tbody>\n",
              "    <tr>\n",
              "      <th>1542</th>\n",
              "      <td>heart scan experiencing exerciseinduced arrhyt...</td>\n",
              "      <td>10</td>\n",
              "    </tr>\n",
              "    <tr>\n",
              "      <th>1888</th>\n",
              "      <td>prescribed adult add take one per day n mg</td>\n",
              "      <td>9</td>\n",
              "    </tr>\n",
              "    <tr>\n",
              "      <th>2395</th>\n",
              "      <td>starting n mg n n dose n mg n n mg estrogenpro...</td>\n",
              "      <td>7</td>\n",
              "    </tr>\n",
              "    <tr>\n",
              "      <th>1362</th>\n",
              "      <td>taken daily basis time everyday taking everyda...</td>\n",
              "      <td>8</td>\n",
              "    </tr>\n",
              "    <tr>\n",
              "      <th>2856</th>\n",
              "      <td>took day beginning worked great time didnt see...</td>\n",
              "      <td>8</td>\n",
              "    </tr>\n",
              "  </tbody>\n",
              "</table>\n",
              "</div>"
            ],
            "text/plain": [
              "                                         commentsReview  rating\n",
              "1542  heart scan experiencing exerciseinduced arrhyt...      10\n",
              "1888         prescribed adult add take one per day n mg       9\n",
              "2395  starting n mg n n dose n mg n n mg estrogenpro...       7\n",
              "1362  taken daily basis time everyday taking everyda...       8\n",
              "2856  took day beginning worked great time didnt see...       8"
            ]
          },
          "metadata": {
            "tags": []
          },
          "execution_count": 45
        }
      ]
    },
    {
      "cell_type": "markdown",
      "metadata": {
        "id": "yvEDKeLVHaUt"
      },
      "source": [
        "####  Tokenizing and padding"
      ]
    },
    {
      "cell_type": "code",
      "metadata": {
        "id": "hvA3IgNmHaUt"
      },
      "source": [
        "from keras.preprocessing import sequence\n",
        "\n",
        "MAX_SEQUENCE_LENGTH=100\n",
        "VOC_SIZE=1000\n"
      ],
      "execution_count": 46,
      "outputs": []
    },
    {
      "cell_type": "code",
      "metadata": {
        "id": "Xz4k11EnHaUu"
      },
      "source": [
        "tokenizer = Tokenizer(num_words=VOC_SIZE, split=' ',oov_token=\"<OOV>\")"
      ],
      "execution_count": 47,
      "outputs": []
    },
    {
      "cell_type": "code",
      "metadata": {
        "colab": {
          "base_uri": "https://localhost:8080/"
        },
        "id": "H5q70lvqHaUu",
        "outputId": "d3836e82-13f8-42b3-e8b4-6da28cb6f058"
      },
      "source": [
        "X_train_review_df['commentsReview']=X_train_review_df['commentsReview'].astype(str)"
      ],
      "execution_count": 48,
      "outputs": [
        {
          "output_type": "stream",
          "text": [
            "/usr/local/lib/python3.7/dist-packages/ipykernel_launcher.py:1: SettingWithCopyWarning: \n",
            "A value is trying to be set on a copy of a slice from a DataFrame.\n",
            "Try using .loc[row_indexer,col_indexer] = value instead\n",
            "\n",
            "See the caveats in the documentation: https://pandas.pydata.org/pandas-docs/stable/user_guide/indexing.html#returning-a-view-versus-a-copy\n",
            "  \"\"\"Entry point for launching an IPython kernel.\n"
          ],
          "name": "stderr"
        }
      ]
    },
    {
      "cell_type": "code",
      "metadata": {
        "colab": {
          "base_uri": "https://localhost:8080/"
        },
        "id": "itt6Tby8kTvr",
        "outputId": "c96e07d1-d546-450a-a06c-a79abc2df43f"
      },
      "source": [
        "X_test_review_df['commentsReview']=X_test_review_df['commentsReview'].astype(str)"
      ],
      "execution_count": 49,
      "outputs": [
        {
          "output_type": "stream",
          "text": [
            "/usr/local/lib/python3.7/dist-packages/ipykernel_launcher.py:1: SettingWithCopyWarning: \n",
            "A value is trying to be set on a copy of a slice from a DataFrame.\n",
            "Try using .loc[row_indexer,col_indexer] = value instead\n",
            "\n",
            "See the caveats in the documentation: https://pandas.pydata.org/pandas-docs/stable/user_guide/indexing.html#returning-a-view-versus-a-copy\n",
            "  \"\"\"Entry point for launching an IPython kernel.\n"
          ],
          "name": "stderr"
        }
      ]
    },
    {
      "cell_type": "code",
      "metadata": {
        "id": "y-SsjPkwHaUu"
      },
      "source": [
        "tokenizer.fit_on_texts(X_train_review_df['commentsReview'].values)"
      ],
      "execution_count": 50,
      "outputs": []
    },
    {
      "cell_type": "code",
      "metadata": {
        "colab": {
          "base_uri": "https://localhost:8080/"
        },
        "id": "_R1joUCJLvIG",
        "outputId": "35de1576-4ff2-47a3-da86-c84597139a90"
      },
      "source": [
        "tokenizer.word_index"
      ],
      "execution_count": 51,
      "outputs": [
        {
          "output_type": "execute_result",
          "data": {
            "text/plain": [
              "{'<OOV>': 1,\n",
              " 'n': 2,\n",
              " 'mg': 3,\n",
              " 'day': 4,\n",
              " 'take': 5,\n",
              " 'one': 6,\n",
              " 'taking': 7,\n",
              " 'drug': 8,\n",
              " 'took': 9,\n",
              " 'treatment': 10,\n",
              " 'medication': 11,\n",
              " 'would': 12,\n",
              " 'days': 13,\n",
              " 'side': 14,\n",
              " 'daily': 15,\n",
              " 'effects': 16,\n",
              " 'pain': 17,\n",
              " 'every': 18,\n",
              " 'prescribed': 19,\n",
              " 'time': 20,\n",
              " 'doctor': 21,\n",
              " 'years': 22,\n",
              " 'pill': 23,\n",
              " 'started': 24,\n",
              " 'months': 25,\n",
              " 'dose': 26,\n",
              " 'night': 27,\n",
              " 'taken': 28,\n",
              " 'morning': 29,\n",
              " 'weeks': 30,\n",
              " 'week': 31,\n",
              " 'also': 32,\n",
              " 'first': 33,\n",
              " 'two': 34,\n",
              " 'back': 35,\n",
              " 'get': 36,\n",
              " 'per': 37,\n",
              " 'use': 38,\n",
              " 'still': 39,\n",
              " 'times': 40,\n",
              " 'hours': 41,\n",
              " 'sleep': 42,\n",
              " 'much': 43,\n",
              " 'like': 44,\n",
              " 'tablet': 45,\n",
              " 'dosage': 46,\n",
              " 'symptoms': 47,\n",
              " 'work': 48,\n",
              " 'used': 49,\n",
              " 'skin': 50,\n",
              " 'depression': 51,\n",
              " 'feel': 52,\n",
              " 'went': 53,\n",
              " 'blood': 54,\n",
              " 'well': 55,\n",
              " 'twice': 56,\n",
              " 'could': 57,\n",
              " 'effective': 58,\n",
              " 'felt': 59,\n",
              " 'since': 60,\n",
              " 'better': 61,\n",
              " 'severe': 62,\n",
              " 'even': 63,\n",
              " 'help': 64,\n",
              " 'needed': 65,\n",
              " 'month': 66,\n",
              " 'worked': 67,\n",
              " 'year': 68,\n",
              " 'dont': 69,\n",
              " 'tried': 70,\n",
              " 'never': 71,\n",
              " 'acne': 72,\n",
              " 'stopped': 73,\n",
              " 'anxiety': 74,\n",
              " 'face': 75,\n",
              " 'didnt': 76,\n",
              " 'three': 77,\n",
              " 'really': 78,\n",
              " 'increased': 79,\n",
              " 'life': 80,\n",
              " 'pills': 81,\n",
              " 'however': 82,\n",
              " 'without': 83,\n",
              " 'due': 84,\n",
              " 'good': 85,\n",
              " 'effect': 86,\n",
              " 'cream': 87,\n",
              " 'see': 88,\n",
              " 'put': 89,\n",
              " 'stop': 90,\n",
              " 'found': 91,\n",
              " 'im': 92,\n",
              " 'given': 93,\n",
              " 'go': 94,\n",
              " 'began': 95,\n",
              " 'control': 96,\n",
              " 'helped': 97,\n",
              " 'using': 98,\n",
              " 'told': 99,\n",
              " 'need': 100,\n",
              " 'got': 101,\n",
              " 'long': 102,\n",
              " 'tablets': 103,\n",
              " 'another': 104,\n",
              " 'bed': 105,\n",
              " 'able': 106,\n",
              " 'ive': 107,\n",
              " 'several': 108,\n",
              " 'made': 109,\n",
              " 'going': 110,\n",
              " 'patient': 111,\n",
              " 'results': 112,\n",
              " 'applied': 113,\n",
              " 'body': 114,\n",
              " 'half': 115,\n",
              " 'normal': 116,\n",
              " 'within': 117,\n",
              " 'try': 118,\n",
              " 'medicine': 119,\n",
              " 'weight': 120,\n",
              " 'away': 121,\n",
              " 'many': 122,\n",
              " 'high': 123,\n",
              " 'think': 124,\n",
              " 'minutes': 125,\n",
              " 'stomach': 126,\n",
              " 'next': 127,\n",
              " 'ago': 128,\n",
              " 'evening': 129,\n",
              " 'longer': 130,\n",
              " 'pressure': 131,\n",
              " 'bad': 132,\n",
              " 'later': 133,\n",
              " 'water': 134,\n",
              " 'feeling': 135,\n",
              " 'period': 136,\n",
              " 'problem': 137,\n",
              " 'keep': 138,\n",
              " 'less': 139,\n",
              " 'sure': 140,\n",
              " 'hour': 141,\n",
              " 'great': 142,\n",
              " 'apply': 143,\n",
              " 'may': 144,\n",
              " 'bedtime': 145,\n",
              " 'prescription': 146,\n",
              " 'x': 147,\n",
              " 'though': 148,\n",
              " 'continue': 149,\n",
              " 'therapy': 150,\n",
              " 'around': 151,\n",
              " 'increase': 152,\n",
              " 'completely': 153,\n",
              " 'last': 154,\n",
              " 'drugs': 155,\n",
              " 'amount': 156,\n",
              " 'became': 157,\n",
              " 'getting': 158,\n",
              " 'worse': 159,\n",
              " 'caused': 160,\n",
              " 'small': 161,\n",
              " 'people': 162,\n",
              " 'low': 163,\n",
              " 'problems': 164,\n",
              " 'start': 165,\n",
              " 'infection': 166,\n",
              " 'know': 167,\n",
              " 'relief': 168,\n",
              " 'surgery': 169,\n",
              " 'levels': 170,\n",
              " 'thought': 171,\n",
              " 'medications': 172,\n",
              " 'noticed': 173,\n",
              " 'continued': 174,\n",
              " 'although': 175,\n",
              " 'right': 176,\n",
              " 'usually': 177,\n",
              " 'food': 178,\n",
              " 'eat': 179,\n",
              " 'way': 180,\n",
              " 'dry': 181,\n",
              " 'thyroid': 182,\n",
              " 'little': 183,\n",
              " 'gave': 184,\n",
              " 'make': 185,\n",
              " 'treat': 186,\n",
              " 'doctors': 187,\n",
              " 'finally': 188,\n",
              " 'physician': 189,\n",
              " 'always': 190,\n",
              " 'mood': 191,\n",
              " 'couple': 192,\n",
              " 'diagnosed': 193,\n",
              " 'product': 194,\n",
              " 'sometimes': 195,\n",
              " 'along': 196,\n",
              " 'new': 197,\n",
              " 'best': 198,\n",
              " 'almost': 199,\n",
              " 'different': 200,\n",
              " 'cold': 201,\n",
              " 'said': 202,\n",
              " 'meds': 203,\n",
              " 'nothing': 204,\n",
              " 'reduced': 205,\n",
              " 'loss': 206,\n",
              " 'works': 207,\n",
              " 'area': 208,\n",
              " 'immediately': 209,\n",
              " 'far': 210,\n",
              " 'enough': 211,\n",
              " 'generic': 212,\n",
              " 'least': 213,\n",
              " 'second': 214,\n",
              " 'heart': 215,\n",
              " 'done': 216,\n",
              " 'doses': 217,\n",
              " 'seemed': 218,\n",
              " 'lower': 219,\n",
              " 'mild': 220,\n",
              " 'ever': 221,\n",
              " 'recommend': 222,\n",
              " 'headache': 223,\n",
              " 'test': 224,\n",
              " 'recommended': 225,\n",
              " 'condition': 226,\n",
              " 'benefits': 227,\n",
              " 'exercise': 228,\n",
              " 'couldnt': 229,\n",
              " 'cant': 230,\n",
              " 'came': 231,\n",
              " 'six': 232,\n",
              " 'course': 233,\n",
              " 'wake': 234,\n",
              " 'want': 235,\n",
              " 'diet': 236,\n",
              " 'starting': 237,\n",
              " 'thing': 238,\n",
              " 'lot': 239,\n",
              " 'end': 240,\n",
              " 'believe': 241,\n",
              " 'quit': 242,\n",
              " 'change': 243,\n",
              " 'decided': 244,\n",
              " 'etc': 245,\n",
              " 'changed': 246,\n",
              " 'sinus': 247,\n",
              " 'come': 248,\n",
              " 'anything': 249,\n",
              " 'chronic': 250,\n",
              " 'notice': 251,\n",
              " 'full': 252,\n",
              " 'point': 253,\n",
              " 'tests': 254,\n",
              " 'working': 255,\n",
              " 'gone': 256,\n",
              " 'lost': 257,\n",
              " 'four': 258,\n",
              " 'improvement': 259,\n",
              " 'wait': 260,\n",
              " 'term': 261,\n",
              " 'panic': 262,\n",
              " 'migraine': 263,\n",
              " 'experience': 264,\n",
              " 'onset': 265,\n",
              " 'eyes': 266,\n",
              " 'nausea': 267,\n",
              " 'must': 268,\n",
              " 'fine': 269,\n",
              " 'trying': 270,\n",
              " 'treated': 271,\n",
              " 'slowly': 272,\n",
              " 'experienced': 273,\n",
              " 'eye': 274,\n",
              " 'level': 275,\n",
              " 'patch': 276,\n",
              " 'care': 277,\n",
              " 'add': 278,\n",
              " 'stress': 279,\n",
              " 'cholesterol': 280,\n",
              " 'left': 281,\n",
              " 'worth': 282,\n",
              " 'eating': 283,\n",
              " 'breakfast': 284,\n",
              " 'wash': 285,\n",
              " 'find': 286,\n",
              " 'something': 287,\n",
              " 'details': 288,\n",
              " 'decrease': 289,\n",
              " 'helps': 290,\n",
              " 'headaches': 291,\n",
              " 'sleeping': 292,\n",
              " 'beginning': 293,\n",
              " 'possible': 294,\n",
              " 'topical': 295,\n",
              " 'mouth': 296,\n",
              " 'psychiatrist': 297,\n",
              " 'doesnt': 298,\n",
              " 'insomnia': 299,\n",
              " 'following': 300,\n",
              " 'pretty': 301,\n",
              " 'hair': 302,\n",
              " 'prior': 303,\n",
              " 'dermatologist': 304,\n",
              " 'seems': 305,\n",
              " 'cleared': 306,\n",
              " 'mgday': 307,\n",
              " 'reduce': 308,\n",
              " 'reaction': 309,\n",
              " 'soon': 310,\n",
              " 'overall': 311,\n",
              " 'makes': 312,\n",
              " 'attacks': 313,\n",
              " 'negative': 314,\n",
              " 'gel': 315,\n",
              " 'often': 316,\n",
              " 'function': 317,\n",
              " 'hard': 318,\n",
              " 'actually': 319,\n",
              " 'asleep': 320,\n",
              " 'eventually': 321,\n",
              " 'benefit': 322,\n",
              " 'age': 323,\n",
              " 'acid': 324,\n",
              " 'form': 325,\n",
              " 'suffered': 326,\n",
              " 'initial': 327,\n",
              " 'short': 328,\n",
              " 'dr': 329,\n",
              " 'supposed': 330,\n",
              " 'application': 331,\n",
              " 'tired': 332,\n",
              " 'smoking': 333,\n",
              " 'combination': 334,\n",
              " 'past': 335,\n",
              " 'dinner': 336,\n",
              " 'stay': 337,\n",
              " 'everyday': 338,\n",
              " 'either': 339,\n",
              " 'drink': 340,\n",
              " 'disorder': 341,\n",
              " 'none': 342,\n",
              " 'things': 343,\n",
              " 'break': 344,\n",
              " 'basis': 345,\n",
              " 'hospital': 346,\n",
              " 'family': 347,\n",
              " 'difficult': 348,\n",
              " 'allergies': 349,\n",
              " 'birth': 350,\n",
              " 'nights': 351,\n",
              " 'swelling': 352,\n",
              " 'difference': 353,\n",
              " 'wasnt': 354,\n",
              " 'cut': 355,\n",
              " 'regular': 356,\n",
              " 'experiencing': 357,\n",
              " 'seem': 358,\n",
              " 'antibiotic': 359,\n",
              " 'saw': 360,\n",
              " 'returned': 361,\n",
              " 'quickly': 362,\n",
              " 'early': 363,\n",
              " 'mcg': 364,\n",
              " 'injection': 365,\n",
              " 'return': 366,\n",
              " 'result': 367,\n",
              " 'probably': 368,\n",
              " 'especially': 369,\n",
              " 'job': 370,\n",
              " 'approximately': 371,\n",
              " 'legs': 372,\n",
              " 'rest': 373,\n",
              " 'switched': 374,\n",
              " 'instead': 375,\n",
              " 'free': 376,\n",
              " 'healthy': 377,\n",
              " 'improved': 378,\n",
              " 'become': 379,\n",
              " 'treatments': 380,\n",
              " 'throughout': 381,\n",
              " 'called': 382,\n",
              " 'order': 383,\n",
              " 'asthma': 384,\n",
              " 'empty': 385,\n",
              " 'injections': 386,\n",
              " 'decreased': 387,\n",
              " 'fall': 388,\n",
              " 'depressed': 389,\n",
              " 'pm': 390,\n",
              " 'attack': 391,\n",
              " 'itching': 392,\n",
              " 'case': 393,\n",
              " 'gradually': 394,\n",
              " 'periods': 395,\n",
              " 'might': 396,\n",
              " 'initially': 397,\n",
              " 'currently': 398,\n",
              " 'cause': 399,\n",
              " 'nightly': 400,\n",
              " 'physical': 401,\n",
              " 'prevent': 402,\n",
              " 'positive': 403,\n",
              " 'affected': 404,\n",
              " 'anyone': 405,\n",
              " 'capsule': 406,\n",
              " 'changes': 407,\n",
              " 'bit': 408,\n",
              " 'remember': 409,\n",
              " 'happy': 410,\n",
              " 'retina': 411,\n",
              " 'brand': 412,\n",
              " 'allergy': 413,\n",
              " 'suffering': 414,\n",
              " 'alcohol': 415,\n",
              " 'health': 416,\n",
              " 'stopping': 417,\n",
              " 'neck': 418,\n",
              " 'th': 419,\n",
              " 'school': 420,\n",
              " 'spots': 421,\n",
              " 'significant': 422,\n",
              " 'takes': 423,\n",
              " 'coughing': 424,\n",
              " 'brain': 425,\n",
              " 'migraines': 426,\n",
              " 'disease': 427,\n",
              " 'necessary': 428,\n",
              " 'extremely': 429,\n",
              " 'size': 430,\n",
              " 'sex': 431,\n",
              " 'maybe': 432,\n",
              " 'easy': 433,\n",
              " 'rash': 434,\n",
              " 'glass': 435,\n",
              " 'received': 436,\n",
              " 'say': 437,\n",
              " 'old': 438,\n",
              " 'gain': 439,\n",
              " 'withdrawal': 440,\n",
              " 'terrible': 441,\n",
              " 'clear': 442,\n",
              " 'nose': 443,\n",
              " 'system': 444,\n",
              " 'thats': 445,\n",
              " 'asked': 446,\n",
              " 'entire': 447,\n",
              " 'looking': 448,\n",
              " 'counter': 449,\n",
              " 'wanted': 450,\n",
              " 'developed': 451,\n",
              " 'kept': 452,\n",
              " 'doc': 453,\n",
              " 'moisturizer': 454,\n",
              " 'med': 455,\n",
              " 'required': 456,\n",
              " 'insurance': 457,\n",
              " 'natural': 458,\n",
              " 'addition': 459,\n",
              " 'hot': 460,\n",
              " 'nasal': 461,\n",
              " 'ibuprofen': 462,\n",
              " 'advised': 463,\n",
              " 'liver': 464,\n",
              " 'reason': 465,\n",
              " 'type': 466,\n",
              " 'sun': 467,\n",
              " 'clean': 468,\n",
              " 'oral': 469,\n",
              " 'subsided': 470,\n",
              " 'bipolar': 471,\n",
              " 'antibiotics': 472,\n",
              " 'expensive': 473,\n",
              " 'issues': 474,\n",
              " 'forehead': 475,\n",
              " 'infections': 476,\n",
              " 'xr': 477,\n",
              " 'sore': 478,\n",
              " 'reflux': 479,\n",
              " 'already': 480,\n",
              " 'inhaler': 481,\n",
              " 'unable': 482,\n",
              " 'medical': 483,\n",
              " 'drop': 484,\n",
              " 'quite': 485,\n",
              " 'everything': 486,\n",
              " 'moderate': 487,\n",
              " 'total': 488,\n",
              " 'prescribe': 489,\n",
              " 'areas': 490,\n",
              " 'cycle': 491,\n",
              " 'pounds': 492,\n",
              " 'anymore': 493,\n",
              " 'extreme': 494,\n",
              " 'added': 495,\n",
              " 'checked': 496,\n",
              " 'give': 497,\n",
              " 'red': 498,\n",
              " 'administered': 499,\n",
              " 'intake': 500,\n",
              " 'highly': 501,\n",
              " 'energy': 502,\n",
              " 'home': 503,\n",
              " 'arthritis': 504,\n",
              " 'alone': 505,\n",
              " 'id': 506,\n",
              " 'let': 507,\n",
              " 'hrs': 508,\n",
              " 'read': 509,\n",
              " 'light': 510,\n",
              " 'whole': 511,\n",
              " 'painful': 512,\n",
              " 'instructed': 513,\n",
              " 'washing': 514,\n",
              " 'upper': 515,\n",
              " 'effectiveness': 516,\n",
              " 'iv': 517,\n",
              " 'simple': 518,\n",
              " 'tabs': 519,\n",
              " 'ill': 520,\n",
              " 'big': 521,\n",
              " 'chest': 522,\n",
              " 'antidepressants': 523,\n",
              " 'check': 524,\n",
              " 'large': 525,\n",
              " 'rather': 526,\n",
              " 'significantly': 527,\n",
              " 'slightly': 528,\n",
              " 'suggested': 529,\n",
              " 'hoping': 530,\n",
              " 'sexual': 531,\n",
              " 'state': 532,\n",
              " 'lack': 533,\n",
              " 'risk': 534,\n",
              " 'look': 535,\n",
              " 'removed': 536,\n",
              " 'discontinued': 537,\n",
              " 'realize': 538,\n",
              " 'late': 539,\n",
              " 'hope': 540,\n",
              " 'products': 541,\n",
              " 'episodes': 542,\n",
              " 'definitely': 543,\n",
              " 'weekly': 544,\n",
              " 'bladder': 545,\n",
              " 'hormone': 546,\n",
              " 'person': 547,\n",
              " 'discomfort': 548,\n",
              " 'followed': 549,\n",
              " 'patients': 550,\n",
              " 'lots': 551,\n",
              " 'third': 552,\n",
              " 'associated': 553,\n",
              " 'lasted': 554,\n",
              " 'increasing': 555,\n",
              " 'leg': 556,\n",
              " 'awake': 557,\n",
              " 'appetite': 558,\n",
              " 'part': 559,\n",
              " 'self': 560,\n",
              " 'disappeared': 561,\n",
              " 'plan': 562,\n",
              " 'thinking': 563,\n",
              " 'procedure': 564,\n",
              " 'others': 565,\n",
              " 'adult': 566,\n",
              " 'vaginal': 567,\n",
              " 'bleeding': 568,\n",
              " 'slight': 569,\n",
              " 'mgs': 570,\n",
              " 'included': 571,\n",
              " 'dropped': 572,\n",
              " 'range': 573,\n",
              " 'intense': 574,\n",
              " 'higher': 575,\n",
              " 'absolutely': 576,\n",
              " 'sleepy': 577,\n",
              " 'otc': 578,\n",
              " 'cleanser': 579,\n",
              " 'drive': 580,\n",
              " 'hormones': 581,\n",
              " 'allow': 582,\n",
              " 'upon': 583,\n",
              " 'previous': 584,\n",
              " 'unfortunately': 585,\n",
              " 'strong': 586,\n",
              " 'avoid': 587,\n",
              " 'ten': 588,\n",
              " 'noticeable': 589,\n",
              " 'fibromyalgia': 590,\n",
              " 'reducing': 591,\n",
              " 'cost': 592,\n",
              " 'horrible': 593,\n",
              " 'lunch': 594,\n",
              " 'capsules': 595,\n",
              " 'deal': 596,\n",
              " 'deep': 597,\n",
              " 'lbs': 598,\n",
              " 'gp': 599,\n",
              " 'child': 600,\n",
              " 'understand': 601,\n",
              " 'shot': 602,\n",
              " 'applying': 603,\n",
              " 'head': 604,\n",
              " 'coming': 605,\n",
              " 'heartburn': 606,\n",
              " 'cancer': 607,\n",
              " 'seeing': 608,\n",
              " 'otherwise': 609,\n",
              " 'treating': 610,\n",
              " 'inflammation': 611,\n",
              " 'live': 612,\n",
              " 'swings': 613,\n",
              " 'meal': 614,\n",
              " 'success': 615,\n",
              " 'supplements': 616,\n",
              " 'afternoon': 617,\n",
              " 'pea': 618,\n",
              " 'sunscreen': 619,\n",
              " 'primary': 620,\n",
              " 'flashes': 621,\n",
              " 'including': 622,\n",
              " 'walk': 623,\n",
              " 'hand': 624,\n",
              " 'damage': 625,\n",
              " 'fully': 626,\n",
              " 'normally': 627,\n",
              " 'situation': 628,\n",
              " 'affect': 629,\n",
              " 'available': 630,\n",
              " 'reduction': 631,\n",
              " 'helping': 632,\n",
              " 'somewhat': 633,\n",
              " 'drops': 634,\n",
              " 'name': 635,\n",
              " 'relieve': 636,\n",
              " 'slow': 637,\n",
              " 'recently': 638,\n",
              " 'sores': 639,\n",
              " 'remained': 640,\n",
              " 'please': 641,\n",
              " 'husband': 642,\n",
              " 'dizziness': 643,\n",
              " 'bone': 644,\n",
              " 'adverse': 645,\n",
              " 'memory': 646,\n",
              " 'lose': 647,\n",
              " 'affects': 648,\n",
              " 'number': 649,\n",
              " 'directly': 650,\n",
              " 'leave': 651,\n",
              " 'focus': 652,\n",
              " 'smoke': 653,\n",
              " 'irritation': 654,\n",
              " 'cough': 655,\n",
              " 'joint': 656,\n",
              " 'kind': 657,\n",
              " 'perscribed': 658,\n",
              " 'breast': 659,\n",
              " 'activity': 660,\n",
              " 'waking': 661,\n",
              " 'study': 662,\n",
              " 'easily': 663,\n",
              " 'hands': 664,\n",
              " 'monthly': 665,\n",
              " 'important': 666,\n",
              " 'mentioned': 667,\n",
              " 'adhd': 668,\n",
              " 'release': 669,\n",
              " 'vomiting': 670,\n",
              " 'mind': 671,\n",
              " 'vitamin': 672,\n",
              " 'concerned': 673,\n",
              " 'basically': 674,\n",
              " 'sensitive': 675,\n",
              " 'originally': 676,\n",
              " 'showed': 677,\n",
              " 'nerve': 678,\n",
              " 'peeling': 679,\n",
              " 'realized': 680,\n",
              " 'else': 681,\n",
              " 'calcium': 682,\n",
              " 'seven': 683,\n",
              " 'shoulder': 684,\n",
              " 'frequent': 685,\n",
              " 'directed': 686,\n",
              " 'controlled': 687,\n",
              " 'active': 688,\n",
              " 'described': 689,\n",
              " 'ldl': 690,\n",
              " 'havent': 691,\n",
              " 'unless': 692,\n",
              " 'suffer': 693,\n",
              " 'antidepressant': 694,\n",
              " 'plus': 695,\n",
              " 'knee': 696,\n",
              " 'making': 697,\n",
              " 'wish': 698,\n",
              " 'calm': 699,\n",
              " 'seen': 700,\n",
              " 'pack': 701,\n",
              " 'meals': 702,\n",
              " 'rid': 703,\n",
              " 'throat': 704,\n",
              " 'sideeffects': 705,\n",
              " 'drowsiness': 706,\n",
              " 'pharmacy': 707,\n",
              " 'counseling': 708,\n",
              " 'weaned': 709,\n",
              " 'approx': 710,\n",
              " 'retin': 711,\n",
              " 'allowed': 712,\n",
              " 'fatigue': 713,\n",
              " 'completed': 714,\n",
              " 'advair': 715,\n",
              " 'constant': 716,\n",
              " 'breakouts': 717,\n",
              " 'women': 718,\n",
              " 'future': 719,\n",
              " 'yeast': 720,\n",
              " 'solution': 721,\n",
              " 'totally': 722,\n",
              " 'signs': 723,\n",
              " 'rosacea': 724,\n",
              " 'simply': 725,\n",
              " 'constipation': 726,\n",
              " 'ended': 727,\n",
              " 'begin': 728,\n",
              " 'diagnosis': 729,\n",
              " 'hrt': 730,\n",
              " 'resulted': 731,\n",
              " 'alternative': 732,\n",
              " 'gets': 733,\n",
              " 'easier': 734,\n",
              " 'immediate': 735,\n",
              " 'major': 736,\n",
              " 'generally': 737,\n",
              " 'wouldnt': 738,\n",
              " 'son': 739,\n",
              " 'consisted': 740,\n",
              " 'careful': 741,\n",
              " 'management': 742,\n",
              " 'anti': 743,\n",
              " 'middle': 744,\n",
              " 'yet': 745,\n",
              " 'known': 746,\n",
              " 'real': 747,\n",
              " 'alleviate': 748,\n",
              " 'love': 749,\n",
              " 'standard': 750,\n",
              " 'determined': 751,\n",
              " 'falling': 752,\n",
              " 'ask': 753,\n",
              " 'extra': 754,\n",
              " 'redness': 755,\n",
              " 'ongoing': 756,\n",
              " 'process': 757,\n",
              " 'outbreak': 758,\n",
              " 'dosages': 759,\n",
              " 'fact': 760,\n",
              " 'comes': 761,\n",
              " 'goes': 762,\n",
              " 'someone': 763,\n",
              " 'hypothyroidism': 764,\n",
              " 'correct': 765,\n",
              " 'knew': 766,\n",
              " 'looked': 767,\n",
              " 'occasionally': 768,\n",
              " 'specialist': 769,\n",
              " 'stayed': 770,\n",
              " 'orally': 771,\n",
              " 'move': 772,\n",
              " 'date': 773,\n",
              " 'research': 774,\n",
              " 'shortly': 775,\n",
              " 'common': 776,\n",
              " 'line': 777,\n",
              " 'pregnant': 778,\n",
              " 'woke': 779,\n",
              " 'extended': 780,\n",
              " 'desire': 781,\n",
              " 'afraid': 782,\n",
              " 'discovered': 783,\n",
              " 'five': 784,\n",
              " 'related': 785,\n",
              " 'finished': 786,\n",
              " 'turned': 787,\n",
              " 'tab': 788,\n",
              " 'cramping': 789,\n",
              " 'subside': 790,\n",
              " 'potential': 791,\n",
              " 'yrs': 792,\n",
              " 'muscle': 793,\n",
              " 'cramps': 794,\n",
              " 'serious': 795,\n",
              " 'mostly': 796,\n",
              " 'menstrual': 797,\n",
              " 'crazy': 798,\n",
              " 'seizure': 799,\n",
              " 'tolerate': 800,\n",
              " 'thin': 801,\n",
              " 'greatly': 802,\n",
              " 'ring': 803,\n",
              " 'nearly': 804,\n",
              " 'wore': 805,\n",
              " 'room': 806,\n",
              " 'effectively': 807,\n",
              " 'suicidal': 808,\n",
              " 'market': 809,\n",
              " 'upset': 810,\n",
              " 'complete': 811,\n",
              " 'worst': 812,\n",
              " 'angry': 813,\n",
              " 'except': 814,\n",
              " 'possibly': 815,\n",
              " 'issue': 816,\n",
              " 'gabapentin': 817,\n",
              " 'together': 818,\n",
              " 'muscles': 819,\n",
              " 'daughter': 820,\n",
              " 'occur': 821,\n",
              " 'allergic': 822,\n",
              " 'eight': 823,\n",
              " 'wear': 824,\n",
              " 'additional': 825,\n",
              " 'feet': 826,\n",
              " 'injected': 827,\n",
              " 'injury': 828,\n",
              " 'causes': 829,\n",
              " 'frequently': 830,\n",
              " 'lines': 831,\n",
              " 'house': 832,\n",
              " 'luck': 833,\n",
              " 'nail': 834,\n",
              " 'wonderful': 835,\n",
              " 'happened': 836,\n",
              " 'mucus': 837,\n",
              " 'waited': 838,\n",
              " 'strength': 839,\n",
              " 'trouble': 840,\n",
              " 'drying': 841,\n",
              " 'season': 842,\n",
              " 'pleased': 843,\n",
              " 'gerd': 844,\n",
              " 'sick': 845,\n",
              " 'minimal': 846,\n",
              " 'today': 847,\n",
              " 'hopefully': 848,\n",
              " 'ears': 849,\n",
              " 'depending': 850,\n",
              " 'moved': 851,\n",
              " 'er': 852,\n",
              " 'cannot': 853,\n",
              " 'seizures': 854,\n",
              " 'non': 855,\n",
              " 'md': 856,\n",
              " 'feelings': 857,\n",
              " 'certain': 858,\n",
              " 'prescribing': 859,\n",
              " 'considerable': 860,\n",
              " 'maximum': 861,\n",
              " 'wrinkles': 862,\n",
              " 'monitored': 863,\n",
              " 'drowsy': 864,\n",
              " 'regularly': 865,\n",
              " 'tell': 866,\n",
              " 'symptom': 867,\n",
              " 'present': 868,\n",
              " 'awhile': 869,\n",
              " 'office': 870,\n",
              " 'thoughts': 871,\n",
              " 'instructions': 872,\n",
              " 'matter': 873,\n",
              " 'reached': 874,\n",
              " 'contact': 875,\n",
              " 'occurred': 876,\n",
              " 'routine': 877,\n",
              " 'rate': 878,\n",
              " 'fat': 879,\n",
              " 'drinking': 880,\n",
              " 'lead': 881,\n",
              " 'guess': 882,\n",
              " 'money': 883,\n",
              " 'noted': 884,\n",
              " 'occasional': 885,\n",
              " 'clearing': 886,\n",
              " 'xl': 887,\n",
              " 'pregnancy': 888,\n",
              " 'quality': 889,\n",
              " 'syndrome': 890,\n",
              " 'current': 891,\n",
              " 'stated': 892,\n",
              " 'tolerance': 893,\n",
              " 'single': 894,\n",
              " 'spot': 895,\n",
              " 'ability': 896,\n",
              " 'pains': 897,\n",
              " 'fairly': 898,\n",
              " 'successful': 899,\n",
              " 'gained': 900,\n",
              " 'units': 901,\n",
              " 'foods': 902,\n",
              " 'nostril': 903,\n",
              " 'till': 904,\n",
              " 'enjoy': 905,\n",
              " 'spray': 906,\n",
              " 'learned': 907,\n",
              " 'longterm': 908,\n",
              " 'general': 909,\n",
              " 'tamoxifen': 910,\n",
              " 'means': 911,\n",
              " 'open': 912,\n",
              " 'fast': 913,\n",
              " 'coffee': 914,\n",
              " 'swallow': 915,\n",
              " 'giving': 916,\n",
              " 'consistently': 917,\n",
              " 'minimum': 918,\n",
              " 'excessive': 919,\n",
              " 'estrogen': 920,\n",
              " 'trick': 921,\n",
              " 'arms': 922,\n",
              " 'tested': 923,\n",
              " 'continues': 924,\n",
              " 'relieved': 925,\n",
              " 'post': 926,\n",
              " 'based': 927,\n",
              " 'insert': 928,\n",
              " 'difficulty': 929,\n",
              " 'whenever': 930,\n",
              " 'visit': 931,\n",
              " 'sensitivity': 932,\n",
              " 'hives': 933,\n",
              " 'breathing': 934,\n",
              " 'nd': 935,\n",
              " 'severity': 936,\n",
              " 'daytime': 937,\n",
              " 'discontinue': 938,\n",
              " 'weigh': 939,\n",
              " 'amazing': 940,\n",
              " 'alot': 941,\n",
              " 'choice': 942,\n",
              " 'inability': 943,\n",
              " 'children': 944,\n",
              " 'dramatically': 945,\n",
              " 'rapid': 946,\n",
              " 'program': 947,\n",
              " 'happen': 948,\n",
              " 'smaller': 949,\n",
              " 'young': 950,\n",
              " 'limited': 951,\n",
              " 'swollen': 952,\n",
              " 'itchy': 953,\n",
              " 'behind': 954,\n",
              " 'entirely': 955,\n",
              " 'elevated': 956,\n",
              " 'stable': 957,\n",
              " 'site': 958,\n",
              " 'conditions': 959,\n",
              " 'lessened': 960,\n",
              " 'combined': 961,\n",
              " 'walking': 962,\n",
              " 'friends': 963,\n",
              " 'ineffective': 964,\n",
              " 'built': 965,\n",
              " 'activities': 966,\n",
              " 'previously': 967,\n",
              " 'peroxide': 968,\n",
              " 'slept': 969,\n",
              " 'washed': 970,\n",
              " 'dramatic': 971,\n",
              " 'consider': 972,\n",
              " 'pt': 973,\n",
              " 'hold': 974,\n",
              " 'aid': 975,\n",
              " 'tolerated': 976,\n",
              " 'mid': 977,\n",
              " 'kidney': 978,\n",
              " 'glad': 979,\n",
              " 'accident': 980,\n",
              " 'rarely': 981,\n",
              " 'nurse': 982,\n",
              " 'causing': 983,\n",
              " 'arm': 984,\n",
              " 'therapist': 985,\n",
              " 'response': 986,\n",
              " 'show': 987,\n",
              " 'appear': 988,\n",
              " 'maintain': 989,\n",
              " 'cleansing': 990,\n",
              " 'ensure': 991,\n",
              " 'lowered': 992,\n",
              " 'advice': 993,\n",
              " 'older': 994,\n",
              " 'various': 995,\n",
              " 'thanks': 996,\n",
              " 'aspirin': 997,\n",
              " 'c': 998,\n",
              " 'relatively': 999,\n",
              " 'run': 1000,\n",
              " ...}"
            ]
          },
          "metadata": {
            "tags": []
          },
          "execution_count": 51
        }
      ]
    },
    {
      "cell_type": "code",
      "metadata": {
        "id": "RUnvlfl5HaUu"
      },
      "source": [
        "max_words=MAX_SEQUENCE_LENGTH\n",
        "X_train_review_sequence = tokenizer.texts_to_sequences(X_train_review_df['commentsReview'])\n",
        "X_train_review_sequence = sequence.pad_sequences(X_train_review_sequence,maxlen=max_words)\n",
        "\n",
        "X_test_review_sequence = tokenizer.texts_to_sequences(X_test_review_df['commentsReview'])\n",
        "X_test_review_sequence = sequence.pad_sequences(X_test_review_sequence,maxlen=max_words)"
      ],
      "execution_count": 52,
      "outputs": []
    },
    {
      "cell_type": "code",
      "metadata": {
        "colab": {
          "base_uri": "https://localhost:8080/"
        },
        "id": "BPGBn9vKHaUv",
        "outputId": "46a89048-b4c1-40ce-873d-b8be57eb148f"
      },
      "source": [
        "X_train_review_sequence"
      ],
      "execution_count": 53,
      "outputs": [
        {
          "output_type": "execute_result",
          "data": {
            "text/plain": [
              "array([[  0,   0,   0, ...,   1,   1,  10],\n",
              "       [  0,   0,   0, ...,   4,   2,   3],\n",
              "       [  0,   0,   0, ...,  69,  52, 142],\n",
              "       ...,\n",
              "       [  0,   0,   0, ..., 172, 403,  16],\n",
              "       [  0,   0,   0, ...,  10,  14,  16],\n",
              "       [  0,   0,   0, ...,  61,  60, 450]], dtype=int32)"
            ]
          },
          "metadata": {
            "tags": []
          },
          "execution_count": 53
        }
      ]
    },
    {
      "cell_type": "code",
      "metadata": {
        "colab": {
          "base_uri": "https://localhost:8080/"
        },
        "id": "WQXFjNPHJScB",
        "outputId": "00eb47a2-9565-425d-825b-dbffd73d25e3"
      },
      "source": [
        "X_train_review_sequence.shape"
      ],
      "execution_count": 54,
      "outputs": [
        {
          "output_type": "execute_result",
          "data": {
            "text/plain": [
              "(2172, 100)"
            ]
          },
          "metadata": {
            "tags": []
          },
          "execution_count": 54
        }
      ]
    },
    {
      "cell_type": "code",
      "metadata": {
        "colab": {
          "base_uri": "https://localhost:8080/"
        },
        "id": "LxNwBNI5kYR8",
        "outputId": "7265d51d-3ec4-4dd9-edac-7b5aaba06679"
      },
      "source": [
        "X_test_review_sequence.shape"
      ],
      "execution_count": 55,
      "outputs": [
        {
          "output_type": "execute_result",
          "data": {
            "text/plain": [
              "(932, 100)"
            ]
          },
          "metadata": {
            "tags": []
          },
          "execution_count": 55
        }
      ]
    },
    {
      "cell_type": "markdown",
      "metadata": {
        "id": "iHwlkHXdHaUv"
      },
      "source": [
        "Visualising Length of sentences"
      ]
    },
    {
      "cell_type": "code",
      "metadata": {
        "id": "VzOIhEd7HaUv"
      },
      "source": [
        "\n",
        "len_arr=X_train_review_df['commentsReview'].apply(lambda row: len(row))"
      ],
      "execution_count": 56,
      "outputs": []
    },
    {
      "cell_type": "code",
      "metadata": {
        "colab": {
          "base_uri": "https://localhost:8080/",
          "height": 0
        },
        "id": "mamGLQAcHaUw",
        "outputId": "57a43b70-01da-47d2-cbfa-e1ef974e8a78"
      },
      "source": [
        "import matplotlib.pyplot as plt\n",
        "%matplotlib inline\n",
        "pd.Series(len_arr).hist(bins=1000)\n",
        "plt.show()\n"
      ],
      "execution_count": 57,
      "outputs": [
        {
          "output_type": "display_data",
          "data": {
            "image/png": "[encoded data removed]",
            "text/plain": [
              "<Figure size 432x288 with 1 Axes>"
            ]
          },
          "metadata": {
            "tags": [],
            "needs_background": "light"
          }
        }
      ]
    },
    {
      "cell_type": "code",
      "metadata": {
        "colab": {
          "base_uri": "https://localhost:8080/"
        },
        "id": "WP2EXkXUHaUw",
        "outputId": "fdc86212-c540-491c-c001-bb496b9a4ee9"
      },
      "source": [
        "len_arr.describe()"
      ],
      "execution_count": 58,
      "outputs": [
        {
          "output_type": "execute_result",
          "data": {
            "text/plain": [
              "count    2172.000000\n",
              "mean      170.829190\n",
              "std       173.743602\n",
              "min         0.000000\n",
              "25%        60.000000\n",
              "50%       123.000000\n",
              "75%       221.000000\n",
              "max      2237.000000\n",
              "Name: commentsReview, dtype: float64"
            ]
          },
          "metadata": {
            "tags": []
          },
          "execution_count": 58
        }
      ]
    },
    {
      "cell_type": "markdown",
      "metadata": {
        "id": "m5YToEVJHaUw"
      },
      "source": [
        "Most of the reviews are less than **500 words**"
      ]
    },
    {
      "cell_type": "code",
      "metadata": {
        "id": "8qHJhPYzk1V1"
      },
      "source": [
        "y_train_review_sequence=y_train_review_df\n",
        "y_test_review_sequence=y_test_review_df"
      ],
      "execution_count": 59,
      "outputs": []
    },
    {
      "cell_type": "code",
      "metadata": {
        "colab": {
          "base_uri": "https://localhost:8080/"
        },
        "id": "fijJ0HD8HaUx",
        "outputId": "185b1f4c-e18f-4e1a-a428-697fe9e013b2"
      },
      "source": [
        "y_test_review_sequence"
      ],
      "execution_count": 60,
      "outputs": [
        {
          "output_type": "execute_result",
          "data": {
            "text/plain": [
              "214     1\n",
              "1814    1\n",
              "2347    1\n",
              "3035    1\n",
              "457     1\n",
              "       ..\n",
              "1160    1\n",
              "195     1\n",
              "1097    1\n",
              "530     1\n",
              "2992    1\n",
              "Name: rank_bin, Length: 932, dtype: int64"
            ]
          },
          "metadata": {
            "tags": []
          },
          "execution_count": 60
        }
      ]
    },
    {
      "cell_type": "code",
      "metadata": {
        "colab": {
          "base_uri": "https://localhost:8080/"
        },
        "id": "Nafo45dqkzAk",
        "outputId": "f17d6f94-34c8-4014-9721-0f65a036570e"
      },
      "source": [
        "y_train_review_sequence"
      ],
      "execution_count": 61,
      "outputs": [
        {
          "output_type": "execute_result",
          "data": {
            "text/plain": [
              "1542    1\n",
              "1888    1\n",
              "2395    1\n",
              "1362    1\n",
              "2856    1\n",
              "       ..\n",
              "1669    0\n",
              "1334    1\n",
              "3096    1\n",
              "1051    1\n",
              "1432    1\n",
              "Name: rank_bin, Length: 2172, dtype: int64"
            ]
          },
          "metadata": {
            "tags": []
          },
          "execution_count": 61
        }
      ]
    },
    {
      "cell_type": "code",
      "metadata": {
        "colab": {
          "base_uri": "https://localhost:8080/"
        },
        "id": "5PBNy3yCOykE",
        "outputId": "134dff84-cb5b-4f68-b559-738537dce3c5"
      },
      "source": [
        "X_train_review_sequence.shape"
      ],
      "execution_count": 62,
      "outputs": [
        {
          "output_type": "execute_result",
          "data": {
            "text/plain": [
              "(2172, 100)"
            ]
          },
          "metadata": {
            "tags": []
          },
          "execution_count": 62
        }
      ]
    },
    {
      "cell_type": "code",
      "metadata": {
        "id": "Qb6_mPdHJDI9"
      },
      "source": [
        "\n",
        "# Convolution\n",
        "kernel_size = 5\n",
        "filters = 128\n",
        "pool_size = 4\n"
      ],
      "execution_count": 63,
      "outputs": []
    },
    {
      "cell_type": "code",
      "metadata": {
        "colab": {
          "base_uri": "https://localhost:8080/",
          "height": 0
        },
        "id": "eT6tCxhoHaUz",
        "outputId": "44998d6e-784d-4d8f-a718-d5403cb7850d"
      },
      "source": [
        "from keras import Sequential\n",
        "from keras.layers import Embedding, LSTM, Dense, Dropout,SpatialDropout1D,Conv1D,MaxPooling1D\n",
        "embedding_size=50\n",
        "vocabulary_size=VOC_SIZE\n",
        "max_words=MAX_SEQUENCE_LENGTH\n",
        "\"\"\"\n",
        "model=Sequential()\n",
        "model.add(Embedding(vocabulary_size, embedding_size, input_length=max_words))\n",
        "model.add(Dropout(0.15))\n",
        "model.add(Conv1D(filters,kernel_size, padding='valid',activation='relu',strides=1))\n",
        "model.add(MaxPooling1D(pool_size=pool_size))\n",
        "model.add(LSTM(196, return_sequences=True, dropout=0.2, recurrent_dropout=0.2))\n",
        "model.add(Dense(128, activation='relu'))\n",
        "model.add(LSTM(64, dropout=0.2, recurrent_dropout=0.2))\n",
        "model.add(Dense(1, activation='sigmoid'))\n",
        "model.summary()\"\"\"\n",
        "\n",
        "'''\n",
        "model=Sequential()\n",
        "model.add(Embedding(vocabulary_size, embedding_size, input_length=max_words))\n",
        "model.add(LSTM(192, return_sequences=True, dropout=0.3, recurrent_dropout=0.2))\n",
        "model.add(Dense(128,activation='relu'))\n",
        "model.add(LSTM(128, dropout=0.3, recurrent_dropout=0.2))\n",
        "model.add(Dense(32,activation='relu'))\n",
        "model.add(Dense(1, activation='sigmoid'))\n",
        "print(model.summary())'''\n",
        "from keras.utils.vis_utils import plot_model\n",
        "\n",
        "\n",
        "\n",
        "\n",
        "model=Sequential()\n",
        "model.add(Embedding(vocabulary_size, embedding_size, input_length=max_words))\n",
        "model.add(LSTM(192, return_sequences=True, dropout=0.3, recurrent_dropout=0.2))\n",
        "model.add(Dense(128,activation='relu'))\n",
        "model.add(LSTM(128, dropout=0.3, recurrent_dropout=0.2))\n",
        "model.add(Dense(32,activation='relu'))\n",
        "model.add(Dense(1, activation='sigmoid'))\n",
        "print(model.summary())\n",
        "plot_model(model, to_file='model_plot.png', show_shapes=True, show_layer_names=True)"
      ],
      "execution_count": 64,
      "outputs": [
        {
          "output_type": "stream",
          "text": [
            "Model: \"sequential\"\n",
            "_________________________________________________________________\n",
            "Layer (type)                 Output Shape              Param #   \n",
            "=================================================================\n",
            "embedding (Embedding)        (None, 100, 50)           50000     \n",
            "_________________________________________________________________\n",
            "lstm (LSTM)                  (None, 100, 192)          186624    \n",
            "_________________________________________________________________\n",
            "dense (Dense)                (None, 100, 128)          24704     \n",
            "_________________________________________________________________\n",
            "lstm_1 (LSTM)                (None, 128)               131584    \n",
            "_________________________________________________________________\n",
            "dense_1 (Dense)              (None, 32)                4128      \n",
            "_________________________________________________________________\n",
            "dense_2 (Dense)              (None, 1)                 33        \n",
            "=================================================================\n",
            "Total params: 397,073\n",
            "Trainable params: 397,073\n",
            "Non-trainable params: 0\n",
            "_________________________________________________________________\n",
            "None\n"
          ],
          "name": "stdout"
        },
        {
          "output_type": "execute_result",
          "data": {
            "image/png": "[encoded data removed]",
            "text/plain": [
              "<IPython.core.display.Image object>"
            ]
          },
          "metadata": {
            "tags": []
          },
          "execution_count": 64
        }
      ]
    },
    {
      "cell_type": "code",
      "metadata": {
        "id": "wDgdJG95HaUz"
      },
      "source": [
        "model.compile(loss='binary_crossentropy', \n",
        "             optimizer='RMSprop', \n",
        "             metrics=['accuracy'])"
      ],
      "execution_count": 65,
      "outputs": []
    },
    {
      "cell_type": "markdown",
      "metadata": {
        "id": "XTlR_2PkyFCf"
      },
      "source": [
        "#### Normal Model fitting"
      ]
    },
    {
      "cell_type": "code",
      "metadata": {
        "id": "r0nKa5FJzs--"
      },
      "source": [
        "def get_category(res):\n",
        "  val=[]\n",
        "  for i in res:\n",
        "    if(i[0]<0.5):\n",
        "      val.append(0)\n",
        "    else:\n",
        "      val.append(1)\n",
        "  return val"
      ],
      "execution_count": 66,
      "outputs": []
    },
    {
      "cell_type": "code",
      "metadata": {
        "id": "6IgTgFG3qsWH"
      },
      "source": [
        "top_5_class=pd.DataFrame(columns=[\"Batch\",\"Epoch\",\"Train\",\"Test\"])"
      ],
      "execution_count": 67,
      "outputs": []
    },
    {
      "cell_type": "code",
      "metadata": {
        "colab": {
          "base_uri": "https://localhost:8080/"
        },
        "id": "cOZzMZ6lHaU0",
        "outputId": "5ab0fafe-28ff-44ad-a834-c4053d357631"
      },
      "source": [
        "'''batch_size = 32\n",
        "num_epochs = 2'''\n",
        "batch_size = 8\n",
        "num_epochs = 4\n",
        "history = model.fit(X_train_review_sequence, y_train_review_sequence, validation_data=(X_test_review_sequence, y_test_review_sequence), batch_size=batch_size, epochs=num_epochs)\n"
      ],
      "execution_count": 68,
      "outputs": [
        {
          "output_type": "stream",
          "text": [
            "Epoch 1/4\n",
            "272/272 [==============================] - 190s 583ms/step - loss: 0.6020 - accuracy: 0.7322 - val_loss: 0.5805 - val_accuracy: 0.7361\n",
            "Epoch 2/4\n",
            "272/272 [==============================] - 160s 587ms/step - loss: 0.5605 - accuracy: 0.7260 - val_loss: 0.5534 - val_accuracy: 0.7414\n",
            "Epoch 3/4\n",
            "272/272 [==============================] - 159s 584ms/step - loss: 0.5049 - accuracy: 0.7757 - val_loss: 0.7741 - val_accuracy: 0.6899\n",
            "Epoch 4/4\n",
            "272/272 [==============================] - 161s 591ms/step - loss: 0.4825 - accuracy: 0.7835 - val_loss: 0.5653 - val_accuracy: 0.7393\n"
          ],
          "name": "stdout"
        }
      ]
    },
    {
      "cell_type": "code",
      "metadata": {
        "colab": {
          "base_uri": "https://localhost:8080/"
        },
        "id": "RgRtKlaTKvW4",
        "outputId": "e198cd99-ea2f-4014-8b62-02587aa4dc0c"
      },
      "source": [
        "get_performance_class(model,X_train_review_sequence,y_train_review_sequence)"
      ],
      "execution_count": 69,
      "outputs": [
        {
          "output_type": "stream",
          "text": [
            "[[ 269  304]\n",
            " [  85 1514]]\n",
            "0.7081503819468319\n",
            "              precision    recall  f1-score   support\n",
            "\n",
            "           0       0.76      0.47      0.58       573\n",
            "           1       0.83      0.95      0.89      1599\n",
            "\n",
            "    accuracy                           0.82      2172\n",
            "   macro avg       0.80      0.71      0.73      2172\n",
            "weighted avg       0.81      0.82      0.81      2172\n",
            "\n"
          ],
          "name": "stdout"
        },
        {
          "output_type": "execute_result",
          "data": {
            "text/plain": [
              "0.7081503819468319"
            ]
          },
          "metadata": {
            "tags": []
          },
          "execution_count": 69
        }
      ]
    },
    {
      "cell_type": "code",
      "metadata": {
        "colab": {
          "base_uri": "https://localhost:8080/"
        },
        "id": "9b8OTc90KiGO",
        "outputId": "bcb99a94-9e5d-4003-905b-a70222ae2e71"
      },
      "source": [
        "get_performance_class(model,X_test_review_sequence,y_test_review_sequence)"
      ],
      "execution_count": 70,
      "outputs": [
        {
          "output_type": "stream",
          "text": [
            "[[ 59 187]\n",
            " [ 56 630]]\n",
            "0.5791023726563796\n",
            "              precision    recall  f1-score   support\n",
            "\n",
            "           0       0.51      0.24      0.33       246\n",
            "           1       0.77      0.92      0.84       686\n",
            "\n",
            "    accuracy                           0.74       932\n",
            "   macro avg       0.64      0.58      0.58       932\n",
            "weighted avg       0.70      0.74      0.70       932\n",
            "\n"
          ],
          "name": "stdout"
        },
        {
          "output_type": "execute_result",
          "data": {
            "text/plain": [
              "0.5791023726563796"
            ]
          },
          "metadata": {
            "tags": []
          },
          "execution_count": 70
        }
      ]
    },
    {
      "cell_type": "markdown",
      "metadata": {
        "id": "l_RDcUJkQl3f"
      },
      "source": [
        "### Copying train result (to merge with regression)"
      ]
    },
    {
      "cell_type": "code",
      "metadata": {
        "id": "VpfBZ2bkumXe"
      },
      "source": [
        "y_test_pred_index=y_test_review_sequence"
      ],
      "execution_count": null,
      "outputs": []
    },
    {
      "cell_type": "code",
      "metadata": {
        "id": "Qz1QNVz_wsg7"
      },
      "source": [
        "pred_value=get_category(model.predict(X_test_review_sequence))"
      ],
      "execution_count": null,
      "outputs": []
    },
    {
      "cell_type": "code",
      "metadata": {
        "id": "N1L6YJA_xI9-",
        "colab": {
          "base_uri": "https://localhost:8080/"
        },
        "outputId": "4967715b-caf4-4db5-b36c-a7222f5b5bad"
      },
      "source": [
        "i=0\n",
        "for index, value in y_test_pred_index.items():\n",
        "  print(y_test_pred_index[index],pred_value[i])\n",
        "  y_test_pred_index[index]=pred_value[i]\n",
        "  i=i+1\n"
      ],
      "execution_count": null,
      "outputs": [
        {
          "output_type": "stream",
          "text": [
            "1 1\n",
            "1 0\n",
            "1 1\n",
            "1 1\n",
            "1 1\n",
            "1 1\n",
            "1 1\n",
            "0 1\n",
            "1 1\n",
            "1 1\n",
            "1 1\n",
            "1 1\n",
            "1 1\n",
            "1 1\n",
            "1 1\n",
            "1 1\n",
            "0 0\n",
            "1 1\n",
            "1 1\n",
            "0 1\n",
            "1 1\n",
            "1 1\n",
            "1 1\n",
            "1 1\n",
            "1 1\n",
            "1 1\n",
            "1 1\n",
            "0 1\n",
            "0 1\n",
            "1 1\n",
            "1 1\n",
            "0 1\n",
            "1 1\n",
            "1 1\n",
            "1 1\n",
            "1 1\n",
            "1 1\n",
            "0 0\n",
            "1 1\n",
            "0 1\n",
            "1 1\n",
            "1 1\n",
            "0 0\n",
            "0 1\n",
            "1 1\n",
            "1 1\n",
            "1 1\n",
            "0 1\n",
            "0 1\n",
            "0 1\n",
            "1 1\n",
            "0 1\n",
            "1 1\n",
            "0 1\n",
            "1 1\n",
            "1 1\n",
            "1 1\n",
            "1 1\n",
            "1 1\n",
            "1 1\n",
            "1 1\n",
            "1 1\n",
            "1 0\n",
            "0 1\n",
            "1 1\n",
            "1 1\n",
            "1 0\n",
            "1 1\n",
            "0 1\n",
            "0 1\n",
            "1 1\n",
            "1 1\n",
            "0 1\n",
            "1 1\n",
            "1 1\n",
            "1 1\n",
            "1 1\n",
            "1 1\n",
            "1 1\n",
            "1 1\n",
            "1 1\n",
            "1 1\n",
            "1 1\n",
            "1 0\n",
            "0 0\n",
            "1 1\n",
            "0 1\n",
            "1 1\n",
            "1 0\n",
            "0 0\n",
            "1 1\n",
            "0 0\n",
            "0 1\n",
            "0 1\n",
            "1 0\n",
            "1 1\n",
            "0 0\n",
            "1 1\n",
            "1 1\n",
            "0 1\n",
            "1 1\n",
            "1 1\n",
            "1 1\n",
            "1 1\n",
            "1 1\n",
            "1 1\n",
            "1 1\n",
            "0 1\n",
            "1 1\n",
            "1 1\n",
            "0 0\n",
            "1 1\n",
            "0 1\n",
            "0 1\n",
            "1 1\n",
            "1 1\n",
            "1 1\n",
            "1 0\n",
            "1 1\n",
            "0 1\n",
            "1 1\n",
            "0 0\n",
            "1 1\n",
            "1 0\n",
            "1 0\n",
            "0 1\n",
            "1 1\n",
            "0 0\n",
            "1 1\n",
            "1 1\n",
            "1 1\n",
            "1 1\n",
            "0 1\n",
            "1 1\n",
            "0 1\n",
            "1 1\n",
            "1 1\n",
            "1 1\n",
            "1 1\n",
            "1 1\n",
            "1 1\n",
            "1 1\n",
            "1 0\n",
            "1 1\n",
            "1 1\n",
            "1 1\n",
            "1 1\n",
            "1 1\n",
            "1 1\n",
            "1 1\n",
            "1 1\n",
            "1 1\n",
            "1 1\n",
            "1 1\n",
            "1 1\n",
            "0 1\n",
            "1 1\n",
            "1 1\n",
            "1 1\n",
            "0 1\n",
            "1 1\n",
            "0 1\n",
            "1 0\n",
            "0 1\n",
            "0 1\n",
            "1 1\n",
            "1 1\n",
            "1 1\n",
            "0 1\n",
            "0 1\n",
            "0 0\n",
            "1 0\n",
            "1 1\n",
            "1 1\n",
            "0 0\n",
            "0 1\n",
            "1 1\n",
            "1 1\n",
            "1 1\n",
            "0 1\n",
            "0 1\n",
            "1 0\n",
            "1 1\n",
            "1 1\n",
            "1 1\n",
            "1 1\n",
            "0 1\n",
            "0 1\n",
            "0 0\n",
            "1 1\n",
            "1 1\n",
            "1 1\n",
            "0 1\n",
            "1 1\n",
            "0 0\n",
            "0 1\n",
            "1 1\n",
            "1 0\n",
            "1 1\n",
            "0 1\n",
            "0 1\n",
            "0 1\n",
            "1 0\n",
            "1 1\n",
            "1 1\n",
            "1 1\n",
            "1 1\n",
            "0 1\n",
            "1 1\n",
            "0 1\n",
            "1 0\n",
            "1 1\n",
            "1 1\n",
            "1 1\n",
            "1 1\n",
            "1 1\n",
            "0 1\n",
            "1 1\n",
            "1 1\n",
            "1 1\n",
            "1 1\n",
            "1 1\n",
            "0 1\n",
            "1 1\n",
            "1 1\n",
            "0 1\n",
            "0 1\n",
            "1 1\n",
            "0 1\n",
            "1 1\n",
            "1 1\n",
            "1 0\n",
            "1 1\n",
            "1 1\n",
            "1 1\n",
            "0 1\n",
            "1 1\n",
            "1 1\n",
            "0 0\n",
            "0 1\n",
            "1 1\n",
            "1 1\n",
            "0 1\n",
            "1 1\n",
            "0 0\n",
            "0 1\n",
            "1 0\n",
            "1 0\n",
            "1 1\n",
            "1 1\n",
            "0 1\n",
            "1 1\n",
            "1 1\n",
            "0 1\n",
            "1 1\n",
            "1 1\n",
            "0 1\n",
            "1 1\n",
            "1 1\n",
            "1 1\n",
            "1 1\n",
            "1 1\n",
            "1 1\n",
            "1 1\n",
            "1 1\n",
            "0 0\n",
            "0 1\n",
            "1 1\n",
            "1 0\n",
            "0 1\n",
            "0 1\n",
            "0 1\n",
            "1 1\n",
            "1 1\n",
            "1 1\n",
            "1 1\n",
            "1 1\n",
            "1 1\n",
            "0 1\n",
            "1 1\n",
            "1 1\n",
            "1 1\n",
            "1 1\n",
            "1 1\n",
            "1 1\n",
            "0 1\n",
            "1 1\n",
            "1 1\n",
            "1 1\n",
            "1 1\n",
            "1 1\n",
            "1 1\n",
            "1 1\n",
            "0 1\n",
            "1 1\n",
            "1 1\n",
            "1 1\n",
            "1 1\n",
            "0 1\n",
            "1 1\n",
            "1 1\n",
            "0 1\n",
            "0 1\n",
            "1 1\n",
            "1 0\n",
            "1 "
          ],
          "name": "stdout"
        },
        {
          "output_type": "stream",
          "text": [
            "/usr/local/lib/python3.7/dist-packages/ipykernel_launcher.py:4: SettingWithCopyWarning: \n",
            "A value is trying to be set on a copy of a slice from a DataFrame\n",
            "\n",
            "See the caveats in the documentation: https://pandas.pydata.org/pandas-docs/stable/user_guide/indexing.html#returning-a-view-versus-a-copy\n",
            "  after removing the cwd from sys.path.\n"
          ],
          "name": "stderr"
        },
        {
          "output_type": "stream",
          "text": [
            "0\n",
            "1 1\n",
            "1 1\n",
            "0 1\n",
            "1 1\n",
            "1 1\n",
            "1 1\n",
            "1 1\n",
            "0 1\n",
            "1 1\n",
            "1 1\n",
            "1 1\n",
            "1 1\n",
            "1 1\n",
            "1 1\n",
            "1 1\n",
            "0 1\n",
            "1 1\n",
            "1 1\n",
            "0 0\n",
            "1 1\n",
            "1 1\n",
            "1 1\n",
            "0 1\n",
            "1 1\n",
            "1 0\n",
            "1 1\n",
            "1 1\n",
            "1 1\n",
            "1 1\n",
            "0 1\n",
            "0 0\n",
            "1 1\n",
            "0 0\n",
            "1 1\n",
            "1 1\n",
            "0 1\n",
            "1 1\n",
            "1 1\n",
            "1 1\n",
            "1 1\n",
            "1 1\n",
            "1 1\n",
            "0 1\n",
            "1 1\n",
            "1 1\n",
            "0 1\n",
            "1 1\n",
            "1 1\n",
            "1 1\n",
            "0 1\n",
            "0 1\n",
            "0 1\n",
            "1 1\n",
            "1 1\n",
            "1 1\n",
            "1 1\n",
            "1 1\n",
            "1 1\n",
            "1 1\n",
            "1 1\n",
            "1 1\n",
            "0 0\n",
            "1 1\n",
            "1 1\n",
            "0 1\n",
            "1 1\n",
            "1 1\n",
            "1 1\n",
            "1 1\n",
            "1 1\n",
            "1 1\n",
            "0 0\n",
            "0 0\n",
            "0 0\n",
            "1 1\n",
            "0 1\n",
            "1 1\n",
            "1 1\n",
            "1 1\n",
            "1 1\n",
            "1 1\n",
            "0 1\n",
            "0 1\n",
            "1 1\n",
            "1 1\n",
            "0 1\n",
            "0 1\n",
            "1 1\n",
            "1 1\n",
            "0 0\n",
            "0 1\n",
            "1 1\n",
            "1 0\n",
            "1 1\n",
            "1 1\n",
            "0 1\n",
            "0 1\n",
            "1 0\n",
            "1 1\n",
            "1 1\n",
            "1 1\n",
            "1 1\n",
            "0 1\n",
            "1 1\n",
            "0 1\n",
            "1 1\n",
            "0 0\n",
            "1 0\n",
            "1 1\n",
            "1 1\n",
            "1 1\n",
            "0 0\n",
            "1 1\n",
            "1 0\n",
            "1 1\n",
            "0 1\n",
            "0 1\n",
            "0 1\n",
            "0 1\n",
            "0 0\n",
            "0 1\n",
            "1 1\n",
            "1 1\n",
            "1 1\n",
            "1 1\n",
            "1 1\n",
            "1 1\n",
            "0 1\n",
            "0 1\n",
            "1 1\n",
            "1 1\n",
            "1 1\n",
            "0 1\n",
            "1 1\n",
            "1 1\n",
            "0 0\n",
            "1 1\n",
            "1 1\n",
            "1 1\n",
            "1 1\n",
            "1 1\n",
            "0 1\n",
            "1 1\n",
            "1 0\n",
            "1 1\n",
            "1 1\n",
            "1 1\n",
            "1 1\n",
            "1 1\n",
            "0 0\n",
            "0 1\n",
            "1 1\n",
            "1 1\n",
            "1 1\n",
            "1 1\n",
            "0 0\n",
            "1 1\n",
            "1 1\n",
            "1 1\n",
            "1 1\n",
            "0 1\n",
            "1 1\n",
            "1 1\n",
            "1 1\n",
            "1 1\n",
            "1 1\n",
            "1 0\n",
            "1 1\n",
            "1 1\n",
            "1 1\n",
            "0 1\n",
            "1 1\n",
            "1 1\n",
            "1 1\n",
            "1 1\n",
            "1 1\n",
            "1 1\n",
            "1 0\n",
            "0 1\n",
            "1 1\n",
            "1 1\n",
            "1 1\n",
            "1 1\n",
            "1 1\n",
            "1 1\n",
            "1 1\n",
            "1 1\n",
            "0 1\n",
            "1 1\n",
            "0 1\n",
            "1 1\n",
            "1 1\n",
            "1 1\n",
            "0 1\n",
            "1 1\n",
            "1 1\n",
            "0 1\n",
            "1 1\n",
            "0 1\n",
            "0 0\n",
            "1 1\n",
            "0 1\n",
            "0 1\n",
            "1 1\n",
            "1 1\n",
            "1 1\n",
            "1 1\n",
            "1 1\n",
            "0 0\n",
            "1 1\n",
            "1 1\n",
            "0 1\n",
            "1 0\n",
            "1 1\n",
            "1 1\n",
            "1 1\n",
            "1 1\n",
            "1 1\n",
            "1 1\n",
            "1 1\n",
            "0 0\n",
            "0 1\n",
            "1 1\n",
            "0 1\n",
            "1 1\n",
            "1 1\n",
            "1 1\n",
            "1 1\n",
            "1 1\n",
            "1 1\n",
            "1 1\n",
            "1 1\n",
            "0 1\n",
            "1 1\n",
            "1 0\n",
            "1 1\n",
            "1 1\n",
            "0 1\n",
            "1 1\n",
            "1 1\n",
            "1 1\n",
            "1 1\n",
            "1 1\n",
            "0 1\n",
            "1 1\n",
            "1 1\n",
            "1 0\n",
            "0 1\n",
            "1 1\n",
            "1 1\n",
            "1 1\n",
            "1 1\n",
            "0 1\n",
            "0 1\n",
            "1 1\n",
            "1 1\n",
            "1 1\n",
            "1 1\n",
            "1 1\n",
            "0 1\n",
            "1 1\n",
            "1 1\n",
            "0 1\n",
            "1 1\n",
            "1 1\n",
            "1 1\n",
            "1 1\n",
            "1 1\n",
            "1 0\n",
            "1 1\n",
            "1 1\n",
            "1 1\n",
            "1 1\n",
            "1 1\n",
            "0 1\n",
            "1 1\n",
            "1 1\n",
            "1 1\n",
            "1 1\n",
            "1 1\n",
            "1 1\n",
            "1 1\n",
            "1 1\n",
            "1 1\n",
            "1 1\n",
            "0 1\n",
            "1 0\n",
            "1 1\n",
            "1 1\n",
            "1 1\n",
            "1 1\n",
            "1 1\n",
            "1 1\n",
            "1 1\n",
            "1 1\n",
            "1 1\n",
            "1 1\n",
            "0 0\n",
            "0 1\n",
            "0 1\n",
            "1 1\n",
            "1 1\n",
            "1 1\n",
            "0 1\n",
            "0 0\n",
            "1 1\n",
            "1 1\n",
            "0 1\n",
            "0 1\n",
            "1 1\n",
            "1 1\n",
            "0 1\n",
            "1 1\n",
            "1 1\n",
            "1 0\n",
            "0 1\n",
            "1 1\n",
            "1 1\n",
            "1 1\n",
            "1 1\n",
            "1 1\n",
            "1 1\n",
            "0 0\n",
            "1 1\n",
            "0 0\n",
            "1 1\n",
            "1 1\n",
            "1 1\n",
            "1 1\n",
            "1 0\n",
            "1 1\n",
            "1 1\n",
            "1 1\n",
            "1 1\n",
            "1 1\n",
            "0 1\n",
            "0 0\n",
            "1 1\n",
            "1 1\n",
            "1 1\n",
            "1 1\n",
            "1 1\n",
            "1 1\n",
            "1 1\n",
            "1 1\n",
            "0 1\n",
            "1 1\n",
            "1 0\n",
            "0 1\n",
            "1 1\n",
            "0 0\n",
            "1 1\n",
            "1 1\n",
            "0 0\n",
            "1 1\n",
            "1 1\n",
            "1 1\n",
            "1 1\n",
            "1 1\n",
            "0 0\n",
            "0 1\n",
            "0 1\n",
            "0 1\n",
            "1 1\n",
            "1 0\n",
            "1 1\n",
            "1 1\n",
            "0 1\n",
            "0 1\n",
            "1 1\n",
            "1 1\n",
            "0 0\n",
            "0 0\n",
            "0 1\n",
            "1 1\n",
            "1 1\n",
            "1 1\n",
            "1 1\n",
            "1 1\n",
            "1 1\n",
            "0 0\n",
            "1 1\n",
            "1 1\n",
            "1 1\n",
            "1 1\n",
            "0 1\n",
            "0 1\n",
            "1 1\n",
            "1 1\n",
            "0 1\n",
            "1 1\n",
            "1 1\n",
            "1 1\n",
            "1 0\n",
            "1 1\n",
            "1 1\n",
            "1 1\n",
            "1 1\n",
            "1 1\n",
            "1 1\n",
            "1 1\n",
            "1 1\n",
            "1 1\n",
            "1 1\n",
            "1 0\n",
            "1 1\n",
            "1 1\n",
            "1 1\n",
            "1 1\n",
            "1 1\n",
            "1 0\n",
            "0 1\n",
            "1 1\n",
            "0 1\n",
            "0 0\n",
            "1 1\n",
            "1 1\n",
            "1 1\n",
            "1 0\n",
            "1 1\n",
            "1 1\n",
            "0 1\n",
            "1 1\n",
            "1 1\n",
            "1 1\n",
            "1 1\n",
            "0 1\n",
            "0 1\n",
            "0 1\n",
            "1 0\n",
            "1 1\n",
            "1 1\n",
            "1 1\n",
            "1 1\n",
            "1 1\n",
            "1 1\n",
            "1 1\n",
            "1 1\n",
            "1 1\n",
            "1 0\n",
            "0 1\n",
            "1 1\n",
            "1 1\n",
            "1 1\n",
            "1 1\n",
            "1 1\n",
            "0 1\n",
            "1 1\n",
            "1 1\n",
            "0 1\n",
            "0 1\n",
            "0 1\n",
            "1 1\n",
            "0 1\n",
            "1 1\n",
            "0 0\n",
            "1 1\n",
            "0 1\n",
            "1 1\n",
            "0 1\n",
            "1 1\n",
            "1 1\n",
            "0 0\n",
            "1 1\n",
            "1 1\n",
            "1 0\n",
            "1 1\n",
            "1 0\n",
            "0 1\n",
            "0 1\n",
            "1 1\n",
            "1 1\n",
            "1 1\n",
            "1 1\n",
            "1 1\n",
            "1 1\n",
            "1 1\n",
            "1 1\n",
            "0 1\n",
            "1 1\n",
            "1 1\n",
            "0 1\n",
            "1 0\n",
            "1 1\n",
            "1 1\n",
            "1 1\n",
            "0 1\n",
            "0 1\n",
            "1 1\n",
            "1 1\n",
            "1 1\n",
            "1 1\n",
            "1 1\n",
            "1 1\n",
            "1 1\n",
            "1 1\n",
            "1 1\n",
            "0 1\n",
            "0 0\n",
            "1 1\n",
            "1 1\n",
            "1 1\n",
            "1 1\n",
            "1 1\n",
            "1 1\n",
            "0 0\n",
            "1 1\n",
            "1 1\n",
            "1 1\n",
            "1 1\n",
            "1 1\n",
            "1 1\n",
            "0 1\n",
            "1 1\n",
            "0 0\n",
            "1 1\n",
            "1 1\n",
            "1 1\n",
            "0 1\n",
            "0 0\n",
            "1 1\n",
            "1 1\n",
            "1 1\n",
            "1 1\n",
            "1 1\n",
            "1 1\n",
            "0 1\n",
            "0 1\n",
            "0 1\n",
            "1 1\n",
            "1 1\n",
            "0 0\n",
            "1 1\n",
            "1 0\n",
            "1 1\n",
            "0 1\n",
            "0 1\n",
            "1 0\n",
            "1 1\n",
            "1 1\n",
            "0 1\n",
            "1 1\n",
            "1 1\n",
            "0 1\n",
            "1 0\n",
            "1 1\n",
            "1 1\n",
            "1 1\n",
            "1 1\n",
            "0 1\n",
            "1 1\n",
            "0 1\n",
            "0 1\n",
            "1 1\n",
            "1 1\n",
            "0 1\n",
            "0 1\n",
            "1 1\n",
            "1 1\n",
            "0 1\n",
            "1 1\n",
            "1 0\n",
            "0 1\n",
            "1 1\n",
            "0 1\n",
            "1 1\n",
            "1 1\n",
            "1 1\n",
            "1 1\n",
            "1 1\n",
            "1 1\n",
            "1 1\n",
            "1 1\n",
            "0 1\n",
            "1 0\n",
            "1 1\n",
            "1 1\n",
            "0 0\n",
            "1 1\n",
            "1 0\n",
            "1 1\n",
            "1 1\n",
            "1 1\n",
            "0 1\n",
            "1 0\n",
            "1 1\n",
            "1 1\n",
            "1 1\n",
            "1 1\n",
            "1 1\n",
            "0 1\n",
            "1 1\n",
            "0 1\n",
            "0 1\n",
            "1 1\n",
            "1 1\n",
            "1 1\n",
            "1 1\n",
            "0 0\n",
            "0 1\n",
            "1 1\n",
            "0 1\n",
            "1 1\n",
            "1 1\n",
            "1 1\n",
            "1 1\n",
            "1 0\n",
            "1 1\n",
            "1 1\n",
            "1 1\n",
            "0 1\n",
            "0 0\n",
            "1 1\n",
            "1 1\n",
            "0 1\n",
            "1 1\n",
            "1 1\n",
            "1 1\n",
            "1 0\n",
            "1 1\n",
            "0 0\n",
            "1 1\n",
            "1 1\n",
            "1 1\n",
            "1 1\n",
            "1 1\n"
          ],
          "name": "stdout"
        }
      ]
    },
    {
      "cell_type": "code",
      "metadata": {
        "id": "6rIGRw790MES",
        "colab": {
          "base_uri": "https://localhost:8080/"
        },
        "outputId": "7b6d32ae-d1a7-4b8d-9384-51ce0c117e31"
      },
      "source": [
        "y_test_pred_index"
      ],
      "execution_count": null,
      "outputs": [
        {
          "output_type": "execute_result",
          "data": {
            "text/plain": [
              "214     1\n",
              "1814    0\n",
              "2347    1\n",
              "3035    1\n",
              "457     1\n",
              "       ..\n",
              "1160    1\n",
              "195     1\n",
              "1097    1\n",
              "530     1\n",
              "2992    1\n",
              "Name: rank_bin, Length: 932, dtype: int64"
            ]
          },
          "metadata": {
            "tags": []
          },
          "execution_count": 75
        }
      ]
    },
    {
      "cell_type": "code",
      "metadata": {
        "id": "t1FZCMoaQoQs"
      },
      "source": [
        "y_train_pred_index=y_train_review_sequence"
      ],
      "execution_count": null,
      "outputs": []
    },
    {
      "cell_type": "code",
      "metadata": {
        "id": "eAzNaf3KQxAu"
      },
      "source": [
        "train_pred_value=get_category(model.predict(X_train_review_sequence))"
      ],
      "execution_count": null,
      "outputs": []
    },
    {
      "cell_type": "code",
      "metadata": {
        "id": "pojroR3RRab5",
        "colab": {
          "base_uri": "https://localhost:8080/"
        },
        "outputId": "53f3c3cb-9cfe-4d6d-b99d-1241b02d2657"
      },
      "source": [
        "i=0\n",
        "for index, value in y_train_pred_index.items():\n",
        "  print(y_train_pred_index[index],train_pred_value[i])\n",
        "  y_train_pred_index[index]=train_pred_value[i]\n",
        "  i=i+1"
      ],
      "execution_count": null,
      "outputs": [
        {
          "output_type": "stream",
          "text": [
            "1 1\n",
            "1 1\n",
            "1 1\n",
            "1 1\n",
            "1 1\n",
            "1 1\n",
            "1 1\n",
            "1 1\n",
            "1 1\n",
            "0 0\n",
            "1 1\n",
            "1 1\n",
            "1 1\n",
            "0 1\n",
            "1 1\n",
            "1 1\n",
            "1 1\n",
            "1 1\n",
            "1 1\n",
            "1 1\n",
            "1 1\n",
            "1 0\n",
            "1 1\n",
            "1 1\n",
            "0 0\n",
            "1 1\n",
            "1 1\n",
            "1 1\n",
            "0 1\n",
            "1 1\n",
            "1 1\n",
            "1 1\n",
            "1 1\n",
            "1 1\n",
            "1 1\n",
            "1 1\n",
            "1 0\n",
            "0 1\n",
            "1 0\n",
            "1 1\n",
            "1 1\n",
            "1 1\n",
            "1 1\n",
            "1 1\n",
            "1 1\n",
            "1 1\n",
            "1 1\n",
            "0 0\n",
            "1 1\n",
            "1 1\n",
            "1 1\n",
            "1 1\n",
            "1 1\n",
            "0 1\n",
            "1 1\n",
            "1 1\n",
            "1 1\n",
            "1 1\n",
            "1 1\n",
            "1 1\n",
            "1 1\n",
            "1 1\n",
            "1 1\n",
            "1 1\n",
            "1 0\n",
            "1 1\n",
            "1 1\n",
            "1 1\n",
            "1 1\n",
            "1 1\n",
            "1 1\n",
            "1 1\n",
            "1 1\n",
            "1 1\n",
            "1 0\n",
            "1 0\n",
            "0 1\n",
            "1 1\n",
            "1 0\n",
            "0 0\n",
            "0 0\n",
            "1 1\n",
            "1 1\n",
            "1 1\n",
            "1 1\n",
            "1 1\n",
            "0 0\n",
            "1 1\n",
            "1 1\n",
            "0 1\n",
            "0 0\n",
            "1 1\n",
            "0 0\n",
            "1 0\n",
            "0 0\n",
            "1 1\n",
            "1 1\n",
            "1 0\n",
            "0 1\n",
            "1 1\n",
            "1 1\n",
            "1 1\n",
            "1 1\n",
            "0 0\n",
            "0 1\n",
            "0 1\n",
            "0 1\n",
            "1 1\n",
            "0 1\n",
            "1 1\n",
            "1 1\n",
            "0 0\n",
            "1 1\n",
            "1 1\n",
            "1 1\n",
            "1 1\n",
            "0 0\n",
            "1 1\n",
            "0 1\n",
            "0 0\n",
            "1 1\n",
            "0 0\n",
            "1 1\n",
            "0 0\n",
            "0 0\n",
            "1 1\n",
            "1 1\n",
            "1 1\n",
            "1 1\n",
            "0 1\n",
            "1 1\n",
            "1 1\n",
            "1 1\n",
            "0 1\n",
            "1 1\n",
            "1 1\n",
            "0 1\n",
            "1 1\n",
            "1 1\n",
            "0 1\n",
            "0 0\n",
            "1 1\n",
            "1 1\n",
            "0 1\n",
            "1 1\n",
            "0 1\n",
            "1 1\n",
            "1 1\n",
            "1 1\n",
            "0 1\n",
            "1 1\n",
            "1 1\n",
            "1 1\n",
            "1 1\n",
            "1 1\n",
            "1 1\n",
            "1 1\n",
            "1 1\n",
            "0 0\n",
            "0 1\n",
            "1 1\n",
            "0 1\n",
            "0 1\n",
            "0 0\n",
            "1 1\n",
            "1 1\n",
            "0 0\n",
            "1 1\n",
            "0 1\n",
            "1 1\n",
            "1 1\n",
            "1 1\n",
            "1 1\n",
            "0 1\n",
            "0 0\n",
            "1 1\n",
            "1 1\n",
            "1 1\n",
            "1 1\n",
            "1 1\n",
            "1 1\n",
            "1 1\n",
            "1 1\n",
            "0 0\n",
            "1 1\n",
            "1 1\n",
            "1 1\n",
            "1 1\n",
            "1 1\n",
            "1 1\n",
            "1 1\n",
            "1 1\n",
            "1 1\n",
            "1 1\n",
            "0 0\n",
            "0 1\n",
            "1 1\n",
            "1 1\n",
            "0 1\n",
            "0 0\n",
            "1 1\n",
            "0 0\n",
            "0 0\n",
            "0 0\n",
            "1 1\n",
            "1 1\n",
            "1 1\n",
            "0 1\n",
            "1 1\n",
            "1 0\n",
            "0 1\n",
            "1 1\n",
            "0 0\n",
            "0 0\n",
            "1 1\n",
            "1 1\n",
            "0 0\n",
            "0 1\n",
            "1 1\n",
            "0 0\n",
            "1 1\n",
            "0 1\n",
            "0 1\n",
            "1 0\n",
            "1 1\n",
            "1 1\n",
            "1 1\n",
            "1 1\n",
            "1 1\n",
            "1 1\n",
            "0 0\n",
            "0 0\n",
            "1 1\n",
            "1 1\n",
            "1 1\n",
            "1 1\n",
            "1 1\n",
            "1 1\n",
            "1 1\n",
            "0 0\n",
            "1 1\n",
            "1 1\n",
            "1 1\n",
            "1 1\n",
            "1 1\n",
            "1 1\n",
            "1 1\n",
            "0 1\n",
            "1 1\n",
            "0 0\n",
            "1 1\n",
            "1 1\n",
            "1 1\n",
            "1 1\n",
            "1 1\n",
            "1 1\n",
            "1 1\n",
            "1 1\n",
            "1 1\n",
            "1 1\n",
            "1 1\n",
            "1 1\n",
            "1 1\n",
            "0 0\n",
            "1 "
          ],
          "name": "stdout"
        },
        {
          "output_type": "stream",
          "text": [
            "/usr/local/lib/python3.7/dist-packages/ipykernel_launcher.py:4: SettingWithCopyWarning: \n",
            "A value is trying to be set on a copy of a slice from a DataFrame\n",
            "\n",
            "See the caveats in the documentation: https://pandas.pydata.org/pandas-docs/stable/user_guide/indexing.html#returning-a-view-versus-a-copy\n",
            "  after removing the cwd from sys.path.\n"
          ],
          "name": "stderr"
        },
        {
          "output_type": "stream",
          "text": [
            "1\n",
            "1 1\n",
            "0 0\n",
            "1 1\n",
            "1 1\n",
            "1 1\n",
            "1 1\n",
            "1 1\n",
            "1 1\n",
            "0 1\n",
            "1 1\n",
            "0 1\n",
            "1 1\n",
            "1 1\n",
            "1 0\n",
            "1 1\n",
            "1 1\n",
            "0 0\n",
            "1 1\n",
            "1 1\n",
            "1 1\n",
            "1 1\n",
            "1 1\n",
            "1 1\n",
            "1 1\n",
            "0 0\n",
            "1 1\n",
            "1 1\n",
            "1 1\n",
            "0 1\n",
            "0 1\n",
            "1 1\n",
            "1 1\n",
            "0 0\n",
            "0 1\n",
            "1 1\n",
            "1 1\n",
            "1 1\n",
            "1 1\n",
            "1 1\n",
            "1 1\n",
            "0 0\n",
            "1 1\n",
            "1 1\n",
            "1 1\n",
            "1 1\n",
            "1 1\n",
            "1 1\n",
            "1 1\n",
            "1 1\n",
            "1 1\n",
            "1 1\n",
            "1 1\n",
            "1 1\n",
            "1 1\n",
            "1 1\n",
            "1 1\n",
            "1 1\n",
            "0 1\n",
            "0 0\n",
            "1 1\n",
            "0 1\n",
            "1 1\n",
            "1 1\n",
            "0 1\n",
            "1 1\n",
            "1 1\n",
            "1 0\n",
            "1 1\n",
            "0 0\n",
            "0 1\n",
            "0 0\n",
            "0 1\n",
            "1 1\n",
            "1 1\n",
            "1 1\n",
            "0 0\n",
            "1 1\n",
            "1 1\n",
            "1 1\n",
            "1 1\n",
            "0 1\n",
            "1 1\n",
            "0 1\n",
            "1 1\n",
            "1 1\n",
            "1 1\n",
            "0 1\n",
            "1 1\n",
            "1 1\n",
            "0 1\n",
            "0 0\n",
            "1 1\n",
            "1 1\n",
            "1 1\n",
            "0 0\n",
            "1 1\n",
            "1 1\n",
            "0 0\n",
            "1 1\n",
            "1 1\n",
            "0 0\n",
            "1 1\n",
            "0 0\n",
            "1 1\n",
            "1 1\n",
            "0 1\n",
            "0 0\n",
            "0 0\n",
            "0 0\n",
            "1 1\n",
            "1 1\n",
            "1 1\n",
            "1 1\n",
            "1 1\n",
            "1 1\n",
            "1 1\n",
            "1 1\n",
            "1 1\n",
            "1 1\n",
            "1 1\n",
            "0 0\n",
            "0 1\n",
            "1 1\n",
            "1 1\n",
            "1 1\n",
            "0 1\n",
            "0 0\n",
            "1 1\n",
            "1 1\n",
            "1 1\n",
            "1 1\n",
            "0 1\n",
            "0 1\n",
            "1 1\n",
            "1 1\n",
            "1 1\n",
            "1 1\n",
            "1 1\n",
            "0 1\n",
            "1 1\n",
            "1 1\n",
            "1 1\n",
            "1 1\n",
            "1 0\n",
            "1 1\n",
            "1 1\n",
            "0 1\n",
            "1 1\n",
            "1 1\n",
            "1 1\n",
            "1 1\n",
            "1 1\n",
            "1 1\n",
            "1 0\n",
            "1 1\n",
            "1 1\n",
            "1 1\n",
            "1 1\n",
            "1 1\n",
            "1 1\n",
            "1 1\n",
            "1 1\n",
            "1 1\n",
            "1 1\n",
            "0 1\n",
            "1 1\n",
            "0 1\n",
            "0 0\n",
            "1 1\n",
            "1 1\n",
            "0 1\n",
            "0 0\n",
            "0 0\n",
            "1 1\n",
            "0 0\n",
            "1 1\n",
            "0 0\n",
            "1 1\n",
            "1 1\n",
            "0 1\n",
            "1 1\n",
            "0 0\n",
            "1 1\n",
            "0 1\n",
            "0 1\n",
            "0 0\n",
            "1 1\n",
            "1 1\n",
            "0 0\n",
            "1 1\n",
            "1 1\n",
            "1 1\n",
            "1 1\n",
            "1 1\n",
            "1 1\n",
            "1 1\n",
            "1 1\n",
            "0 1\n",
            "1 1\n",
            "0 0\n",
            "1 1\n",
            "0 1\n",
            "1 1\n",
            "1 1\n",
            "1 1\n",
            "0 1\n",
            "1 1\n",
            "1 1\n",
            "1 1\n",
            "1 1\n",
            "1 1\n",
            "0 1\n",
            "0 0\n",
            "1 1\n",
            "0 0\n",
            "1 1\n",
            "1 1\n",
            "1 1\n",
            "1 0\n",
            "1 1\n",
            "0 0\n",
            "1 1\n",
            "0 1\n",
            "0 1\n",
            "1 1\n",
            "0 0\n",
            "1 1\n",
            "1 1\n",
            "1 1\n",
            "0 0\n",
            "1 1\n",
            "1 0\n",
            "1 0\n",
            "1 1\n",
            "0 1\n",
            "1 1\n",
            "1 1\n",
            "1 1\n",
            "0 1\n",
            "0 1\n",
            "1 1\n",
            "1 1\n",
            "0 0\n",
            "1 1\n",
            "0 1\n",
            "1 1\n",
            "1 1\n",
            "0 1\n",
            "1 1\n",
            "1 1\n",
            "1 1\n",
            "0 0\n",
            "1 1\n",
            "1 1\n",
            "1 1\n",
            "1 1\n",
            "1 1\n",
            "1 1\n",
            "1 1\n",
            "1 1\n",
            "1 1\n",
            "0 1\n",
            "1 0\n",
            "1 1\n",
            "0 1\n",
            "1 1\n",
            "1 1\n",
            "1 1\n",
            "1 1\n",
            "1 1\n",
            "1 1\n",
            "1 1\n",
            "1 1\n",
            "0 1\n",
            "1 1\n",
            "0 1\n",
            "1 1\n",
            "1 1\n",
            "1 1\n",
            "1 1\n",
            "0 0\n",
            "1 1\n",
            "0 0\n",
            "1 1\n",
            "1 1\n",
            "0 1\n",
            "1 1\n",
            "0 0\n",
            "1 1\n",
            "0 0\n",
            "0 1\n",
            "1 1\n",
            "0 0\n",
            "1 1\n",
            "1 1\n",
            "1 1\n",
            "1 1\n",
            "1 1\n",
            "1 1\n",
            "1 1\n",
            "1 1\n",
            "1 1\n",
            "0 1\n",
            "0 0\n",
            "0 1\n",
            "1 1\n",
            "1 1\n",
            "0 0\n",
            "1 1\n",
            "0 1\n",
            "1 1\n",
            "1 1\n",
            "0 0\n",
            "1 0\n",
            "0 1\n",
            "1 1\n",
            "0 1\n",
            "1 1\n",
            "1 1\n",
            "0 0\n",
            "0 1\n",
            "1 1\n",
            "1 1\n",
            "0 1\n",
            "1 1\n",
            "1 1\n",
            "1 1\n",
            "1 1\n",
            "1 1\n",
            "1 0\n",
            "1 1\n",
            "0 1\n",
            "0 0\n",
            "0 0\n",
            "0 0\n",
            "1 0\n",
            "1 1\n",
            "1 1\n",
            "1 1\n",
            "1 1\n",
            "1 1\n",
            "0 1\n",
            "1 1\n",
            "1 1\n",
            "1 1\n",
            "1 1\n",
            "1 1\n",
            "1 1\n",
            "1 1\n",
            "1 1\n",
            "1 1\n",
            "1 1\n",
            "0 0\n",
            "1 1\n",
            "1 1\n",
            "1 1\n",
            "0 0\n",
            "1 1\n",
            "0 0\n",
            "0 0\n",
            "0 1\n",
            "1 1\n",
            "1 1\n",
            "0 1\n",
            "1 1\n",
            "0 1\n",
            "0 0\n",
            "1 1\n",
            "0 0\n",
            "1 1\n",
            "1 0\n",
            "1 1\n",
            "1 1\n",
            "0 1\n",
            "1 1\n",
            "0 1\n",
            "1 1\n",
            "0 0\n",
            "1 1\n",
            "0 0\n",
            "1 1\n",
            "1 1\n",
            "1 1\n",
            "1 1\n",
            "0 0\n",
            "1 1\n",
            "1 1\n",
            "0 1\n",
            "1 1\n",
            "1 1\n",
            "0 1\n",
            "1 1\n",
            "0 0\n",
            "1 1\n",
            "0 1\n",
            "1 1\n",
            "1 1\n",
            "1 1\n",
            "1 1\n",
            "1 1\n",
            "1 1\n",
            "1 1\n",
            "0 0\n",
            "1 1\n",
            "1 1\n",
            "0 0\n",
            "1 1\n",
            "1 1\n",
            "1 1\n",
            "1 1\n",
            "1 1\n",
            "1 1\n",
            "1 1\n",
            "0 0\n",
            "1 1\n",
            "1 1\n",
            "0 1\n",
            "1 1\n",
            "1 1\n",
            "1 1\n",
            "1 1\n",
            "1 0\n",
            "1 1\n",
            "0 1\n",
            "1 1\n",
            "1 1\n",
            "1 1\n",
            "0 0\n",
            "1 1\n",
            "1 1\n",
            "1 1\n",
            "1 1\n",
            "1 1\n",
            "0 1\n",
            "1 1\n",
            "1 1\n",
            "0 1\n",
            "1 0\n",
            "1 1\n",
            "1 1\n",
            "1 1\n",
            "1 1\n",
            "1 1\n",
            "1 1\n",
            "0 1\n",
            "0 1\n",
            "1 1\n",
            "1 1\n",
            "1 1\n",
            "1 1\n",
            "1 1\n",
            "0 1\n",
            "1 1\n",
            "1 0\n",
            "0 0\n",
            "1 0\n",
            "1 1\n",
            "0 1\n",
            "1 1\n",
            "1 1\n",
            "1 1\n",
            "1 1\n",
            "1 1\n",
            "0 1\n",
            "0 0\n",
            "1 1\n",
            "1 1\n",
            "1 1\n",
            "1 1\n",
            "0 0\n",
            "1 1\n",
            "1 1\n",
            "1 1\n",
            "1 1\n",
            "1 1\n",
            "1 1\n",
            "1 1\n",
            "1 1\n",
            "1 1\n",
            "1 1\n",
            "1 1\n",
            "0 0\n",
            "1 0\n",
            "1 1\n",
            "1 1\n",
            "1 1\n",
            "1 1\n",
            "1 1\n",
            "1 1\n",
            "1 1\n",
            "1 1\n",
            "1 1\n",
            "1 1\n",
            "0 1\n",
            "1 1\n",
            "1 1\n",
            "1 1\n",
            "1 1\n",
            "1 1\n",
            "1 1\n",
            "1 1\n",
            "1 1\n",
            "0 0\n",
            "1 1\n",
            "0 1\n",
            "1 1\n",
            "1 1\n",
            "0 0\n",
            "1 1\n",
            "1 1\n",
            "1 1\n",
            "0 1\n",
            "1 1\n",
            "1 1\n",
            "1 1\n",
            "1 1\n",
            "1 1\n",
            "1 1\n",
            "1 1\n",
            "1 1\n",
            "0 1\n",
            "1 1\n",
            "1 1\n",
            "1 1\n",
            "1 0\n",
            "1 1\n",
            "1 1\n",
            "0 1\n",
            "1 1\n",
            "1 1\n",
            "1 1\n",
            "1 1\n",
            "0 0\n",
            "1 1\n",
            "1 1\n",
            "1 1\n",
            "1 1\n",
            "1 1\n",
            "0 1\n",
            "0 0\n",
            "1 1\n",
            "1 0\n",
            "1 1\n",
            "1 1\n",
            "0 0\n",
            "1 1\n",
            "0 1\n",
            "0 1\n",
            "0 0\n",
            "1 1\n",
            "1 1\n",
            "1 1\n",
            "1 1\n",
            "1 1\n",
            "1 1\n",
            "0 1\n",
            "1 1\n",
            "1 1\n",
            "0 1\n",
            "1 1\n",
            "1 1\n",
            "1 1\n",
            "1 1\n",
            "1 1\n",
            "0 1\n",
            "0 0\n",
            "0 1\n",
            "1 1\n",
            "1 0\n",
            "1 1\n",
            "1 1\n",
            "1 1\n",
            "0 0\n",
            "1 1\n",
            "1 1\n",
            "1 1\n",
            "1 1\n",
            "0 1\n",
            "1 1\n",
            "0 0\n",
            "1 1\n",
            "0 1\n",
            "1 1\n",
            "0 0\n",
            "1 1\n",
            "1 1\n",
            "1 1\n",
            "1 1\n",
            "1 1\n",
            "0 1\n",
            "1 1\n",
            "0 0\n",
            "0 1\n",
            "0 0\n",
            "1 1\n",
            "1 1\n",
            "1 1\n",
            "0 1\n",
            "1 1\n",
            "0 0\n",
            "0 0\n",
            "1 1\n",
            "1 1\n",
            "1 1\n",
            "1 1\n",
            "0 0\n",
            "1 1\n",
            "0 1\n",
            "1 1\n",
            "1 1\n",
            "0 0\n",
            "0 0\n",
            "0 1\n",
            "0 0\n",
            "1 1\n",
            "0 1\n",
            "0 0\n",
            "1 1\n",
            "1 1\n",
            "0 0\n",
            "1 1\n",
            "0 0\n",
            "1 1\n",
            "0 0\n",
            "0 1\n",
            "0 0\n",
            "1 1\n",
            "1 1\n",
            "0 0\n",
            "1 1\n",
            "1 1\n",
            "1 1\n",
            "1 1\n",
            "1 1\n",
            "0 1\n",
            "1 1\n",
            "0 1\n",
            "0 0\n",
            "1 1\n",
            "1 1\n",
            "1 1\n",
            "0 0\n",
            "1 1\n",
            "1 1\n",
            "0 1\n",
            "1 1\n",
            "1 1\n",
            "1 1\n",
            "1 1\n",
            "1 1\n",
            "1 1\n",
            "1 1\n",
            "1 1\n",
            "1 1\n",
            "1 1\n",
            "1 1\n",
            "0 1\n",
            "0 1\n",
            "1 1\n",
            "1 1\n",
            "1 1\n",
            "1 1\n",
            "1 1\n",
            "1 1\n",
            "1 1\n",
            "1 1\n",
            "1 1\n",
            "1 1\n",
            "1 1\n",
            "0 0\n",
            "1 1\n",
            "1 1\n",
            "0 1\n",
            "1 1\n",
            "0 1\n",
            "1 1\n",
            "1 1\n",
            "0 1\n",
            "0 1\n",
            "1 1\n",
            "1 1\n",
            "0 0\n",
            "1 1\n",
            "0 0\n",
            "0 1\n",
            "1 1\n",
            "1 1\n",
            "0 0\n",
            "0 0\n",
            "1 0\n",
            "1 1\n",
            "1 1\n",
            "0 1\n",
            "0 0\n",
            "0 0\n",
            "1 1\n",
            "1 1\n",
            "0 1\n",
            "1 1\n",
            "1 0\n",
            "1 1\n",
            "0 1\n",
            "1 1\n",
            "1 1\n",
            "0 1\n",
            "1 0\n",
            "1 1\n",
            "1 1\n",
            "1 1\n",
            "1 1\n",
            "0 1\n",
            "0 0\n",
            "1 1\n",
            "1 1\n",
            "1 1\n",
            "1 1\n",
            "1 1\n",
            "1 1\n",
            "1 1\n",
            "1 0\n",
            "0 1\n",
            "1 1\n",
            "1 1\n",
            "1 1\n",
            "1 1\n",
            "1 1\n",
            "1 1\n",
            "0 1\n",
            "1 1\n",
            "1 1\n",
            "1 0\n",
            "1 1\n",
            "1 1\n",
            "1 1\n",
            "1 1\n",
            "0 1\n",
            "1 1\n",
            "1 1\n",
            "1 1\n",
            "0 1\n",
            "1 1\n",
            "1 1\n",
            "1 1\n",
            "1 1\n",
            "0 0\n",
            "0 1\n",
            "1 1\n",
            "1 1\n",
            "1 1\n",
            "1 1\n",
            "1 1\n",
            "1 1\n",
            "1 1\n",
            "1 1\n",
            "1 1\n",
            "1 1\n",
            "0 1\n",
            "1 1\n",
            "0 1\n",
            "0 0\n",
            "1 1\n",
            "1 1\n",
            "1 1\n",
            "1 1\n",
            "1 1\n",
            "1 1\n",
            "1 1\n",
            "1 1\n",
            "1 1\n",
            "1 0\n",
            "0 1\n",
            "1 1\n",
            "0 1\n",
            "1 1\n",
            "1 1\n",
            "0 0\n",
            "1 1\n",
            "1 1\n",
            "0 0\n",
            "1 1\n",
            "1 1\n",
            "1 0\n",
            "0 1\n",
            "1 1\n",
            "1 1\n",
            "0 1\n",
            "1 1\n",
            "1 1\n",
            "0 1\n",
            "1 1\n",
            "1 1\n",
            "0 1\n",
            "1 1\n",
            "1 1\n",
            "0 0\n",
            "1 1\n",
            "0 0\n",
            "0 0\n",
            "1 1\n",
            "1 1\n",
            "1 1\n",
            "0 1\n",
            "1 1\n",
            "0 1\n",
            "1 0\n",
            "1 1\n",
            "1 1\n",
            "1 1\n",
            "1 1\n",
            "1 1\n",
            "1 1\n",
            "1 1\n",
            "0 1\n",
            "1 1\n",
            "1 1\n",
            "1 1\n",
            "0 1\n",
            "1 1\n",
            "0 0\n",
            "1 1\n",
            "0 1\n",
            "1 0\n",
            "1 1\n",
            "0 0\n",
            "1 1\n",
            "1 1\n",
            "1 1\n",
            "1 0\n",
            "1 1\n",
            "1 1\n",
            "1 1\n",
            "1 1\n",
            "1 1\n",
            "0 0\n",
            "1 1\n",
            "1 1\n",
            "0 0\n",
            "1 1\n",
            "1 1\n",
            "1 1\n",
            "0 0\n",
            "0 1\n",
            "1 1\n",
            "1 1\n",
            "0 1\n",
            "1 1\n",
            "1 1\n",
            "1 1\n",
            "1 1\n",
            "1 0\n",
            "1 1\n",
            "1 1\n",
            "0 1\n",
            "1 1\n",
            "1 1\n",
            "1 1\n",
            "1 1\n",
            "1 1\n",
            "0 0\n",
            "1 1\n",
            "1 1\n",
            "1 1\n",
            "0 0\n",
            "0 0\n",
            "1 0\n",
            "1 1\n",
            "1 0\n",
            "1 1\n",
            "1 1\n",
            "1 1\n",
            "1 1\n",
            "1 1\n",
            "1 1\n",
            "0 1\n",
            "1 1\n",
            "0 0\n",
            "1 1\n",
            "1 1\n",
            "1 1\n",
            "1 1\n",
            "1 1\n",
            "0 1\n",
            "0 1\n",
            "1 1\n",
            "1 1\n",
            "1 1\n",
            "1 1\n",
            "0 0\n",
            "1 1\n",
            "1 0\n",
            "1 1\n",
            "1 1\n",
            "0 0\n",
            "1 1\n",
            "1 1\n",
            "0 1\n",
            "1 1\n",
            "0 1\n",
            "1 1\n",
            "1 1\n",
            "1 1\n",
            "1 1\n",
            "1 1\n",
            "1 1\n",
            "1 1\n",
            "1 1\n",
            "1 1\n",
            "1 0\n",
            "1 1\n",
            "1 1\n",
            "1 1\n",
            "1 1\n",
            "0 1\n",
            "1 1\n",
            "0 0\n",
            "1 1\n",
            "1 1\n",
            "1 1\n",
            "1 1\n",
            "1 1\n",
            "0 1\n",
            "1 1\n",
            "1 1\n",
            "1 1\n",
            "1 1\n",
            "0 1\n",
            "1 1\n",
            "1 1\n",
            "1 1\n",
            "1 1\n",
            "0 0\n",
            "0 0\n",
            "1 1\n",
            "0 0\n",
            "1 1\n",
            "0 0\n",
            "0 1\n",
            "1 1\n",
            "0 0\n",
            "1 1\n",
            "1 1\n",
            "0 1\n",
            "1 1\n",
            "1 1\n",
            "1 1\n",
            "1 0\n",
            "1 1\n",
            "0 1\n",
            "0 1\n",
            "0 1\n",
            "1 1\n",
            "0 1\n",
            "1 1\n",
            "0 1\n",
            "1 1\n",
            "1 1\n",
            "1 1\n",
            "0 0\n",
            "0 0\n",
            "1 1\n",
            "1 1\n",
            "1 1\n",
            "0 1\n",
            "1 1\n",
            "1 1\n",
            "1 1\n",
            "0 0\n",
            "0 1\n",
            "1 1\n",
            "0 0\n",
            "1 1\n",
            "1 1\n",
            "0 0\n",
            "0 1\n",
            "1 1\n",
            "1 1\n",
            "0 1\n",
            "1 1\n",
            "0 1\n",
            "1 1\n",
            "1 1\n",
            "0 1\n",
            "1 1\n",
            "1 1\n",
            "0 0\n",
            "1 1\n",
            "1 1\n",
            "1 1\n",
            "0 1\n",
            "1 1\n",
            "1 1\n",
            "1 1\n",
            "0 0\n",
            "0 1\n",
            "0 1\n",
            "1 1\n",
            "1 1\n",
            "0 0\n",
            "1 1\n",
            "1 1\n",
            "0 1\n",
            "0 1\n",
            "1 1\n",
            "0 0\n",
            "1 1\n",
            "1 1\n",
            "1 1\n",
            "1 1\n",
            "1 1\n",
            "1 1\n",
            "1 1\n",
            "1 1\n",
            "1 1\n",
            "1 1\n",
            "1 1\n",
            "0 0\n",
            "1 0\n",
            "1 1\n",
            "0 0\n",
            "1 1\n",
            "0 1\n",
            "1 1\n",
            "1 1\n",
            "1 1\n",
            "1 1\n",
            "1 1\n",
            "1 1\n",
            "1 1\n",
            "1 1\n",
            "1 1\n",
            "1 1\n",
            "1 1\n",
            "1 1\n",
            "0 0\n",
            "1 1\n",
            "1 1\n",
            "0 0\n",
            "0 1\n",
            "1 1\n",
            "1 1\n",
            "1 1\n",
            "1 1\n",
            "0 1\n",
            "1 1\n",
            "0 0\n",
            "1 1\n",
            "1 1\n",
            "1 1\n",
            "1 0\n",
            "1 1\n",
            "1 1\n",
            "1 1\n",
            "1 1\n",
            "1 0\n",
            "1 1\n",
            "1 1\n",
            "1 1\n",
            "0 1\n",
            "1 1\n",
            "1 1\n",
            "1 1\n",
            "0 0\n",
            "0 1\n",
            "1 1\n",
            "0 1\n",
            "1 1\n",
            "1 1\n",
            "1 1\n",
            "0 1\n",
            "0 0\n",
            "0 0\n",
            "1 1\n",
            "1 1\n",
            "1 1\n",
            "1 1\n",
            "1 1\n",
            "1 1\n",
            "1 1\n",
            "1 1\n",
            "1 1\n",
            "1 1\n",
            "1 1\n",
            "1 1\n",
            "1 1\n",
            "1 1\n",
            "1 1\n",
            "0 1\n",
            "1 1\n",
            "1 0\n",
            "0 1\n",
            "1 1\n",
            "1 1\n",
            "0 1\n",
            "1 1\n",
            "1 1\n",
            "1 1\n",
            "1 1\n",
            "1 1\n",
            "1 1\n",
            "1 1\n",
            "1 1\n",
            "1 1\n",
            "0 0\n",
            "1 1\n",
            "0 0\n",
            "0 1\n",
            "1 1\n",
            "1 1\n",
            "1 1\n",
            "1 1\n",
            "0 1\n",
            "1 1\n",
            "1 1\n",
            "1 1\n",
            "0 0\n",
            "1 1\n",
            "0 1\n",
            "1 1\n",
            "1 1\n",
            "0 1\n",
            "1 1\n",
            "1 1\n",
            "0 1\n",
            "1 1\n",
            "1 1\n",
            "1 1\n",
            "0 1\n",
            "0 1\n",
            "1 1\n",
            "0 0\n",
            "0 1\n",
            "0 1\n",
            "0 0\n",
            "1 1\n",
            "1 1\n",
            "1 1\n",
            "1 1\n",
            "0 0\n",
            "1 1\n",
            "0 0\n",
            "1 1\n",
            "0 1\n",
            "1 1\n",
            "0 1\n",
            "1 1\n",
            "1 1\n",
            "1 0\n",
            "1 1\n",
            "1 1\n",
            "0 1\n",
            "1 1\n",
            "1 1\n",
            "1 1\n",
            "0 1\n",
            "1 1\n",
            "1 1\n",
            "0 0\n",
            "1 1\n",
            "1 1\n",
            "1 1\n",
            "0 0\n",
            "0 1\n",
            "1 1\n",
            "1 0\n",
            "1 1\n",
            "0 1\n",
            "1 1\n",
            "1 1\n",
            "1 1\n",
            "0 1\n",
            "1 1\n",
            "0 1\n",
            "1 1\n",
            "1 1\n",
            "1 1\n",
            "1 1\n",
            "1 1\n",
            "1 1\n",
            "1 0\n",
            "1 1\n",
            "0 1\n",
            "0 1\n",
            "1 1\n",
            "1 1\n",
            "1 1\n",
            "1 1\n",
            "1 1\n",
            "1 1\n",
            "1 1\n",
            "1 1\n",
            "0 0\n",
            "1 1\n",
            "0 1\n",
            "1 1\n",
            "0 0\n",
            "0 1\n",
            "1 1\n",
            "1 1\n",
            "1 1\n",
            "0 1\n",
            "0 1\n",
            "1 1\n",
            "1 1\n",
            "0 0\n",
            "1 1\n",
            "0 1\n",
            "0 1\n",
            "0 1\n",
            "1 1\n",
            "1 1\n",
            "1 1\n",
            "1 1\n",
            "1 1\n",
            "1 1\n",
            "1 1\n",
            "1 1\n",
            "0 0\n",
            "1 1\n",
            "1 0\n",
            "0 0\n",
            "0 0\n",
            "1 1\n",
            "1 1\n",
            "1 1\n",
            "1 1\n",
            "0 1\n",
            "0 0\n",
            "0 1\n",
            "1 1\n",
            "1 1\n",
            "0 0\n",
            "1 1\n",
            "1 1\n",
            "1 1\n",
            "1 1\n",
            "1 1\n",
            "0 0\n",
            "1 1\n",
            "1 1\n",
            "1 1\n",
            "1 1\n",
            "1 1\n",
            "0 1\n",
            "0 0\n",
            "0 1\n",
            "1 1\n",
            "1 0\n",
            "1 0\n",
            "1 0\n",
            "1 1\n",
            "0 1\n",
            "1 1\n",
            "1 1\n",
            "1 1\n",
            "0 0\n",
            "1 0\n",
            "1 1\n",
            "1 1\n",
            "0 0\n",
            "1 1\n",
            "1 1\n",
            "0 0\n",
            "1 1\n",
            "1 1\n",
            "1 1\n",
            "1 1\n",
            "1 1\n",
            "1 1\n",
            "1 1\n",
            "1 1\n",
            "1 1\n",
            "0 1\n",
            "1 1\n",
            "1 0\n",
            "1 1\n",
            "1 1\n",
            "1 1\n",
            "1 1\n",
            "1 1\n",
            "1 1\n",
            "1 1\n",
            "1 1\n",
            "1 1\n",
            "1 1\n",
            "0 0\n",
            "1 1\n",
            "1 1\n",
            "1 1\n",
            "1 1\n",
            "0 0\n",
            "1 1\n",
            "1 1\n",
            "1 1\n",
            "1 1\n",
            "1 1\n",
            "1 1\n",
            "1 1\n",
            "1 1\n",
            "0 1\n",
            "1 1\n",
            "1 1\n",
            "1 1\n",
            "0 0\n",
            "1 1\n",
            "1 1\n",
            "1 1\n",
            "1 1\n",
            "1 1\n",
            "1 1\n",
            "0 1\n",
            "1 1\n",
            "1 1\n",
            "1 1\n",
            "1 1\n",
            "0 0\n",
            "0 1\n",
            "0 1\n",
            "1 1\n",
            "1 1\n",
            "1 1\n",
            "0 0\n",
            "0 1\n",
            "1 1\n",
            "1 1\n",
            "1 1\n",
            "1 1\n",
            "1 1\n",
            "1 1\n",
            "0 1\n",
            "0 0\n",
            "1 1\n",
            "1 1\n",
            "1 1\n",
            "1 1\n",
            "1 1\n",
            "1 1\n",
            "1 1\n",
            "0 1\n",
            "1 1\n",
            "1 1\n",
            "1 0\n",
            "0 0\n",
            "0 1\n",
            "1 1\n",
            "1 1\n",
            "1 1\n",
            "1 1\n",
            "1 1\n",
            "1 1\n",
            "1 0\n",
            "1 1\n",
            "1 1\n",
            "0 0\n",
            "1 1\n",
            "1 1\n",
            "1 1\n",
            "1 1\n",
            "1 1\n",
            "1 1\n",
            "1 1\n",
            "1 1\n",
            "0 1\n",
            "1 1\n",
            "1 1\n",
            "1 1\n",
            "1 1\n",
            "0 1\n",
            "0 0\n",
            "1 1\n",
            "0 0\n",
            "1 1\n",
            "1 1\n",
            "0 1\n",
            "1 1\n",
            "1 1\n",
            "1 1\n",
            "1 1\n",
            "1 0\n",
            "1 1\n",
            "1 1\n",
            "1 0\n",
            "0 1\n",
            "1 1\n",
            "1 1\n",
            "1 1\n",
            "0 0\n",
            "1 1\n",
            "1 1\n",
            "1 1\n",
            "1 1\n",
            "1 1\n",
            "1 1\n",
            "1 1\n",
            "0 0\n",
            "1 1\n",
            "1 1\n",
            "0 0\n",
            "1 1\n",
            "1 1\n",
            "1 1\n",
            "1 1\n",
            "1 1\n",
            "1 1\n",
            "1 0\n",
            "1 1\n",
            "1 1\n",
            "1 1\n",
            "1 1\n",
            "0 1\n",
            "1 1\n",
            "0 0\n",
            "0 1\n",
            "0 0\n",
            "1 1\n",
            "1 1\n",
            "0 1\n",
            "0 1\n",
            "1 1\n",
            "1 1\n",
            "1 1\n",
            "1 1\n",
            "0 0\n",
            "1 1\n",
            "1 1\n",
            "1 1\n",
            "1 1\n",
            "1 0\n",
            "0 0\n",
            "1 1\n",
            "0 1\n",
            "1 1\n",
            "0 1\n",
            "1 1\n",
            "1 1\n",
            "1 1\n",
            "1 1\n",
            "1 1\n",
            "1 1\n",
            "1 1\n",
            "0 0\n",
            "1 0\n",
            "1 1\n",
            "1 1\n",
            "1 1\n",
            "1 1\n",
            "1 1\n",
            "1 1\n",
            "1 1\n",
            "1 1\n",
            "0 1\n",
            "1 1\n",
            "0 0\n",
            "1 1\n",
            "1 1\n",
            "1 1\n",
            "0 1\n",
            "1 1\n",
            "0 0\n",
            "1 1\n",
            "1 1\n",
            "1 1\n",
            "1 1\n",
            "0 1\n",
            "1 1\n",
            "1 0\n",
            "1 0\n",
            "1 1\n",
            "1 1\n",
            "1 1\n",
            "1 1\n",
            "0 0\n",
            "1 1\n",
            "0 0\n",
            "1 1\n",
            "1 1\n",
            "1 1\n",
            "1 1\n",
            "0 0\n",
            "1 1\n",
            "1 1\n",
            "1 1\n",
            "1 1\n",
            "1 1\n",
            "1 1\n",
            "1 1\n",
            "1 1\n",
            "1 1\n",
            "0 1\n",
            "1 1\n",
            "1 1\n",
            "1 1\n",
            "1 0\n",
            "1 1\n",
            "0 0\n",
            "0 1\n",
            "1 1\n",
            "1 1\n",
            "0 1\n",
            "1 1\n",
            "1 1\n",
            "1 1\n",
            "1 0\n",
            "1 1\n",
            "1 1\n",
            "1 1\n",
            "1 1\n",
            "1 1\n",
            "1 1\n",
            "1 1\n",
            "1 1\n",
            "0 0\n",
            "1 1\n",
            "0 1\n",
            "1 1\n",
            "0 1\n",
            "1 1\n",
            "0 1\n",
            "1 1\n",
            "1 1\n",
            "1 1\n",
            "1 1\n",
            "1 0\n",
            "1 1\n",
            "0 1\n",
            "1 1\n",
            "1 1\n",
            "1 1\n",
            "1 0\n",
            "1 1\n",
            "0 0\n",
            "1 1\n",
            "1 1\n",
            "1 1\n",
            "0 1\n",
            "0 0\n",
            "1 1\n",
            "1 1\n",
            "1 0\n",
            "1 1\n",
            "1 1\n",
            "1 1\n",
            "1 1\n",
            "1 1\n",
            "1 1\n",
            "1 1\n",
            "1 1\n",
            "1 1\n",
            "1 1\n",
            "1 1\n",
            "1 0\n",
            "0 0\n",
            "1 1\n",
            "1 1\n",
            "1 1\n",
            "1 1\n",
            "1 1\n",
            "0 0\n",
            "1 1\n",
            "1 1\n",
            "1 0\n",
            "1 1\n",
            "0 1\n",
            "1 1\n",
            "1 1\n",
            "1 1\n",
            "1 1\n",
            "0 0\n",
            "1 0\n",
            "1 1\n",
            "1 1\n",
            "0 1\n",
            "1 1\n",
            "1 1\n",
            "0 0\n",
            "1 1\n",
            "0 0\n",
            "1 1\n",
            "1 1\n",
            "0 0\n",
            "1 1\n",
            "1 1\n",
            "1 1\n",
            "0 0\n",
            "1 1\n",
            "1 1\n",
            "1 1\n",
            "1 1\n",
            "1 1\n",
            "0 1\n",
            "1 1\n",
            "1 1\n",
            "0 1\n",
            "0 0\n",
            "0 0\n",
            "1 1\n",
            "1 1\n",
            "1 1\n",
            "1 1\n",
            "1 1\n",
            "0 1\n",
            "1 1\n",
            "1 1\n",
            "1 1\n",
            "1 1\n",
            "1 1\n",
            "1 1\n",
            "0 1\n",
            "0 1\n",
            "0 1\n",
            "1 1\n",
            "1 1\n",
            "0 0\n",
            "1 1\n",
            "1 1\n",
            "1 1\n",
            "1 1\n",
            "1 1\n",
            "1 1\n",
            "1 1\n",
            "1 1\n",
            "1 1\n",
            "1 1\n",
            "1 1\n",
            "1 1\n",
            "1 1\n",
            "1 0\n",
            "1 1\n",
            "0 1\n",
            "1 1\n",
            "0 1\n",
            "1 0\n",
            "1 1\n",
            "1 1\n",
            "0 1\n",
            "1 1\n",
            "1 1\n",
            "1 1\n",
            "0 1\n",
            "1 1\n",
            "1 1\n",
            "0 0\n",
            "0 1\n",
            "0 0\n",
            "1 1\n",
            "0 1\n",
            "0 0\n",
            "1 1\n",
            "1 1\n",
            "1 1\n",
            "1 1\n",
            "1 1\n",
            "1 1\n",
            "0 1\n",
            "0 1\n",
            "1 1\n",
            "1 1\n",
            "0 1\n",
            "0 0\n",
            "0 1\n",
            "0 1\n",
            "1 1\n",
            "0 0\n",
            "1 1\n",
            "1 1\n",
            "1 1\n",
            "1 1\n",
            "1 1\n",
            "0 0\n",
            "0 1\n",
            "1 1\n",
            "1 1\n",
            "1 1\n",
            "1 1\n",
            "0 1\n",
            "0 1\n",
            "1 1\n",
            "0 0\n",
            "1 1\n",
            "1 1\n",
            "1 1\n",
            "1 1\n",
            "1 0\n",
            "1 1\n",
            "1 0\n",
            "1 1\n",
            "1 1\n",
            "1 1\n",
            "1 1\n",
            "1 1\n",
            "1 1\n",
            "1 1\n",
            "1 1\n",
            "1 1\n",
            "1 1\n",
            "0 0\n",
            "1 1\n",
            "1 1\n",
            "1 1\n",
            "1 1\n",
            "0 0\n",
            "0 1\n",
            "1 1\n",
            "1 1\n",
            "1 1\n",
            "1 1\n",
            "1 1\n",
            "1 1\n",
            "1 1\n",
            "1 1\n",
            "1 1\n",
            "1 1\n",
            "1 1\n",
            "0 1\n",
            "1 1\n",
            "1 1\n",
            "1 1\n",
            "0 0\n",
            "1 1\n",
            "0 1\n",
            "1 1\n",
            "1 1\n",
            "0 1\n",
            "1 1\n",
            "1 1\n",
            "1 1\n",
            "1 1\n",
            "1 1\n",
            "1 1\n",
            "1 1\n",
            "1 1\n",
            "1 1\n",
            "0 1\n",
            "1 1\n",
            "0 1\n",
            "0 0\n",
            "1 1\n",
            "1 1\n",
            "1 1\n",
            "1 1\n",
            "1 1\n",
            "0 0\n",
            "1 1\n",
            "1 1\n",
            "1 1\n",
            "1 1\n",
            "1 1\n",
            "1 1\n",
            "1 1\n",
            "1 1\n",
            "0 1\n",
            "0 1\n",
            "1 1\n",
            "1 1\n",
            "1 1\n",
            "1 1\n",
            "1 1\n",
            "1 1\n",
            "0 0\n",
            "1 1\n",
            "1 1\n",
            "1 1\n",
            "1 1\n",
            "1 1\n",
            "1 1\n",
            "0 1\n",
            "1 1\n",
            "0 1\n",
            "1 1\n",
            "1 1\n",
            "1 1\n",
            "1 1\n",
            "1 1\n",
            "1 1\n",
            "1 1\n",
            "1 1\n",
            "0 1\n",
            "0 0\n",
            "0 0\n",
            "1 1\n",
            "1 1\n",
            "0 1\n",
            "0 0\n",
            "1 1\n",
            "1 1\n",
            "0 0\n",
            "1 1\n",
            "1 1\n",
            "1 0\n",
            "1 1\n",
            "1 1\n",
            "0 1\n",
            "0 1\n",
            "1 1\n",
            "1 1\n",
            "1 1\n",
            "1 1\n",
            "1 1\n",
            "0 0\n",
            "0 1\n",
            "1 1\n",
            "1 1\n",
            "0 1\n",
            "1 1\n",
            "1 1\n",
            "1 1\n",
            "1 1\n",
            "1 1\n",
            "0 0\n",
            "1 1\n",
            "1 1\n",
            "1 1\n",
            "1 1\n",
            "1 1\n",
            "1 1\n",
            "1 1\n",
            "0 0\n",
            "1 1\n",
            "0 1\n",
            "1 1\n",
            "1 1\n",
            "1 1\n",
            "1 1\n",
            "0 1\n",
            "1 1\n",
            "0 1\n",
            "0 1\n",
            "1 1\n",
            "1 1\n",
            "1 1\n",
            "1 1\n",
            "0 1\n",
            "1 1\n",
            "0 1\n",
            "1 1\n",
            "1 1\n",
            "0 0\n",
            "1 1\n",
            "1 1\n",
            "1 1\n",
            "1 1\n",
            "1 1\n",
            "0 0\n",
            "1 1\n",
            "1 1\n",
            "0 1\n",
            "1 1\n",
            "1 1\n",
            "1 1\n",
            "0 0\n",
            "0 1\n",
            "1 1\n",
            "1 1\n",
            "1 1\n",
            "1 1\n",
            "1 1\n",
            "1 0\n",
            "1 1\n",
            "1 1\n",
            "1 1\n",
            "1 1\n",
            "1 1\n",
            "1 1\n",
            "0 1\n",
            "1 1\n",
            "1 1\n",
            "1 1\n",
            "0 0\n",
            "0 0\n",
            "1 1\n",
            "0 0\n",
            "1 1\n",
            "0 0\n",
            "1 1\n",
            "1 1\n",
            "1 1\n",
            "1 1\n",
            "1 1\n",
            "1 1\n",
            "1 1\n",
            "0 1\n",
            "1 1\n",
            "1 1\n",
            "1 1\n",
            "1 1\n",
            "1 1\n",
            "1 1\n",
            "1 0\n",
            "0 1\n",
            "0 1\n",
            "0 1\n",
            "1 1\n",
            "1 1\n",
            "0 1\n",
            "1 1\n",
            "1 1\n",
            "1 1\n",
            "1 0\n",
            "0 0\n",
            "1 1\n",
            "0 1\n",
            "1 1\n",
            "1 1\n",
            "0 1\n",
            "1 1\n",
            "1 1\n",
            "1 1\n",
            "1 1\n"
          ],
          "name": "stdout"
        }
      ]
    },
    {
      "cell_type": "markdown",
      "metadata": {
        "id": "B0S9ggvbtQmx"
      },
      "source": [
        "# Merged:Categorical Data Preprocessing"
      ]
    },
    {
      "cell_type": "markdown",
      "metadata": {
        "id": "0porE1LNtQm_"
      },
      "source": [
        "One hot encoding"
      ]
    },
    {
      "cell_type": "code",
      "metadata": {
        "id": "bMeoZbO3tQnA",
        "colab": {
          "base_uri": "https://localhost:8080/"
        },
        "outputId": "df565fd3-4805-4f66-f606-542c8ff46817"
      },
      "source": [
        "strat_train_set.head()"
      ],
      "execution_count": null,
      "outputs": [
        {
          "output_type": "execute_result",
          "data": {
            "text/html": [
              "<div>\n",
              "<style scoped>\n",
              "    .dataframe tbody tr th:only-of-type {\n",
              "        vertical-align: middle;\n",
              "    }\n",
              "\n",
              "    .dataframe tbody tr th {\n",
              "        vertical-align: top;\n",
              "    }\n",
              "\n",
              "    .dataframe thead th {\n",
              "        text-align: right;\n",
              "    }\n",
              "</style>\n",
              "<table border=\"1\" class=\"dataframe\">\n",
              "  <thead>\n",
              "    <tr style=\"text-align: right;\">\n",
              "      <th></th>\n",
              "      <th>rating</th>\n",
              "      <th>effectiveness</th>\n",
              "      <th>sideEffects</th>\n",
              "      <th>commentsReview</th>\n",
              "      <th>rank_bin</th>\n",
              "    </tr>\n",
              "  </thead>\n",
              "  <tbody>\n",
              "    <tr>\n",
              "      <th>1542</th>\n",
              "      <td>10</td>\n",
              "      <td>Highly Effective</td>\n",
              "      <td>No Side Effects</td>\n",
              "      <td>I had a heart scan after experiencing exercise...</td>\n",
              "      <td>1</td>\n",
              "    </tr>\n",
              "    <tr>\n",
              "      <th>1888</th>\n",
              "      <td>9</td>\n",
              "      <td>Highly Effective</td>\n",
              "      <td>Mild Side Effects</td>\n",
              "      <td>Prescribed for adult ADD. I take one per day -...</td>\n",
              "      <td>1</td>\n",
              "    </tr>\n",
              "    <tr>\n",
              "      <th>2395</th>\n",
              "      <td>7</td>\n",
              "      <td>Moderately Effective</td>\n",
              "      <td>Moderate Side Effects</td>\n",
              "      <td>After starting at.325mg-1.5 dose and now up to...</td>\n",
              "      <td>1</td>\n",
              "    </tr>\n",
              "    <tr>\n",
              "      <th>1362</th>\n",
              "      <td>8</td>\n",
              "      <td>Considerably Effective</td>\n",
              "      <td>Mild Side Effects</td>\n",
              "      <td>Taken on a daily basis at the same time everyd...</td>\n",
              "      <td>1</td>\n",
              "    </tr>\n",
              "    <tr>\n",
              "      <th>2856</th>\n",
              "      <td>8</td>\n",
              "      <td>Considerably Effective</td>\n",
              "      <td>No Side Effects</td>\n",
              "      <td>I took it once a day.. in the beginning it wor...</td>\n",
              "      <td>1</td>\n",
              "    </tr>\n",
              "  </tbody>\n",
              "</table>\n",
              "</div>"
            ],
            "text/plain": [
              "      rating  ... rank_bin\n",
              "1542      10  ...        1\n",
              "1888       9  ...        1\n",
              "2395       7  ...        1\n",
              "1362       8  ...        1\n",
              "2856       8  ...        1\n",
              "\n",
              "[5 rows x 5 columns]"
            ]
          },
          "metadata": {
            "tags": []
          },
          "execution_count": 79
        }
      ]
    },
    {
      "cell_type": "markdown",
      "metadata": {
        "id": "rwiPP5hbtQnB"
      },
      "source": [
        "Creating X_train and y_train"
      ]
    },
    {
      "cell_type": "code",
      "metadata": {
        "id": "jaV5iR-_tQnB"
      },
      "source": [
        "X_train=strat_train_set[[\"effectiveness\",\"sideEffects\",\"rank_bin\"]]"
      ],
      "execution_count": null,
      "outputs": []
    },
    {
      "cell_type": "code",
      "metadata": {
        "id": "AiPXdQMetQnC",
        "colab": {
          "base_uri": "https://localhost:8080/"
        },
        "outputId": "3c69bdab-dd49-4afb-ca58-a7daf3b9e04e"
      },
      "source": [
        "X_train.head()"
      ],
      "execution_count": null,
      "outputs": [
        {
          "output_type": "execute_result",
          "data": {
            "text/html": [
              "<div>\n",
              "<style scoped>\n",
              "    .dataframe tbody tr th:only-of-type {\n",
              "        vertical-align: middle;\n",
              "    }\n",
              "\n",
              "    .dataframe tbody tr th {\n",
              "        vertical-align: top;\n",
              "    }\n",
              "\n",
              "    .dataframe thead th {\n",
              "        text-align: right;\n",
              "    }\n",
              "</style>\n",
              "<table border=\"1\" class=\"dataframe\">\n",
              "  <thead>\n",
              "    <tr style=\"text-align: right;\">\n",
              "      <th></th>\n",
              "      <th>effectiveness</th>\n",
              "      <th>sideEffects</th>\n",
              "      <th>rank_bin</th>\n",
              "    </tr>\n",
              "  </thead>\n",
              "  <tbody>\n",
              "    <tr>\n",
              "      <th>1542</th>\n",
              "      <td>Highly Effective</td>\n",
              "      <td>No Side Effects</td>\n",
              "      <td>1</td>\n",
              "    </tr>\n",
              "    <tr>\n",
              "      <th>1888</th>\n",
              "      <td>Highly Effective</td>\n",
              "      <td>Mild Side Effects</td>\n",
              "      <td>1</td>\n",
              "    </tr>\n",
              "    <tr>\n",
              "      <th>2395</th>\n",
              "      <td>Moderately Effective</td>\n",
              "      <td>Moderate Side Effects</td>\n",
              "      <td>1</td>\n",
              "    </tr>\n",
              "    <tr>\n",
              "      <th>1362</th>\n",
              "      <td>Considerably Effective</td>\n",
              "      <td>Mild Side Effects</td>\n",
              "      <td>1</td>\n",
              "    </tr>\n",
              "    <tr>\n",
              "      <th>2856</th>\n",
              "      <td>Considerably Effective</td>\n",
              "      <td>No Side Effects</td>\n",
              "      <td>1</td>\n",
              "    </tr>\n",
              "  </tbody>\n",
              "</table>\n",
              "</div>"
            ],
            "text/plain": [
              "               effectiveness            sideEffects  rank_bin\n",
              "1542        Highly Effective        No Side Effects         1\n",
              "1888        Highly Effective      Mild Side Effects         1\n",
              "2395    Moderately Effective  Moderate Side Effects         1\n",
              "1362  Considerably Effective      Mild Side Effects         1\n",
              "2856  Considerably Effective        No Side Effects         1"
            ]
          },
          "metadata": {
            "tags": []
          },
          "execution_count": 81
        }
      ]
    },
    {
      "cell_type": "code",
      "metadata": {
        "id": "xBuf5EcptQnC"
      },
      "source": [
        "y_train=strat_train_set[\"rating\"]"
      ],
      "execution_count": null,
      "outputs": []
    },
    {
      "cell_type": "code",
      "metadata": {
        "id": "qtqP0irvtQnD",
        "colab": {
          "base_uri": "https://localhost:8080/"
        },
        "outputId": "d7a1a201-545f-449d-c549-96a5dc5e5821"
      },
      "source": [
        "y_train.head()"
      ],
      "execution_count": null,
      "outputs": [
        {
          "output_type": "execute_result",
          "data": {
            "text/plain": [
              "1542    10\n",
              "1888     9\n",
              "2395     7\n",
              "1362     8\n",
              "2856     8\n",
              "Name: rating, dtype: int64"
            ]
          },
          "metadata": {
            "tags": []
          },
          "execution_count": 83
        }
      ]
    },
    {
      "cell_type": "markdown",
      "metadata": {
        "id": "_PBDeIAYtQnD"
      },
      "source": [
        "Creating X_test and y_test"
      ]
    },
    {
      "cell_type": "code",
      "metadata": {
        "id": "TYppn-EetQnD"
      },
      "source": [
        "X_test=strat_test_set[[\"effectiveness\",\"sideEffects\",\"rank_bin\"]]"
      ],
      "execution_count": null,
      "outputs": []
    },
    {
      "cell_type": "code",
      "metadata": {
        "id": "tz9qmPgutQnE",
        "colab": {
          "base_uri": "https://localhost:8080/"
        },
        "outputId": "12114819-8486-4be6-b16b-01ee08ae5a05"
      },
      "source": [
        "X_test.head()"
      ],
      "execution_count": null,
      "outputs": [
        {
          "output_type": "execute_result",
          "data": {
            "text/html": [
              "<div>\n",
              "<style scoped>\n",
              "    .dataframe tbody tr th:only-of-type {\n",
              "        vertical-align: middle;\n",
              "    }\n",
              "\n",
              "    .dataframe tbody tr th {\n",
              "        vertical-align: top;\n",
              "    }\n",
              "\n",
              "    .dataframe thead th {\n",
              "        text-align: right;\n",
              "    }\n",
              "</style>\n",
              "<table border=\"1\" class=\"dataframe\">\n",
              "  <thead>\n",
              "    <tr style=\"text-align: right;\">\n",
              "      <th></th>\n",
              "      <th>effectiveness</th>\n",
              "      <th>sideEffects</th>\n",
              "      <th>rank_bin</th>\n",
              "    </tr>\n",
              "  </thead>\n",
              "  <tbody>\n",
              "    <tr>\n",
              "      <th>214</th>\n",
              "      <td>Highly Effective</td>\n",
              "      <td>Moderate Side Effects</td>\n",
              "      <td>1</td>\n",
              "    </tr>\n",
              "    <tr>\n",
              "      <th>1814</th>\n",
              "      <td>Considerably Effective</td>\n",
              "      <td>No Side Effects</td>\n",
              "      <td>0</td>\n",
              "    </tr>\n",
              "    <tr>\n",
              "      <th>2347</th>\n",
              "      <td>Highly Effective</td>\n",
              "      <td>Mild Side Effects</td>\n",
              "      <td>1</td>\n",
              "    </tr>\n",
              "    <tr>\n",
              "      <th>3035</th>\n",
              "      <td>Highly Effective</td>\n",
              "      <td>Moderate Side Effects</td>\n",
              "      <td>1</td>\n",
              "    </tr>\n",
              "    <tr>\n",
              "      <th>457</th>\n",
              "      <td>Highly Effective</td>\n",
              "      <td>No Side Effects</td>\n",
              "      <td>1</td>\n",
              "    </tr>\n",
              "  </tbody>\n",
              "</table>\n",
              "</div>"
            ],
            "text/plain": [
              "               effectiveness            sideEffects  rank_bin\n",
              "214         Highly Effective  Moderate Side Effects         1\n",
              "1814  Considerably Effective        No Side Effects         0\n",
              "2347        Highly Effective      Mild Side Effects         1\n",
              "3035        Highly Effective  Moderate Side Effects         1\n",
              "457         Highly Effective        No Side Effects         1"
            ]
          },
          "metadata": {
            "tags": []
          },
          "execution_count": 85
        }
      ]
    },
    {
      "cell_type": "markdown",
      "metadata": {
        "id": "aInvm5f50qqw"
      },
      "source": [
        "Merging test result from previous model"
      ]
    },
    {
      "cell_type": "code",
      "metadata": {
        "id": "enu2frmT0qIc",
        "colab": {
          "base_uri": "https://localhost:8080/"
        },
        "outputId": "69012b05-badc-4aa1-ad1d-ba12f4658f78"
      },
      "source": [
        "from tqdm import tqdm\n",
        "\n",
        "for i, row in tqdm(X_test.iterrows()):\n",
        "  X_test.at[i,'rank_bin']=y_test_pred_index[i]\n"
      ],
      "execution_count": null,
      "outputs": [
        {
          "output_type": "stream",
          "text": [
            "932it [00:00, 7163.67it/s]\n"
          ],
          "name": "stderr"
        }
      ]
    },
    {
      "cell_type": "code",
      "metadata": {
        "id": "MiemTzVr0aWT",
        "colab": {
          "base_uri": "https://localhost:8080/"
        },
        "outputId": "8a86bed6-38a8-4b46-e879-abe3f49b6f73"
      },
      "source": [
        "y_test_pred_index"
      ],
      "execution_count": null,
      "outputs": [
        {
          "output_type": "execute_result",
          "data": {
            "text/plain": [
              "214     1\n",
              "1814    0\n",
              "2347    1\n",
              "3035    1\n",
              "457     1\n",
              "       ..\n",
              "1160    1\n",
              "195     1\n",
              "1097    1\n",
              "530     1\n",
              "2992    1\n",
              "Name: rank_bin, Length: 932, dtype: int64"
            ]
          },
          "metadata": {
            "tags": []
          },
          "execution_count": 87
        }
      ]
    },
    {
      "cell_type": "code",
      "metadata": {
        "id": "PZfK14RdtQnE"
      },
      "source": [
        "y_test=strat_test_set[\"rating\"]"
      ],
      "execution_count": null,
      "outputs": []
    },
    {
      "cell_type": "code",
      "metadata": {
        "id": "AXb6s_sQtQnE",
        "colab": {
          "base_uri": "https://localhost:8080/"
        },
        "outputId": "c5a6d046-342a-4186-f7b7-ab11ea38ff6f"
      },
      "source": [
        "y_test.head()"
      ],
      "execution_count": null,
      "outputs": [
        {
          "output_type": "execute_result",
          "data": {
            "text/plain": [
              "214      8\n",
              "1814     6\n",
              "2347     9\n",
              "3035     9\n",
              "457     10\n",
              "Name: rating, dtype: int64"
            ]
          },
          "metadata": {
            "tags": []
          },
          "execution_count": 89
        }
      ]
    },
    {
      "cell_type": "code",
      "metadata": {
        "id": "2vfoKFKotQnF"
      },
      "source": [
        "from sklearn.compose import ColumnTransformer\n",
        "from sklearn.preprocessing import OneHotEncoder"
      ],
      "execution_count": null,
      "outputs": []
    },
    {
      "cell_type": "code",
      "metadata": {
        "id": "IRwz8MS1tQnF"
      },
      "source": [
        "ct=ColumnTransformer(transformers=[('encoder',OneHotEncoder(sparse=False,drop='first'),[0,1,2])])"
      ],
      "execution_count": null,
      "outputs": []
    },
    {
      "cell_type": "code",
      "metadata": {
        "id": "E5UvAOcXtQnF"
      },
      "source": [
        "X_train=ct.fit_transform(X_train)\n",
        "X_test=ct.transform(X_test)"
      ],
      "execution_count": null,
      "outputs": []
    },
    {
      "cell_type": "code",
      "metadata": {
        "id": "fHbiieJJtQnF"
      },
      "source": [
        "X_train=pd.DataFrame(data=X_train,columns=ct.get_feature_names())\n",
        "X_test=pd.DataFrame(data=X_test,columns=ct.get_feature_names())"
      ],
      "execution_count": null,
      "outputs": []
    },
    {
      "cell_type": "code",
      "metadata": {
        "id": "QXOf-aXZtQnI",
        "colab": {
          "base_uri": "https://localhost:8080/"
        },
        "outputId": "8248392e-4ead-401c-c23b-72a09b751b44"
      },
      "source": [
        "X_train.head()"
      ],
      "execution_count": null,
      "outputs": [
        {
          "output_type": "execute_result",
          "data": {
            "text/html": [
              "<div>\n",
              "<style scoped>\n",
              "    .dataframe tbody tr th:only-of-type {\n",
              "        vertical-align: middle;\n",
              "    }\n",
              "\n",
              "    .dataframe tbody tr th {\n",
              "        vertical-align: top;\n",
              "    }\n",
              "\n",
              "    .dataframe thead th {\n",
              "        text-align: right;\n",
              "    }\n",
              "</style>\n",
              "<table border=\"1\" class=\"dataframe\">\n",
              "  <thead>\n",
              "    <tr style=\"text-align: right;\">\n",
              "      <th></th>\n",
              "      <th>encoder__x0_Highly Effective</th>\n",
              "      <th>encoder__x0_Ineffective</th>\n",
              "      <th>encoder__x0_Marginally Effective</th>\n",
              "      <th>encoder__x0_Moderately Effective</th>\n",
              "      <th>encoder__x1_Mild Side Effects</th>\n",
              "      <th>encoder__x1_Moderate Side Effects</th>\n",
              "      <th>encoder__x1_No Side Effects</th>\n",
              "      <th>encoder__x1_Severe Side Effects</th>\n",
              "      <th>encoder__x2_1</th>\n",
              "    </tr>\n",
              "  </thead>\n",
              "  <tbody>\n",
              "    <tr>\n",
              "      <th>0</th>\n",
              "      <td>1.0</td>\n",
              "      <td>0.0</td>\n",
              "      <td>0.0</td>\n",
              "      <td>0.0</td>\n",
              "      <td>0.0</td>\n",
              "      <td>0.0</td>\n",
              "      <td>1.0</td>\n",
              "      <td>0.0</td>\n",
              "      <td>1.0</td>\n",
              "    </tr>\n",
              "    <tr>\n",
              "      <th>1</th>\n",
              "      <td>1.0</td>\n",
              "      <td>0.0</td>\n",
              "      <td>0.0</td>\n",
              "      <td>0.0</td>\n",
              "      <td>1.0</td>\n",
              "      <td>0.0</td>\n",
              "      <td>0.0</td>\n",
              "      <td>0.0</td>\n",
              "      <td>1.0</td>\n",
              "    </tr>\n",
              "    <tr>\n",
              "      <th>2</th>\n",
              "      <td>0.0</td>\n",
              "      <td>0.0</td>\n",
              "      <td>0.0</td>\n",
              "      <td>1.0</td>\n",
              "      <td>0.0</td>\n",
              "      <td>1.0</td>\n",
              "      <td>0.0</td>\n",
              "      <td>0.0</td>\n",
              "      <td>1.0</td>\n",
              "    </tr>\n",
              "    <tr>\n",
              "      <th>3</th>\n",
              "      <td>0.0</td>\n",
              "      <td>0.0</td>\n",
              "      <td>0.0</td>\n",
              "      <td>0.0</td>\n",
              "      <td>1.0</td>\n",
              "      <td>0.0</td>\n",
              "      <td>0.0</td>\n",
              "      <td>0.0</td>\n",
              "      <td>1.0</td>\n",
              "    </tr>\n",
              "    <tr>\n",
              "      <th>4</th>\n",
              "      <td>0.0</td>\n",
              "      <td>0.0</td>\n",
              "      <td>0.0</td>\n",
              "      <td>0.0</td>\n",
              "      <td>0.0</td>\n",
              "      <td>0.0</td>\n",
              "      <td>1.0</td>\n",
              "      <td>0.0</td>\n",
              "      <td>1.0</td>\n",
              "    </tr>\n",
              "  </tbody>\n",
              "</table>\n",
              "</div>"
            ],
            "text/plain": [
              "   encoder__x0_Highly Effective  ...  encoder__x2_1\n",
              "0                           1.0  ...            1.0\n",
              "1                           1.0  ...            1.0\n",
              "2                           0.0  ...            1.0\n",
              "3                           0.0  ...            1.0\n",
              "4                           0.0  ...            1.0\n",
              "\n",
              "[5 rows x 9 columns]"
            ]
          },
          "metadata": {
            "tags": []
          },
          "execution_count": 94
        }
      ]
    },
    {
      "cell_type": "markdown",
      "metadata": {
        "id": "63KVGajGh3w-"
      },
      "source": [
        "# Categorical Model: Random Forest"
      ]
    },
    {
      "cell_type": "markdown",
      "metadata": {
        "id": "Pb7qy7XYyoF3"
      },
      "source": [
        "## Normal Model"
      ]
    },
    {
      "cell_type": "code",
      "metadata": {
        "id": "dMLHvq7lqeaB"
      },
      "source": [
        "from sklearn.model_selection import GridSearchCV\n",
        "# Create the parameter grid based on the results of random search \n",
        "param_grid = {\n",
        "    'bootstrap': [True],\n",
        "    'max_depth': [600],\n",
        "    'max_features': [5,6,7,8],\n",
        "#    'max_features':['auto', 'sqrt'],\n",
        "\n",
        "    'min_samples_leaf': [2,4,8,10,15],\n",
        "    'min_samples_split': [10,20,40,50],\n",
        "    'n_estimators': [25,50,100,200,300]\n",
        "}"
      ],
      "execution_count": null,
      "outputs": []
    },
    {
      "cell_type": "code",
      "metadata": {
        "id": "CPRmvSJiiN6M",
        "colab": {
          "base_uri": "https://localhost:8080/"
        },
        "outputId": "dcb9a0ab-21c6-4c33-fbd0-5af45e798ff1"
      },
      "source": [
        "from sklearn.ensemble import RandomForestRegressor\n",
        "rf = RandomForestRegressor()\n",
        "# Instantiate the grid search model\n",
        "grid_search = GridSearchCV(estimator = rf, param_grid = param_grid, \n",
        "                          cv = 3, n_jobs = -1, verbose = 3)\n",
        "grid_search.fit(X_train, y_train)"
      ],
      "execution_count": null,
      "outputs": [
        {
          "output_type": "stream",
          "text": [
            "Fitting 3 folds for each of 400 candidates, totalling 1200 fits\n"
          ],
          "name": "stdout"
        },
        {
          "output_type": "stream",
          "text": [
            "[Parallel(n_jobs=-1)]: Using backend LokyBackend with 2 concurrent workers.\n",
            "[Parallel(n_jobs=-1)]: Done  28 tasks      | elapsed:    6.5s\n",
            "[Parallel(n_jobs=-1)]: Done 124 tasks      | elapsed:   24.1s\n",
            "[Parallel(n_jobs=-1)]: Done 284 tasks      | elapsed:   54.0s\n",
            "[Parallel(n_jobs=-1)]: Done 508 tasks      | elapsed:  1.6min\n",
            "[Parallel(n_jobs=-1)]: Done 796 tasks      | elapsed:  2.5min\n",
            "[Parallel(n_jobs=-1)]: Done 1148 tasks      | elapsed:  3.6min\n",
            "[Parallel(n_jobs=-1)]: Done 1200 out of 1200 | elapsed:  3.8min finished\n"
          ],
          "name": "stderr"
        },
        {
          "output_type": "execute_result",
          "data": {
            "text/plain": [
              "GridSearchCV(cv=3, error_score=nan,\n",
              "             estimator=RandomForestRegressor(bootstrap=True, ccp_alpha=0.0,\n",
              "                                             criterion='mse', max_depth=None,\n",
              "                                             max_features='auto',\n",
              "                                             max_leaf_nodes=None,\n",
              "                                             max_samples=None,\n",
              "                                             min_impurity_decrease=0.0,\n",
              "                                             min_impurity_split=None,\n",
              "                                             min_samples_leaf=1,\n",
              "                                             min_samples_split=2,\n",
              "                                             min_weight_fraction_leaf=0.0,\n",
              "                                             n_estimators=100, n_jobs=None,\n",
              "                                             oob_score=False, random_state=None,\n",
              "                                             verbose=0, warm_start=False),\n",
              "             iid='deprecated', n_jobs=-1,\n",
              "             param_grid={'bootstrap': [True], 'max_depth': [600],\n",
              "                         'max_features': [5, 6, 7, 8],\n",
              "                         'min_samples_leaf': [2, 4, 8, 10, 15],\n",
              "                         'min_samples_split': [10, 20, 40, 50],\n",
              "                         'n_estimators': [25, 50, 100, 200, 300]},\n",
              "             pre_dispatch='2*n_jobs', refit=True, return_train_score=False,\n",
              "             scoring=None, verbose=3)"
            ]
          },
          "metadata": {
            "tags": []
          },
          "execution_count": 96
        }
      ]
    },
    {
      "cell_type": "code",
      "metadata": {
        "id": "6_JhPCAwiWLo"
      },
      "source": [
        "model=grid_search.best_estimator_"
      ],
      "execution_count": null,
      "outputs": []
    },
    {
      "cell_type": "code",
      "metadata": {
        "id": "XYgTpyIDdSlk",
        "colab": {
          "base_uri": "https://localhost:8080/"
        },
        "outputId": "b45e06eb-3e0e-4287-92dc-82b62b82a6f5"
      },
      "source": [
        "model"
      ],
      "execution_count": null,
      "outputs": [
        {
          "output_type": "execute_result",
          "data": {
            "text/plain": [
              "RandomForestRegressor(bootstrap=True, ccp_alpha=0.0, criterion='mse',\n",
              "                      max_depth=600, max_features=8, max_leaf_nodes=None,\n",
              "                      max_samples=None, min_impurity_decrease=0.0,\n",
              "                      min_impurity_split=None, min_samples_leaf=2,\n",
              "                      min_samples_split=10, min_weight_fraction_leaf=0.0,\n",
              "                      n_estimators=50, n_jobs=None, oob_score=False,\n",
              "                      random_state=None, verbose=0, warm_start=False)"
            ]
          },
          "metadata": {
            "tags": []
          },
          "execution_count": 98
        }
      ]
    },
    {
      "cell_type": "markdown",
      "metadata": {
        "id": "z7dkhmeyiyxj"
      },
      "source": [
        "Performance"
      ]
    },
    {
      "cell_type": "code",
      "metadata": {
        "id": "seFQxoliitTq",
        "colab": {
          "base_uri": "https://localhost:8080/"
        },
        "outputId": "79b8d9b0-c7ef-4cd6-add5-5d22bf5530ad"
      },
      "source": [
        "def get_performance_R(model,X,y):\n",
        "  y_pred = model.predict(X)\n",
        "  from sklearn.metrics import r2_score\n",
        "  return(r2_score(y, y_pred))\n",
        "\n",
        "get_performance_R(model,X_train,y_train)\n"
      ],
      "execution_count": null,
      "outputs": [
        {
          "output_type": "execute_result",
          "data": {
            "text/plain": [
              "0.8022949538926847"
            ]
          },
          "metadata": {
            "tags": []
          },
          "execution_count": 99
        }
      ]
    },
    {
      "cell_type": "code",
      "metadata": {
        "id": "3GhpyYhHoPxW",
        "colab": {
          "base_uri": "https://localhost:8080/"
        },
        "outputId": "0e5eff7c-2bc7-4be7-db61-36357cc507c3"
      },
      "source": [
        "get_performance_R(model,X_test,y_test)\n"
      ],
      "execution_count": null,
      "outputs": [
        {
          "output_type": "execute_result",
          "data": {
            "text/plain": [
              "0.774017850295655"
            ]
          },
          "metadata": {
            "tags": []
          },
          "execution_count": 100
        }
      ]
    },
    {
      "cell_type": "code",
      "metadata": {
        "id": "-lJcRhMgkEN6",
        "colab": {
          "base_uri": "https://localhost:8080/"
        },
        "outputId": "e0aaaead-6463-46f2-e10f-49bc08f85125"
      },
      "source": [
        "X_train.columns.to_list()"
      ],
      "execution_count": null,
      "outputs": [
        {
          "output_type": "execute_result",
          "data": {
            "text/plain": [
              "['encoder__x0_Highly Effective',\n",
              " 'encoder__x0_Ineffective',\n",
              " 'encoder__x0_Marginally Effective',\n",
              " 'encoder__x0_Moderately Effective',\n",
              " 'encoder__x1_Mild Side Effects',\n",
              " 'encoder__x1_Moderate Side Effects',\n",
              " 'encoder__x1_No Side Effects',\n",
              " 'encoder__x1_Severe Side Effects',\n",
              " 'encoder__x2_1']"
            ]
          },
          "metadata": {
            "tags": []
          },
          "execution_count": 101
        }
      ]
    },
    {
      "cell_type": "code",
      "metadata": {
        "id": "_ZQ_4YAfj8Ui",
        "colab": {
          "base_uri": "https://localhost:8080/"
        },
        "outputId": "5316e481-cb5c-4471-8dfd-74c5ffcae4ed"
      },
      "source": [
        "for name, score in zip(X_train.columns.to_list(), model.feature_importances_):\n",
        "  print(name, score)"
      ],
      "execution_count": null,
      "outputs": [
        {
          "output_type": "stream",
          "text": [
            "encoder__x0_Highly Effective 0.2687430556837851\n",
            "encoder__x0_Ineffective 0.27586824388751824\n",
            "encoder__x0_Marginally Effective 0.063588516958218\n",
            "encoder__x0_Moderately Effective 0.03287597722607793\n",
            "encoder__x1_Mild Side Effects 0.061700283143792056\n",
            "encoder__x1_Moderate Side Effects 0.04903106918451451\n",
            "encoder__x1_No Side Effects 0.03324558505364829\n",
            "encoder__x1_Severe Side Effects 0.10939178261208563\n",
            "encoder__x2_1 0.10555548625036021\n"
          ],
          "name": "stdout"
        }
      ]
    },
    {
      "cell_type": "markdown",
      "metadata": {
        "id": "4FvpugFAyjOo"
      },
      "source": [
        "##"
      ]
    },
    {
      "cell_type": "markdown",
      "metadata": {
        "id": "cabIqnqDyqfL"
      },
      "source": [
        "## (OR) Feature Selected "
      ]
    },
    {
      "cell_type": "code",
      "metadata": {
        "id": "GvtAPpwoytLh"
      },
      "source": [
        "from itertools import chain,combinations\n",
        "from sklearn.svm import SVC\n",
        "from sklearn.model_selection import GridSearchCV\n",
        "import tqdm\n",
        "import warnings\n",
        "warnings.filterwarnings('ignore') \n",
        "\n",
        "from sklearn.ensemble import RandomForestRegressor\n",
        "# Instantiate the grid search model\n",
        "\n",
        "\n",
        "def power_set(iterable):\n",
        "    s=(iterable)\n",
        "    return chain.from_iterable(combinations(s,r) for r in range(2,len(s)+1)) #Update here"
      ],
      "execution_count": null,
      "outputs": []
    },
    {
      "cell_type": "code",
      "metadata": {
        "id": "1p3Wdgqp0Oqc",
        "colab": {
          "base_uri": "https://localhost:8080/"
        },
        "outputId": "b1bda59b-8e9a-4bbb-fc23-af0f932cbf36"
      },
      "source": [
        "print(list(power_set(X_train.columns.values)))"
      ],
      "execution_count": null,
      "outputs": [
        {
          "output_type": "stream",
          "text": [
            "[('encoder__x0_Highly Effective', 'encoder__x0_Ineffective'), ('encoder__x0_Highly Effective', 'encoder__x0_Marginally Effective'), ('encoder__x0_Highly Effective', 'encoder__x0_Moderately Effective'), ('encoder__x0_Highly Effective', 'encoder__x1_Mild Side Effects'), ('encoder__x0_Highly Effective', 'encoder__x1_Moderate Side Effects'), ('encoder__x0_Highly Effective', 'encoder__x1_No Side Effects'), ('encoder__x0_Highly Effective', 'encoder__x1_Severe Side Effects'), ('encoder__x0_Highly Effective', 'encoder__x2_1'), ('encoder__x0_Ineffective', 'encoder__x0_Marginally Effective'), ('encoder__x0_Ineffective', 'encoder__x0_Moderately Effective'), ('encoder__x0_Ineffective', 'encoder__x1_Mild Side Effects'), ('encoder__x0_Ineffective', 'encoder__x1_Moderate Side Effects'), ('encoder__x0_Ineffective', 'encoder__x1_No Side Effects'), ('encoder__x0_Ineffective', 'encoder__x1_Severe Side Effects'), ('encoder__x0_Ineffective', 'encoder__x2_1'), ('encoder__x0_Marginally Effective', 'encoder__x0_Moderately Effective'), ('encoder__x0_Marginally Effective', 'encoder__x1_Mild Side Effects'), ('encoder__x0_Marginally Effective', 'encoder__x1_Moderate Side Effects'), ('encoder__x0_Marginally Effective', 'encoder__x1_No Side Effects'), ('encoder__x0_Marginally Effective', 'encoder__x1_Severe Side Effects'), ('encoder__x0_Marginally Effective', 'encoder__x2_1'), ('encoder__x0_Moderately Effective', 'encoder__x1_Mild Side Effects'), ('encoder__x0_Moderately Effective', 'encoder__x1_Moderate Side Effects'), ('encoder__x0_Moderately Effective', 'encoder__x1_No Side Effects'), ('encoder__x0_Moderately Effective', 'encoder__x1_Severe Side Effects'), ('encoder__x0_Moderately Effective', 'encoder__x2_1'), ('encoder__x1_Mild Side Effects', 'encoder__x1_Moderate Side Effects'), ('encoder__x1_Mild Side Effects', 'encoder__x1_No Side Effects'), ('encoder__x1_Mild Side Effects', 'encoder__x1_Severe Side Effects'), ('encoder__x1_Mild Side Effects', 'encoder__x2_1'), ('encoder__x1_Moderate Side Effects', 'encoder__x1_No Side Effects'), ('encoder__x1_Moderate Side Effects', 'encoder__x1_Severe Side Effects'), ('encoder__x1_Moderate Side Effects', 'encoder__x2_1'), ('encoder__x1_No Side Effects', 'encoder__x1_Severe Side Effects'), ('encoder__x1_No Side Effects', 'encoder__x2_1'), ('encoder__x1_Severe Side Effects', 'encoder__x2_1'), ('encoder__x0_Highly Effective', 'encoder__x0_Ineffective', 'encoder__x0_Marginally Effective'), ('encoder__x0_Highly Effective', 'encoder__x0_Ineffective', 'encoder__x0_Moderately Effective'), ('encoder__x0_Highly Effective', 'encoder__x0_Ineffective', 'encoder__x1_Mild Side Effects'), ('encoder__x0_Highly Effective', 'encoder__x0_Ineffective', 'encoder__x1_Moderate Side Effects'), ('encoder__x0_Highly Effective', 'encoder__x0_Ineffective', 'encoder__x1_No Side Effects'), ('encoder__x0_Highly Effective', 'encoder__x0_Ineffective', 'encoder__x1_Severe Side Effects'), ('encoder__x0_Highly Effective', 'encoder__x0_Ineffective', 'encoder__x2_1'), ('encoder__x0_Highly Effective', 'encoder__x0_Marginally Effective', 'encoder__x0_Moderately Effective'), ('encoder__x0_Highly Effective', 'encoder__x0_Marginally Effective', 'encoder__x1_Mild Side Effects'), ('encoder__x0_Highly Effective', 'encoder__x0_Marginally Effective', 'encoder__x1_Moderate Side Effects'), ('encoder__x0_Highly Effective', 'encoder__x0_Marginally Effective', 'encoder__x1_No Side Effects'), ('encoder__x0_Highly Effective', 'encoder__x0_Marginally Effective', 'encoder__x1_Severe Side Effects'), ('encoder__x0_Highly Effective', 'encoder__x0_Marginally Effective', 'encoder__x2_1'), ('encoder__x0_Highly Effective', 'encoder__x0_Moderately Effective', 'encoder__x1_Mild Side Effects'), ('encoder__x0_Highly Effective', 'encoder__x0_Moderately Effective', 'encoder__x1_Moderate Side Effects'), ('encoder__x0_Highly Effective', 'encoder__x0_Moderately Effective', 'encoder__x1_No Side Effects'), ('encoder__x0_Highly Effective', 'encoder__x0_Moderately Effective', 'encoder__x1_Severe Side Effects'), ('encoder__x0_Highly Effective', 'encoder__x0_Moderately Effective', 'encoder__x2_1'), ('encoder__x0_Highly Effective', 'encoder__x1_Mild Side Effects', 'encoder__x1_Moderate Side Effects'), ('encoder__x0_Highly Effective', 'encoder__x1_Mild Side Effects', 'encoder__x1_No Side Effects'), ('encoder__x0_Highly Effective', 'encoder__x1_Mild Side Effects', 'encoder__x1_Severe Side Effects'), ('encoder__x0_Highly Effective', 'encoder__x1_Mild Side Effects', 'encoder__x2_1'), ('encoder__x0_Highly Effective', 'encoder__x1_Moderate Side Effects', 'encoder__x1_No Side Effects'), ('encoder__x0_Highly Effective', 'encoder__x1_Moderate Side Effects', 'encoder__x1_Severe Side Effects'), ('encoder__x0_Highly Effective', 'encoder__x1_Moderate Side Effects', 'encoder__x2_1'), ('encoder__x0_Highly Effective', 'encoder__x1_No Side Effects', 'encoder__x1_Severe Side Effects'), ('encoder__x0_Highly Effective', 'encoder__x1_No Side Effects', 'encoder__x2_1'), ('encoder__x0_Highly Effective', 'encoder__x1_Severe Side Effects', 'encoder__x2_1'), ('encoder__x0_Ineffective', 'encoder__x0_Marginally Effective', 'encoder__x0_Moderately Effective'), ('encoder__x0_Ineffective', 'encoder__x0_Marginally Effective', 'encoder__x1_Mild Side Effects'), ('encoder__x0_Ineffective', 'encoder__x0_Marginally Effective', 'encoder__x1_Moderate Side Effects'), ('encoder__x0_Ineffective', 'encoder__x0_Marginally Effective', 'encoder__x1_No Side Effects'), ('encoder__x0_Ineffective', 'encoder__x0_Marginally Effective', 'encoder__x1_Severe Side Effects'), ('encoder__x0_Ineffective', 'encoder__x0_Marginally Effective', 'encoder__x2_1'), ('encoder__x0_Ineffective', 'encoder__x0_Moderately Effective', 'encoder__x1_Mild Side Effects'), ('encoder__x0_Ineffective', 'encoder__x0_Moderately Effective', 'encoder__x1_Moderate Side Effects'), ('encoder__x0_Ineffective', 'encoder__x0_Moderately Effective', 'encoder__x1_No Side Effects'), ('encoder__x0_Ineffective', 'encoder__x0_Moderately Effective', 'encoder__x1_Severe Side Effects'), ('encoder__x0_Ineffective', 'encoder__x0_Moderately Effective', 'encoder__x2_1'), ('encoder__x0_Ineffective', 'encoder__x1_Mild Side Effects', 'encoder__x1_Moderate Side Effects'), ('encoder__x0_Ineffective', 'encoder__x1_Mild Side Effects', 'encoder__x1_No Side Effects'), ('encoder__x0_Ineffective', 'encoder__x1_Mild Side Effects', 'encoder__x1_Severe Side Effects'), ('encoder__x0_Ineffective', 'encoder__x1_Mild Side Effects', 'encoder__x2_1'), ('encoder__x0_Ineffective', 'encoder__x1_Moderate Side Effects', 'encoder__x1_No Side Effects'), ('encoder__x0_Ineffective', 'encoder__x1_Moderate Side Effects', 'encoder__x1_Severe Side Effects'), ('encoder__x0_Ineffective', 'encoder__x1_Moderate Side Effects', 'encoder__x2_1'), ('encoder__x0_Ineffective', 'encoder__x1_No Side Effects', 'encoder__x1_Severe Side Effects'), ('encoder__x0_Ineffective', 'encoder__x1_No Side Effects', 'encoder__x2_1'), ('encoder__x0_Ineffective', 'encoder__x1_Severe Side Effects', 'encoder__x2_1'), ('encoder__x0_Marginally Effective', 'encoder__x0_Moderately Effective', 'encoder__x1_Mild Side Effects'), ('encoder__x0_Marginally Effective', 'encoder__x0_Moderately Effective', 'encoder__x1_Moderate Side Effects'), ('encoder__x0_Marginally Effective', 'encoder__x0_Moderately Effective', 'encoder__x1_No Side Effects'), ('encoder__x0_Marginally Effective', 'encoder__x0_Moderately Effective', 'encoder__x1_Severe Side Effects'), ('encoder__x0_Marginally Effective', 'encoder__x0_Moderately Effective', 'encoder__x2_1'), ('encoder__x0_Marginally Effective', 'encoder__x1_Mild Side Effects', 'encoder__x1_Moderate Side Effects'), ('encoder__x0_Marginally Effective', 'encoder__x1_Mild Side Effects', 'encoder__x1_No Side Effects'), ('encoder__x0_Marginally Effective', 'encoder__x1_Mild Side Effects', 'encoder__x1_Severe Side Effects'), ('encoder__x0_Marginally Effective', 'encoder__x1_Mild Side Effects', 'encoder__x2_1'), ('encoder__x0_Marginally Effective', 'encoder__x1_Moderate Side Effects', 'encoder__x1_No Side Effects'), ('encoder__x0_Marginally Effective', 'encoder__x1_Moderate Side Effects', 'encoder__x1_Severe Side Effects'), ('encoder__x0_Marginally Effective', 'encoder__x1_Moderate Side Effects', 'encoder__x2_1'), ('encoder__x0_Marginally Effective', 'encoder__x1_No Side Effects', 'encoder__x1_Severe Side Effects'), ('encoder__x0_Marginally Effective', 'encoder__x1_No Side Effects', 'encoder__x2_1'), ('encoder__x0_Marginally Effective', 'encoder__x1_Severe Side Effects', 'encoder__x2_1'), ('encoder__x0_Moderately Effective', 'encoder__x1_Mild Side Effects', 'encoder__x1_Moderate Side Effects'), ('encoder__x0_Moderately Effective', 'encoder__x1_Mild Side Effects', 'encoder__x1_No Side Effects'), ('encoder__x0_Moderately Effective', 'encoder__x1_Mild Side Effects', 'encoder__x1_Severe Side Effects'), ('encoder__x0_Moderately Effective', 'encoder__x1_Mild Side Effects', 'encoder__x2_1'), ('encoder__x0_Moderately Effective', 'encoder__x1_Moderate Side Effects', 'encoder__x1_No Side Effects'), ('encoder__x0_Moderately Effective', 'encoder__x1_Moderate Side Effects', 'encoder__x1_Severe Side Effects'), ('encoder__x0_Moderately Effective', 'encoder__x1_Moderate Side Effects', 'encoder__x2_1'), ('encoder__x0_Moderately Effective', 'encoder__x1_No Side Effects', 'encoder__x1_Severe Side Effects'), ('encoder__x0_Moderately Effective', 'encoder__x1_No Side Effects', 'encoder__x2_1'), ('encoder__x0_Moderately Effective', 'encoder__x1_Severe Side Effects', 'encoder__x2_1'), ('encoder__x1_Mild Side Effects', 'encoder__x1_Moderate Side Effects', 'encoder__x1_No Side Effects'), ('encoder__x1_Mild Side Effects', 'encoder__x1_Moderate Side Effects', 'encoder__x1_Severe Side Effects'), ('encoder__x1_Mild Side Effects', 'encoder__x1_Moderate Side Effects', 'encoder__x2_1'), ('encoder__x1_Mild Side Effects', 'encoder__x1_No Side Effects', 'encoder__x1_Severe Side Effects'), ('encoder__x1_Mild Side Effects', 'encoder__x1_No Side Effects', 'encoder__x2_1'), ('encoder__x1_Mild Side Effects', 'encoder__x1_Severe Side Effects', 'encoder__x2_1'), ('encoder__x1_Moderate Side Effects', 'encoder__x1_No Side Effects', 'encoder__x1_Severe Side Effects'), ('encoder__x1_Moderate Side Effects', 'encoder__x1_No Side Effects', 'encoder__x2_1'), ('encoder__x1_Moderate Side Effects', 'encoder__x1_Severe Side Effects', 'encoder__x2_1'), ('encoder__x1_No Side Effects', 'encoder__x1_Severe Side Effects', 'encoder__x2_1'), ('encoder__x0_Highly Effective', 'encoder__x0_Ineffective', 'encoder__x0_Marginally Effective', 'encoder__x0_Moderately Effective'), ('encoder__x0_Highly Effective', 'encoder__x0_Ineffective', 'encoder__x0_Marginally Effective', 'encoder__x1_Mild Side Effects'), ('encoder__x0_Highly Effective', 'encoder__x0_Ineffective', 'encoder__x0_Marginally Effective', 'encoder__x1_Moderate Side Effects'), ('encoder__x0_Highly Effective', 'encoder__x0_Ineffective', 'encoder__x0_Marginally Effective', 'encoder__x1_No Side Effects'), ('encoder__x0_Highly Effective', 'encoder__x0_Ineffective', 'encoder__x0_Marginally Effective', 'encoder__x1_Severe Side Effects'), ('encoder__x0_Highly Effective', 'encoder__x0_Ineffective', 'encoder__x0_Marginally Effective', 'encoder__x2_1'), ('encoder__x0_Highly Effective', 'encoder__x0_Ineffective', 'encoder__x0_Moderately Effective', 'encoder__x1_Mild Side Effects'), ('encoder__x0_Highly Effective', 'encoder__x0_Ineffective', 'encoder__x0_Moderately Effective', 'encoder__x1_Moderate Side Effects'), ('encoder__x0_Highly Effective', 'encoder__x0_Ineffective', 'encoder__x0_Moderately Effective', 'encoder__x1_No Side Effects'), ('encoder__x0_Highly Effective', 'encoder__x0_Ineffective', 'encoder__x0_Moderately Effective', 'encoder__x1_Severe Side Effects'), ('encoder__x0_Highly Effective', 'encoder__x0_Ineffective', 'encoder__x0_Moderately Effective', 'encoder__x2_1'), ('encoder__x0_Highly Effective', 'encoder__x0_Ineffective', 'encoder__x1_Mild Side Effects', 'encoder__x1_Moderate Side Effects'), ('encoder__x0_Highly Effective', 'encoder__x0_Ineffective', 'encoder__x1_Mild Side Effects', 'encoder__x1_No Side Effects'), ('encoder__x0_Highly Effective', 'encoder__x0_Ineffective', 'encoder__x1_Mild Side Effects', 'encoder__x1_Severe Side Effects'), ('encoder__x0_Highly Effective', 'encoder__x0_Ineffective', 'encoder__x1_Mild Side Effects', 'encoder__x2_1'), ('encoder__x0_Highly Effective', 'encoder__x0_Ineffective', 'encoder__x1_Moderate Side Effects', 'encoder__x1_No Side Effects'), ('encoder__x0_Highly Effective', 'encoder__x0_Ineffective', 'encoder__x1_Moderate Side Effects', 'encoder__x1_Severe Side Effects'), ('encoder__x0_Highly Effective', 'encoder__x0_Ineffective', 'encoder__x1_Moderate Side Effects', 'encoder__x2_1'), ('encoder__x0_Highly Effective', 'encoder__x0_Ineffective', 'encoder__x1_No Side Effects', 'encoder__x1_Severe Side Effects'), ('encoder__x0_Highly Effective', 'encoder__x0_Ineffective', 'encoder__x1_No Side Effects', 'encoder__x2_1'), ('encoder__x0_Highly Effective', 'encoder__x0_Ineffective', 'encoder__x1_Severe Side Effects', 'encoder__x2_1'), ('encoder__x0_Highly Effective', 'encoder__x0_Marginally Effective', 'encoder__x0_Moderately Effective', 'encoder__x1_Mild Side Effects'), ('encoder__x0_Highly Effective', 'encoder__x0_Marginally Effective', 'encoder__x0_Moderately Effective', 'encoder__x1_Moderate Side Effects'), ('encoder__x0_Highly Effective', 'encoder__x0_Marginally Effective', 'encoder__x0_Moderately Effective', 'encoder__x1_No Side Effects'), ('encoder__x0_Highly Effective', 'encoder__x0_Marginally Effective', 'encoder__x0_Moderately Effective', 'encoder__x1_Severe Side Effects'), ('encoder__x0_Highly Effective', 'encoder__x0_Marginally Effective', 'encoder__x0_Moderately Effective', 'encoder__x2_1'), ('encoder__x0_Highly Effective', 'encoder__x0_Marginally Effective', 'encoder__x1_Mild Side Effects', 'encoder__x1_Moderate Side Effects'), ('encoder__x0_Highly Effective', 'encoder__x0_Marginally Effective', 'encoder__x1_Mild Side Effects', 'encoder__x1_No Side Effects'), ('encoder__x0_Highly Effective', 'encoder__x0_Marginally Effective', 'encoder__x1_Mild Side Effects', 'encoder__x1_Severe Side Effects'), ('encoder__x0_Highly Effective', 'encoder__x0_Marginally Effective', 'encoder__x1_Mild Side Effects', 'encoder__x2_1'), ('encoder__x0_Highly Effective', 'encoder__x0_Marginally Effective', 'encoder__x1_Moderate Side Effects', 'encoder__x1_No Side Effects'), ('encoder__x0_Highly Effective', 'encoder__x0_Marginally Effective', 'encoder__x1_Moderate Side Effects', 'encoder__x1_Severe Side Effects'), ('encoder__x0_Highly Effective', 'encoder__x0_Marginally Effective', 'encoder__x1_Moderate Side Effects', 'encoder__x2_1'), ('encoder__x0_Highly Effective', 'encoder__x0_Marginally Effective', 'encoder__x1_No Side Effects', 'encoder__x1_Severe Side Effects'), ('encoder__x0_Highly Effective', 'encoder__x0_Marginally Effective', 'encoder__x1_No Side Effects', 'encoder__x2_1'), ('encoder__x0_Highly Effective', 'encoder__x0_Marginally Effective', 'encoder__x1_Severe Side Effects', 'encoder__x2_1'), ('encoder__x0_Highly Effective', 'encoder__x0_Moderately Effective', 'encoder__x1_Mild Side Effects', 'encoder__x1_Moderate Side Effects'), ('encoder__x0_Highly Effective', 'encoder__x0_Moderately Effective', 'encoder__x1_Mild Side Effects', 'encoder__x1_No Side Effects'), ('encoder__x0_Highly Effective', 'encoder__x0_Moderately Effective', 'encoder__x1_Mild Side Effects', 'encoder__x1_Severe Side Effects'), ('encoder__x0_Highly Effective', 'encoder__x0_Moderately Effective', 'encoder__x1_Mild Side Effects', 'encoder__x2_1'), ('encoder__x0_Highly Effective', 'encoder__x0_Moderately Effective', 'encoder__x1_Moderate Side Effects', 'encoder__x1_No Side Effects'), ('encoder__x0_Highly Effective', 'encoder__x0_Moderately Effective', 'encoder__x1_Moderate Side Effects', 'encoder__x1_Severe Side Effects'), ('encoder__x0_Highly Effective', 'encoder__x0_Moderately Effective', 'encoder__x1_Moderate Side Effects', 'encoder__x2_1'), ('encoder__x0_Highly Effective', 'encoder__x0_Moderately Effective', 'encoder__x1_No Side Effects', 'encoder__x1_Severe Side Effects'), ('encoder__x0_Highly Effective', 'encoder__x0_Moderately Effective', 'encoder__x1_No Side Effects', 'encoder__x2_1'), ('encoder__x0_Highly Effective', 'encoder__x0_Moderately Effective', 'encoder__x1_Severe Side Effects', 'encoder__x2_1'), ('encoder__x0_Highly Effective', 'encoder__x1_Mild Side Effects', 'encoder__x1_Moderate Side Effects', 'encoder__x1_No Side Effects'), ('encoder__x0_Highly Effective', 'encoder__x1_Mild Side Effects', 'encoder__x1_Moderate Side Effects', 'encoder__x1_Severe Side Effects'), ('encoder__x0_Highly Effective', 'encoder__x1_Mild Side Effects', 'encoder__x1_Moderate Side Effects', 'encoder__x2_1'), ('encoder__x0_Highly Effective', 'encoder__x1_Mild Side Effects', 'encoder__x1_No Side Effects', 'encoder__x1_Severe Side Effects'), ('encoder__x0_Highly Effective', 'encoder__x1_Mild Side Effects', 'encoder__x1_No Side Effects', 'encoder__x2_1'), ('encoder__x0_Highly Effective', 'encoder__x1_Mild Side Effects', 'encoder__x1_Severe Side Effects', 'encoder__x2_1'), ('encoder__x0_Highly Effective', 'encoder__x1_Moderate Side Effects', 'encoder__x1_No Side Effects', 'encoder__x1_Severe Side Effects'), ('encoder__x0_Highly Effective', 'encoder__x1_Moderate Side Effects', 'encoder__x1_No Side Effects', 'encoder__x2_1'), ('encoder__x0_Highly Effective', 'encoder__x1_Moderate Side Effects', 'encoder__x1_Severe Side Effects', 'encoder__x2_1'), ('encoder__x0_Highly Effective', 'encoder__x1_No Side Effects', 'encoder__x1_Severe Side Effects', 'encoder__x2_1'), ('encoder__x0_Ineffective', 'encoder__x0_Marginally Effective', 'encoder__x0_Moderately Effective', 'encoder__x1_Mild Side Effects'), ('encoder__x0_Ineffective', 'encoder__x0_Marginally Effective', 'encoder__x0_Moderately Effective', 'encoder__x1_Moderate Side Effects'), ('encoder__x0_Ineffective', 'encoder__x0_Marginally Effective', 'encoder__x0_Moderately Effective', 'encoder__x1_No Side Effects'), ('encoder__x0_Ineffective', 'encoder__x0_Marginally Effective', 'encoder__x0_Moderately Effective', 'encoder__x1_Severe Side Effects'), ('encoder__x0_Ineffective', 'encoder__x0_Marginally Effective', 'encoder__x0_Moderately Effective', 'encoder__x2_1'), ('encoder__x0_Ineffective', 'encoder__x0_Marginally Effective', 'encoder__x1_Mild Side Effects', 'encoder__x1_Moderate Side Effects'), ('encoder__x0_Ineffective', 'encoder__x0_Marginally Effective', 'encoder__x1_Mild Side Effects', 'encoder__x1_No Side Effects'), ('encoder__x0_Ineffective', 'encoder__x0_Marginally Effective', 'encoder__x1_Mild Side Effects', 'encoder__x1_Severe Side Effects'), ('encoder__x0_Ineffective', 'encoder__x0_Marginally Effective', 'encoder__x1_Mild Side Effects', 'encoder__x2_1'), ('encoder__x0_Ineffective', 'encoder__x0_Marginally Effective', 'encoder__x1_Moderate Side Effects', 'encoder__x1_No Side Effects'), ('encoder__x0_Ineffective', 'encoder__x0_Marginally Effective', 'encoder__x1_Moderate Side Effects', 'encoder__x1_Severe Side Effects'), ('encoder__x0_Ineffective', 'encoder__x0_Marginally Effective', 'encoder__x1_Moderate Side Effects', 'encoder__x2_1'), ('encoder__x0_Ineffective', 'encoder__x0_Marginally Effective', 'encoder__x1_No Side Effects', 'encoder__x1_Severe Side Effects'), ('encoder__x0_Ineffective', 'encoder__x0_Marginally Effective', 'encoder__x1_No Side Effects', 'encoder__x2_1'), ('encoder__x0_Ineffective', 'encoder__x0_Marginally Effective', 'encoder__x1_Severe Side Effects', 'encoder__x2_1'), ('encoder__x0_Ineffective', 'encoder__x0_Moderately Effective', 'encoder__x1_Mild Side Effects', 'encoder__x1_Moderate Side Effects'), ('encoder__x0_Ineffective', 'encoder__x0_Moderately Effective', 'encoder__x1_Mild Side Effects', 'encoder__x1_No Side Effects'), ('encoder__x0_Ineffective', 'encoder__x0_Moderately Effective', 'encoder__x1_Mild Side Effects', 'encoder__x1_Severe Side Effects'), ('encoder__x0_Ineffective', 'encoder__x0_Moderately Effective', 'encoder__x1_Mild Side Effects', 'encoder__x2_1'), ('encoder__x0_Ineffective', 'encoder__x0_Moderately Effective', 'encoder__x1_Moderate Side Effects', 'encoder__x1_No Side Effects'), ('encoder__x0_Ineffective', 'encoder__x0_Moderately Effective', 'encoder__x1_Moderate Side Effects', 'encoder__x1_Severe Side Effects'), ('encoder__x0_Ineffective', 'encoder__x0_Moderately Effective', 'encoder__x1_Moderate Side Effects', 'encoder__x2_1'), ('encoder__x0_Ineffective', 'encoder__x0_Moderately Effective', 'encoder__x1_No Side Effects', 'encoder__x1_Severe Side Effects'), ('encoder__x0_Ineffective', 'encoder__x0_Moderately Effective', 'encoder__x1_No Side Effects', 'encoder__x2_1'), ('encoder__x0_Ineffective', 'encoder__x0_Moderately Effective', 'encoder__x1_Severe Side Effects', 'encoder__x2_1'), ('encoder__x0_Ineffective', 'encoder__x1_Mild Side Effects', 'encoder__x1_Moderate Side Effects', 'encoder__x1_No Side Effects'), ('encoder__x0_Ineffective', 'encoder__x1_Mild Side Effects', 'encoder__x1_Moderate Side Effects', 'encoder__x1_Severe Side Effects'), ('encoder__x0_Ineffective', 'encoder__x1_Mild Side Effects', 'encoder__x1_Moderate Side Effects', 'encoder__x2_1'), ('encoder__x0_Ineffective', 'encoder__x1_Mild Side Effects', 'encoder__x1_No Side Effects', 'encoder__x1_Severe Side Effects'), ('encoder__x0_Ineffective', 'encoder__x1_Mild Side Effects', 'encoder__x1_No Side Effects', 'encoder__x2_1'), ('encoder__x0_Ineffective', 'encoder__x1_Mild Side Effects', 'encoder__x1_Severe Side Effects', 'encoder__x2_1'), ('encoder__x0_Ineffective', 'encoder__x1_Moderate Side Effects', 'encoder__x1_No Side Effects', 'encoder__x1_Severe Side Effects'), ('encoder__x0_Ineffective', 'encoder__x1_Moderate Side Effects', 'encoder__x1_No Side Effects', 'encoder__x2_1'), ('encoder__x0_Ineffective', 'encoder__x1_Moderate Side Effects', 'encoder__x1_Severe Side Effects', 'encoder__x2_1'), ('encoder__x0_Ineffective', 'encoder__x1_No Side Effects', 'encoder__x1_Severe Side Effects', 'encoder__x2_1'), ('encoder__x0_Marginally Effective', 'encoder__x0_Moderately Effective', 'encoder__x1_Mild Side Effects', 'encoder__x1_Moderate Side Effects'), ('encoder__x0_Marginally Effective', 'encoder__x0_Moderately Effective', 'encoder__x1_Mild Side Effects', 'encoder__x1_No Side Effects'), ('encoder__x0_Marginally Effective', 'encoder__x0_Moderately Effective', 'encoder__x1_Mild Side Effects', 'encoder__x1_Severe Side Effects'), ('encoder__x0_Marginally Effective', 'encoder__x0_Moderately Effective', 'encoder__x1_Mild Side Effects', 'encoder__x2_1'), ('encoder__x0_Marginally Effective', 'encoder__x0_Moderately Effective', 'encoder__x1_Moderate Side Effects', 'encoder__x1_No Side Effects'), ('encoder__x0_Marginally Effective', 'encoder__x0_Moderately Effective', 'encoder__x1_Moderate Side Effects', 'encoder__x1_Severe Side Effects'), ('encoder__x0_Marginally Effective', 'encoder__x0_Moderately Effective', 'encoder__x1_Moderate Side Effects', 'encoder__x2_1'), ('encoder__x0_Marginally Effective', 'encoder__x0_Moderately Effective', 'encoder__x1_No Side Effects', 'encoder__x1_Severe Side Effects'), ('encoder__x0_Marginally Effective', 'encoder__x0_Moderately Effective', 'encoder__x1_No Side Effects', 'encoder__x2_1'), ('encoder__x0_Marginally Effective', 'encoder__x0_Moderately Effective', 'encoder__x1_Severe Side Effects', 'encoder__x2_1'), ('encoder__x0_Marginally Effective', 'encoder__x1_Mild Side Effects', 'encoder__x1_Moderate Side Effects', 'encoder__x1_No Side Effects'), ('encoder__x0_Marginally Effective', 'encoder__x1_Mild Side Effects', 'encoder__x1_Moderate Side Effects', 'encoder__x1_Severe Side Effects'), ('encoder__x0_Marginally Effective', 'encoder__x1_Mild Side Effects', 'encoder__x1_Moderate Side Effects', 'encoder__x2_1'), ('encoder__x0_Marginally Effective', 'encoder__x1_Mild Side Effects', 'encoder__x1_No Side Effects', 'encoder__x1_Severe Side Effects'), ('encoder__x0_Marginally Effective', 'encoder__x1_Mild Side Effects', 'encoder__x1_No Side Effects', 'encoder__x2_1'), ('encoder__x0_Marginally Effective', 'encoder__x1_Mild Side Effects', 'encoder__x1_Severe Side Effects', 'encoder__x2_1'), ('encoder__x0_Marginally Effective', 'encoder__x1_Moderate Side Effects', 'encoder__x1_No Side Effects', 'encoder__x1_Severe Side Effects'), ('encoder__x0_Marginally Effective', 'encoder__x1_Moderate Side Effects', 'encoder__x1_No Side Effects', 'encoder__x2_1'), ('encoder__x0_Marginally Effective', 'encoder__x1_Moderate Side Effects', 'encoder__x1_Severe Side Effects', 'encoder__x2_1'), ('encoder__x0_Marginally Effective', 'encoder__x1_No Side Effects', 'encoder__x1_Severe Side Effects', 'encoder__x2_1'), ('encoder__x0_Moderately Effective', 'encoder__x1_Mild Side Effects', 'encoder__x1_Moderate Side Effects', 'encoder__x1_No Side Effects'), ('encoder__x0_Moderately Effective', 'encoder__x1_Mild Side Effects', 'encoder__x1_Moderate Side Effects', 'encoder__x1_Severe Side Effects'), ('encoder__x0_Moderately Effective', 'encoder__x1_Mild Side Effects', 'encoder__x1_Moderate Side Effects', 'encoder__x2_1'), ('encoder__x0_Moderately Effective', 'encoder__x1_Mild Side Effects', 'encoder__x1_No Side Effects', 'encoder__x1_Severe Side Effects'), ('encoder__x0_Moderately Effective', 'encoder__x1_Mild Side Effects', 'encoder__x1_No Side Effects', 'encoder__x2_1'), ('encoder__x0_Moderately Effective', 'encoder__x1_Mild Side Effects', 'encoder__x1_Severe Side Effects', 'encoder__x2_1'), ('encoder__x0_Moderately Effective', 'encoder__x1_Moderate Side Effects', 'encoder__x1_No Side Effects', 'encoder__x1_Severe Side Effects'), ('encoder__x0_Moderately Effective', 'encoder__x1_Moderate Side Effects', 'encoder__x1_No Side Effects', 'encoder__x2_1'), ('encoder__x0_Moderately Effective', 'encoder__x1_Moderate Side Effects', 'encoder__x1_Severe Side Effects', 'encoder__x2_1'), ('encoder__x0_Moderately Effective', 'encoder__x1_No Side Effects', 'encoder__x1_Severe Side Effects', 'encoder__x2_1'), ('encoder__x1_Mild Side Effects', 'encoder__x1_Moderate Side Effects', 'encoder__x1_No Side Effects', 'encoder__x1_Severe Side Effects'), ('encoder__x1_Mild Side Effects', 'encoder__x1_Moderate Side Effects', 'encoder__x1_No Side Effects', 'encoder__x2_1'), ('encoder__x1_Mild Side Effects', 'encoder__x1_Moderate Side Effects', 'encoder__x1_Severe Side Effects', 'encoder__x2_1'), ('encoder__x1_Mild Side Effects', 'encoder__x1_No Side Effects', 'encoder__x1_Severe Side Effects', 'encoder__x2_1'), ('encoder__x1_Moderate Side Effects', 'encoder__x1_No Side Effects', 'encoder__x1_Severe Side Effects', 'encoder__x2_1'), ('encoder__x0_Highly Effective', 'encoder__x0_Ineffective', 'encoder__x0_Marginally Effective', 'encoder__x0_Moderately Effective', 'encoder__x1_Mild Side Effects'), ('encoder__x0_Highly Effective', 'encoder__x0_Ineffective', 'encoder__x0_Marginally Effective', 'encoder__x0_Moderately Effective', 'encoder__x1_Moderate Side Effects'), ('encoder__x0_Highly Effective', 'encoder__x0_Ineffective', 'encoder__x0_Marginally Effective', 'encoder__x0_Moderately Effective', 'encoder__x1_No Side Effects'), ('encoder__x0_Highly Effective', 'encoder__x0_Ineffective', 'encoder__x0_Marginally Effective', 'encoder__x0_Moderately Effective', 'encoder__x1_Severe Side Effects'), ('encoder__x0_Highly Effective', 'encoder__x0_Ineffective', 'encoder__x0_Marginally Effective', 'encoder__x0_Moderately Effective', 'encoder__x2_1'), ('encoder__x0_Highly Effective', 'encoder__x0_Ineffective', 'encoder__x0_Marginally Effective', 'encoder__x1_Mild Side Effects', 'encoder__x1_Moderate Side Effects'), ('encoder__x0_Highly Effective', 'encoder__x0_Ineffective', 'encoder__x0_Marginally Effective', 'encoder__x1_Mild Side Effects', 'encoder__x1_No Side Effects'), ('encoder__x0_Highly Effective', 'encoder__x0_Ineffective', 'encoder__x0_Marginally Effective', 'encoder__x1_Mild Side Effects', 'encoder__x1_Severe Side Effects'), ('encoder__x0_Highly Effective', 'encoder__x0_Ineffective', 'encoder__x0_Marginally Effective', 'encoder__x1_Mild Side Effects', 'encoder__x2_1'), ('encoder__x0_Highly Effective', 'encoder__x0_Ineffective', 'encoder__x0_Marginally Effective', 'encoder__x1_Moderate Side Effects', 'encoder__x1_No Side Effects'), ('encoder__x0_Highly Effective', 'encoder__x0_Ineffective', 'encoder__x0_Marginally Effective', 'encoder__x1_Moderate Side Effects', 'encoder__x1_Severe Side Effects'), ('encoder__x0_Highly Effective', 'encoder__x0_Ineffective', 'encoder__x0_Marginally Effective', 'encoder__x1_Moderate Side Effects', 'encoder__x2_1'), ('encoder__x0_Highly Effective', 'encoder__x0_Ineffective', 'encoder__x0_Marginally Effective', 'encoder__x1_No Side Effects', 'encoder__x1_Severe Side Effects'), ('encoder__x0_Highly Effective', 'encoder__x0_Ineffective', 'encoder__x0_Marginally Effective', 'encoder__x1_No Side Effects', 'encoder__x2_1'), ('encoder__x0_Highly Effective', 'encoder__x0_Ineffective', 'encoder__x0_Marginally Effective', 'encoder__x1_Severe Side Effects', 'encoder__x2_1'), ('encoder__x0_Highly Effective', 'encoder__x0_Ineffective', 'encoder__x0_Moderately Effective', 'encoder__x1_Mild Side Effects', 'encoder__x1_Moderate Side Effects'), ('encoder__x0_Highly Effective', 'encoder__x0_Ineffective', 'encoder__x0_Moderately Effective', 'encoder__x1_Mild Side Effects', 'encoder__x1_No Side Effects'), ('encoder__x0_Highly Effective', 'encoder__x0_Ineffective', 'encoder__x0_Moderately Effective', 'encoder__x1_Mild Side Effects', 'encoder__x1_Severe Side Effects'), ('encoder__x0_Highly Effective', 'encoder__x0_Ineffective', 'encoder__x0_Moderately Effective', 'encoder__x1_Mild Side Effects', 'encoder__x2_1'), ('encoder__x0_Highly Effective', 'encoder__x0_Ineffective', 'encoder__x0_Moderately Effective', 'encoder__x1_Moderate Side Effects', 'encoder__x1_No Side Effects'), ('encoder__x0_Highly Effective', 'encoder__x0_Ineffective', 'encoder__x0_Moderately Effective', 'encoder__x1_Moderate Side Effects', 'encoder__x1_Severe Side Effects'), ('encoder__x0_Highly Effective', 'encoder__x0_Ineffective', 'encoder__x0_Moderately Effective', 'encoder__x1_Moderate Side Effects', 'encoder__x2_1'), ('encoder__x0_Highly Effective', 'encoder__x0_Ineffective', 'encoder__x0_Moderately Effective', 'encoder__x1_No Side Effects', 'encoder__x1_Severe Side Effects'), ('encoder__x0_Highly Effective', 'encoder__x0_Ineffective', 'encoder__x0_Moderately Effective', 'encoder__x1_No Side Effects', 'encoder__x2_1'), ('encoder__x0_Highly Effective', 'encoder__x0_Ineffective', 'encoder__x0_Moderately Effective', 'encoder__x1_Severe Side Effects', 'encoder__x2_1'), ('encoder__x0_Highly Effective', 'encoder__x0_Ineffective', 'encoder__x1_Mild Side Effects', 'encoder__x1_Moderate Side Effects', 'encoder__x1_No Side Effects'), ('encoder__x0_Highly Effective', 'encoder__x0_Ineffective', 'encoder__x1_Mild Side Effects', 'encoder__x1_Moderate Side Effects', 'encoder__x1_Severe Side Effects'), ('encoder__x0_Highly Effective', 'encoder__x0_Ineffective', 'encoder__x1_Mild Side Effects', 'encoder__x1_Moderate Side Effects', 'encoder__x2_1'), ('encoder__x0_Highly Effective', 'encoder__x0_Ineffective', 'encoder__x1_Mild Side Effects', 'encoder__x1_No Side Effects', 'encoder__x1_Severe Side Effects'), ('encoder__x0_Highly Effective', 'encoder__x0_Ineffective', 'encoder__x1_Mild Side Effects', 'encoder__x1_No Side Effects', 'encoder__x2_1'), ('encoder__x0_Highly Effective', 'encoder__x0_Ineffective', 'encoder__x1_Mild Side Effects', 'encoder__x1_Severe Side Effects', 'encoder__x2_1'), ('encoder__x0_Highly Effective', 'encoder__x0_Ineffective', 'encoder__x1_Moderate Side Effects', 'encoder__x1_No Side Effects', 'encoder__x1_Severe Side Effects'), ('encoder__x0_Highly Effective', 'encoder__x0_Ineffective', 'encoder__x1_Moderate Side Effects', 'encoder__x1_No Side Effects', 'encoder__x2_1'), ('encoder__x0_Highly Effective', 'encoder__x0_Ineffective', 'encoder__x1_Moderate Side Effects', 'encoder__x1_Severe Side Effects', 'encoder__x2_1'), ('encoder__x0_Highly Effective', 'encoder__x0_Ineffective', 'encoder__x1_No Side Effects', 'encoder__x1_Severe Side Effects', 'encoder__x2_1'), ('encoder__x0_Highly Effective', 'encoder__x0_Marginally Effective', 'encoder__x0_Moderately Effective', 'encoder__x1_Mild Side Effects', 'encoder__x1_Moderate Side Effects'), ('encoder__x0_Highly Effective', 'encoder__x0_Marginally Effective', 'encoder__x0_Moderately Effective', 'encoder__x1_Mild Side Effects', 'encoder__x1_No Side Effects'), ('encoder__x0_Highly Effective', 'encoder__x0_Marginally Effective', 'encoder__x0_Moderately Effective', 'encoder__x1_Mild Side Effects', 'encoder__x1_Severe Side Effects'), ('encoder__x0_Highly Effective', 'encoder__x0_Marginally Effective', 'encoder__x0_Moderately Effective', 'encoder__x1_Mild Side Effects', 'encoder__x2_1'), ('encoder__x0_Highly Effective', 'encoder__x0_Marginally Effective', 'encoder__x0_Moderately Effective', 'encoder__x1_Moderate Side Effects', 'encoder__x1_No Side Effects'), ('encoder__x0_Highly Effective', 'encoder__x0_Marginally Effective', 'encoder__x0_Moderately Effective', 'encoder__x1_Moderate Side Effects', 'encoder__x1_Severe Side Effects'), ('encoder__x0_Highly Effective', 'encoder__x0_Marginally Effective', 'encoder__x0_Moderately Effective', 'encoder__x1_Moderate Side Effects', 'encoder__x2_1'), ('encoder__x0_Highly Effective', 'encoder__x0_Marginally Effective', 'encoder__x0_Moderately Effective', 'encoder__x1_No Side Effects', 'encoder__x1_Severe Side Effects'), ('encoder__x0_Highly Effective', 'encoder__x0_Marginally Effective', 'encoder__x0_Moderately Effective', 'encoder__x1_No Side Effects', 'encoder__x2_1'), ('encoder__x0_Highly Effective', 'encoder__x0_Marginally Effective', 'encoder__x0_Moderately Effective', 'encoder__x1_Severe Side Effects', 'encoder__x2_1'), ('encoder__x0_Highly Effective', 'encoder__x0_Marginally Effective', 'encoder__x1_Mild Side Effects', 'encoder__x1_Moderate Side Effects', 'encoder__x1_No Side Effects'), ('encoder__x0_Highly Effective', 'encoder__x0_Marginally Effective', 'encoder__x1_Mild Side Effects', 'encoder__x1_Moderate Side Effects', 'encoder__x1_Severe Side Effects'), ('encoder__x0_Highly Effective', 'encoder__x0_Marginally Effective', 'encoder__x1_Mild Side Effects', 'encoder__x1_Moderate Side Effects', 'encoder__x2_1'), ('encoder__x0_Highly Effective', 'encoder__x0_Marginally Effective', 'encoder__x1_Mild Side Effects', 'encoder__x1_No Side Effects', 'encoder__x1_Severe Side Effects'), ('encoder__x0_Highly Effective', 'encoder__x0_Marginally Effective', 'encoder__x1_Mild Side Effects', 'encoder__x1_No Side Effects', 'encoder__x2_1'), ('encoder__x0_Highly Effective', 'encoder__x0_Marginally Effective', 'encoder__x1_Mild Side Effects', 'encoder__x1_Severe Side Effects', 'encoder__x2_1'), ('encoder__x0_Highly Effective', 'encoder__x0_Marginally Effective', 'encoder__x1_Moderate Side Effects', 'encoder__x1_No Side Effects', 'encoder__x1_Severe Side Effects'), ('encoder__x0_Highly Effective', 'encoder__x0_Marginally Effective', 'encoder__x1_Moderate Side Effects', 'encoder__x1_No Side Effects', 'encoder__x2_1'), ('encoder__x0_Highly Effective', 'encoder__x0_Marginally Effective', 'encoder__x1_Moderate Side Effects', 'encoder__x1_Severe Side Effects', 'encoder__x2_1'), ('encoder__x0_Highly Effective', 'encoder__x0_Marginally Effective', 'encoder__x1_No Side Effects', 'encoder__x1_Severe Side Effects', 'encoder__x2_1'), ('encoder__x0_Highly Effective', 'encoder__x0_Moderately Effective', 'encoder__x1_Mild Side Effects', 'encoder__x1_Moderate Side Effects', 'encoder__x1_No Side Effects'), ('encoder__x0_Highly Effective', 'encoder__x0_Moderately Effective', 'encoder__x1_Mild Side Effects', 'encoder__x1_Moderate Side Effects', 'encoder__x1_Severe Side Effects'), ('encoder__x0_Highly Effective', 'encoder__x0_Moderately Effective', 'encoder__x1_Mild Side Effects', 'encoder__x1_Moderate Side Effects', 'encoder__x2_1'), ('encoder__x0_Highly Effective', 'encoder__x0_Moderately Effective', 'encoder__x1_Mild Side Effects', 'encoder__x1_No Side Effects', 'encoder__x1_Severe Side Effects'), ('encoder__x0_Highly Effective', 'encoder__x0_Moderately Effective', 'encoder__x1_Mild Side Effects', 'encoder__x1_No Side Effects', 'encoder__x2_1'), ('encoder__x0_Highly Effective', 'encoder__x0_Moderately Effective', 'encoder__x1_Mild Side Effects', 'encoder__x1_Severe Side Effects', 'encoder__x2_1'), ('encoder__x0_Highly Effective', 'encoder__x0_Moderately Effective', 'encoder__x1_Moderate Side Effects', 'encoder__x1_No Side Effects', 'encoder__x1_Severe Side Effects'), ('encoder__x0_Highly Effective', 'encoder__x0_Moderately Effective', 'encoder__x1_Moderate Side Effects', 'encoder__x1_No Side Effects', 'encoder__x2_1'), ('encoder__x0_Highly Effective', 'encoder__x0_Moderately Effective', 'encoder__x1_Moderate Side Effects', 'encoder__x1_Severe Side Effects', 'encoder__x2_1'), ('encoder__x0_Highly Effective', 'encoder__x0_Moderately Effective', 'encoder__x1_No Side Effects', 'encoder__x1_Severe Side Effects', 'encoder__x2_1'), ('encoder__x0_Highly Effective', 'encoder__x1_Mild Side Effects', 'encoder__x1_Moderate Side Effects', 'encoder__x1_No Side Effects', 'encoder__x1_Severe Side Effects'), ('encoder__x0_Highly Effective', 'encoder__x1_Mild Side Effects', 'encoder__x1_Moderate Side Effects', 'encoder__x1_No Side Effects', 'encoder__x2_1'), ('encoder__x0_Highly Effective', 'encoder__x1_Mild Side Effects', 'encoder__x1_Moderate Side Effects', 'encoder__x1_Severe Side Effects', 'encoder__x2_1'), ('encoder__x0_Highly Effective', 'encoder__x1_Mild Side Effects', 'encoder__x1_No Side Effects', 'encoder__x1_Severe Side Effects', 'encoder__x2_1'), ('encoder__x0_Highly Effective', 'encoder__x1_Moderate Side Effects', 'encoder__x1_No Side Effects', 'encoder__x1_Severe Side Effects', 'encoder__x2_1'), ('encoder__x0_Ineffective', 'encoder__x0_Marginally Effective', 'encoder__x0_Moderately Effective', 'encoder__x1_Mild Side Effects', 'encoder__x1_Moderate Side Effects'), ('encoder__x0_Ineffective', 'encoder__x0_Marginally Effective', 'encoder__x0_Moderately Effective', 'encoder__x1_Mild Side Effects', 'encoder__x1_No Side Effects'), ('encoder__x0_Ineffective', 'encoder__x0_Marginally Effective', 'encoder__x0_Moderately Effective', 'encoder__x1_Mild Side Effects', 'encoder__x1_Severe Side Effects'), ('encoder__x0_Ineffective', 'encoder__x0_Marginally Effective', 'encoder__x0_Moderately Effective', 'encoder__x1_Mild Side Effects', 'encoder__x2_1'), ('encoder__x0_Ineffective', 'encoder__x0_Marginally Effective', 'encoder__x0_Moderately Effective', 'encoder__x1_Moderate Side Effects', 'encoder__x1_No Side Effects'), ('encoder__x0_Ineffective', 'encoder__x0_Marginally Effective', 'encoder__x0_Moderately Effective', 'encoder__x1_Moderate Side Effects', 'encoder__x1_Severe Side Effects'), ('encoder__x0_Ineffective', 'encoder__x0_Marginally Effective', 'encoder__x0_Moderately Effective', 'encoder__x1_Moderate Side Effects', 'encoder__x2_1'), ('encoder__x0_Ineffective', 'encoder__x0_Marginally Effective', 'encoder__x0_Moderately Effective', 'encoder__x1_No Side Effects', 'encoder__x1_Severe Side Effects'), ('encoder__x0_Ineffective', 'encoder__x0_Marginally Effective', 'encoder__x0_Moderately Effective', 'encoder__x1_No Side Effects', 'encoder__x2_1'), ('encoder__x0_Ineffective', 'encoder__x0_Marginally Effective', 'encoder__x0_Moderately Effective', 'encoder__x1_Severe Side Effects', 'encoder__x2_1'), ('encoder__x0_Ineffective', 'encoder__x0_Marginally Effective', 'encoder__x1_Mild Side Effects', 'encoder__x1_Moderate Side Effects', 'encoder__x1_No Side Effects'), ('encoder__x0_Ineffective', 'encoder__x0_Marginally Effective', 'encoder__x1_Mild Side Effects', 'encoder__x1_Moderate Side Effects', 'encoder__x1_Severe Side Effects'), ('encoder__x0_Ineffective', 'encoder__x0_Marginally Effective', 'encoder__x1_Mild Side Effects', 'encoder__x1_Moderate Side Effects', 'encoder__x2_1'), ('encoder__x0_Ineffective', 'encoder__x0_Marginally Effective', 'encoder__x1_Mild Side Effects', 'encoder__x1_No Side Effects', 'encoder__x1_Severe Side Effects'), ('encoder__x0_Ineffective', 'encoder__x0_Marginally Effective', 'encoder__x1_Mild Side Effects', 'encoder__x1_No Side Effects', 'encoder__x2_1'), ('encoder__x0_Ineffective', 'encoder__x0_Marginally Effective', 'encoder__x1_Mild Side Effects', 'encoder__x1_Severe Side Effects', 'encoder__x2_1'), ('encoder__x0_Ineffective', 'encoder__x0_Marginally Effective', 'encoder__x1_Moderate Side Effects', 'encoder__x1_No Side Effects', 'encoder__x1_Severe Side Effects'), ('encoder__x0_Ineffective', 'encoder__x0_Marginally Effective', 'encoder__x1_Moderate Side Effects', 'encoder__x1_No Side Effects', 'encoder__x2_1'), ('encoder__x0_Ineffective', 'encoder__x0_Marginally Effective', 'encoder__x1_Moderate Side Effects', 'encoder__x1_Severe Side Effects', 'encoder__x2_1'), ('encoder__x0_Ineffective', 'encoder__x0_Marginally Effective', 'encoder__x1_No Side Effects', 'encoder__x1_Severe Side Effects', 'encoder__x2_1'), ('encoder__x0_Ineffective', 'encoder__x0_Moderately Effective', 'encoder__x1_Mild Side Effects', 'encoder__x1_Moderate Side Effects', 'encoder__x1_No Side Effects'), ('encoder__x0_Ineffective', 'encoder__x0_Moderately Effective', 'encoder__x1_Mild Side Effects', 'encoder__x1_Moderate Side Effects', 'encoder__x1_Severe Side Effects'), ('encoder__x0_Ineffective', 'encoder__x0_Moderately Effective', 'encoder__x1_Mild Side Effects', 'encoder__x1_Moderate Side Effects', 'encoder__x2_1'), ('encoder__x0_Ineffective', 'encoder__x0_Moderately Effective', 'encoder__x1_Mild Side Effects', 'encoder__x1_No Side Effects', 'encoder__x1_Severe Side Effects'), ('encoder__x0_Ineffective', 'encoder__x0_Moderately Effective', 'encoder__x1_Mild Side Effects', 'encoder__x1_No Side Effects', 'encoder__x2_1'), ('encoder__x0_Ineffective', 'encoder__x0_Moderately Effective', 'encoder__x1_Mild Side Effects', 'encoder__x1_Severe Side Effects', 'encoder__x2_1'), ('encoder__x0_Ineffective', 'encoder__x0_Moderately Effective', 'encoder__x1_Moderate Side Effects', 'encoder__x1_No Side Effects', 'encoder__x1_Severe Side Effects'), ('encoder__x0_Ineffective', 'encoder__x0_Moderately Effective', 'encoder__x1_Moderate Side Effects', 'encoder__x1_No Side Effects', 'encoder__x2_1'), ('encoder__x0_Ineffective', 'encoder__x0_Moderately Effective', 'encoder__x1_Moderate Side Effects', 'encoder__x1_Severe Side Effects', 'encoder__x2_1'), ('encoder__x0_Ineffective', 'encoder__x0_Moderately Effective', 'encoder__x1_No Side Effects', 'encoder__x1_Severe Side Effects', 'encoder__x2_1'), ('encoder__x0_Ineffective', 'encoder__x1_Mild Side Effects', 'encoder__x1_Moderate Side Effects', 'encoder__x1_No Side Effects', 'encoder__x1_Severe Side Effects'), ('encoder__x0_Ineffective', 'encoder__x1_Mild Side Effects', 'encoder__x1_Moderate Side Effects', 'encoder__x1_No Side Effects', 'encoder__x2_1'), ('encoder__x0_Ineffective', 'encoder__x1_Mild Side Effects', 'encoder__x1_Moderate Side Effects', 'encoder__x1_Severe Side Effects', 'encoder__x2_1'), ('encoder__x0_Ineffective', 'encoder__x1_Mild Side Effects', 'encoder__x1_No Side Effects', 'encoder__x1_Severe Side Effects', 'encoder__x2_1'), ('encoder__x0_Ineffective', 'encoder__x1_Moderate Side Effects', 'encoder__x1_No Side Effects', 'encoder__x1_Severe Side Effects', 'encoder__x2_1'), ('encoder__x0_Marginally Effective', 'encoder__x0_Moderately Effective', 'encoder__x1_Mild Side Effects', 'encoder__x1_Moderate Side Effects', 'encoder__x1_No Side Effects'), ('encoder__x0_Marginally Effective', 'encoder__x0_Moderately Effective', 'encoder__x1_Mild Side Effects', 'encoder__x1_Moderate Side Effects', 'encoder__x1_Severe Side Effects'), ('encoder__x0_Marginally Effective', 'encoder__x0_Moderately Effective', 'encoder__x1_Mild Side Effects', 'encoder__x1_Moderate Side Effects', 'encoder__x2_1'), ('encoder__x0_Marginally Effective', 'encoder__x0_Moderately Effective', 'encoder__x1_Mild Side Effects', 'encoder__x1_No Side Effects', 'encoder__x1_Severe Side Effects'), ('encoder__x0_Marginally Effective', 'encoder__x0_Moderately Effective', 'encoder__x1_Mild Side Effects', 'encoder__x1_No Side Effects', 'encoder__x2_1'), ('encoder__x0_Marginally Effective', 'encoder__x0_Moderately Effective', 'encoder__x1_Mild Side Effects', 'encoder__x1_Severe Side Effects', 'encoder__x2_1'), ('encoder__x0_Marginally Effective', 'encoder__x0_Moderately Effective', 'encoder__x1_Moderate Side Effects', 'encoder__x1_No Side Effects', 'encoder__x1_Severe Side Effects'), ('encoder__x0_Marginally Effective', 'encoder__x0_Moderately Effective', 'encoder__x1_Moderate Side Effects', 'encoder__x1_No Side Effects', 'encoder__x2_1'), ('encoder__x0_Marginally Effective', 'encoder__x0_Moderately Effective', 'encoder__x1_Moderate Side Effects', 'encoder__x1_Severe Side Effects', 'encoder__x2_1'), ('encoder__x0_Marginally Effective', 'encoder__x0_Moderately Effective', 'encoder__x1_No Side Effects', 'encoder__x1_Severe Side Effects', 'encoder__x2_1'), ('encoder__x0_Marginally Effective', 'encoder__x1_Mild Side Effects', 'encoder__x1_Moderate Side Effects', 'encoder__x1_No Side Effects', 'encoder__x1_Severe Side Effects'), ('encoder__x0_Marginally Effective', 'encoder__x1_Mild Side Effects', 'encoder__x1_Moderate Side Effects', 'encoder__x1_No Side Effects', 'encoder__x2_1'), ('encoder__x0_Marginally Effective', 'encoder__x1_Mild Side Effects', 'encoder__x1_Moderate Side Effects', 'encoder__x1_Severe Side Effects', 'encoder__x2_1'), ('encoder__x0_Marginally Effective', 'encoder__x1_Mild Side Effects', 'encoder__x1_No Side Effects', 'encoder__x1_Severe Side Effects', 'encoder__x2_1'), ('encoder__x0_Marginally Effective', 'encoder__x1_Moderate Side Effects', 'encoder__x1_No Side Effects', 'encoder__x1_Severe Side Effects', 'encoder__x2_1'), ('encoder__x0_Moderately Effective', 'encoder__x1_Mild Side Effects', 'encoder__x1_Moderate Side Effects', 'encoder__x1_No Side Effects', 'encoder__x1_Severe Side Effects'), ('encoder__x0_Moderately Effective', 'encoder__x1_Mild Side Effects', 'encoder__x1_Moderate Side Effects', 'encoder__x1_No Side Effects', 'encoder__x2_1'), ('encoder__x0_Moderately Effective', 'encoder__x1_Mild Side Effects', 'encoder__x1_Moderate Side Effects', 'encoder__x1_Severe Side Effects', 'encoder__x2_1'), ('encoder__x0_Moderately Effective', 'encoder__x1_Mild Side Effects', 'encoder__x1_No Side Effects', 'encoder__x1_Severe Side Effects', 'encoder__x2_1'), ('encoder__x0_Moderately Effective', 'encoder__x1_Moderate Side Effects', 'encoder__x1_No Side Effects', 'encoder__x1_Severe Side Effects', 'encoder__x2_1'), ('encoder__x1_Mild Side Effects', 'encoder__x1_Moderate Side Effects', 'encoder__x1_No Side Effects', 'encoder__x1_Severe Side Effects', 'encoder__x2_1'), ('encoder__x0_Highly Effective', 'encoder__x0_Ineffective', 'encoder__x0_Marginally Effective', 'encoder__x0_Moderately Effective', 'encoder__x1_Mild Side Effects', 'encoder__x1_Moderate Side Effects'), ('encoder__x0_Highly Effective', 'encoder__x0_Ineffective', 'encoder__x0_Marginally Effective', 'encoder__x0_Moderately Effective', 'encoder__x1_Mild Side Effects', 'encoder__x1_No Side Effects'), ('encoder__x0_Highly Effective', 'encoder__x0_Ineffective', 'encoder__x0_Marginally Effective', 'encoder__x0_Moderately Effective', 'encoder__x1_Mild Side Effects', 'encoder__x1_Severe Side Effects'), ('encoder__x0_Highly Effective', 'encoder__x0_Ineffective', 'encoder__x0_Marginally Effective', 'encoder__x0_Moderately Effective', 'encoder__x1_Mild Side Effects', 'encoder__x2_1'), ('encoder__x0_Highly Effective', 'encoder__x0_Ineffective', 'encoder__x0_Marginally Effective', 'encoder__x0_Moderately Effective', 'encoder__x1_Moderate Side Effects', 'encoder__x1_No Side Effects'), ('encoder__x0_Highly Effective', 'encoder__x0_Ineffective', 'encoder__x0_Marginally Effective', 'encoder__x0_Moderately Effective', 'encoder__x1_Moderate Side Effects', 'encoder__x1_Severe Side Effects'), ('encoder__x0_Highly Effective', 'encoder__x0_Ineffective', 'encoder__x0_Marginally Effective', 'encoder__x0_Moderately Effective', 'encoder__x1_Moderate Side Effects', 'encoder__x2_1'), ('encoder__x0_Highly Effective', 'encoder__x0_Ineffective', 'encoder__x0_Marginally Effective', 'encoder__x0_Moderately Effective', 'encoder__x1_No Side Effects', 'encoder__x1_Severe Side Effects'), ('encoder__x0_Highly Effective', 'encoder__x0_Ineffective', 'encoder__x0_Marginally Effective', 'encoder__x0_Moderately Effective', 'encoder__x1_No Side Effects', 'encoder__x2_1'), ('encoder__x0_Highly Effective', 'encoder__x0_Ineffective', 'encoder__x0_Marginally Effective', 'encoder__x0_Moderately Effective', 'encoder__x1_Severe Side Effects', 'encoder__x2_1'), ('encoder__x0_Highly Effective', 'encoder__x0_Ineffective', 'encoder__x0_Marginally Effective', 'encoder__x1_Mild Side Effects', 'encoder__x1_Moderate Side Effects', 'encoder__x1_No Side Effects'), ('encoder__x0_Highly Effective', 'encoder__x0_Ineffective', 'encoder__x0_Marginally Effective', 'encoder__x1_Mild Side Effects', 'encoder__x1_Moderate Side Effects', 'encoder__x1_Severe Side Effects'), ('encoder__x0_Highly Effective', 'encoder__x0_Ineffective', 'encoder__x0_Marginally Effective', 'encoder__x1_Mild Side Effects', 'encoder__x1_Moderate Side Effects', 'encoder__x2_1'), ('encoder__x0_Highly Effective', 'encoder__x0_Ineffective', 'encoder__x0_Marginally Effective', 'encoder__x1_Mild Side Effects', 'encoder__x1_No Side Effects', 'encoder__x1_Severe Side Effects'), ('encoder__x0_Highly Effective', 'encoder__x0_Ineffective', 'encoder__x0_Marginally Effective', 'encoder__x1_Mild Side Effects', 'encoder__x1_No Side Effects', 'encoder__x2_1'), ('encoder__x0_Highly Effective', 'encoder__x0_Ineffective', 'encoder__x0_Marginally Effective', 'encoder__x1_Mild Side Effects', 'encoder__x1_Severe Side Effects', 'encoder__x2_1'), ('encoder__x0_Highly Effective', 'encoder__x0_Ineffective', 'encoder__x0_Marginally Effective', 'encoder__x1_Moderate Side Effects', 'encoder__x1_No Side Effects', 'encoder__x1_Severe Side Effects'), ('encoder__x0_Highly Effective', 'encoder__x0_Ineffective', 'encoder__x0_Marginally Effective', 'encoder__x1_Moderate Side Effects', 'encoder__x1_No Side Effects', 'encoder__x2_1'), ('encoder__x0_Highly Effective', 'encoder__x0_Ineffective', 'encoder__x0_Marginally Effective', 'encoder__x1_Moderate Side Effects', 'encoder__x1_Severe Side Effects', 'encoder__x2_1'), ('encoder__x0_Highly Effective', 'encoder__x0_Ineffective', 'encoder__x0_Marginally Effective', 'encoder__x1_No Side Effects', 'encoder__x1_Severe Side Effects', 'encoder__x2_1'), ('encoder__x0_Highly Effective', 'encoder__x0_Ineffective', 'encoder__x0_Moderately Effective', 'encoder__x1_Mild Side Effects', 'encoder__x1_Moderate Side Effects', 'encoder__x1_No Side Effects'), ('encoder__x0_Highly Effective', 'encoder__x0_Ineffective', 'encoder__x0_Moderately Effective', 'encoder__x1_Mild Side Effects', 'encoder__x1_Moderate Side Effects', 'encoder__x1_Severe Side Effects'), ('encoder__x0_Highly Effective', 'encoder__x0_Ineffective', 'encoder__x0_Moderately Effective', 'encoder__x1_Mild Side Effects', 'encoder__x1_Moderate Side Effects', 'encoder__x2_1'), ('encoder__x0_Highly Effective', 'encoder__x0_Ineffective', 'encoder__x0_Moderately Effective', 'encoder__x1_Mild Side Effects', 'encoder__x1_No Side Effects', 'encoder__x1_Severe Side Effects'), ('encoder__x0_Highly Effective', 'encoder__x0_Ineffective', 'encoder__x0_Moderately Effective', 'encoder__x1_Mild Side Effects', 'encoder__x1_No Side Effects', 'encoder__x2_1'), ('encoder__x0_Highly Effective', 'encoder__x0_Ineffective', 'encoder__x0_Moderately Effective', 'encoder__x1_Mild Side Effects', 'encoder__x1_Severe Side Effects', 'encoder__x2_1'), ('encoder__x0_Highly Effective', 'encoder__x0_Ineffective', 'encoder__x0_Moderately Effective', 'encoder__x1_Moderate Side Effects', 'encoder__x1_No Side Effects', 'encoder__x1_Severe Side Effects'), ('encoder__x0_Highly Effective', 'encoder__x0_Ineffective', 'encoder__x0_Moderately Effective', 'encoder__x1_Moderate Side Effects', 'encoder__x1_No Side Effects', 'encoder__x2_1'), ('encoder__x0_Highly Effective', 'encoder__x0_Ineffective', 'encoder__x0_Moderately Effective', 'encoder__x1_Moderate Side Effects', 'encoder__x1_Severe Side Effects', 'encoder__x2_1'), ('encoder__x0_Highly Effective', 'encoder__x0_Ineffective', 'encoder__x0_Moderately Effective', 'encoder__x1_No Side Effects', 'encoder__x1_Severe Side Effects', 'encoder__x2_1'), ('encoder__x0_Highly Effective', 'encoder__x0_Ineffective', 'encoder__x1_Mild Side Effects', 'encoder__x1_Moderate Side Effects', 'encoder__x1_No Side Effects', 'encoder__x1_Severe Side Effects'), ('encoder__x0_Highly Effective', 'encoder__x0_Ineffective', 'encoder__x1_Mild Side Effects', 'encoder__x1_Moderate Side Effects', 'encoder__x1_No Side Effects', 'encoder__x2_1'), ('encoder__x0_Highly Effective', 'encoder__x0_Ineffective', 'encoder__x1_Mild Side Effects', 'encoder__x1_Moderate Side Effects', 'encoder__x1_Severe Side Effects', 'encoder__x2_1'), ('encoder__x0_Highly Effective', 'encoder__x0_Ineffective', 'encoder__x1_Mild Side Effects', 'encoder__x1_No Side Effects', 'encoder__x1_Severe Side Effects', 'encoder__x2_1'), ('encoder__x0_Highly Effective', 'encoder__x0_Ineffective', 'encoder__x1_Moderate Side Effects', 'encoder__x1_No Side Effects', 'encoder__x1_Severe Side Effects', 'encoder__x2_1'), ('encoder__x0_Highly Effective', 'encoder__x0_Marginally Effective', 'encoder__x0_Moderately Effective', 'encoder__x1_Mild Side Effects', 'encoder__x1_Moderate Side Effects', 'encoder__x1_No Side Effects'), ('encoder__x0_Highly Effective', 'encoder__x0_Marginally Effective', 'encoder__x0_Moderately Effective', 'encoder__x1_Mild Side Effects', 'encoder__x1_Moderate Side Effects', 'encoder__x1_Severe Side Effects'), ('encoder__x0_Highly Effective', 'encoder__x0_Marginally Effective', 'encoder__x0_Moderately Effective', 'encoder__x1_Mild Side Effects', 'encoder__x1_Moderate Side Effects', 'encoder__x2_1'), ('encoder__x0_Highly Effective', 'encoder__x0_Marginally Effective', 'encoder__x0_Moderately Effective', 'encoder__x1_Mild Side Effects', 'encoder__x1_No Side Effects', 'encoder__x1_Severe Side Effects'), ('encoder__x0_Highly Effective', 'encoder__x0_Marginally Effective', 'encoder__x0_Moderately Effective', 'encoder__x1_Mild Side Effects', 'encoder__x1_No Side Effects', 'encoder__x2_1'), ('encoder__x0_Highly Effective', 'encoder__x0_Marginally Effective', 'encoder__x0_Moderately Effective', 'encoder__x1_Mild Side Effects', 'encoder__x1_Severe Side Effects', 'encoder__x2_1'), ('encoder__x0_Highly Effective', 'encoder__x0_Marginally Effective', 'encoder__x0_Moderately Effective', 'encoder__x1_Moderate Side Effects', 'encoder__x1_No Side Effects', 'encoder__x1_Severe Side Effects'), ('encoder__x0_Highly Effective', 'encoder__x0_Marginally Effective', 'encoder__x0_Moderately Effective', 'encoder__x1_Moderate Side Effects', 'encoder__x1_No Side Effects', 'encoder__x2_1'), ('encoder__x0_Highly Effective', 'encoder__x0_Marginally Effective', 'encoder__x0_Moderately Effective', 'encoder__x1_Moderate Side Effects', 'encoder__x1_Severe Side Effects', 'encoder__x2_1'), ('encoder__x0_Highly Effective', 'encoder__x0_Marginally Effective', 'encoder__x0_Moderately Effective', 'encoder__x1_No Side Effects', 'encoder__x1_Severe Side Effects', 'encoder__x2_1'), ('encoder__x0_Highly Effective', 'encoder__x0_Marginally Effective', 'encoder__x1_Mild Side Effects', 'encoder__x1_Moderate Side Effects', 'encoder__x1_No Side Effects', 'encoder__x1_Severe Side Effects'), ('encoder__x0_Highly Effective', 'encoder__x0_Marginally Effective', 'encoder__x1_Mild Side Effects', 'encoder__x1_Moderate Side Effects', 'encoder__x1_No Side Effects', 'encoder__x2_1'), ('encoder__x0_Highly Effective', 'encoder__x0_Marginally Effective', 'encoder__x1_Mild Side Effects', 'encoder__x1_Moderate Side Effects', 'encoder__x1_Severe Side Effects', 'encoder__x2_1'), ('encoder__x0_Highly Effective', 'encoder__x0_Marginally Effective', 'encoder__x1_Mild Side Effects', 'encoder__x1_No Side Effects', 'encoder__x1_Severe Side Effects', 'encoder__x2_1'), ('encoder__x0_Highly Effective', 'encoder__x0_Marginally Effective', 'encoder__x1_Moderate Side Effects', 'encoder__x1_No Side Effects', 'encoder__x1_Severe Side Effects', 'encoder__x2_1'), ('encoder__x0_Highly Effective', 'encoder__x0_Moderately Effective', 'encoder__x1_Mild Side Effects', 'encoder__x1_Moderate Side Effects', 'encoder__x1_No Side Effects', 'encoder__x1_Severe Side Effects'), ('encoder__x0_Highly Effective', 'encoder__x0_Moderately Effective', 'encoder__x1_Mild Side Effects', 'encoder__x1_Moderate Side Effects', 'encoder__x1_No Side Effects', 'encoder__x2_1'), ('encoder__x0_Highly Effective', 'encoder__x0_Moderately Effective', 'encoder__x1_Mild Side Effects', 'encoder__x1_Moderate Side Effects', 'encoder__x1_Severe Side Effects', 'encoder__x2_1'), ('encoder__x0_Highly Effective', 'encoder__x0_Moderately Effective', 'encoder__x1_Mild Side Effects', 'encoder__x1_No Side Effects', 'encoder__x1_Severe Side Effects', 'encoder__x2_1'), ('encoder__x0_Highly Effective', 'encoder__x0_Moderately Effective', 'encoder__x1_Moderate Side Effects', 'encoder__x1_No Side Effects', 'encoder__x1_Severe Side Effects', 'encoder__x2_1'), ('encoder__x0_Highly Effective', 'encoder__x1_Mild Side Effects', 'encoder__x1_Moderate Side Effects', 'encoder__x1_No Side Effects', 'encoder__x1_Severe Side Effects', 'encoder__x2_1'), ('encoder__x0_Ineffective', 'encoder__x0_Marginally Effective', 'encoder__x0_Moderately Effective', 'encoder__x1_Mild Side Effects', 'encoder__x1_Moderate Side Effects', 'encoder__x1_No Side Effects'), ('encoder__x0_Ineffective', 'encoder__x0_Marginally Effective', 'encoder__x0_Moderately Effective', 'encoder__x1_Mild Side Effects', 'encoder__x1_Moderate Side Effects', 'encoder__x1_Severe Side Effects'), ('encoder__x0_Ineffective', 'encoder__x0_Marginally Effective', 'encoder__x0_Moderately Effective', 'encoder__x1_Mild Side Effects', 'encoder__x1_Moderate Side Effects', 'encoder__x2_1'), ('encoder__x0_Ineffective', 'encoder__x0_Marginally Effective', 'encoder__x0_Moderately Effective', 'encoder__x1_Mild Side Effects', 'encoder__x1_No Side Effects', 'encoder__x1_Severe Side Effects'), ('encoder__x0_Ineffective', 'encoder__x0_Marginally Effective', 'encoder__x0_Moderately Effective', 'encoder__x1_Mild Side Effects', 'encoder__x1_No Side Effects', 'encoder__x2_1'), ('encoder__x0_Ineffective', 'encoder__x0_Marginally Effective', 'encoder__x0_Moderately Effective', 'encoder__x1_Mild Side Effects', 'encoder__x1_Severe Side Effects', 'encoder__x2_1'), ('encoder__x0_Ineffective', 'encoder__x0_Marginally Effective', 'encoder__x0_Moderately Effective', 'encoder__x1_Moderate Side Effects', 'encoder__x1_No Side Effects', 'encoder__x1_Severe Side Effects'), ('encoder__x0_Ineffective', 'encoder__x0_Marginally Effective', 'encoder__x0_Moderately Effective', 'encoder__x1_Moderate Side Effects', 'encoder__x1_No Side Effects', 'encoder__x2_1'), ('encoder__x0_Ineffective', 'encoder__x0_Marginally Effective', 'encoder__x0_Moderately Effective', 'encoder__x1_Moderate Side Effects', 'encoder__x1_Severe Side Effects', 'encoder__x2_1'), ('encoder__x0_Ineffective', 'encoder__x0_Marginally Effective', 'encoder__x0_Moderately Effective', 'encoder__x1_No Side Effects', 'encoder__x1_Severe Side Effects', 'encoder__x2_1'), ('encoder__x0_Ineffective', 'encoder__x0_Marginally Effective', 'encoder__x1_Mild Side Effects', 'encoder__x1_Moderate Side Effects', 'encoder__x1_No Side Effects', 'encoder__x1_Severe Side Effects'), ('encoder__x0_Ineffective', 'encoder__x0_Marginally Effective', 'encoder__x1_Mild Side Effects', 'encoder__x1_Moderate Side Effects', 'encoder__x1_No Side Effects', 'encoder__x2_1'), ('encoder__x0_Ineffective', 'encoder__x0_Marginally Effective', 'encoder__x1_Mild Side Effects', 'encoder__x1_Moderate Side Effects', 'encoder__x1_Severe Side Effects', 'encoder__x2_1'), ('encoder__x0_Ineffective', 'encoder__x0_Marginally Effective', 'encoder__x1_Mild Side Effects', 'encoder__x1_No Side Effects', 'encoder__x1_Severe Side Effects', 'encoder__x2_1'), ('encoder__x0_Ineffective', 'encoder__x0_Marginally Effective', 'encoder__x1_Moderate Side Effects', 'encoder__x1_No Side Effects', 'encoder__x1_Severe Side Effects', 'encoder__x2_1'), ('encoder__x0_Ineffective', 'encoder__x0_Moderately Effective', 'encoder__x1_Mild Side Effects', 'encoder__x1_Moderate Side Effects', 'encoder__x1_No Side Effects', 'encoder__x1_Severe Side Effects'), ('encoder__x0_Ineffective', 'encoder__x0_Moderately Effective', 'encoder__x1_Mild Side Effects', 'encoder__x1_Moderate Side Effects', 'encoder__x1_No Side Effects', 'encoder__x2_1'), ('encoder__x0_Ineffective', 'encoder__x0_Moderately Effective', 'encoder__x1_Mild Side Effects', 'encoder__x1_Moderate Side Effects', 'encoder__x1_Severe Side Effects', 'encoder__x2_1'), ('encoder__x0_Ineffective', 'encoder__x0_Moderately Effective', 'encoder__x1_Mild Side Effects', 'encoder__x1_No Side Effects', 'encoder__x1_Severe Side Effects', 'encoder__x2_1'), ('encoder__x0_Ineffective', 'encoder__x0_Moderately Effective', 'encoder__x1_Moderate Side Effects', 'encoder__x1_No Side Effects', 'encoder__x1_Severe Side Effects', 'encoder__x2_1'), ('encoder__x0_Ineffective', 'encoder__x1_Mild Side Effects', 'encoder__x1_Moderate Side Effects', 'encoder__x1_No Side Effects', 'encoder__x1_Severe Side Effects', 'encoder__x2_1'), ('encoder__x0_Marginally Effective', 'encoder__x0_Moderately Effective', 'encoder__x1_Mild Side Effects', 'encoder__x1_Moderate Side Effects', 'encoder__x1_No Side Effects', 'encoder__x1_Severe Side Effects'), ('encoder__x0_Marginally Effective', 'encoder__x0_Moderately Effective', 'encoder__x1_Mild Side Effects', 'encoder__x1_Moderate Side Effects', 'encoder__x1_No Side Effects', 'encoder__x2_1'), ('encoder__x0_Marginally Effective', 'encoder__x0_Moderately Effective', 'encoder__x1_Mild Side Effects', 'encoder__x1_Moderate Side Effects', 'encoder__x1_Severe Side Effects', 'encoder__x2_1'), ('encoder__x0_Marginally Effective', 'encoder__x0_Moderately Effective', 'encoder__x1_Mild Side Effects', 'encoder__x1_No Side Effects', 'encoder__x1_Severe Side Effects', 'encoder__x2_1'), ('encoder__x0_Marginally Effective', 'encoder__x0_Moderately Effective', 'encoder__x1_Moderate Side Effects', 'encoder__x1_No Side Effects', 'encoder__x1_Severe Side Effects', 'encoder__x2_1'), ('encoder__x0_Marginally Effective', 'encoder__x1_Mild Side Effects', 'encoder__x1_Moderate Side Effects', 'encoder__x1_No Side Effects', 'encoder__x1_Severe Side Effects', 'encoder__x2_1'), ('encoder__x0_Moderately Effective', 'encoder__x1_Mild Side Effects', 'encoder__x1_Moderate Side Effects', 'encoder__x1_No Side Effects', 'encoder__x1_Severe Side Effects', 'encoder__x2_1'), ('encoder__x0_Highly Effective', 'encoder__x0_Ineffective', 'encoder__x0_Marginally Effective', 'encoder__x0_Moderately Effective', 'encoder__x1_Mild Side Effects', 'encoder__x1_Moderate Side Effects', 'encoder__x1_No Side Effects'), ('encoder__x0_Highly Effective', 'encoder__x0_Ineffective', 'encoder__x0_Marginally Effective', 'encoder__x0_Moderately Effective', 'encoder__x1_Mild Side Effects', 'encoder__x1_Moderate Side Effects', 'encoder__x1_Severe Side Effects'), ('encoder__x0_Highly Effective', 'encoder__x0_Ineffective', 'encoder__x0_Marginally Effective', 'encoder__x0_Moderately Effective', 'encoder__x1_Mild Side Effects', 'encoder__x1_Moderate Side Effects', 'encoder__x2_1'), ('encoder__x0_Highly Effective', 'encoder__x0_Ineffective', 'encoder__x0_Marginally Effective', 'encoder__x0_Moderately Effective', 'encoder__x1_Mild Side Effects', 'encoder__x1_No Side Effects', 'encoder__x1_Severe Side Effects'), ('encoder__x0_Highly Effective', 'encoder__x0_Ineffective', 'encoder__x0_Marginally Effective', 'encoder__x0_Moderately Effective', 'encoder__x1_Mild Side Effects', 'encoder__x1_No Side Effects', 'encoder__x2_1'), ('encoder__x0_Highly Effective', 'encoder__x0_Ineffective', 'encoder__x0_Marginally Effective', 'encoder__x0_Moderately Effective', 'encoder__x1_Mild Side Effects', 'encoder__x1_Severe Side Effects', 'encoder__x2_1'), ('encoder__x0_Highly Effective', 'encoder__x0_Ineffective', 'encoder__x0_Marginally Effective', 'encoder__x0_Moderately Effective', 'encoder__x1_Moderate Side Effects', 'encoder__x1_No Side Effects', 'encoder__x1_Severe Side Effects'), ('encoder__x0_Highly Effective', 'encoder__x0_Ineffective', 'encoder__x0_Marginally Effective', 'encoder__x0_Moderately Effective', 'encoder__x1_Moderate Side Effects', 'encoder__x1_No Side Effects', 'encoder__x2_1'), ('encoder__x0_Highly Effective', 'encoder__x0_Ineffective', 'encoder__x0_Marginally Effective', 'encoder__x0_Moderately Effective', 'encoder__x1_Moderate Side Effects', 'encoder__x1_Severe Side Effects', 'encoder__x2_1'), ('encoder__x0_Highly Effective', 'encoder__x0_Ineffective', 'encoder__x0_Marginally Effective', 'encoder__x0_Moderately Effective', 'encoder__x1_No Side Effects', 'encoder__x1_Severe Side Effects', 'encoder__x2_1'), ('encoder__x0_Highly Effective', 'encoder__x0_Ineffective', 'encoder__x0_Marginally Effective', 'encoder__x1_Mild Side Effects', 'encoder__x1_Moderate Side Effects', 'encoder__x1_No Side Effects', 'encoder__x1_Severe Side Effects'), ('encoder__x0_Highly Effective', 'encoder__x0_Ineffective', 'encoder__x0_Marginally Effective', 'encoder__x1_Mild Side Effects', 'encoder__x1_Moderate Side Effects', 'encoder__x1_No Side Effects', 'encoder__x2_1'), ('encoder__x0_Highly Effective', 'encoder__x0_Ineffective', 'encoder__x0_Marginally Effective', 'encoder__x1_Mild Side Effects', 'encoder__x1_Moderate Side Effects', 'encoder__x1_Severe Side Effects', 'encoder__x2_1'), ('encoder__x0_Highly Effective', 'encoder__x0_Ineffective', 'encoder__x0_Marginally Effective', 'encoder__x1_Mild Side Effects', 'encoder__x1_No Side Effects', 'encoder__x1_Severe Side Effects', 'encoder__x2_1'), ('encoder__x0_Highly Effective', 'encoder__x0_Ineffective', 'encoder__x0_Marginally Effective', 'encoder__x1_Moderate Side Effects', 'encoder__x1_No Side Effects', 'encoder__x1_Severe Side Effects', 'encoder__x2_1'), ('encoder__x0_Highly Effective', 'encoder__x0_Ineffective', 'encoder__x0_Moderately Effective', 'encoder__x1_Mild Side Effects', 'encoder__x1_Moderate Side Effects', 'encoder__x1_No Side Effects', 'encoder__x1_Severe Side Effects'), ('encoder__x0_Highly Effective', 'encoder__x0_Ineffective', 'encoder__x0_Moderately Effective', 'encoder__x1_Mild Side Effects', 'encoder__x1_Moderate Side Effects', 'encoder__x1_No Side Effects', 'encoder__x2_1'), ('encoder__x0_Highly Effective', 'encoder__x0_Ineffective', 'encoder__x0_Moderately Effective', 'encoder__x1_Mild Side Effects', 'encoder__x1_Moderate Side Effects', 'encoder__x1_Severe Side Effects', 'encoder__x2_1'), ('encoder__x0_Highly Effective', 'encoder__x0_Ineffective', 'encoder__x0_Moderately Effective', 'encoder__x1_Mild Side Effects', 'encoder__x1_No Side Effects', 'encoder__x1_Severe Side Effects', 'encoder__x2_1'), ('encoder__x0_Highly Effective', 'encoder__x0_Ineffective', 'encoder__x0_Moderately Effective', 'encoder__x1_Moderate Side Effects', 'encoder__x1_No Side Effects', 'encoder__x1_Severe Side Effects', 'encoder__x2_1'), ('encoder__x0_Highly Effective', 'encoder__x0_Ineffective', 'encoder__x1_Mild Side Effects', 'encoder__x1_Moderate Side Effects', 'encoder__x1_No Side Effects', 'encoder__x1_Severe Side Effects', 'encoder__x2_1'), ('encoder__x0_Highly Effective', 'encoder__x0_Marginally Effective', 'encoder__x0_Moderately Effective', 'encoder__x1_Mild Side Effects', 'encoder__x1_Moderate Side Effects', 'encoder__x1_No Side Effects', 'encoder__x1_Severe Side Effects'), ('encoder__x0_Highly Effective', 'encoder__x0_Marginally Effective', 'encoder__x0_Moderately Effective', 'encoder__x1_Mild Side Effects', 'encoder__x1_Moderate Side Effects', 'encoder__x1_No Side Effects', 'encoder__x2_1'), ('encoder__x0_Highly Effective', 'encoder__x0_Marginally Effective', 'encoder__x0_Moderately Effective', 'encoder__x1_Mild Side Effects', 'encoder__x1_Moderate Side Effects', 'encoder__x1_Severe Side Effects', 'encoder__x2_1'), ('encoder__x0_Highly Effective', 'encoder__x0_Marginally Effective', 'encoder__x0_Moderately Effective', 'encoder__x1_Mild Side Effects', 'encoder__x1_No Side Effects', 'encoder__x1_Severe Side Effects', 'encoder__x2_1'), ('encoder__x0_Highly Effective', 'encoder__x0_Marginally Effective', 'encoder__x0_Moderately Effective', 'encoder__x1_Moderate Side Effects', 'encoder__x1_No Side Effects', 'encoder__x1_Severe Side Effects', 'encoder__x2_1'), ('encoder__x0_Highly Effective', 'encoder__x0_Marginally Effective', 'encoder__x1_Mild Side Effects', 'encoder__x1_Moderate Side Effects', 'encoder__x1_No Side Effects', 'encoder__x1_Severe Side Effects', 'encoder__x2_1'), ('encoder__x0_Highly Effective', 'encoder__x0_Moderately Effective', 'encoder__x1_Mild Side Effects', 'encoder__x1_Moderate Side Effects', 'encoder__x1_No Side Effects', 'encoder__x1_Severe Side Effects', 'encoder__x2_1'), ('encoder__x0_Ineffective', 'encoder__x0_Marginally Effective', 'encoder__x0_Moderately Effective', 'encoder__x1_Mild Side Effects', 'encoder__x1_Moderate Side Effects', 'encoder__x1_No Side Effects', 'encoder__x1_Severe Side Effects'), ('encoder__x0_Ineffective', 'encoder__x0_Marginally Effective', 'encoder__x0_Moderately Effective', 'encoder__x1_Mild Side Effects', 'encoder__x1_Moderate Side Effects', 'encoder__x1_No Side Effects', 'encoder__x2_1'), ('encoder__x0_Ineffective', 'encoder__x0_Marginally Effective', 'encoder__x0_Moderately Effective', 'encoder__x1_Mild Side Effects', 'encoder__x1_Moderate Side Effects', 'encoder__x1_Severe Side Effects', 'encoder__x2_1'), ('encoder__x0_Ineffective', 'encoder__x0_Marginally Effective', 'encoder__x0_Moderately Effective', 'encoder__x1_Mild Side Effects', 'encoder__x1_No Side Effects', 'encoder__x1_Severe Side Effects', 'encoder__x2_1'), ('encoder__x0_Ineffective', 'encoder__x0_Marginally Effective', 'encoder__x0_Moderately Effective', 'encoder__x1_Moderate Side Effects', 'encoder__x1_No Side Effects', 'encoder__x1_Severe Side Effects', 'encoder__x2_1'), ('encoder__x0_Ineffective', 'encoder__x0_Marginally Effective', 'encoder__x1_Mild Side Effects', 'encoder__x1_Moderate Side Effects', 'encoder__x1_No Side Effects', 'encoder__x1_Severe Side Effects', 'encoder__x2_1'), ('encoder__x0_Ineffective', 'encoder__x0_Moderately Effective', 'encoder__x1_Mild Side Effects', 'encoder__x1_Moderate Side Effects', 'encoder__x1_No Side Effects', 'encoder__x1_Severe Side Effects', 'encoder__x2_1'), ('encoder__x0_Marginally Effective', 'encoder__x0_Moderately Effective', 'encoder__x1_Mild Side Effects', 'encoder__x1_Moderate Side Effects', 'encoder__x1_No Side Effects', 'encoder__x1_Severe Side Effects', 'encoder__x2_1'), ('encoder__x0_Highly Effective', 'encoder__x0_Ineffective', 'encoder__x0_Marginally Effective', 'encoder__x0_Moderately Effective', 'encoder__x1_Mild Side Effects', 'encoder__x1_Moderate Side Effects', 'encoder__x1_No Side Effects', 'encoder__x1_Severe Side Effects'), ('encoder__x0_Highly Effective', 'encoder__x0_Ineffective', 'encoder__x0_Marginally Effective', 'encoder__x0_Moderately Effective', 'encoder__x1_Mild Side Effects', 'encoder__x1_Moderate Side Effects', 'encoder__x1_No Side Effects', 'encoder__x2_1'), ('encoder__x0_Highly Effective', 'encoder__x0_Ineffective', 'encoder__x0_Marginally Effective', 'encoder__x0_Moderately Effective', 'encoder__x1_Mild Side Effects', 'encoder__x1_Moderate Side Effects', 'encoder__x1_Severe Side Effects', 'encoder__x2_1'), ('encoder__x0_Highly Effective', 'encoder__x0_Ineffective', 'encoder__x0_Marginally Effective', 'encoder__x0_Moderately Effective', 'encoder__x1_Mild Side Effects', 'encoder__x1_No Side Effects', 'encoder__x1_Severe Side Effects', 'encoder__x2_1'), ('encoder__x0_Highly Effective', 'encoder__x0_Ineffective', 'encoder__x0_Marginally Effective', 'encoder__x0_Moderately Effective', 'encoder__x1_Moderate Side Effects', 'encoder__x1_No Side Effects', 'encoder__x1_Severe Side Effects', 'encoder__x2_1'), ('encoder__x0_Highly Effective', 'encoder__x0_Ineffective', 'encoder__x0_Marginally Effective', 'encoder__x1_Mild Side Effects', 'encoder__x1_Moderate Side Effects', 'encoder__x1_No Side Effects', 'encoder__x1_Severe Side Effects', 'encoder__x2_1'), ('encoder__x0_Highly Effective', 'encoder__x0_Ineffective', 'encoder__x0_Moderately Effective', 'encoder__x1_Mild Side Effects', 'encoder__x1_Moderate Side Effects', 'encoder__x1_No Side Effects', 'encoder__x1_Severe Side Effects', 'encoder__x2_1'), ('encoder__x0_Highly Effective', 'encoder__x0_Marginally Effective', 'encoder__x0_Moderately Effective', 'encoder__x1_Mild Side Effects', 'encoder__x1_Moderate Side Effects', 'encoder__x1_No Side Effects', 'encoder__x1_Severe Side Effects', 'encoder__x2_1'), ('encoder__x0_Ineffective', 'encoder__x0_Marginally Effective', 'encoder__x0_Moderately Effective', 'encoder__x1_Mild Side Effects', 'encoder__x1_Moderate Side Effects', 'encoder__x1_No Side Effects', 'encoder__x1_Severe Side Effects', 'encoder__x2_1'), ('encoder__x0_Highly Effective', 'encoder__x0_Ineffective', 'encoder__x0_Marginally Effective', 'encoder__x0_Moderately Effective', 'encoder__x1_Mild Side Effects', 'encoder__x1_Moderate Side Effects', 'encoder__x1_No Side Effects', 'encoder__x1_Severe Side Effects', 'encoder__x2_1')]\n"
          ],
          "name": "stdout"
        }
      ]
    },
    {
      "cell_type": "code",
      "metadata": {
        "id": "NG7sMNONLI10"
      },
      "source": [
        "top_5=pd.DataFrame(columns=[\"F\",\"Train\",\"Test\"])"
      ],
      "execution_count": null,
      "outputs": []
    },
    {
      "cell_type": "code",
      "metadata": {
        "id": "T-oE-Uieyyvd",
        "colab": {
          "base_uri": "https://localhost:8080/"
        },
        "outputId": "41354c59-c4da-4e32-d623-11612c13b8f8"
      },
      "source": [
        " i=0\n",
        " for feature in tqdm.tqdm(list(power_set(X_train.columns.values))):\n",
        "    rf = RandomForestRegressor(bootstrap=True, ccp_alpha=0.0, criterion='mse',\n",
        "                      max_depth=600, max_features=X_train[list(feature)].shape[1], max_leaf_nodes=None,\n",
        "                      max_samples=None, min_impurity_decrease=0.0,\n",
        "                      min_impurity_split=None, min_samples_leaf=2,\n",
        "                      min_samples_split=10, min_weight_fraction_leaf=0.0,\n",
        "                      n_estimators=200, n_jobs=None, oob_score=False,\n",
        "                      random_state=None, verbose=0, warm_start=False)\n",
        "    rf.fit(X_train[list(feature)],y_train)\n",
        "   # if(float((get_performance_R(rf,X_train[list(feature)],y_train)))>0.80):\n",
        "   #   print(feature)\n",
        "    top_5=top_5.append({'F':feature,\"Train\":get_performance_R(rf,X_train[list(feature)],y_train),\"Test\":get_performance_R(rf,X_test[list(feature)],y_test)},ignore_index=True)\n",
        "    print(\"Train\",get_performance_R(rf,X_train[list(feature)],y_train) )\n",
        "    print(\"Test\",get_performance_R(rf,X_test[list(feature)],y_test))\n"
      ],
      "execution_count": null,
      "outputs": [
        {
          "output_type": "stream",
          "text": [
            "\n",
            "  0%|          | 0/502 [00:00<?, ?it/s]\u001b[A\n",
            "  0%|          | 1/502 [00:00<03:28,  2.40it/s]\u001b[A"
          ],
          "name": "stderr"
        },
        {
          "output_type": "stream",
          "text": [
            "Train 0.45199435427819556\n",
            "Test 0.47238026382545173\n"
          ],
          "name": "stdout"
        },
        {
          "output_type": "stream",
          "text": [
            "\n",
            "  0%|          | 2/502 [00:00<03:33,  2.34it/s]\u001b[A"
          ],
          "name": "stderr"
        },
        {
          "output_type": "stream",
          "text": [
            "Train 0.3227466252293988\n",
            "Test 0.3054724418278585\n"
          ],
          "name": "stdout"
        },
        {
          "output_type": "stream",
          "text": [
            "\n",
            "  1%|          | 3/502 [00:01<03:34,  2.33it/s]\u001b[A"
          ],
          "name": "stderr"
        },
        {
          "output_type": "stream",
          "text": [
            "Train 0.2824137397756389\n",
            "Test 0.26945359434257077\n"
          ],
          "name": "stdout"
        },
        {
          "output_type": "stream",
          "text": [
            "\n",
            "  1%|          | 4/502 [00:01<03:38,  2.28it/s]\u001b[A"
          ],
          "name": "stderr"
        },
        {
          "output_type": "stream",
          "text": [
            "Train 0.3641655287304333\n",
            "Test 0.32589306352357794\n"
          ],
          "name": "stdout"
        },
        {
          "output_type": "stream",
          "text": [
            "\n",
            "  1%|          | 5/502 [00:02<03:38,  2.27it/s]\u001b[A"
          ],
          "name": "stderr"
        },
        {
          "output_type": "stream",
          "text": [
            "Train 0.29289279561946124\n",
            "Test 0.2763062274758684\n"
          ],
          "name": "stdout"
        },
        {
          "output_type": "stream",
          "text": [
            "\n",
            "  1%|          | 6/502 [00:02<03:38,  2.27it/s]\u001b[A"
          ],
          "name": "stderr"
        },
        {
          "output_type": "stream",
          "text": [
            "Train 0.3489603525212276\n",
            "Test 0.35327884266148457\n"
          ],
          "name": "stdout"
        },
        {
          "output_type": "stream",
          "text": [
            "\n",
            "  1%|▏         | 7/502 [00:03<03:34,  2.31it/s]\u001b[A"
          ],
          "name": "stderr"
        },
        {
          "output_type": "stream",
          "text": [
            "Train 0.4202348993031466\n",
            "Test 0.3644260335175381\n"
          ],
          "name": "stdout"
        },
        {
          "output_type": "stream",
          "text": [
            "\n",
            "  2%|▏         | 8/502 [00:03<03:36,  2.28it/s]\u001b[A"
          ],
          "name": "stderr"
        },
        {
          "output_type": "stream",
          "text": [
            "Train 0.39425846789796204\n",
            "Test 0.2944881546636815\n"
          ],
          "name": "stdout"
        },
        {
          "output_type": "stream",
          "text": [
            "\n",
            "  2%|▏         | 9/502 [00:03<03:33,  2.31it/s]\u001b[A"
          ],
          "name": "stderr"
        },
        {
          "output_type": "stream",
          "text": [
            "Train 0.4137209530596109\n",
            "Test 0.44034325734021695\n"
          ],
          "name": "stdout"
        },
        {
          "output_type": "stream",
          "text": [
            "\n",
            "  2%|▏         | 10/502 [00:04<03:31,  2.33it/s]\u001b[A"
          ],
          "name": "stderr"
        },
        {
          "output_type": "stream",
          "text": [
            "Train 0.36015474185985663\n",
            "Test 0.40499501713725183\n"
          ],
          "name": "stdout"
        },
        {
          "output_type": "stream",
          "text": [
            "\n",
            "  2%|▏         | 11/502 [00:04<03:32,  2.31it/s]\u001b[A"
          ],
          "name": "stderr"
        },
        {
          "output_type": "stream",
          "text": [
            "Train 0.3209627847970735\n",
            "Test 0.3657284281152593\n"
          ],
          "name": "stdout"
        },
        {
          "output_type": "stream",
          "text": [
            "\n",
            "  2%|▏         | 12/502 [00:05<03:32,  2.31it/s]\u001b[A"
          ],
          "name": "stderr"
        },
        {
          "output_type": "stream",
          "text": [
            "Train 0.30580605439190045\n",
            "Test 0.3503869323930391\n"
          ],
          "name": "stdout"
        },
        {
          "output_type": "stream",
          "text": [
            "\n",
            "  3%|▎         | 13/502 [00:05<03:30,  2.32it/s]\u001b[A"
          ],
          "name": "stderr"
        },
        {
          "output_type": "stream",
          "text": [
            "Train 0.3813010032556855\n",
            "Test 0.4119294591339575\n"
          ],
          "name": "stdout"
        },
        {
          "output_type": "stream",
          "text": [
            "\n",
            "  3%|▎         | 14/502 [00:06<03:29,  2.33it/s]\u001b[A"
          ],
          "name": "stderr"
        },
        {
          "output_type": "stream",
          "text": [
            "Train 0.42901494151317554\n",
            "Test 0.44209389202895133\n"
          ],
          "name": "stdout"
        },
        {
          "output_type": "stream",
          "text": [
            "\n",
            "  3%|▎         | 15/502 [00:06<03:29,  2.33it/s]\u001b[A"
          ],
          "name": "stderr"
        },
        {
          "output_type": "stream",
          "text": [
            "Train 0.40227611305638344\n",
            "Test 0.31783275357920504\n"
          ],
          "name": "stdout"
        },
        {
          "output_type": "stream",
          "text": [
            "\n",
            "  3%|▎         | 16/502 [00:06<03:32,  2.29it/s]\u001b[A"
          ],
          "name": "stderr"
        },
        {
          "output_type": "stream",
          "text": [
            "Train 0.16151411368656732\n",
            "Test 0.1432661754423067\n"
          ],
          "name": "stdout"
        },
        {
          "output_type": "stream",
          "text": [
            "\n",
            "  3%|▎         | 17/502 [00:07<03:32,  2.28it/s]\u001b[A"
          ],
          "name": "stderr"
        },
        {
          "output_type": "stream",
          "text": [
            "Train 0.16295406352856556\n",
            "Test 0.1559100393480497\n"
          ],
          "name": "stdout"
        },
        {
          "output_type": "stream",
          "text": [
            "\n",
            "  4%|▎         | 18/502 [00:07<03:35,  2.24it/s]\u001b[A"
          ],
          "name": "stderr"
        },
        {
          "output_type": "stream",
          "text": [
            "Train 0.11835844570167064\n",
            "Test 0.10205554816116869\n"
          ],
          "name": "stdout"
        },
        {
          "output_type": "stream",
          "text": [
            "\n",
            "  4%|▍         | 19/502 [00:08<03:32,  2.27it/s]\u001b[A"
          ],
          "name": "stderr"
        },
        {
          "output_type": "stream",
          "text": [
            "Train 0.22045444787446833\n",
            "Test 0.20468849344967277\n"
          ],
          "name": "stdout"
        },
        {
          "output_type": "stream",
          "text": [
            "\n",
            "  4%|▍         | 20/502 [00:08<03:31,  2.28it/s]\u001b[A"
          ],
          "name": "stderr"
        },
        {
          "output_type": "stream",
          "text": [
            "Train 0.27990238953984736\n",
            "Test 0.20987708931366067\n"
          ],
          "name": "stdout"
        },
        {
          "output_type": "stream",
          "text": [
            "\n",
            "  4%|▍         | 21/502 [00:09<03:29,  2.30it/s]\u001b[A"
          ],
          "name": "stderr"
        },
        {
          "output_type": "stream",
          "text": [
            "Train 0.24827279389746004\n",
            "Test 0.11702415698201085\n"
          ],
          "name": "stdout"
        },
        {
          "output_type": "stream",
          "text": [
            "\n",
            "  4%|▍         | 22/502 [00:09<03:29,  2.29it/s]\u001b[A"
          ],
          "name": "stderr"
        },
        {
          "output_type": "stream",
          "text": [
            "Train 0.11398810251414904\n",
            "Test 0.12214279760518498\n"
          ],
          "name": "stdout"
        },
        {
          "output_type": "stream",
          "text": [
            "\n",
            "  5%|▍         | 23/502 [00:10<03:32,  2.26it/s]\u001b[A"
          ],
          "name": "stderr"
        },
        {
          "output_type": "stream",
          "text": [
            "Train 0.06410119969800743\n",
            "Test 0.049419167175949186\n"
          ],
          "name": "stdout"
        },
        {
          "output_type": "stream",
          "text": [
            "\n",
            "  5%|▍         | 24/502 [00:10<03:32,  2.24it/s]\u001b[A"
          ],
          "name": "stderr"
        },
        {
          "output_type": "stream",
          "text": [
            "Train 0.16928926292090973\n",
            "Test 0.14985238691602465\n"
          ],
          "name": "stdout"
        },
        {
          "output_type": "stream",
          "text": [
            "\n",
            "  5%|▍         | 25/502 [00:10<03:30,  2.27it/s]\u001b[A"
          ],
          "name": "stderr"
        },
        {
          "output_type": "stream",
          "text": [
            "Train 0.2405939503952499\n",
            "Test 0.18525594133893986\n"
          ],
          "name": "stdout"
        },
        {
          "output_type": "stream",
          "text": [
            "\n",
            "  5%|▌         | 26/502 [00:11<03:28,  2.28it/s]\u001b[A"
          ],
          "name": "stderr"
        },
        {
          "output_type": "stream",
          "text": [
            "Train 0.21312304965378637\n",
            "Test 0.07142646044291656\n"
          ],
          "name": "stdout"
        },
        {
          "output_type": "stream",
          "text": [
            "\n",
            "  5%|▌         | 27/502 [00:11<03:28,  2.28it/s]\u001b[A"
          ],
          "name": "stderr"
        },
        {
          "output_type": "stream",
          "text": [
            "Train 0.07446165232194812\n",
            "Test 0.08200278795399862\n"
          ],
          "name": "stdout"
        },
        {
          "output_type": "stream",
          "text": [
            "\n",
            "  6%|▌         | 28/502 [00:12<03:27,  2.29it/s]\u001b[A"
          ],
          "name": "stderr"
        },
        {
          "output_type": "stream",
          "text": [
            "Train 0.3748506603619789\n",
            "Test 0.3716460295566365\n"
          ],
          "name": "stdout"
        },
        {
          "output_type": "stream",
          "text": [
            "\n",
            "  6%|▌         | 29/502 [00:12<03:27,  2.28it/s]\u001b[A"
          ],
          "name": "stderr"
        },
        {
          "output_type": "stream",
          "text": [
            "Train 0.22469413641688596\n",
            "Test 0.18171036978454924\n"
          ],
          "name": "stdout"
        },
        {
          "output_type": "stream",
          "text": [
            "\n",
            "  6%|▌         | 30/502 [00:13<03:24,  2.31it/s]\u001b[A"
          ],
          "name": "stderr"
        },
        {
          "output_type": "stream",
          "text": [
            "Train 0.2230259597144999\n",
            "Test 0.10516466509610534\n"
          ],
          "name": "stdout"
        },
        {
          "output_type": "stream",
          "text": [
            "\n",
            "  6%|▌         | 31/502 [00:13<03:22,  2.33it/s]\u001b[A"
          ],
          "name": "stderr"
        },
        {
          "output_type": "stream",
          "text": [
            "Train 0.13354875092308305\n",
            "Test 0.12267898627644047\n"
          ],
          "name": "stdout"
        },
        {
          "output_type": "stream",
          "text": [
            "\n",
            "  6%|▋         | 32/502 [00:13<03:20,  2.34it/s]\u001b[A"
          ],
          "name": "stderr"
        },
        {
          "output_type": "stream",
          "text": [
            "Train 0.24939921631090212\n",
            "Test 0.17830620034703382\n"
          ],
          "name": "stdout"
        },
        {
          "output_type": "stream",
          "text": [
            "\n",
            "  7%|▋         | 33/502 [00:14<03:17,  2.37it/s]\u001b[A"
          ],
          "name": "stderr"
        },
        {
          "output_type": "stream",
          "text": [
            "Train 0.19620824618132016\n",
            "Test 0.04019297652398934\n"
          ],
          "name": "stdout"
        },
        {
          "output_type": "stream",
          "text": [
            "\n",
            "  7%|▋         | 34/502 [00:14<03:16,  2.38it/s]\u001b[A"
          ],
          "name": "stderr"
        },
        {
          "output_type": "stream",
          "text": [
            "Train 0.26788116450756727\n",
            "Test 0.22034503957348572\n"
          ],
          "name": "stdout"
        },
        {
          "output_type": "stream",
          "text": [
            "\n",
            "  7%|▋         | 35/502 [00:15<03:16,  2.37it/s]\u001b[A"
          ],
          "name": "stderr"
        },
        {
          "output_type": "stream",
          "text": [
            "Train 0.2617461205985596\n",
            "Test 0.14846047586089706\n"
          ],
          "name": "stdout"
        },
        {
          "output_type": "stream",
          "text": [
            "\n",
            "  7%|▋         | 36/502 [00:15<03:18,  2.35it/s]\u001b[A"
          ],
          "name": "stderr"
        },
        {
          "output_type": "stream",
          "text": [
            "Train 0.3084267781572698\n",
            "Test 0.14925487573978102\n"
          ],
          "name": "stdout"
        },
        {
          "output_type": "stream",
          "text": [
            "\n",
            "  7%|▋         | 37/502 [00:16<03:21,  2.30it/s]\u001b[A"
          ],
          "name": "stderr"
        },
        {
          "output_type": "stream",
          "text": [
            "Train 0.5217425541362704\n",
            "Test 0.5381469733588571\n"
          ],
          "name": "stdout"
        },
        {
          "output_type": "stream",
          "text": [
            "\n",
            "  8%|▊         | 38/502 [00:16<03:23,  2.28it/s]\u001b[A"
          ],
          "name": "stderr"
        },
        {
          "output_type": "stream",
          "text": [
            "Train 0.4682837143041595\n",
            "Test 0.49270392481452274\n"
          ],
          "name": "stdout"
        },
        {
          "output_type": "stream",
          "text": [
            "\n",
            "  8%|▊         | 39/502 [00:17<03:27,  2.23it/s]\u001b[A"
          ],
          "name": "stderr"
        },
        {
          "output_type": "stream",
          "text": [
            "Train 0.4972225796675308\n",
            "Test 0.49904723602698875\n"
          ],
          "name": "stdout"
        },
        {
          "output_type": "stream",
          "text": [
            "\n",
            "  8%|▊         | 40/502 [00:17<03:26,  2.23it/s]\u001b[A"
          ],
          "name": "stderr"
        },
        {
          "output_type": "stream",
          "text": [
            "Train 0.4652788313326156\n",
            "Test 0.4855570258670959\n"
          ],
          "name": "stdout"
        },
        {
          "output_type": "stream",
          "text": [
            "\n",
            "  8%|▊         | 41/502 [00:17<03:28,  2.21it/s]\u001b[A"
          ],
          "name": "stderr"
        },
        {
          "output_type": "stream",
          "text": [
            "Train 0.507634970803684\n",
            "Test 0.538607196237046\n"
          ],
          "name": "stdout"
        },
        {
          "output_type": "stream",
          "text": [
            "\n",
            "  8%|▊         | 42/502 [00:18<03:27,  2.21it/s]\u001b[A"
          ],
          "name": "stderr"
        },
        {
          "output_type": "stream",
          "text": [
            "Train 0.5645880406523426\n",
            "Test 0.5592615933668423\n"
          ],
          "name": "stdout"
        },
        {
          "output_type": "stream",
          "text": [
            "\n",
            "  9%|▊         | 43/502 [00:18<03:26,  2.23it/s]\u001b[A"
          ],
          "name": "stderr"
        },
        {
          "output_type": "stream",
          "text": [
            "Train 0.5390535608473976\n",
            "Test 0.4747788176328681\n"
          ],
          "name": "stdout"
        },
        {
          "output_type": "stream",
          "text": [
            "\n",
            "  9%|▉         | 44/502 [00:19<03:22,  2.26it/s]\u001b[A"
          ],
          "name": "stderr"
        },
        {
          "output_type": "stream",
          "text": [
            "Train 0.32841467336609886\n",
            "Test 0.31046236584272424\n"
          ],
          "name": "stdout"
        },
        {
          "output_type": "stream",
          "text": [
            "\n",
            "  9%|▉         | 45/502 [00:19<03:24,  2.24it/s]\u001b[A"
          ],
          "name": "stderr"
        },
        {
          "output_type": "stream",
          "text": [
            "Train 0.39797787176063437\n",
            "Test 0.3578077543614776\n"
          ],
          "name": "stdout"
        },
        {
          "output_type": "stream",
          "text": [
            "\n",
            "  9%|▉         | 46/502 [00:20<03:26,  2.21it/s]\u001b[A"
          ],
          "name": "stderr"
        },
        {
          "output_type": "stream",
          "text": [
            "Train 0.3343355230588435\n",
            "Test 0.31403944503741377\n"
          ],
          "name": "stdout"
        },
        {
          "output_type": "stream",
          "text": [
            "\n",
            "  9%|▉         | 47/502 [00:20<03:27,  2.20it/s]\u001b[A"
          ],
          "name": "stderr"
        },
        {
          "output_type": "stream",
          "text": [
            "Train 0.3885354670793708\n",
            "Test 0.39054254467801996\n"
          ],
          "name": "stdout"
        },
        {
          "output_type": "stream",
          "text": [
            "\n",
            " 10%|▉         | 48/502 [00:21<03:24,  2.21it/s]\u001b[A"
          ],
          "name": "stderr"
        },
        {
          "output_type": "stream",
          "text": [
            "Train 0.456225990771859\n",
            "Test 0.3930693586953734\n"
          ],
          "name": "stdout"
        },
        {
          "output_type": "stream",
          "text": [
            "\n",
            " 10%|▉         | 49/502 [00:21<03:22,  2.24it/s]\u001b[A"
          ],
          "name": "stderr"
        },
        {
          "output_type": "stream",
          "text": [
            "Train 0.427463042614489\n",
            "Test 0.3348075455657624\n"
          ],
          "name": "stdout"
        },
        {
          "output_type": "stream",
          "text": [
            "\n",
            " 10%|▉         | 50/502 [00:21<03:23,  2.22it/s]\u001b[A"
          ],
          "name": "stderr"
        },
        {
          "output_type": "stream",
          "text": [
            "Train 0.36734696836627645\n",
            "Test 0.3292222225769722\n"
          ],
          "name": "stdout"
        },
        {
          "output_type": "stream",
          "text": [
            "\n",
            " 10%|█         | 51/502 [00:22<03:25,  2.20it/s]\u001b[A"
          ],
          "name": "stderr"
        },
        {
          "output_type": "stream",
          "text": [
            "Train 0.2949723657142659\n",
            "Test 0.2754509996585306\n"
          ],
          "name": "stdout"
        },
        {
          "output_type": "stream",
          "text": [
            "\n",
            " 10%|█         | 52/502 [00:22<03:27,  2.16it/s]\u001b[A"
          ],
          "name": "stderr"
        },
        {
          "output_type": "stream",
          "text": [
            "Train 0.35081340647707904\n",
            "Test 0.35338364173473913\n"
          ],
          "name": "stdout"
        },
        {
          "output_type": "stream",
          "text": [
            "\n",
            " 11%|█         | 53/502 [00:23<03:22,  2.22it/s]\u001b[A"
          ],
          "name": "stderr"
        },
        {
          "output_type": "stream",
          "text": [
            "Train 0.42252383221196366\n",
            "Test 0.3686476056602793\n"
          ],
          "name": "stdout"
        },
        {
          "output_type": "stream",
          "text": [
            "\n",
            " 11%|█         | 54/502 [00:23<03:22,  2.22it/s]\u001b[A"
          ],
          "name": "stderr"
        },
        {
          "output_type": "stream",
          "text": [
            "Train 0.3979356895929369\n",
            "Test 0.297390763230597\n"
          ],
          "name": "stdout"
        },
        {
          "output_type": "stream",
          "text": [
            "\n",
            " 11%|█         | 55/502 [00:24<03:23,  2.20it/s]\u001b[A"
          ],
          "name": "stderr"
        },
        {
          "output_type": "stream",
          "text": [
            "Train 0.3778824957035367\n",
            "Test 0.3333916871482083\n"
          ],
          "name": "stdout"
        },
        {
          "output_type": "stream",
          "text": [
            "\n",
            " 11%|█         | 56/502 [00:24<03:24,  2.19it/s]\u001b[A"
          ],
          "name": "stderr"
        },
        {
          "output_type": "stream",
          "text": [
            "Train 0.5333893377686322\n",
            "Test 0.5176423902262608\n"
          ],
          "name": "stdout"
        },
        {
          "output_type": "stream",
          "text": [
            "\n",
            " 11%|█▏        | 57/502 [00:25<03:24,  2.18it/s]\u001b[A"
          ],
          "name": "stderr"
        },
        {
          "output_type": "stream",
          "text": [
            "Train 0.4588984768850678\n",
            "Test 0.3966017013405886\n"
          ],
          "name": "stdout"
        },
        {
          "output_type": "stream",
          "text": [
            "\n",
            " 12%|█▏        | 58/502 [00:25<03:22,  2.19it/s]\u001b[A"
          ],
          "name": "stderr"
        },
        {
          "output_type": "stream",
          "text": [
            "Train 0.45590079528864347\n",
            "Test 0.3451678363533499\n"
          ],
          "name": "stdout"
        },
        {
          "output_type": "stream",
          "text": [
            "\n",
            " 12%|█▏        | 59/502 [00:26<03:25,  2.15it/s]\u001b[A"
          ],
          "name": "stderr"
        },
        {
          "output_type": "stream",
          "text": [
            "Train 0.3521037953527225\n",
            "Test 0.35665010275397646\n"
          ],
          "name": "stdout"
        },
        {
          "output_type": "stream",
          "text": [
            "\n",
            " 12%|█▏        | 60/502 [00:26<03:23,  2.17it/s]\u001b[A"
          ],
          "name": "stderr"
        },
        {
          "output_type": "stream",
          "text": [
            "Train 0.4486763740949865\n",
            "Test 0.3821867123730781\n"
          ],
          "name": "stdout"
        },
        {
          "output_type": "stream",
          "text": [
            "\n",
            " 12%|█▏        | 61/502 [00:27<03:22,  2.18it/s]\u001b[A"
          ],
          "name": "stderr"
        },
        {
          "output_type": "stream",
          "text": [
            "Train 0.41298697872139745\n",
            "Test 0.30660382412997944\n"
          ],
          "name": "stdout"
        },
        {
          "output_type": "stream",
          "text": [
            "\n",
            " 12%|█▏        | 62/502 [00:27<03:21,  2.19it/s]\u001b[A"
          ],
          "name": "stderr"
        },
        {
          "output_type": "stream",
          "text": [
            "Train 0.4521216371188487\n",
            "Test 0.41487147031814064\n"
          ],
          "name": "stdout"
        },
        {
          "output_type": "stream",
          "text": [
            "\n",
            " 13%|█▎        | 63/502 [00:27<03:19,  2.20it/s]\u001b[A"
          ],
          "name": "stderr"
        },
        {
          "output_type": "stream",
          "text": [
            "Train 0.44476434562702216\n",
            "Test 0.3695730291803293\n"
          ],
          "name": "stdout"
        },
        {
          "output_type": "stream",
          "text": [
            "\n",
            " 13%|█▎        | 64/502 [00:28<03:16,  2.22it/s]\u001b[A"
          ],
          "name": "stderr"
        },
        {
          "output_type": "stream",
          "text": [
            "Train 0.5012647107651542\n",
            "Test 0.38248844821451233\n"
          ],
          "name": "stdout"
        },
        {
          "output_type": "stream",
          "text": [
            "\n",
            " 13%|█▎        | 65/502 [00:28<03:19,  2.19it/s]\u001b[A"
          ],
          "name": "stderr"
        },
        {
          "output_type": "stream",
          "text": [
            "Train 0.5134731117553639\n",
            "Test 0.5416541819896744\n"
          ],
          "name": "stdout"
        },
        {
          "output_type": "stream",
          "text": [
            "\n",
            " 13%|█▎        | 66/502 [00:29<03:16,  2.22it/s]\u001b[A"
          ],
          "name": "stderr"
        },
        {
          "output_type": "stream",
          "text": [
            "Train 0.44085847898305186\n",
            "Test 0.4667358288956085\n"
          ],
          "name": "stdout"
        },
        {
          "output_type": "stream",
          "text": [
            "\n",
            " 13%|█▎        | 67/502 [00:29<03:16,  2.21it/s]\u001b[A"
          ],
          "name": "stderr"
        },
        {
          "output_type": "stream",
          "text": [
            "Train 0.43286385574728004\n",
            "Test 0.4670515782163237\n"
          ],
          "name": "stdout"
        },
        {
          "output_type": "stream",
          "text": [
            "\n",
            " 14%|█▎        | 68/502 [00:30<03:15,  2.22it/s]\u001b[A"
          ],
          "name": "stderr"
        },
        {
          "output_type": "stream",
          "text": [
            "Train 0.493872137243867\n",
            "Test 0.5191059595405997\n"
          ],
          "name": "stdout"
        },
        {
          "output_type": "stream",
          "text": [
            "\n",
            " 14%|█▎        | 69/502 [00:30<03:15,  2.21it/s]\u001b[A"
          ],
          "name": "stderr"
        },
        {
          "output_type": "stream",
          "text": [
            "Train 0.5283636155885754\n",
            "Test 0.5301481705353916\n"
          ],
          "name": "stdout"
        },
        {
          "output_type": "stream",
          "text": [
            "\n",
            " 14%|█▍        | 70/502 [00:31<03:14,  2.22it/s]\u001b[A"
          ],
          "name": "stderr"
        },
        {
          "output_type": "stream",
          "text": [
            "Train 0.4998196135952391\n",
            "Test 0.4369506599713886\n"
          ],
          "name": "stdout"
        },
        {
          "output_type": "stream",
          "text": [
            "\n",
            " 14%|█▍        | 71/502 [00:31<03:12,  2.24it/s]\u001b[A"
          ],
          "name": "stderr"
        },
        {
          "output_type": "stream",
          "text": [
            "Train 0.39243692066610325\n",
            "Test 0.4373174307230908\n"
          ],
          "name": "stdout"
        },
        {
          "output_type": "stream",
          "text": [
            "\n",
            " 14%|█▍        | 72/502 [00:31<03:12,  2.24it/s]\u001b[A"
          ],
          "name": "stderr"
        },
        {
          "output_type": "stream",
          "text": [
            "Train 0.38013419937408655\n",
            "Test 0.4194838270430291\n"
          ],
          "name": "stdout"
        },
        {
          "output_type": "stream",
          "text": [
            "\n",
            " 15%|█▍        | 73/502 [00:32<03:10,  2.25it/s]\u001b[A"
          ],
          "name": "stderr"
        },
        {
          "output_type": "stream",
          "text": [
            "Train 0.44267093079671094\n",
            "Test 0.46922397673619354\n"
          ],
          "name": "stdout"
        },
        {
          "output_type": "stream",
          "text": [
            "\n",
            " 15%|█▍        | 74/502 [00:32<03:10,  2.25it/s]\u001b[A"
          ],
          "name": "stderr"
        },
        {
          "output_type": "stream",
          "text": [
            "Train 0.4924798363855736\n",
            "Test 0.5099321695041474\n"
          ],
          "name": "stdout"
        },
        {
          "output_type": "stream",
          "text": [
            "\n",
            " 15%|█▍        | 75/502 [00:33<03:08,  2.27it/s]\u001b[A"
          ],
          "name": "stderr"
        },
        {
          "output_type": "stream",
          "text": [
            "Train 0.4661322641997193\n",
            "Test 0.3973728875203403\n"
          ],
          "name": "stdout"
        },
        {
          "output_type": "stream",
          "text": [
            "\n",
            " 15%|█▌        | 76/502 [00:33<03:09,  2.25it/s]\u001b[A"
          ],
          "name": "stderr"
        },
        {
          "output_type": "stream",
          "text": [
            "Train 0.3282509477487878\n",
            "Test 0.3736046324519592\n"
          ],
          "name": "stdout"
        },
        {
          "output_type": "stream",
          "text": [
            "\n",
            " 15%|█▌        | 77/502 [00:34<03:09,  2.24it/s]\u001b[A"
          ],
          "name": "stderr"
        },
        {
          "output_type": "stream",
          "text": [
            "Train 0.537845702918205\n",
            "Test 0.5665469983111288\n"
          ],
          "name": "stdout"
        },
        {
          "output_type": "stream",
          "text": [
            "\n",
            " 16%|█▌        | 78/502 [00:34<03:07,  2.26it/s]\u001b[A"
          ],
          "name": "stderr"
        },
        {
          "output_type": "stream",
          "text": [
            "Train 0.43947135573887564\n",
            "Test 0.4553991190013228\n"
          ],
          "name": "stdout"
        },
        {
          "output_type": "stream",
          "text": [
            "\n",
            " 16%|█▌        | 79/502 [00:35<03:09,  2.23it/s]\u001b[A"
          ],
          "name": "stderr"
        },
        {
          "output_type": "stream",
          "text": [
            "Train 0.4317286569988086\n",
            "Test 0.3619301492470165\n"
          ],
          "name": "stdout"
        },
        {
          "output_type": "stream",
          "text": [
            "\n",
            " 16%|█▌        | 80/502 [00:35<03:08,  2.24it/s]\u001b[A"
          ],
          "name": "stderr"
        },
        {
          "output_type": "stream",
          "text": [
            "Train 0.38315138216419253\n",
            "Test 0.4161331145668573\n"
          ],
          "name": "stdout"
        },
        {
          "output_type": "stream",
          "text": [
            "\n",
            " 16%|█▌        | 81/502 [00:35<03:09,  2.23it/s]\u001b[A"
          ],
          "name": "stderr"
        },
        {
          "output_type": "stream",
          "text": [
            "Train 0.4737346291340905\n",
            "Test 0.48872247953644443\n"
          ],
          "name": "stdout"
        },
        {
          "output_type": "stream",
          "text": [
            "\n",
            " 16%|█▋        | 82/502 [00:36<03:09,  2.22it/s]\u001b[A"
          ],
          "name": "stderr"
        },
        {
          "output_type": "stream",
          "text": [
            "Train 0.4273554319307227\n",
            "Test 0.34106048855231086\n"
          ],
          "name": "stdout"
        },
        {
          "output_type": "stream",
          "text": [
            "\n",
            " 17%|█▋        | 83/502 [00:36<03:10,  2.20it/s]\u001b[A"
          ],
          "name": "stderr"
        },
        {
          "output_type": "stream",
          "text": [
            "Train 0.4804986667653083\n",
            "Test 0.4940880214307899\n"
          ],
          "name": "stdout"
        },
        {
          "output_type": "stream",
          "text": [
            "\n",
            " 17%|█▋        | 84/502 [00:37<03:09,  2.20it/s]\u001b[A"
          ],
          "name": "stderr"
        },
        {
          "output_type": "stream",
          "text": [
            "Train 0.4729101296266379\n",
            "Test 0.41359658320563886\n"
          ],
          "name": "stdout"
        },
        {
          "output_type": "stream",
          "text": [
            "\n",
            " 17%|█▋        | 85/502 [00:37<03:09,  2.20it/s]\u001b[A"
          ],
          "name": "stderr"
        },
        {
          "output_type": "stream",
          "text": [
            "Train 0.4987930373793221\n",
            "Test 0.42190909269197086\n"
          ],
          "name": "stdout"
        },
        {
          "output_type": "stream",
          "text": [
            "\n",
            " 17%|█▋        | 86/502 [00:38<03:08,  2.21it/s]\u001b[A"
          ],
          "name": "stderr"
        },
        {
          "output_type": "stream",
          "text": [
            "Train 0.21913157194498667\n",
            "Test 0.20627034166655434\n"
          ],
          "name": "stdout"
        },
        {
          "output_type": "stream",
          "text": [
            "\n",
            " 17%|█▋        | 87/502 [00:38<03:07,  2.21it/s]\u001b[A"
          ],
          "name": "stderr"
        },
        {
          "output_type": "stream",
          "text": [
            "Train 0.1779976882310813\n",
            "Test 0.15059726433225384\n"
          ],
          "name": "stdout"
        },
        {
          "output_type": "stream",
          "text": [
            "\n",
            " 18%|█▊        | 88/502 [00:39<03:06,  2.22it/s]\u001b[A"
          ],
          "name": "stderr"
        },
        {
          "output_type": "stream",
          "text": [
            "Train 0.26874182871487085\n",
            "Test 0.24246162542820815\n"
          ],
          "name": "stdout"
        },
        {
          "output_type": "stream",
          "text": [
            "\n",
            " 18%|█▊        | 89/502 [00:39<03:06,  2.21it/s]\u001b[A"
          ],
          "name": "stderr"
        },
        {
          "output_type": "stream",
          "text": [
            "Train 0.3321969801786999\n",
            "Test 0.2609749322277548\n"
          ],
          "name": "stdout"
        },
        {
          "output_type": "stream",
          "text": [
            "\n",
            " 18%|█▊        | 90/502 [00:40<03:05,  2.22it/s]\u001b[A"
          ],
          "name": "stderr"
        },
        {
          "output_type": "stream",
          "text": [
            "Train 0.3009480910337827\n",
            "Test 0.1786169555269208\n"
          ],
          "name": "stdout"
        },
        {
          "output_type": "stream",
          "text": [
            "\n",
            " 18%|█▊        | 91/502 [00:40<03:07,  2.20it/s]\u001b[A"
          ],
          "name": "stderr"
        },
        {
          "output_type": "stream",
          "text": [
            "Train 0.16568715304093018\n",
            "Test 0.15674480498140742\n"
          ],
          "name": "stdout"
        },
        {
          "output_type": "stream",
          "text": [
            "\n",
            " 18%|█▊        | 92/502 [00:40<03:08,  2.18it/s]\u001b[A"
          ],
          "name": "stderr"
        },
        {
          "output_type": "stream",
          "text": [
            "Train 0.4390183768316833\n",
            "Test 0.43315339672354514\n"
          ],
          "name": "stdout"
        },
        {
          "output_type": "stream",
          "text": [
            "\n",
            " 19%|█▊        | 93/502 [00:41<03:06,  2.19it/s]\u001b[A"
          ],
          "name": "stderr"
        },
        {
          "output_type": "stream",
          "text": [
            "Train 0.302088838377938\n",
            "Test 0.24190846275683298\n"
          ],
          "name": "stdout"
        },
        {
          "output_type": "stream",
          "text": [
            "\n",
            " 19%|█▊        | 94/502 [00:41<03:04,  2.21it/s]\u001b[A"
          ],
          "name": "stderr"
        },
        {
          "output_type": "stream",
          "text": [
            "Train 0.295160215200976\n",
            "Test 0.18579260420497268\n"
          ],
          "name": "stdout"
        },
        {
          "output_type": "stream",
          "text": [
            "\n",
            " 19%|█▉        | 95/502 [00:42<03:05,  2.20it/s]\u001b[A"
          ],
          "name": "stderr"
        },
        {
          "output_type": "stream",
          "text": [
            "Train 0.22075360299304747\n",
            "Test 0.20504899548624922\n"
          ],
          "name": "stdout"
        },
        {
          "output_type": "stream",
          "text": [
            "\n",
            " 19%|█▉        | 96/502 [00:42<03:03,  2.21it/s]\u001b[A"
          ],
          "name": "stderr"
        },
        {
          "output_type": "stream",
          "text": [
            "Train 0.3233142615960608\n",
            "Test 0.24450011295785967\n"
          ],
          "name": "stdout"
        },
        {
          "output_type": "stream",
          "text": [
            "\n",
            " 19%|█▉        | 97/502 [00:43<03:02,  2.22it/s]\u001b[A"
          ],
          "name": "stderr"
        },
        {
          "output_type": "stream",
          "text": [
            "Train 0.2714876385174462\n",
            "Test 0.13493239274544244\n"
          ],
          "name": "stdout"
        },
        {
          "output_type": "stream",
          "text": [
            "\n",
            " 20%|█▉        | 98/502 [00:43<03:02,  2.22it/s]\u001b[A"
          ],
          "name": "stderr"
        },
        {
          "output_type": "stream",
          "text": [
            "Train 0.34249288131797206\n",
            "Test 0.28759787343355636\n"
          ],
          "name": "stdout"
        },
        {
          "output_type": "stream",
          "text": [
            "\n",
            " 20%|█▉        | 99/502 [00:44<03:01,  2.22it/s]\u001b[A"
          ],
          "name": "stderr"
        },
        {
          "output_type": "stream",
          "text": [
            "Train 0.3321855637338774\n",
            "Test 0.23444331431717058\n"
          ],
          "name": "stdout"
        },
        {
          "output_type": "stream",
          "text": [
            "\n",
            " 20%|█▉        | 100/502 [00:44<03:01,  2.22it/s]\u001b[A"
          ],
          "name": "stderr"
        },
        {
          "output_type": "stream",
          "text": [
            "Train 0.3707624381140755\n",
            "Test 0.22292273580326516\n"
          ],
          "name": "stdout"
        },
        {
          "output_type": "stream",
          "text": [
            "\n",
            " 20%|██        | 101/502 [00:45<02:59,  2.23it/s]\u001b[A"
          ],
          "name": "stderr"
        },
        {
          "output_type": "stream",
          "text": [
            "Train 0.12016258457889828\n",
            "Test 0.11743301138087059\n"
          ],
          "name": "stdout"
        },
        {
          "output_type": "stream",
          "text": [
            "\n",
            " 20%|██        | 102/502 [00:45<03:01,  2.20it/s]\u001b[A"
          ],
          "name": "stderr"
        },
        {
          "output_type": "stream",
          "text": [
            "Train 0.40524388166209\n",
            "Test 0.39273479717314175\n"
          ],
          "name": "stdout"
        },
        {
          "output_type": "stream",
          "text": [
            "\n",
            " 21%|██        | 103/502 [00:45<03:01,  2.20it/s]\u001b[A"
          ],
          "name": "stderr"
        },
        {
          "output_type": "stream",
          "text": [
            "Train 0.26429519035647075\n",
            "Test 0.22149182518208832\n"
          ],
          "name": "stdout"
        },
        {
          "output_type": "stream",
          "text": [
            "\n",
            " 21%|██        | 104/502 [00:46<02:59,  2.21it/s]\u001b[A"
          ],
          "name": "stderr"
        },
        {
          "output_type": "stream",
          "text": [
            "Train 0.26483696794041955\n",
            "Test 0.15068222901063877\n"
          ],
          "name": "stdout"
        },
        {
          "output_type": "stream",
          "text": [
            "\n",
            " 21%|██        | 105/502 [00:46<02:58,  2.22it/s]\u001b[A"
          ],
          "name": "stderr"
        },
        {
          "output_type": "stream",
          "text": [
            "Train 0.17141276077766399\n",
            "Test 0.14737383311529728\n"
          ],
          "name": "stdout"
        },
        {
          "output_type": "stream",
          "text": [
            "\n",
            " 21%|██        | 106/502 [00:47<03:01,  2.19it/s]\u001b[A"
          ],
          "name": "stderr"
        },
        {
          "output_type": "stream",
          "text": [
            "Train 0.28675635034124736\n",
            "Test 0.2072279147578845\n"
          ],
          "name": "stdout"
        },
        {
          "output_type": "stream",
          "text": [
            "\n",
            " 21%|██▏       | 107/502 [00:47<02:59,  2.20it/s]\u001b[A"
          ],
          "name": "stderr"
        },
        {
          "output_type": "stream",
          "text": [
            "Train 0.23653579722439477\n",
            "Test 0.08032433786785964\n"
          ],
          "name": "stdout"
        },
        {
          "output_type": "stream",
          "text": [
            "\n",
            " 22%|██▏       | 108/502 [00:48<02:56,  2.23it/s]\u001b[A"
          ],
          "name": "stderr"
        },
        {
          "output_type": "stream",
          "text": [
            "Train 0.3029160607417657\n",
            "Test 0.24875061857958336\n"
          ],
          "name": "stdout"
        },
        {
          "output_type": "stream",
          "text": [
            "\n",
            " 22%|██▏       | 109/502 [00:48<02:58,  2.21it/s]\u001b[A"
          ],
          "name": "stderr"
        },
        {
          "output_type": "stream",
          "text": [
            "Train 0.2975646203934391\n",
            "Test 0.1801687525765442\n"
          ],
          "name": "stdout"
        },
        {
          "output_type": "stream",
          "text": [
            "\n",
            " 22%|██▏       | 110/502 [00:49<02:57,  2.21it/s]\u001b[A"
          ],
          "name": "stderr"
        },
        {
          "output_type": "stream",
          "text": [
            "Train 0.34639473494696693\n",
            "Test 0.1929118475332634\n"
          ],
          "name": "stdout"
        },
        {
          "output_type": "stream",
          "text": [
            "\n",
            " 22%|██▏       | 111/502 [00:49<02:58,  2.19it/s]\u001b[A"
          ],
          "name": "stderr"
        },
        {
          "output_type": "stream",
          "text": [
            "Train 0.48431850590748193\n",
            "Test 0.5016107906723273\n"
          ],
          "name": "stdout"
        },
        {
          "output_type": "stream",
          "text": [
            "\n",
            " 22%|██▏       | 112/502 [00:50<02:57,  2.20it/s]\u001b[A"
          ],
          "name": "stderr"
        },
        {
          "output_type": "stream",
          "text": [
            "Train 0.2548527293340237\n",
            "Test 0.19159528069739973\n"
          ],
          "name": "stdout"
        },
        {
          "output_type": "stream",
          "text": [
            "\n",
            " 23%|██▎       | 113/502 [00:50<02:56,  2.20it/s]\u001b[A"
          ],
          "name": "stderr"
        },
        {
          "output_type": "stream",
          "text": [
            "Train 0.23875359511259353\n",
            "Test 0.10466943874012613\n"
          ],
          "name": "stdout"
        },
        {
          "output_type": "stream",
          "text": [
            "\n",
            " 23%|██▎       | 114/502 [00:50<02:57,  2.19it/s]\u001b[A"
          ],
          "name": "stderr"
        },
        {
          "output_type": "stream",
          "text": [
            "Train 0.40364387372544597\n",
            "Test 0.3862830499226796\n"
          ],
          "name": "stdout"
        },
        {
          "output_type": "stream",
          "text": [
            "\n",
            " 23%|██▎       | 115/502 [00:51<02:55,  2.20it/s]\u001b[A"
          ],
          "name": "stderr"
        },
        {
          "output_type": "stream",
          "text": [
            "Train 0.43156744918433243\n",
            "Test 0.37483967151229114\n"
          ],
          "name": "stdout"
        },
        {
          "output_type": "stream",
          "text": [
            "\n",
            " 23%|██▎       | 116/502 [00:51<02:58,  2.16it/s]\u001b[A"
          ],
          "name": "stderr"
        },
        {
          "output_type": "stream",
          "text": [
            "Train 0.33086200339918426\n",
            "Test 0.19228906068425755\n"
          ],
          "name": "stdout"
        },
        {
          "output_type": "stream",
          "text": [
            "\n",
            " 23%|██▎       | 117/502 [00:52<02:57,  2.16it/s]\u001b[A"
          ],
          "name": "stderr"
        },
        {
          "output_type": "stream",
          "text": [
            "Train 0.28498319114539383\n",
            "Test 0.22763493390432699\n"
          ],
          "name": "stdout"
        },
        {
          "output_type": "stream",
          "text": [
            "\n",
            " 24%|██▎       | 118/502 [00:52<02:56,  2.18it/s]\u001b[A"
          ],
          "name": "stderr"
        },
        {
          "output_type": "stream",
          "text": [
            "Train 0.2702735049093664\n",
            "Test 0.14832658438324797\n"
          ],
          "name": "stdout"
        },
        {
          "output_type": "stream",
          "text": [
            "\n",
            " 24%|██▎       | 119/502 [00:53<02:56,  2.17it/s]\u001b[A"
          ],
          "name": "stderr"
        },
        {
          "output_type": "stream",
          "text": [
            "Train 0.35102302968807164\n",
            "Test 0.18609261576231795\n"
          ],
          "name": "stdout"
        },
        {
          "output_type": "stream",
          "text": [
            "\n",
            " 24%|██▍       | 120/502 [00:53<02:56,  2.16it/s]\u001b[A"
          ],
          "name": "stderr"
        },
        {
          "output_type": "stream",
          "text": [
            "Train 0.35751789319486704\n",
            "Test 0.22886086363619762\n"
          ],
          "name": "stdout"
        },
        {
          "output_type": "stream",
          "text": [
            "\n",
            " 24%|██▍       | 121/502 [00:54<02:54,  2.18it/s]\u001b[A"
          ],
          "name": "stderr"
        },
        {
          "output_type": "stream",
          "text": [
            "Train 0.559406982931006\n",
            "Test 0.579835101939159\n"
          ],
          "name": "stdout"
        },
        {
          "output_type": "stream",
          "text": [
            "\n",
            " 24%|██▍       | 122/502 [00:54<02:57,  2.14it/s]\u001b[A"
          ],
          "name": "stderr"
        },
        {
          "output_type": "stream",
          "text": [
            "Train 0.5564838668435308\n",
            "Test 0.557067132105501\n"
          ],
          "name": "stdout"
        },
        {
          "output_type": "stream",
          "text": [
            "\n",
            " 25%|██▍       | 123/502 [00:55<02:55,  2.15it/s]\u001b[A"
          ],
          "name": "stderr"
        },
        {
          "output_type": "stream",
          "text": [
            "Train 0.5350680941512265\n",
            "Test 0.5530769195611049\n"
          ],
          "name": "stdout"
        },
        {
          "output_type": "stream",
          "text": [
            "\n",
            " 25%|██▍       | 124/502 [00:55<02:55,  2.15it/s]\u001b[A"
          ],
          "name": "stderr"
        },
        {
          "output_type": "stream",
          "text": [
            "Train 0.5732844198860559\n",
            "Test 0.6018011742554128\n"
          ],
          "name": "stdout"
        },
        {
          "output_type": "stream",
          "text": [
            "\n",
            " 25%|██▍       | 125/502 [00:56<02:56,  2.13it/s]\u001b[A"
          ],
          "name": "stderr"
        },
        {
          "output_type": "stream",
          "text": [
            "Train 0.6198031922221388\n",
            "Test 0.6106101966918378\n"
          ],
          "name": "stdout"
        },
        {
          "output_type": "stream",
          "text": [
            "\n",
            " 25%|██▌       | 126/502 [00:56<02:55,  2.14it/s]\u001b[A"
          ],
          "name": "stderr"
        },
        {
          "output_type": "stream",
          "text": [
            "Train 0.5921922927163552\n",
            "Test 0.5411864114614222\n"
          ],
          "name": "stdout"
        },
        {
          "output_type": "stream",
          "text": [
            "\n",
            " 25%|██▌       | 127/502 [00:57<02:58,  2.10it/s]\u001b[A"
          ],
          "name": "stderr"
        },
        {
          "output_type": "stream",
          "text": [
            "Train 0.5101446195476759\n",
            "Test 0.5171081810859353\n"
          ],
          "name": "stdout"
        },
        {
          "output_type": "stream",
          "text": [
            "\n",
            " 25%|██▌       | 128/502 [00:57<02:56,  2.12it/s]\u001b[A"
          ],
          "name": "stderr"
        },
        {
          "output_type": "stream",
          "text": [
            "Train 0.48262963757783595\n",
            "Test 0.5032259152043062\n"
          ],
          "name": "stdout"
        },
        {
          "output_type": "stream",
          "text": [
            "\n",
            " 26%|██▌       | 129/502 [00:57<02:58,  2.09it/s]\u001b[A"
          ],
          "name": "stderr"
        },
        {
          "output_type": "stream",
          "text": [
            "Train 0.5228139630386355\n",
            "Test 0.5515148125475281\n"
          ],
          "name": "stdout"
        },
        {
          "output_type": "stream",
          "text": [
            "\n",
            " 26%|██▌       | 130/502 [00:58<02:57,  2.10it/s]\u001b[A"
          ],
          "name": "stderr"
        },
        {
          "output_type": "stream",
          "text": [
            "Train 0.5792927488114666\n",
            "Test 0.5790487507860423\n"
          ],
          "name": "stdout"
        },
        {
          "output_type": "stream",
          "text": [
            "\n",
            " 26%|██▌       | 131/502 [00:58<02:58,  2.08it/s]\u001b[A"
          ],
          "name": "stderr"
        },
        {
          "output_type": "stream",
          "text": [
            "Train 0.5545710422332617\n",
            "Test 0.49517609332975776\n"
          ],
          "name": "stdout"
        },
        {
          "output_type": "stream",
          "text": [
            "\n",
            " 26%|██▋       | 132/502 [00:59<02:57,  2.08it/s]\u001b[A"
          ],
          "name": "stderr"
        },
        {
          "output_type": "stream",
          "text": [
            "Train 0.5065544425436227\n",
            "Test 0.5018805014645938\n"
          ],
          "name": "stdout"
        },
        {
          "output_type": "stream",
          "text": [
            "\n",
            " 26%|██▋       | 133/502 [00:59<03:00,  2.04it/s]\u001b[A"
          ],
          "name": "stderr"
        },
        {
          "output_type": "stream",
          "text": [
            "Train 0.6367972653937852\n",
            "Test 0.6513218257664798\n"
          ],
          "name": "stdout"
        },
        {
          "output_type": "stream",
          "text": [
            "\n",
            " 27%|██▋       | 134/502 [01:00<02:58,  2.07it/s]\u001b[A"
          ],
          "name": "stderr"
        },
        {
          "output_type": "stream",
          "text": [
            "Train 0.5823850498994814\n",
            "Test 0.5690545113755672\n"
          ],
          "name": "stdout"
        },
        {
          "output_type": "stream",
          "text": [
            "\n",
            " 27%|██▋       | 135/502 [01:00<02:58,  2.05it/s]\u001b[A"
          ],
          "name": "stderr"
        },
        {
          "output_type": "stream",
          "text": [
            "Train 0.5751092570752393\n",
            "Test 0.5024052980158444\n"
          ],
          "name": "stdout"
        },
        {
          "output_type": "stream",
          "text": [
            "\n",
            " 27%|██▋       | 136/502 [01:01<02:57,  2.06it/s]\u001b[A"
          ],
          "name": "stderr"
        },
        {
          "output_type": "stream",
          "text": [
            "Train 0.5100931684071806\n",
            "Test 0.5408224461007315\n"
          ],
          "name": "stdout"
        },
        {
          "output_type": "stream",
          "text": [
            "\n",
            " 27%|██▋       | 137/502 [01:01<02:56,  2.06it/s]\u001b[A"
          ],
          "name": "stderr"
        },
        {
          "output_type": "stream",
          "text": [
            "Train 0.5933659731269969\n",
            "Test 0.5877407333335993\n"
          ],
          "name": "stdout"
        },
        {
          "output_type": "stream",
          "text": [
            "\n",
            " 27%|██▋       | 138/502 [01:02<02:59,  2.03it/s]\u001b[A"
          ],
          "name": "stderr"
        },
        {
          "output_type": "stream",
          "text": [
            "Train 0.5584276125974772\n",
            "Test 0.48902003137207073\n"
          ],
          "name": "stdout"
        },
        {
          "output_type": "stream",
          "text": [
            "\n",
            " 28%|██▊       | 139/502 [01:02<02:58,  2.03it/s]\u001b[A"
          ],
          "name": "stderr"
        },
        {
          "output_type": "stream",
          "text": [
            "Train 0.5919879514717544\n",
            "Test 0.5977306813455475\n"
          ],
          "name": "stdout"
        },
        {
          "output_type": "stream",
          "text": [
            "\n",
            " 28%|██▊       | 140/502 [01:03<02:57,  2.04it/s]\u001b[A"
          ],
          "name": "stderr"
        },
        {
          "output_type": "stream",
          "text": [
            "Train 0.5821884961668637\n",
            "Test 0.5378067041671417\n"
          ],
          "name": "stdout"
        },
        {
          "output_type": "stream",
          "text": [
            "\n",
            " 28%|██▊       | 141/502 [01:03<02:55,  2.06it/s]\u001b[A"
          ],
          "name": "stderr"
        },
        {
          "output_type": "stream",
          "text": [
            "Train 0.6223852374149932\n",
            "Test 0.5556355761041707\n"
          ],
          "name": "stdout"
        },
        {
          "output_type": "stream",
          "text": [
            "\n",
            " 28%|██▊       | 142/502 [01:04<02:52,  2.09it/s]\u001b[A"
          ],
          "name": "stderr"
        },
        {
          "output_type": "stream",
          "text": [
            "Train 0.404124635759048\n",
            "Test 0.36451307355803564\n"
          ],
          "name": "stdout"
        },
        {
          "output_type": "stream",
          "text": [
            "\n",
            " 28%|██▊       | 143/502 [01:04<02:50,  2.10it/s]\u001b[A"
          ],
          "name": "stderr"
        },
        {
          "output_type": "stream",
          "text": [
            "Train 0.34064413257657133\n",
            "Test 0.3171641236426309\n"
          ],
          "name": "stdout"
        },
        {
          "output_type": "stream",
          "text": [
            "\n",
            " 29%|██▊       | 144/502 [01:05<02:50,  2.10it/s]\u001b[A"
          ],
          "name": "stderr"
        },
        {
          "output_type": "stream",
          "text": [
            "Train 0.3945855870802817\n",
            "Test 0.3921293263876857\n"
          ],
          "name": "stdout"
        },
        {
          "output_type": "stream",
          "text": [
            "\n",
            " 29%|██▉       | 145/502 [01:05<02:50,  2.09it/s]\u001b[A"
          ],
          "name": "stderr"
        },
        {
          "output_type": "stream",
          "text": [
            "Train 0.4629442294902083\n",
            "Test 0.4012074252397222\n"
          ],
          "name": "stdout"
        },
        {
          "output_type": "stream",
          "text": [
            "\n",
            " 29%|██▉       | 146/502 [01:06<02:47,  2.12it/s]\u001b[A"
          ],
          "name": "stderr"
        },
        {
          "output_type": "stream",
          "text": [
            "Train 0.43531532486713\n",
            "Test 0.34284053001471493\n"
          ],
          "name": "stdout"
        },
        {
          "output_type": "stream",
          "text": [
            "\n",
            " 29%|██▉       | 147/502 [01:06<02:50,  2.08it/s]\u001b[A"
          ],
          "name": "stderr"
        },
        {
          "output_type": "stream",
          "text": [
            "Train 0.41141591799820465\n",
            "Test 0.3635431288193024\n"
          ],
          "name": "stdout"
        },
        {
          "output_type": "stream",
          "text": [
            "\n",
            " 29%|██▉       | 148/502 [01:07<02:54,  2.03it/s]\u001b[A"
          ],
          "name": "stderr"
        },
        {
          "output_type": "stream",
          "text": [
            "Train 0.5638203412306144\n",
            "Test 0.5495134232203185\n"
          ],
          "name": "stdout"
        },
        {
          "output_type": "stream",
          "text": [
            "\n",
            " 30%|██▉       | 149/502 [01:07<02:56,  2.00it/s]\u001b[A"
          ],
          "name": "stderr"
        },
        {
          "output_type": "stream",
          "text": [
            "Train 0.4913438934756593\n",
            "Test 0.4228842849089428\n"
          ],
          "name": "stdout"
        },
        {
          "output_type": "stream",
          "text": [
            "\n",
            " 30%|██▉       | 150/502 [01:08<03:03,  1.92it/s]\u001b[A"
          ],
          "name": "stderr"
        },
        {
          "output_type": "stream",
          "text": [
            "Train 0.48520799582512564\n",
            "Test 0.37985765174042596\n"
          ],
          "name": "stdout"
        },
        {
          "output_type": "stream",
          "text": [
            "\n",
            " 30%|███       | 151/502 [01:08<03:05,  1.89it/s]\u001b[A"
          ],
          "name": "stderr"
        },
        {
          "output_type": "stream",
          "text": [
            "Train 0.39173867036103815\n",
            "Test 0.39307429376149183\n"
          ],
          "name": "stdout"
        },
        {
          "output_type": "stream",
          "text": [
            "\n",
            " 30%|███       | 152/502 [01:09<03:06,  1.88it/s]\u001b[A"
          ],
          "name": "stderr"
        },
        {
          "output_type": "stream",
          "text": [
            "Train 0.48301907764299346\n",
            "Test 0.4113440134367712\n"
          ],
          "name": "stdout"
        },
        {
          "output_type": "stream",
          "text": [
            "\n",
            " 30%|███       | 153/502 [01:09<03:12,  1.81it/s]\u001b[A"
          ],
          "name": "stderr"
        },
        {
          "output_type": "stream",
          "text": [
            "Train 0.4464276498709012\n",
            "Test 0.3468530248867151\n"
          ],
          "name": "stdout"
        },
        {
          "output_type": "stream",
          "text": [
            "\n",
            " 31%|███       | 154/502 [01:10<03:18,  1.75it/s]\u001b[A"
          ],
          "name": "stderr"
        },
        {
          "output_type": "stream",
          "text": [
            "Train 0.4880314532429201\n",
            "Test 0.4459867941797585\n"
          ],
          "name": "stdout"
        },
        {
          "output_type": "stream",
          "text": [
            "\n",
            " 31%|███       | 155/502 [01:11<03:21,  1.72it/s]\u001b[A"
          ],
          "name": "stderr"
        },
        {
          "output_type": "stream",
          "text": [
            "Train 0.4771306200116433\n",
            "Test 0.40930495415056833\n"
          ],
          "name": "stdout"
        },
        {
          "output_type": "stream",
          "text": [
            "\n",
            " 31%|███       | 156/502 [01:11<03:20,  1.72it/s]\u001b[A"
          ],
          "name": "stderr"
        },
        {
          "output_type": "stream",
          "text": [
            "Train 0.5289876636633759\n",
            "Test 0.415093143286551\n"
          ],
          "name": "stdout"
        },
        {
          "output_type": "stream",
          "text": [
            "\n",
            " 31%|███▏      | 157/502 [01:12<03:28,  1.65it/s]\u001b[A"
          ],
          "name": "stderr"
        },
        {
          "output_type": "stream",
          "text": [
            "Train 0.3812821401834615\n",
            "Test 0.3365379936306381\n"
          ],
          "name": "stdout"
        },
        {
          "output_type": "stream",
          "text": [
            "\n",
            " 31%|███▏      | 158/502 [01:13<03:29,  1.64it/s]\u001b[A"
          ],
          "name": "stderr"
        },
        {
          "output_type": "stream",
          "text": [
            "Train 0.5397077821520291\n",
            "Test 0.5248302459773699\n"
          ],
          "name": "stdout"
        },
        {
          "output_type": "stream",
          "text": [
            "\n",
            " 32%|███▏      | 159/502 [01:13<03:26,  1.66it/s]\u001b[A"
          ],
          "name": "stderr"
        },
        {
          "output_type": "stream",
          "text": [
            "Train 0.46224979022469626\n",
            "Test 0.40200742728745387\n"
          ],
          "name": "stdout"
        },
        {
          "output_type": "stream",
          "text": [
            "\n",
            " 32%|███▏      | 160/502 [01:14<03:17,  1.73it/s]\u001b[A"
          ],
          "name": "stderr"
        },
        {
          "output_type": "stream",
          "text": [
            "Train 0.4593350042392724\n",
            "Test 0.35006973929526863\n"
          ],
          "name": "stdout"
        },
        {
          "output_type": "stream",
          "text": [
            "\n",
            " 32%|███▏      | 161/502 [01:14<03:10,  1.79it/s]\u001b[A"
          ],
          "name": "stderr"
        },
        {
          "output_type": "stream",
          "text": [
            "Train 0.3547177472510702\n",
            "Test 0.3547060576110418\n"
          ],
          "name": "stdout"
        },
        {
          "output_type": "stream",
          "text": [
            "\n",
            " 32%|███▏      | 162/502 [01:15<03:02,  1.86it/s]\u001b[A"
          ],
          "name": "stderr"
        },
        {
          "output_type": "stream",
          "text": [
            "Train 0.4518440798684952\n",
            "Test 0.3836402264451022\n"
          ],
          "name": "stdout"
        },
        {
          "output_type": "stream",
          "text": [
            "\n",
            " 32%|███▏      | 163/502 [01:15<02:57,  1.91it/s]\u001b[A"
          ],
          "name": "stderr"
        },
        {
          "output_type": "stream",
          "text": [
            "Train 0.41722930998637897\n",
            "Test 0.30678366729027495\n"
          ],
          "name": "stdout"
        },
        {
          "output_type": "stream",
          "text": [
            "\n",
            " 33%|███▎      | 164/502 [01:16<02:57,  1.91it/s]\u001b[A"
          ],
          "name": "stderr"
        },
        {
          "output_type": "stream",
          "text": [
            "Train 0.4546440340761655\n",
            "Test 0.41760228209574735\n"
          ],
          "name": "stdout"
        },
        {
          "output_type": "stream",
          "text": [
            "\n",
            " 33%|███▎      | 165/502 [01:16<02:55,  1.92it/s]\u001b[A"
          ],
          "name": "stderr"
        },
        {
          "output_type": "stream",
          "text": [
            "Train 0.4492918032164235\n",
            "Test 0.3697782276471451\n"
          ],
          "name": "stdout"
        },
        {
          "output_type": "stream",
          "text": [
            "\n",
            " 33%|███▎      | 166/502 [01:17<02:50,  1.97it/s]\u001b[A"
          ],
          "name": "stderr"
        },
        {
          "output_type": "stream",
          "text": [
            "Train 0.505765983238005\n",
            "Test 0.38756045767872116\n"
          ],
          "name": "stdout"
        },
        {
          "output_type": "stream",
          "text": [
            "\n",
            " 33%|███▎      | 167/502 [01:17<02:52,  1.94it/s]\u001b[A"
          ],
          "name": "stderr"
        },
        {
          "output_type": "stream",
          "text": [
            "Train 0.6217872397314477\n",
            "Test 0.6225031588347759\n"
          ],
          "name": "stdout"
        },
        {
          "output_type": "stream",
          "text": [
            "\n",
            " 33%|███▎      | 168/502 [01:18<02:48,  1.98it/s]\u001b[A"
          ],
          "name": "stderr"
        },
        {
          "output_type": "stream",
          "text": [
            "Train 0.47521093431819195\n",
            "Test 0.40725094439077913\n"
          ],
          "name": "stdout"
        },
        {
          "output_type": "stream",
          "text": [
            "\n",
            " 34%|███▎      | 169/502 [01:18<02:45,  2.01it/s]\u001b[A"
          ],
          "name": "stderr"
        },
        {
          "output_type": "stream",
          "text": [
            "Train 0.47526357204154346\n",
            "Test 0.35252187771192933\n"
          ],
          "name": "stdout"
        },
        {
          "output_type": "stream",
          "text": [
            "\n",
            " 34%|███▍      | 170/502 [01:19<02:45,  2.00it/s]\u001b[A"
          ],
          "name": "stderr"
        },
        {
          "output_type": "stream",
          "text": [
            "Train 0.5568590205017134\n",
            "Test 0.5283132359169069\n"
          ],
          "name": "stdout"
        },
        {
          "output_type": "stream",
          "text": [
            "\n",
            " 34%|███▍      | 171/502 [01:19<02:43,  2.02it/s]\u001b[A"
          ],
          "name": "stderr"
        },
        {
          "output_type": "stream",
          "text": [
            "Train 0.5836217573398542\n",
            "Test 0.5200562105968867\n"
          ],
          "name": "stdout"
        },
        {
          "output_type": "stream",
          "text": [
            "\n",
            " 34%|███▍      | 172/502 [01:20<02:42,  2.03it/s]\u001b[A"
          ],
          "name": "stderr"
        },
        {
          "output_type": "stream",
          "text": [
            "Train 0.5305069406663663\n",
            "Test 0.4092398493535113\n"
          ],
          "name": "stdout"
        },
        {
          "output_type": "stream",
          "text": [
            "\n",
            " 34%|███▍      | 173/502 [01:20<02:43,  2.02it/s]\u001b[A"
          ],
          "name": "stderr"
        },
        {
          "output_type": "stream",
          "text": [
            "Train 0.46394798101790957\n",
            "Test 0.4167924854084727\n"
          ],
          "name": "stdout"
        },
        {
          "output_type": "stream",
          "text": [
            "\n",
            " 35%|███▍      | 174/502 [01:21<02:41,  2.04it/s]\u001b[A"
          ],
          "name": "stderr"
        },
        {
          "output_type": "stream",
          "text": [
            "Train 0.4546152156891863\n",
            "Test 0.3717955792744829\n"
          ],
          "name": "stdout"
        },
        {
          "output_type": "stream",
          "text": [
            "\n",
            " 35%|███▍      | 175/502 [01:21<02:40,  2.04it/s]\u001b[A"
          ],
          "name": "stderr"
        },
        {
          "output_type": "stream",
          "text": [
            "Train 0.5317458406860389\n",
            "Test 0.40698851125263735\n"
          ],
          "name": "stdout"
        },
        {
          "output_type": "stream",
          "text": [
            "\n",
            " 35%|███▌      | 176/502 [01:22<02:40,  2.03it/s]\u001b[A"
          ],
          "name": "stderr"
        },
        {
          "output_type": "stream",
          "text": [
            "Train 0.5260222833915106\n",
            "Test 0.4252050725707538\n"
          ],
          "name": "stdout"
        },
        {
          "output_type": "stream",
          "text": [
            "\n",
            " 35%|███▌      | 177/502 [01:22<02:38,  2.06it/s]\u001b[A"
          ],
          "name": "stderr"
        },
        {
          "output_type": "stream",
          "text": [
            "Train 0.5373808411610506\n",
            "Test 0.5606751680556332\n"
          ],
          "name": "stdout"
        },
        {
          "output_type": "stream",
          "text": [
            "\n",
            " 35%|███▌      | 178/502 [01:23<02:35,  2.09it/s]\u001b[A"
          ],
          "name": "stderr"
        },
        {
          "output_type": "stream",
          "text": [
            "Train 0.5302301638307313\n",
            "Test 0.5574311021481622\n"
          ],
          "name": "stdout"
        },
        {
          "output_type": "stream",
          "text": [
            "\n",
            " 36%|███▌      | 179/502 [01:23<02:34,  2.09it/s]\u001b[A"
          ],
          "name": "stderr"
        },
        {
          "output_type": "stream",
          "text": [
            "Train 0.5767641113580269\n",
            "Test 0.5965769392889856\n"
          ],
          "name": "stdout"
        },
        {
          "output_type": "stream",
          "text": [
            "\n",
            " 36%|███▌      | 180/502 [01:23<02:33,  2.10it/s]\u001b[A"
          ],
          "name": "stderr"
        },
        {
          "output_type": "stream",
          "text": [
            "Train 0.6102215977913494\n",
            "Test 0.6129250108948732\n"
          ],
          "name": "stdout"
        },
        {
          "output_type": "stream",
          "text": [
            "\n",
            " 36%|███▌      | 181/502 [01:24<02:31,  2.12it/s]\u001b[A"
          ],
          "name": "stderr"
        },
        {
          "output_type": "stream",
          "text": [
            "Train 0.5823506525679141\n",
            "Test 0.5427166748518443\n"
          ],
          "name": "stdout"
        },
        {
          "output_type": "stream",
          "text": [
            "\n",
            " 36%|███▋      | 182/502 [01:24<02:31,  2.11it/s]\u001b[A"
          ],
          "name": "stderr"
        },
        {
          "output_type": "stream",
          "text": [
            "Train 0.4493099224613857\n",
            "Test 0.479471819483544\n"
          ],
          "name": "stdout"
        },
        {
          "output_type": "stream",
          "text": [
            "\n",
            " 36%|███▋      | 183/502 [01:25<02:31,  2.10it/s]\u001b[A"
          ],
          "name": "stderr"
        },
        {
          "output_type": "stream",
          "text": [
            "Train 0.621179821219539\n",
            "Test 0.646559170745395\n"
          ],
          "name": "stdout"
        },
        {
          "output_type": "stream",
          "text": [
            "\n",
            " 37%|███▋      | 184/502 [01:25<02:29,  2.12it/s]\u001b[A"
          ],
          "name": "stderr"
        },
        {
          "output_type": "stream",
          "text": [
            "Train 0.5372950973322012\n",
            "Test 0.537833604734632\n"
          ],
          "name": "stdout"
        },
        {
          "output_type": "stream",
          "text": [
            "\n",
            " 37%|███▋      | 185/502 [01:26<02:29,  2.12it/s]\u001b[A"
          ],
          "name": "stderr"
        },
        {
          "output_type": "stream",
          "text": [
            "Train 0.5242116100921534\n",
            "Test 0.46867451859934983\n"
          ],
          "name": "stdout"
        },
        {
          "output_type": "stream",
          "text": [
            "\n",
            " 37%|███▋      | 186/502 [01:26<02:29,  2.11it/s]\u001b[A"
          ],
          "name": "stderr"
        },
        {
          "output_type": "stream",
          "text": [
            "Train 0.49588753944263475\n",
            "Test 0.5246757600605336\n"
          ],
          "name": "stdout"
        },
        {
          "output_type": "stream",
          "text": [
            "\n",
            " 37%|███▋      | 187/502 [01:27<02:30,  2.09it/s]\u001b[A"
          ],
          "name": "stderr"
        },
        {
          "output_type": "stream",
          "text": [
            "Train 0.5658046531444857\n",
            "Test 0.5752136960456872\n"
          ],
          "name": "stdout"
        },
        {
          "output_type": "stream",
          "text": [
            "\n",
            " 37%|███▋      | 188/502 [01:27<02:29,  2.10it/s]\u001b[A"
          ],
          "name": "stderr"
        },
        {
          "output_type": "stream",
          "text": [
            "Train 0.5228893227255662\n",
            "Test 0.46229316135424947\n"
          ],
          "name": "stdout"
        },
        {
          "output_type": "stream",
          "text": [
            "\n",
            " 38%|███▊      | 189/502 [01:28<02:29,  2.09it/s]\u001b[A"
          ],
          "name": "stderr"
        },
        {
          "output_type": "stream",
          "text": [
            "Train 0.5733776212714743\n",
            "Test 0.5814712811810727\n"
          ],
          "name": "stdout"
        },
        {
          "output_type": "stream",
          "text": [
            "\n",
            " 38%|███▊      | 190/502 [01:28<02:29,  2.09it/s]\u001b[A"
          ],
          "name": "stderr"
        },
        {
          "output_type": "stream",
          "text": [
            "Train 0.5638103339851381\n",
            "Test 0.5238140525693146\n"
          ],
          "name": "stdout"
        },
        {
          "output_type": "stream",
          "text": [
            "\n",
            " 38%|███▊      | 191/502 [01:29<02:28,  2.09it/s]\u001b[A"
          ],
          "name": "stderr"
        },
        {
          "output_type": "stream",
          "text": [
            "Train 0.5782622066291789\n",
            "Test 0.518028349398755\n"
          ],
          "name": "stdout"
        },
        {
          "output_type": "stream",
          "text": [
            "\n",
            " 38%|███▊      | 192/502 [01:29<02:28,  2.09it/s]\u001b[A"
          ],
          "name": "stderr"
        },
        {
          "output_type": "stream",
          "text": [
            "Train 0.4041641157915675\n",
            "Test 0.44068847623020646\n"
          ],
          "name": "stdout"
        },
        {
          "output_type": "stream",
          "text": [
            "\n",
            " 38%|███▊      | 193/502 [01:30<02:28,  2.08it/s]\u001b[A"
          ],
          "name": "stderr"
        },
        {
          "output_type": "stream",
          "text": [
            "Train 0.5827582829026121\n",
            "Test 0.6011155211284432\n"
          ],
          "name": "stdout"
        },
        {
          "output_type": "stream",
          "text": [
            "\n",
            " 39%|███▊      | 194/502 [01:30<02:29,  2.06it/s]\u001b[A"
          ],
          "name": "stderr"
        },
        {
          "output_type": "stream",
          "text": [
            "Train 0.5021709693623231\n",
            "Test 0.5206402666349331\n"
          ],
          "name": "stdout"
        },
        {
          "output_type": "stream",
          "text": [
            "\n",
            " 39%|███▉      | 195/502 [01:31<02:27,  2.08it/s]\u001b[A"
          ],
          "name": "stderr"
        },
        {
          "output_type": "stream",
          "text": [
            "Train 0.4967790650319135\n",
            "Test 0.4349407092596289\n"
          ],
          "name": "stdout"
        },
        {
          "output_type": "stream",
          "text": [
            "\n",
            " 39%|███▉      | 196/502 [01:31<02:27,  2.07it/s]\u001b[A"
          ],
          "name": "stderr"
        },
        {
          "output_type": "stream",
          "text": [
            "Train 0.4466734969117071\n",
            "Test 0.4704511125340697\n"
          ],
          "name": "stdout"
        },
        {
          "output_type": "stream",
          "text": [
            "\n",
            " 39%|███▉      | 197/502 [01:32<02:28,  2.05it/s]\u001b[A"
          ],
          "name": "stderr"
        },
        {
          "output_type": "stream",
          "text": [
            "Train 0.5310971382626106\n",
            "Test 0.5402807035697589\n"
          ],
          "name": "stdout"
        },
        {
          "output_type": "stream",
          "text": [
            "\n",
            " 39%|███▉      | 198/502 [01:32<02:27,  2.06it/s]\u001b[A"
          ],
          "name": "stderr"
        },
        {
          "output_type": "stream",
          "text": [
            "Train 0.48869963010898976\n",
            "Test 0.410078387129974\n"
          ],
          "name": "stdout"
        },
        {
          "output_type": "stream",
          "text": [
            "\n",
            " 40%|███▉      | 199/502 [01:33<02:25,  2.09it/s]\u001b[A"
          ],
          "name": "stderr"
        },
        {
          "output_type": "stream",
          "text": [
            "Train 0.5358530805110688\n",
            "Test 0.5459842761356661\n"
          ],
          "name": "stdout"
        },
        {
          "output_type": "stream",
          "text": [
            "\n",
            " 40%|███▉      | 200/502 [01:33<02:22,  2.12it/s]\u001b[A"
          ],
          "name": "stderr"
        },
        {
          "output_type": "stream",
          "text": [
            "Train 0.5275493769776354\n",
            "Test 0.47216804801383894\n"
          ],
          "name": "stdout"
        },
        {
          "output_type": "stream",
          "text": [
            "\n",
            " 40%|████      | 201/502 [01:34<02:22,  2.11it/s]\u001b[A"
          ],
          "name": "stderr"
        },
        {
          "output_type": "stream",
          "text": [
            "Train 0.5551211877973723\n",
            "Test 0.4916344456714652\n"
          ],
          "name": "stdout"
        },
        {
          "output_type": "stream",
          "text": [
            "\n",
            " 40%|████      | 202/502 [01:34<02:22,  2.10it/s]\u001b[A"
          ],
          "name": "stderr"
        },
        {
          "output_type": "stream",
          "text": [
            "Train 0.6144439129350621\n",
            "Test 0.6441365128926917\n"
          ],
          "name": "stdout"
        },
        {
          "output_type": "stream",
          "text": [
            "\n",
            " 40%|████      | 203/502 [01:34<02:22,  2.09it/s]\u001b[A"
          ],
          "name": "stderr"
        },
        {
          "output_type": "stream",
          "text": [
            "Train 0.4754399914030145\n",
            "Test 0.4890477373783866\n"
          ],
          "name": "stdout"
        },
        {
          "output_type": "stream",
          "text": [
            "\n",
            " 41%|████      | 204/502 [01:35<02:22,  2.09it/s]\u001b[A"
          ],
          "name": "stderr"
        },
        {
          "output_type": "stream",
          "text": [
            "Train 0.4516684580254807\n",
            "Test 0.36978756854570727\n"
          ],
          "name": "stdout"
        },
        {
          "output_type": "stream",
          "text": [
            "\n",
            " 41%|████      | 205/502 [01:35<02:24,  2.05it/s]\u001b[A"
          ],
          "name": "stderr"
        },
        {
          "output_type": "stream",
          "text": [
            "Train 0.5633127523012869\n",
            "Test 0.5851532682153155\n"
          ],
          "name": "stdout"
        },
        {
          "output_type": "stream",
          "text": [
            "\n",
            " 41%|████      | 206/502 [01:36<02:23,  2.06it/s]\u001b[A"
          ],
          "name": "stderr"
        },
        {
          "output_type": "stream",
          "text": [
            "Train 0.582617909963337\n",
            "Test 0.563328630930449\n"
          ],
          "name": "stdout"
        },
        {
          "output_type": "stream",
          "text": [
            "\n",
            " 41%|████      | 207/502 [01:36<02:23,  2.05it/s]\u001b[A"
          ],
          "name": "stderr"
        },
        {
          "output_type": "stream",
          "text": [
            "Train 0.5111123326119226\n",
            "Test 0.4405010783554292\n"
          ],
          "name": "stdout"
        },
        {
          "output_type": "stream",
          "text": [
            "\n",
            " 41%|████▏     | 208/502 [01:37<02:23,  2.05it/s]\u001b[A"
          ],
          "name": "stderr"
        },
        {
          "output_type": "stream",
          "text": [
            "Train 0.49807625084333684\n",
            "Test 0.513902884866907\n"
          ],
          "name": "stdout"
        },
        {
          "output_type": "stream",
          "text": [
            "\n",
            " 42%|████▏     | 209/502 [01:37<02:21,  2.07it/s]\u001b[A"
          ],
          "name": "stderr"
        },
        {
          "output_type": "stream",
          "text": [
            "Train 0.48287430475841564\n",
            "Test 0.4173222830993969\n"
          ],
          "name": "stdout"
        },
        {
          "output_type": "stream",
          "text": [
            "\n",
            " 42%|████▏     | 210/502 [01:38<02:19,  2.09it/s]\u001b[A"
          ],
          "name": "stderr"
        },
        {
          "output_type": "stream",
          "text": [
            "Train 0.5370488990761506\n",
            "Test 0.4679797993271029\n"
          ],
          "name": "stdout"
        },
        {
          "output_type": "stream",
          "text": [
            "\n",
            " 42%|████▏     | 211/502 [01:38<02:17,  2.11it/s]\u001b[A"
          ],
          "name": "stderr"
        },
        {
          "output_type": "stream",
          "text": [
            "Train 0.5401418545736134\n",
            "Test 0.48323703538356166\n"
          ],
          "name": "stdout"
        },
        {
          "output_type": "stream",
          "text": [
            "\n",
            " 42%|████▏     | 212/502 [01:39<02:17,  2.11it/s]\u001b[A"
          ],
          "name": "stderr"
        },
        {
          "output_type": "stream",
          "text": [
            "Train 0.22541237183764085\n",
            "Test 0.20393793681160532\n"
          ],
          "name": "stdout"
        },
        {
          "output_type": "stream",
          "text": [
            "\n",
            " 42%|████▏     | 213/502 [01:39<02:18,  2.08it/s]\u001b[A"
          ],
          "name": "stderr"
        },
        {
          "output_type": "stream",
          "text": [
            "Train 0.4768836767062168\n",
            "Test 0.4591324214548155\n"
          ],
          "name": "stdout"
        },
        {
          "output_type": "stream",
          "text": [
            "\n",
            " 43%|████▎     | 214/502 [01:40<02:16,  2.11it/s]\u001b[A"
          ],
          "name": "stderr"
        },
        {
          "output_type": "stream",
          "text": [
            "Train 0.3528720127884284\n",
            "Test 0.28991238223924065\n"
          ],
          "name": "stdout"
        },
        {
          "output_type": "stream",
          "text": [
            "\n",
            " 43%|████▎     | 215/502 [01:40<02:16,  2.10it/s]\u001b[A"
          ],
          "name": "stderr"
        },
        {
          "output_type": "stream",
          "text": [
            "Train 0.3481014607041488\n",
            "Test 0.24247992224632153\n"
          ],
          "name": "stdout"
        },
        {
          "output_type": "stream",
          "text": [
            "\n",
            " 43%|████▎     | 216/502 [01:41<02:16,  2.10it/s]\u001b[A"
          ],
          "name": "stderr"
        },
        {
          "output_type": "stream",
          "text": [
            "Train 0.2707660464681736\n",
            "Test 0.24026466073444508\n"
          ],
          "name": "stdout"
        },
        {
          "output_type": "stream",
          "text": [
            "\n",
            " 43%|████▎     | 217/502 [01:41<02:14,  2.13it/s]\u001b[A"
          ],
          "name": "stderr"
        },
        {
          "output_type": "stream",
          "text": [
            "Train 0.37023223321796606\n",
            "Test 0.2809238091668973\n"
          ],
          "name": "stdout"
        },
        {
          "output_type": "stream",
          "text": [
            "\n",
            " 43%|████▎     | 218/502 [01:42<02:13,  2.12it/s]\u001b[A"
          ],
          "name": "stderr"
        },
        {
          "output_type": "stream",
          "text": [
            "Train 0.32189762707366254\n",
            "Test 0.1878847333341529\n"
          ],
          "name": "stdout"
        },
        {
          "output_type": "stream",
          "text": [
            "\n",
            " 44%|████▎     | 219/502 [01:42<02:15,  2.09it/s]\u001b[A"
          ],
          "name": "stderr"
        },
        {
          "output_type": "stream",
          "text": [
            "Train 0.38743886079626877\n",
            "Test 0.3234327321010094\n"
          ],
          "name": "stdout"
        },
        {
          "output_type": "stream",
          "text": [
            "\n",
            " 44%|████▍     | 220/502 [01:43<02:14,  2.10it/s]\u001b[A"
          ],
          "name": "stderr"
        },
        {
          "output_type": "stream",
          "text": [
            "Train 0.37715121909853055\n",
            "Test 0.2770183355139654\n"
          ],
          "name": "stdout"
        },
        {
          "output_type": "stream",
          "text": [
            "\n",
            " 44%|████▍     | 221/502 [01:43<02:15,  2.08it/s]\u001b[A"
          ],
          "name": "stderr"
        },
        {
          "output_type": "stream",
          "text": [
            "Train 0.4176368828607847\n",
            "Test 0.27734612511012946\n"
          ],
          "name": "stdout"
        },
        {
          "output_type": "stream",
          "text": [
            "\n",
            " 44%|████▍     | 222/502 [01:44<02:13,  2.11it/s]\u001b[A"
          ],
          "name": "stderr"
        },
        {
          "output_type": "stream",
          "text": [
            "Train 0.5472149519409997\n",
            "Test 0.5577246553010162\n"
          ],
          "name": "stdout"
        },
        {
          "output_type": "stream",
          "text": [
            "\n",
            " 44%|████▍     | 223/502 [01:44<02:11,  2.12it/s]\u001b[A"
          ],
          "name": "stderr"
        },
        {
          "output_type": "stream",
          "text": [
            "Train 0.3289842358137397\n",
            "Test 0.25510941578712065\n"
          ],
          "name": "stdout"
        },
        {
          "output_type": "stream",
          "text": [
            "\n",
            " 45%|████▍     | 224/502 [01:45<02:11,  2.11it/s]\u001b[A"
          ],
          "name": "stderr"
        },
        {
          "output_type": "stream",
          "text": [
            "Train 0.3111118102973929\n",
            "Test 0.18814587340905775\n"
          ],
          "name": "stdout"
        },
        {
          "output_type": "stream",
          "text": [
            "\n",
            " 45%|████▍     | 225/502 [01:45<02:10,  2.12it/s]\u001b[A"
          ],
          "name": "stderr"
        },
        {
          "output_type": "stream",
          "text": [
            "Train 0.4663309983857218\n",
            "Test 0.4442949071693908\n"
          ],
          "name": "stdout"
        },
        {
          "output_type": "stream",
          "text": [
            "\n",
            " 45%|████▌     | 226/502 [01:45<02:11,  2.09it/s]\u001b[A"
          ],
          "name": "stderr"
        },
        {
          "output_type": "stream",
          "text": [
            "Train 0.4889836085198003\n",
            "Test 0.44163983630732095\n"
          ],
          "name": "stdout"
        },
        {
          "output_type": "stream",
          "text": [
            "\n",
            " 45%|████▌     | 227/502 [01:46<02:12,  2.08it/s]\u001b[A"
          ],
          "name": "stderr"
        },
        {
          "output_type": "stream",
          "text": [
            "Train 0.39143121962854843\n",
            "Test 0.26077927808632384\n"
          ],
          "name": "stdout"
        },
        {
          "output_type": "stream",
          "text": [
            "\n",
            " 45%|████▌     | 228/502 [01:46<02:12,  2.07it/s]\u001b[A"
          ],
          "name": "stderr"
        },
        {
          "output_type": "stream",
          "text": [
            "Train 0.3569251796571613\n",
            "Test 0.2946496585761974\n"
          ],
          "name": "stdout"
        },
        {
          "output_type": "stream",
          "text": [
            "\n",
            " 46%|████▌     | 229/502 [01:47<02:12,  2.06it/s]\u001b[A"
          ],
          "name": "stderr"
        },
        {
          "output_type": "stream",
          "text": [
            "Train 0.340857712784856\n",
            "Test 0.23372578467361427\n"
          ],
          "name": "stdout"
        },
        {
          "output_type": "stream",
          "text": [
            "\n",
            " 46%|████▌     | 230/502 [01:47<02:12,  2.05it/s]\u001b[A"
          ],
          "name": "stderr"
        },
        {
          "output_type": "stream",
          "text": [
            "Train 0.4087093572129573\n",
            "Test 0.258571653517077\n"
          ],
          "name": "stdout"
        },
        {
          "output_type": "stream",
          "text": [
            "\n",
            " 46%|████▌     | 231/502 [01:48<02:11,  2.07it/s]\u001b[A"
          ],
          "name": "stderr"
        },
        {
          "output_type": "stream",
          "text": [
            "Train 0.41816709347059366\n",
            "Test 0.30195721417124266\n"
          ],
          "name": "stdout"
        },
        {
          "output_type": "stream",
          "text": [
            "\n",
            " 46%|████▌     | 232/502 [01:48<02:10,  2.07it/s]\u001b[A"
          ],
          "name": "stderr"
        },
        {
          "output_type": "stream",
          "text": [
            "Train 0.5157090250432139\n",
            "Test 0.5259746385441436\n"
          ],
          "name": "stdout"
        },
        {
          "output_type": "stream",
          "text": [
            "\n",
            " 46%|████▋     | 233/502 [01:49<02:10,  2.07it/s]\u001b[A"
          ],
          "name": "stderr"
        },
        {
          "output_type": "stream",
          "text": [
            "Train 0.2936989243266339\n",
            "Test 0.22168737919587733\n"
          ],
          "name": "stdout"
        },
        {
          "output_type": "stream",
          "text": [
            "\n",
            " 47%|████▋     | 234/502 [01:49<02:09,  2.07it/s]\u001b[A"
          ],
          "name": "stderr"
        },
        {
          "output_type": "stream",
          "text": [
            "Train 0.2826311376065894\n",
            "Test 0.14641180683704413\n"
          ],
          "name": "stdout"
        },
        {
          "output_type": "stream",
          "text": [
            "\n",
            " 47%|████▋     | 235/502 [01:50<02:09,  2.06it/s]\u001b[A"
          ],
          "name": "stderr"
        },
        {
          "output_type": "stream",
          "text": [
            "Train 0.43429988505152006\n",
            "Test 0.4066819036873728\n"
          ],
          "name": "stdout"
        },
        {
          "output_type": "stream",
          "text": [
            "\n",
            " 47%|████▋     | 236/502 [01:50<02:08,  2.07it/s]\u001b[A"
          ],
          "name": "stderr"
        },
        {
          "output_type": "stream",
          "text": [
            "Train 0.46251493409317346\n",
            "Test 0.40004560636995135\n"
          ],
          "name": "stdout"
        },
        {
          "output_type": "stream",
          "text": [
            "\n",
            " 47%|████▋     | 237/502 [01:51<02:07,  2.07it/s]\u001b[A"
          ],
          "name": "stderr"
        },
        {
          "output_type": "stream",
          "text": [
            "Train 0.37019079750765504\n",
            "Test 0.2350270527624274\n"
          ],
          "name": "stdout"
        },
        {
          "output_type": "stream",
          "text": [
            "\n",
            " 47%|████▋     | 238/502 [01:51<02:07,  2.07it/s]\u001b[A"
          ],
          "name": "stderr"
        },
        {
          "output_type": "stream",
          "text": [
            "Train 0.31946839395048665\n",
            "Test 0.2507289130343713\n"
          ],
          "name": "stdout"
        },
        {
          "output_type": "stream",
          "text": [
            "\n",
            " 48%|████▊     | 239/502 [01:52<02:07,  2.06it/s]\u001b[A"
          ],
          "name": "stderr"
        },
        {
          "output_type": "stream",
          "text": [
            "Train 0.3066439087338494\n",
            "Test 0.17756792949991107\n"
          ],
          "name": "stdout"
        },
        {
          "output_type": "stream",
          "text": [
            "\n",
            " 48%|████▊     | 240/502 [01:52<02:08,  2.04it/s]\u001b[A"
          ],
          "name": "stderr"
        },
        {
          "output_type": "stream",
          "text": [
            "Train 0.38493094731013533\n",
            "Test 0.21834373690613507\n"
          ],
          "name": "stdout"
        },
        {
          "output_type": "stream",
          "text": [
            "\n",
            " 48%|████▊     | 241/502 [01:53<02:07,  2.04it/s]\u001b[A"
          ],
          "name": "stderr"
        },
        {
          "output_type": "stream",
          "text": [
            "Train 0.39179920758423614\n",
            "Test 0.26052115007639043\n"
          ],
          "name": "stdout"
        },
        {
          "output_type": "stream",
          "text": [
            "\n",
            " 48%|████▊     | 242/502 [01:53<02:07,  2.04it/s]\u001b[A"
          ],
          "name": "stderr"
        },
        {
          "output_type": "stream",
          "text": [
            "Train 0.497880685875019\n",
            "Test 0.5265888310394986\n"
          ],
          "name": "stdout"
        },
        {
          "output_type": "stream",
          "text": [
            "\n",
            " 48%|████▊     | 243/502 [01:54<02:05,  2.06it/s]\u001b[A"
          ],
          "name": "stderr"
        },
        {
          "output_type": "stream",
          "text": [
            "Train 0.5144094715110831\n",
            "Test 0.48786616695687957\n"
          ],
          "name": "stdout"
        },
        {
          "output_type": "stream",
          "text": [
            "\n",
            " 49%|████▊     | 244/502 [01:54<02:03,  2.08it/s]\u001b[A"
          ],
          "name": "stderr"
        },
        {
          "output_type": "stream",
          "text": [
            "Train 0.3669975191217012\n",
            "Test 0.209019901140027\n"
          ],
          "name": "stdout"
        },
        {
          "output_type": "stream",
          "text": [
            "\n",
            " 49%|████▉     | 245/502 [01:55<02:04,  2.06it/s]\u001b[A"
          ],
          "name": "stderr"
        },
        {
          "output_type": "stream",
          "text": [
            "Train 0.45471582951516243\n",
            "Test 0.38646938949171017\n"
          ],
          "name": "stdout"
        },
        {
          "output_type": "stream",
          "text": [
            "\n",
            " 49%|████▉     | 246/502 [01:55<02:03,  2.08it/s]\u001b[A"
          ],
          "name": "stderr"
        },
        {
          "output_type": "stream",
          "text": [
            "Train 0.37780241945284765\n",
            "Test 0.23768100712373874\n"
          ],
          "name": "stdout"
        },
        {
          "output_type": "stream",
          "text": [
            "\n",
            " 49%|████▉     | 247/502 [01:56<02:04,  2.05it/s]\u001b[A"
          ],
          "name": "stderr"
        },
        {
          "output_type": "stream",
          "text": [
            "Train 0.5883627027730012\n",
            "Test 0.5957624942295328\n"
          ],
          "name": "stdout"
        },
        {
          "output_type": "stream",
          "text": [
            "\n",
            " 49%|████▉     | 248/502 [01:56<02:04,  2.03it/s]\u001b[A"
          ],
          "name": "stderr"
        },
        {
          "output_type": "stream",
          "text": [
            "Train 0.5732769262995476\n",
            "Test 0.5919716247660366\n"
          ],
          "name": "stdout"
        },
        {
          "output_type": "stream",
          "text": [
            "\n",
            " 50%|████▉     | 249/502 [01:57<02:06,  2.01it/s]\u001b[A"
          ],
          "name": "stderr"
        },
        {
          "output_type": "stream",
          "text": [
            "Train 0.608267819240744\n",
            "Test 0.6322605311600094\n"
          ],
          "name": "stdout"
        },
        {
          "output_type": "stream",
          "text": [
            "\n",
            " 50%|████▉     | 250/502 [01:57<02:06,  1.99it/s]\u001b[A"
          ],
          "name": "stderr"
        },
        {
          "output_type": "stream",
          "text": [
            "Train 0.6503709052318902\n",
            "Test 0.6458430387997188\n"
          ],
          "name": "stdout"
        },
        {
          "output_type": "stream",
          "text": [
            "\n",
            " 50%|█████     | 251/502 [01:58<02:05,  2.00it/s]\u001b[A"
          ],
          "name": "stderr"
        },
        {
          "output_type": "stream",
          "text": [
            "Train 0.62320275118033\n",
            "Test 0.5834744547957671\n"
          ],
          "name": "stdout"
        },
        {
          "output_type": "stream",
          "text": [
            "\n",
            " 50%|█████     | 252/502 [01:58<02:05,  1.99it/s]\u001b[A"
          ],
          "name": "stderr"
        },
        {
          "output_type": "stream",
          "text": [
            "Train 0.5652118385392049\n",
            "Test 0.5599692007260064\n"
          ],
          "name": "stdout"
        },
        {
          "output_type": "stream",
          "text": [
            "\n",
            " 50%|█████     | 253/502 [01:59<02:05,  1.99it/s]\u001b[A"
          ],
          "name": "stderr"
        },
        {
          "output_type": "stream",
          "text": [
            "Train 0.6850759258815662\n",
            "Test 0.702123451021657\n"
          ],
          "name": "stdout"
        },
        {
          "output_type": "stream",
          "text": [
            "\n",
            " 51%|█████     | 254/502 [01:59<02:05,  1.98it/s]\u001b[A"
          ],
          "name": "stderr"
        },
        {
          "output_type": "stream",
          "text": [
            "Train 0.6338328152851946\n",
            "Test 0.6172057011518342\n"
          ],
          "name": "stdout"
        },
        {
          "output_type": "stream",
          "text": [
            "\n",
            " 51%|█████     | 255/502 [02:00<02:05,  1.97it/s]\u001b[A"
          ],
          "name": "stderr"
        },
        {
          "output_type": "stream",
          "text": [
            "Train 0.6226824493965606\n",
            "Test 0.561224231498751\n"
          ],
          "name": "stdout"
        },
        {
          "output_type": "stream",
          "text": [
            "\n",
            " 51%|█████     | 256/502 [02:00<02:04,  1.97it/s]\u001b[A"
          ],
          "name": "stderr"
        },
        {
          "output_type": "stream",
          "text": [
            "Train 0.5757262160377792\n",
            "Test 0.6041163318626193\n"
          ],
          "name": "stdout"
        },
        {
          "output_type": "stream",
          "text": [
            "\n",
            " 51%|█████     | 257/502 [02:01<02:03,  1.98it/s]\u001b[A"
          ],
          "name": "stderr"
        },
        {
          "output_type": "stream",
          "text": [
            "Train 0.6463103871206953\n",
            "Test 0.6401123929087175\n"
          ],
          "name": "stdout"
        },
        {
          "output_type": "stream",
          "text": [
            "\n",
            " 51%|█████▏    | 258/502 [02:01<02:04,  1.96it/s]\u001b[A"
          ],
          "name": "stderr"
        },
        {
          "output_type": "stream",
          "text": [
            "Train 0.6114932644894203\n",
            "Test 0.5574129216881438\n"
          ],
          "name": "stdout"
        },
        {
          "output_type": "stream",
          "text": [
            "\n",
            " 52%|█████▏    | 259/502 [02:02<02:04,  1.96it/s]\u001b[A"
          ],
          "name": "stderr"
        },
        {
          "output_type": "stream",
          "text": [
            "Train 0.6465381850652854\n",
            "Test 0.6504852860739332\n"
          ],
          "name": "stdout"
        },
        {
          "output_type": "stream",
          "text": [
            "\n",
            " 52%|█████▏    | 260/502 [02:02<02:02,  1.97it/s]\u001b[A"
          ],
          "name": "stderr"
        },
        {
          "output_type": "stream",
          "text": [
            "Train 0.6339856971746464\n",
            "Test 0.604068803327234\n"
          ],
          "name": "stdout"
        },
        {
          "output_type": "stream",
          "text": [
            "\n",
            " 52%|█████▏    | 261/502 [02:03<02:01,  1.99it/s]\u001b[A"
          ],
          "name": "stderr"
        },
        {
          "output_type": "stream",
          "text": [
            "Train 0.6647691972078376\n",
            "Test 0.6097679723929649\n"
          ],
          "name": "stdout"
        },
        {
          "output_type": "stream",
          "text": [
            "\n",
            " 52%|█████▏    | 262/502 [02:03<02:01,  1.98it/s]\u001b[A"
          ],
          "name": "stderr"
        },
        {
          "output_type": "stream",
          "text": [
            "Train 0.5211565898394994\n",
            "Test 0.5208642776767897\n"
          ],
          "name": "stdout"
        },
        {
          "output_type": "stream",
          "text": [
            "\n",
            " 52%|█████▏    | 263/502 [02:04<02:01,  1.97it/s]\u001b[A"
          ],
          "name": "stderr"
        },
        {
          "output_type": "stream",
          "text": [
            "Train 0.64759927671733\n",
            "Test 0.6600239365616822\n"
          ],
          "name": "stdout"
        },
        {
          "output_type": "stream",
          "text": [
            "\n",
            " 53%|█████▎    | 264/502 [02:04<01:59,  1.99it/s]\u001b[A"
          ],
          "name": "stderr"
        },
        {
          "output_type": "stream",
          "text": [
            "Train 0.5951078437231176\n",
            "Test 0.5875384217822702\n"
          ],
          "name": "stdout"
        },
        {
          "output_type": "stream",
          "text": [
            "\n",
            " 53%|█████▎    | 265/502 [02:05<01:58,  2.01it/s]\u001b[A"
          ],
          "name": "stderr"
        },
        {
          "output_type": "stream",
          "text": [
            "Train 0.5884727250545555\n",
            "Test 0.5216304134395354\n"
          ],
          "name": "stdout"
        },
        {
          "output_type": "stream",
          "text": [
            "\n",
            " 53%|█████▎    | 266/502 [02:05<01:58,  2.00it/s]\u001b[A"
          ],
          "name": "stderr"
        },
        {
          "output_type": "stream",
          "text": [
            "Train 0.5268839406585133\n",
            "Test 0.5523468855008715\n"
          ],
          "name": "stdout"
        },
        {
          "output_type": "stream",
          "text": [
            "\n",
            " 53%|█████▎    | 267/502 [02:06<01:56,  2.01it/s]\u001b[A"
          ],
          "name": "stderr"
        },
        {
          "output_type": "stream",
          "text": [
            "Train 0.6077788370365789\n",
            "Test 0.6026314761461214\n"
          ],
          "name": "stdout"
        },
        {
          "output_type": "stream",
          "text": [
            "\n",
            " 53%|█████▎    | 268/502 [02:06<01:56,  2.00it/s]\u001b[A"
          ],
          "name": "stderr"
        },
        {
          "output_type": "stream",
          "text": [
            "Train 0.574243751677102\n",
            "Test 0.5069049284561\n"
          ],
          "name": "stdout"
        },
        {
          "output_type": "stream",
          "text": [
            "\n",
            " 54%|█████▎    | 269/502 [02:07<01:57,  1.98it/s]\u001b[A"
          ],
          "name": "stderr"
        },
        {
          "output_type": "stream",
          "text": [
            "Train 0.6061538445705044\n",
            "Test 0.6124164994916684\n"
          ],
          "name": "stdout"
        },
        {
          "output_type": "stream",
          "text": [
            "\n",
            " 54%|█████▍    | 270/502 [02:07<01:59,  1.94it/s]\u001b[A"
          ],
          "name": "stderr"
        },
        {
          "output_type": "stream",
          "text": [
            "Train 0.5972879098241817\n",
            "Test 0.5508566285586964\n"
          ],
          "name": "stdout"
        },
        {
          "output_type": "stream",
          "text": [
            "\n",
            " 54%|█████▍    | 271/502 [02:08<01:58,  1.95it/s]\u001b[A"
          ],
          "name": "stderr"
        },
        {
          "output_type": "stream",
          "text": [
            "Train 0.6361797314447671\n",
            "Test 0.5744764151678745\n"
          ],
          "name": "stdout"
        },
        {
          "output_type": "stream",
          "text": [
            "\n",
            " 54%|█████▍    | 272/502 [02:08<01:58,  1.94it/s]\u001b[A"
          ],
          "name": "stderr"
        },
        {
          "output_type": "stream",
          "text": [
            "Train 0.7058616307050389\n",
            "Test 0.7218227428920996\n"
          ],
          "name": "stdout"
        },
        {
          "output_type": "stream",
          "text": [
            "\n",
            " 54%|█████▍    | 273/502 [02:09<01:58,  1.93it/s]\u001b[A"
          ],
          "name": "stderr"
        },
        {
          "output_type": "stream",
          "text": [
            "Train 0.6019081483608697\n",
            "Test 0.588781760863163\n"
          ],
          "name": "stdout"
        },
        {
          "output_type": "stream",
          "text": [
            "\n",
            " 55%|█████▍    | 274/502 [02:09<01:58,  1.92it/s]\u001b[A"
          ],
          "name": "stderr"
        },
        {
          "output_type": "stream",
          "text": [
            "Train 0.5927199177969574\n",
            "Test 0.5075058041813969\n"
          ],
          "name": "stdout"
        },
        {
          "output_type": "stream",
          "text": [
            "\n",
            " 55%|█████▍    | 275/502 [02:10<01:56,  1.94it/s]\u001b[A"
          ],
          "name": "stderr"
        },
        {
          "output_type": "stream",
          "text": [
            "Train 0.6598442575218\n",
            "Test 0.6652219051722152\n"
          ],
          "name": "stdout"
        },
        {
          "output_type": "stream",
          "text": [
            "\n",
            " 55%|█████▍    | 276/502 [02:10<01:57,  1.92it/s]\u001b[A"
          ],
          "name": "stderr"
        },
        {
          "output_type": "stream",
          "text": [
            "Train 0.6784246534093044\n",
            "Test 0.6476739725442997\n"
          ],
          "name": "stdout"
        },
        {
          "output_type": "stream",
          "text": [
            "\n",
            " 55%|█████▌    | 277/502 [02:11<01:57,  1.92it/s]\u001b[A"
          ],
          "name": "stderr"
        },
        {
          "output_type": "stream",
          "text": [
            "Train 0.6381042063363732\n",
            "Test 0.5648387947631976\n"
          ],
          "name": "stdout"
        },
        {
          "output_type": "stream",
          "text": [
            "\n",
            " 55%|█████▌    | 278/502 [02:11<01:55,  1.93it/s]\u001b[A"
          ],
          "name": "stderr"
        },
        {
          "output_type": "stream",
          "text": [
            "Train 0.6051252159822661\n",
            "Test 0.6089985528685021\n"
          ],
          "name": "stdout"
        },
        {
          "output_type": "stream",
          "text": [
            "\n",
            " 56%|█████▌    | 279/502 [02:12<01:55,  1.94it/s]\u001b[A"
          ],
          "name": "stderr"
        },
        {
          "output_type": "stream",
          "text": [
            "Train 0.5921312648549588\n",
            "Test 0.5403428694480925\n"
          ],
          "name": "stdout"
        },
        {
          "output_type": "stream",
          "text": [
            "\n",
            " 56%|█████▌    | 280/502 [02:12<01:54,  1.94it/s]\u001b[A"
          ],
          "name": "stderr"
        },
        {
          "output_type": "stream",
          "text": [
            "Train 0.651420562171982\n",
            "Test 0.5859953082554026\n"
          ],
          "name": "stdout"
        },
        {
          "output_type": "stream",
          "text": [
            "\n",
            " 56%|█████▌    | 281/502 [02:13<01:53,  1.94it/s]\u001b[A"
          ],
          "name": "stderr"
        },
        {
          "output_type": "stream",
          "text": [
            "Train 0.6450123429760852\n",
            "Test 0.592488345195869\n"
          ],
          "name": "stdout"
        },
        {
          "output_type": "stream",
          "text": [
            "\n",
            " 56%|█████▌    | 282/502 [02:14<01:52,  1.95it/s]\u001b[A"
          ],
          "name": "stderr"
        },
        {
          "output_type": "stream",
          "text": [
            "Train 0.4180655818661184\n",
            "Test 0.3705819112633436\n"
          ],
          "name": "stdout"
        },
        {
          "output_type": "stream",
          "text": [
            "\n",
            " 56%|█████▋    | 283/502 [02:14<01:51,  1.97it/s]\u001b[A"
          ],
          "name": "stderr"
        },
        {
          "output_type": "stream",
          "text": [
            "Train 0.5731321000077882\n",
            "Test 0.5581960806642088\n"
          ],
          "name": "stdout"
        },
        {
          "output_type": "stream",
          "text": [
            "\n",
            " 57%|█████▋    | 284/502 [02:15<01:49,  1.98it/s]\u001b[A"
          ],
          "name": "stderr"
        },
        {
          "output_type": "stream",
          "text": [
            "Train 0.49813171385323696\n",
            "Test 0.43163256435049324\n"
          ],
          "name": "stdout"
        },
        {
          "output_type": "stream",
          "text": [
            "\n",
            " 57%|█████▋    | 285/502 [02:15<01:48,  2.00it/s]\u001b[A"
          ],
          "name": "stderr"
        },
        {
          "output_type": "stream",
          "text": [
            "Train 0.4920628780514884\n",
            "Test 0.3883278943786057\n"
          ],
          "name": "stdout"
        },
        {
          "output_type": "stream",
          "text": [
            "\n",
            " 57%|█████▋    | 286/502 [02:16<01:48,  1.98it/s]\u001b[A"
          ],
          "name": "stderr"
        },
        {
          "output_type": "stream",
          "text": [
            "Train 0.3985976313101195\n",
            "Test 0.39347236086596293\n"
          ],
          "name": "stdout"
        },
        {
          "output_type": "stream",
          "text": [
            "\n",
            " 57%|█████▋    | 287/502 [02:16<01:48,  1.98it/s]\u001b[A"
          ],
          "name": "stderr"
        },
        {
          "output_type": "stream",
          "text": [
            "Train 0.48971120089015796\n",
            "Test 0.41576774772734104\n"
          ],
          "name": "stdout"
        },
        {
          "output_type": "stream",
          "text": [
            "\n",
            " 57%|█████▋    | 288/502 [02:17<01:48,  1.97it/s]\u001b[A"
          ],
          "name": "stderr"
        },
        {
          "output_type": "stream",
          "text": [
            "Train 0.4545967811348216\n",
            "Test 0.3520439005610261\n"
          ],
          "name": "stdout"
        },
        {
          "output_type": "stream",
          "text": [
            "\n",
            " 58%|█████▊    | 289/502 [02:17<01:47,  1.98it/s]\u001b[A"
          ],
          "name": "stderr"
        },
        {
          "output_type": "stream",
          "text": [
            "Train 0.49494251626451913\n",
            "Test 0.4506742305417757\n"
          ],
          "name": "stdout"
        },
        {
          "output_type": "stream",
          "text": [
            "\n",
            " 58%|█████▊    | 290/502 [02:18<01:46,  1.99it/s]\u001b[A"
          ],
          "name": "stderr"
        },
        {
          "output_type": "stream",
          "text": [
            "Train 0.4857585601209904\n",
            "Test 0.4131923758292809\n"
          ],
          "name": "stdout"
        },
        {
          "output_type": "stream",
          "text": [
            "\n",
            " 58%|█████▊    | 291/502 [02:18<01:45,  2.00it/s]\u001b[A"
          ],
          "name": "stderr"
        },
        {
          "output_type": "stream",
          "text": [
            "Train 0.5371523348801899\n",
            "Test 0.42464833946208935\n"
          ],
          "name": "stdout"
        },
        {
          "output_type": "stream",
          "text": [
            "\n",
            " 58%|█████▊    | 292/502 [02:19<01:45,  1.98it/s]\u001b[A"
          ],
          "name": "stderr"
        },
        {
          "output_type": "stream",
          "text": [
            "Train 0.655020342075282\n",
            "Test 0.652065921451215\n"
          ],
          "name": "stdout"
        },
        {
          "output_type": "stream",
          "text": [
            "\n",
            " 58%|█████▊    | 293/502 [02:19<01:45,  1.99it/s]\u001b[A"
          ],
          "name": "stderr"
        },
        {
          "output_type": "stream",
          "text": [
            "Train 0.5075020135691473\n",
            "Test 0.4339016292386645\n"
          ],
          "name": "stdout"
        },
        {
          "output_type": "stream",
          "text": [
            "\n",
            " 59%|█████▊    | 294/502 [02:20<01:46,  1.95it/s]\u001b[A"
          ],
          "name": "stderr"
        },
        {
          "output_type": "stream",
          "text": [
            "Train 0.5053590055511722\n",
            "Test 0.3850694263350215\n"
          ],
          "name": "stdout"
        },
        {
          "output_type": "stream",
          "text": [
            "\n",
            " 59%|█████▉    | 295/502 [02:20<01:44,  1.98it/s]\u001b[A"
          ],
          "name": "stderr"
        },
        {
          "output_type": "stream",
          "text": [
            "Train 0.587732094269257\n",
            "Test 0.5576405020730599\n"
          ],
          "name": "stdout"
        },
        {
          "output_type": "stream",
          "text": [
            "\n",
            " 59%|█████▉    | 296/502 [02:21<01:43,  1.99it/s]\u001b[A"
          ],
          "name": "stderr"
        },
        {
          "output_type": "stream",
          "text": [
            "Train 0.6106749253440726\n",
            "Test 0.5530614630142312\n"
          ],
          "name": "stdout"
        },
        {
          "output_type": "stream",
          "text": [
            "\n",
            " 59%|█████▉    | 297/502 [02:21<01:42,  1.99it/s]\u001b[A"
          ],
          "name": "stderr"
        },
        {
          "output_type": "stream",
          "text": [
            "Train 0.5568201611438139\n",
            "Test 0.4387062454523435\n"
          ],
          "name": "stdout"
        },
        {
          "output_type": "stream",
          "text": [
            "\n",
            " 59%|█████▉    | 298/502 [02:22<01:43,  1.97it/s]\u001b[A"
          ],
          "name": "stderr"
        },
        {
          "output_type": "stream",
          "text": [
            "Train 0.4989102258976674\n",
            "Test 0.44787923629151327\n"
          ],
          "name": "stdout"
        },
        {
          "output_type": "stream",
          "text": [
            "\n",
            " 60%|█████▉    | 299/502 [02:22<01:42,  1.98it/s]\u001b[A"
          ],
          "name": "stderr"
        },
        {
          "output_type": "stream",
          "text": [
            "Train 0.4874313633283879\n",
            "Test 0.4109429215202186\n"
          ],
          "name": "stdout"
        },
        {
          "output_type": "stream",
          "text": [
            "\n",
            " 60%|█████▉    | 300/502 [02:23<01:42,  1.96it/s]\u001b[A"
          ],
          "name": "stderr"
        },
        {
          "output_type": "stream",
          "text": [
            "Train 0.5581640240355494\n",
            "Test 0.43951154226625677\n"
          ],
          "name": "stdout"
        },
        {
          "output_type": "stream",
          "text": [
            "\n",
            " 60%|█████▉    | 301/502 [02:23<01:43,  1.95it/s]\u001b[A"
          ],
          "name": "stderr"
        },
        {
          "output_type": "stream",
          "text": [
            "Train 0.5542696135965881\n",
            "Test 0.45817739702122073\n"
          ],
          "name": "stdout"
        },
        {
          "output_type": "stream",
          "text": [
            "\n",
            " 60%|██████    | 302/502 [02:24<01:42,  1.95it/s]\u001b[A"
          ],
          "name": "stderr"
        },
        {
          "output_type": "stream",
          "text": [
            "Train 0.626872169329089\n",
            "Test 0.6274023055191499\n"
          ],
          "name": "stdout"
        },
        {
          "output_type": "stream",
          "text": [
            "\n",
            " 60%|██████    | 303/502 [02:24<01:42,  1.95it/s]\u001b[A"
          ],
          "name": "stderr"
        },
        {
          "output_type": "stream",
          "text": [
            "Train 0.4790152062430668\n",
            "Test 0.41152299217952215\n"
          ],
          "name": "stdout"
        },
        {
          "output_type": "stream",
          "text": [
            "\n",
            " 61%|██████    | 304/502 [02:25<01:43,  1.92it/s]\u001b[A"
          ],
          "name": "stderr"
        },
        {
          "output_type": "stream",
          "text": [
            "Train 0.4790162738798184\n",
            "Test 0.3561486479429882\n"
          ],
          "name": "stdout"
        },
        {
          "output_type": "stream",
          "text": [
            "\n",
            " 61%|██████    | 305/502 [02:25<01:41,  1.94it/s]\u001b[A"
          ],
          "name": "stderr"
        },
        {
          "output_type": "stream",
          "text": [
            "Train 0.5628654501185042\n",
            "Test 0.5341345971705772\n"
          ],
          "name": "stdout"
        },
        {
          "output_type": "stream",
          "text": [
            "\n",
            " 61%|██████    | 306/502 [02:26<01:41,  1.94it/s]\u001b[A"
          ],
          "name": "stderr"
        },
        {
          "output_type": "stream",
          "text": [
            "Train 0.5898892723811746\n",
            "Test 0.5259814628895885\n"
          ],
          "name": "stdout"
        },
        {
          "output_type": "stream",
          "text": [
            "\n",
            " 61%|██████    | 307/502 [02:26<01:40,  1.93it/s]\u001b[A"
          ],
          "name": "stderr"
        },
        {
          "output_type": "stream",
          "text": [
            "Train 0.5345677785897794\n",
            "Test 0.4156312072816074\n"
          ],
          "name": "stdout"
        },
        {
          "output_type": "stream",
          "text": [
            "\n",
            " 61%|██████▏   | 308/502 [02:27<01:40,  1.93it/s]\u001b[A"
          ],
          "name": "stderr"
        },
        {
          "output_type": "stream",
          "text": [
            "Train 0.4673185583396532\n",
            "Test 0.417072239292555\n"
          ],
          "name": "stdout"
        },
        {
          "output_type": "stream",
          "text": [
            "\n",
            " 62%|██████▏   | 309/502 [02:27<01:39,  1.93it/s]\u001b[A"
          ],
          "name": "stderr"
        },
        {
          "output_type": "stream",
          "text": [
            "Train 0.4597560431444364\n",
            "Test 0.3705889068501306\n"
          ],
          "name": "stdout"
        },
        {
          "output_type": "stream",
          "text": [
            "\n",
            " 62%|██████▏   | 310/502 [02:28<01:38,  1.95it/s]\u001b[A"
          ],
          "name": "stderr"
        },
        {
          "output_type": "stream",
          "text": [
            "Train 0.5366276714486196\n",
            "Test 0.40749917351616105\n"
          ],
          "name": "stdout"
        },
        {
          "output_type": "stream",
          "text": [
            "\n",
            " 62%|██████▏   | 311/502 [02:28<01:38,  1.94it/s]\u001b[A"
          ],
          "name": "stderr"
        },
        {
          "output_type": "stream",
          "text": [
            "Train 0.5311292191986998\n",
            "Test 0.42740932617038363\n"
          ],
          "name": "stdout"
        },
        {
          "output_type": "stream",
          "text": [
            "\n",
            " 62%|██████▏   | 312/502 [02:29<01:38,  1.93it/s]\u001b[A"
          ],
          "name": "stderr"
        },
        {
          "output_type": "stream",
          "text": [
            "Train 0.6332154561046809\n",
            "Test 0.6457802573993103\n"
          ],
          "name": "stdout"
        },
        {
          "output_type": "stream",
          "text": [
            "\n",
            " 62%|██████▏   | 313/502 [02:29<01:37,  1.94it/s]\u001b[A"
          ],
          "name": "stderr"
        },
        {
          "output_type": "stream",
          "text": [
            "Train 0.6542212127142446\n",
            "Test 0.6071425991164843\n"
          ],
          "name": "stdout"
        },
        {
          "output_type": "stream",
          "text": [
            "\n",
            " 63%|██████▎   | 314/502 [02:30<01:36,  1.94it/s]\u001b[A"
          ],
          "name": "stderr"
        },
        {
          "output_type": "stream",
          "text": [
            "Train 0.555877459703563\n",
            "Test 0.4245741536797982\n"
          ],
          "name": "stdout"
        },
        {
          "output_type": "stream",
          "text": [
            "\n",
            " 63%|██████▎   | 315/502 [02:30<01:36,  1.95it/s]\u001b[A"
          ],
          "name": "stderr"
        },
        {
          "output_type": "stream",
          "text": [
            "Train 0.6042198380347396\n",
            "Test 0.5271909579966096\n"
          ],
          "name": "stdout"
        },
        {
          "output_type": "stream",
          "text": [
            "\n",
            " 63%|██████▎   | 316/502 [02:31<01:37,  1.92it/s]\u001b[A"
          ],
          "name": "stderr"
        },
        {
          "output_type": "stream",
          "text": [
            "Train 0.5434477366455206\n",
            "Test 0.4315418550505091\n"
          ],
          "name": "stdout"
        },
        {
          "output_type": "stream",
          "text": [
            "\n",
            " 63%|██████▎   | 317/502 [02:31<01:36,  1.93it/s]\u001b[A"
          ],
          "name": "stderr"
        },
        {
          "output_type": "stream",
          "text": [
            "Train 0.5498298406747387\n",
            "Test 0.5687254597169187\n"
          ],
          "name": "stdout"
        },
        {
          "output_type": "stream",
          "text": [
            "\n",
            " 63%|██████▎   | 318/502 [02:32<01:35,  1.93it/s]\u001b[A"
          ],
          "name": "stderr"
        },
        {
          "output_type": "stream",
          "text": [
            "Train 0.681758410775271\n",
            "Test 0.6942224172442613\n"
          ],
          "name": "stdout"
        },
        {
          "output_type": "stream",
          "text": [
            "\n",
            " 64%|██████▎   | 319/502 [02:32<01:34,  1.93it/s]\u001b[A"
          ],
          "name": "stderr"
        },
        {
          "output_type": "stream",
          "text": [
            "Train 0.6190042158650387\n",
            "Test 0.6193703784314175\n"
          ],
          "name": "stdout"
        },
        {
          "output_type": "stream",
          "text": [
            "\n",
            " 64%|██████▎   | 320/502 [02:33<01:33,  1.94it/s]\u001b[A"
          ],
          "name": "stderr"
        },
        {
          "output_type": "stream",
          "text": [
            "Train 0.6081441756023618\n",
            "Test 0.5661525169497947\n"
          ],
          "name": "stdout"
        },
        {
          "output_type": "stream",
          "text": [
            "\n",
            " 64%|██████▍   | 321/502 [02:33<01:32,  1.95it/s]\u001b[A"
          ],
          "name": "stderr"
        },
        {
          "output_type": "stream",
          "text": [
            "Train 0.5807420068589856\n",
            "Test 0.5992316104346254\n"
          ],
          "name": "stdout"
        },
        {
          "output_type": "stream",
          "text": [
            "\n",
            " 64%|██████▍   | 322/502 [02:34<01:33,  1.93it/s]\u001b[A"
          ],
          "name": "stderr"
        },
        {
          "output_type": "stream",
          "text": [
            "Train 0.6395260666144886\n",
            "Test 0.6409314524350993\n"
          ],
          "name": "stdout"
        },
        {
          "output_type": "stream",
          "text": [
            "\n",
            " 64%|██████▍   | 323/502 [02:34<01:31,  1.96it/s]\u001b[A"
          ],
          "name": "stderr"
        },
        {
          "output_type": "stream",
          "text": [
            "Train 0.6018555269088088\n",
            "Test 0.5574321817587935\n"
          ],
          "name": "stdout"
        },
        {
          "output_type": "stream",
          "text": [
            "\n",
            " 65%|██████▍   | 324/502 [02:35<01:29,  1.98it/s]\u001b[A"
          ],
          "name": "stderr"
        },
        {
          "output_type": "stream",
          "text": [
            "Train 0.6457179597755647\n",
            "Test 0.6474433033710476\n"
          ],
          "name": "stdout"
        },
        {
          "output_type": "stream",
          "text": [
            "\n",
            " 65%|██████▍   | 325/502 [02:35<01:29,  1.98it/s]\u001b[A"
          ],
          "name": "stderr"
        },
        {
          "output_type": "stream",
          "text": [
            "Train 0.6349068108217215\n",
            "Test 0.6037239259889904\n"
          ],
          "name": "stdout"
        },
        {
          "output_type": "stream",
          "text": [
            "\n",
            " 65%|██████▍   | 326/502 [02:36<01:27,  2.00it/s]\u001b[A"
          ],
          "name": "stderr"
        },
        {
          "output_type": "stream",
          "text": [
            "Train 0.6510502183113044\n",
            "Test 0.6069418406493357\n"
          ],
          "name": "stdout"
        },
        {
          "output_type": "stream",
          "text": [
            "\n",
            " 65%|██████▌   | 327/502 [02:36<01:28,  1.98it/s]\u001b[A"
          ],
          "name": "stderr"
        },
        {
          "output_type": "stream",
          "text": [
            "Train 0.6891192211324754\n",
            "Test 0.7105465156127189\n"
          ],
          "name": "stdout"
        },
        {
          "output_type": "stream",
          "text": [
            "\n",
            " 65%|██████▌   | 328/502 [02:37<01:27,  1.99it/s]\u001b[A"
          ],
          "name": "stderr"
        },
        {
          "output_type": "stream",
          "text": [
            "Train 0.5691372042091868\n",
            "Test 0.5755568614736247\n"
          ],
          "name": "stdout"
        },
        {
          "output_type": "stream",
          "text": [
            "\n",
            " 66%|██████▌   | 329/502 [02:37<01:27,  1.98it/s]\u001b[A"
          ],
          "name": "stderr"
        },
        {
          "output_type": "stream",
          "text": [
            "Train 0.544117604995515\n",
            "Test 0.48176081412884797\n"
          ],
          "name": "stdout"
        },
        {
          "output_type": "stream",
          "text": [
            "\n",
            " 66%|██████▌   | 330/502 [02:38<01:26,  1.99it/s]\u001b[A"
          ],
          "name": "stderr"
        },
        {
          "output_type": "stream",
          "text": [
            "Train 0.6425641072638824\n",
            "Test 0.6598229377793834\n"
          ],
          "name": "stdout"
        },
        {
          "output_type": "stream",
          "text": [
            "\n",
            " 66%|██████▌   | 331/502 [02:38<01:25,  1.99it/s]\u001b[A"
          ],
          "name": "stderr"
        },
        {
          "output_type": "stream",
          "text": [
            "Train 0.6568934708609827\n",
            "Test 0.6471891437315918\n"
          ],
          "name": "stdout"
        },
        {
          "output_type": "stream",
          "text": [
            "\n",
            " 66%|██████▌   | 332/502 [02:39<01:25,  2.00it/s]\u001b[A"
          ],
          "name": "stderr"
        },
        {
          "output_type": "stream",
          "text": [
            "Train 0.5883707753993714\n",
            "Test 0.5300544720659841\n"
          ],
          "name": "stdout"
        },
        {
          "output_type": "stream",
          "text": [
            "\n",
            " 66%|██████▋   | 333/502 [02:39<01:24,  2.01it/s]\u001b[A"
          ],
          "name": "stderr"
        },
        {
          "output_type": "stream",
          "text": [
            "Train 0.5877636449737318\n",
            "Test 0.5999001720831068\n"
          ],
          "name": "stdout"
        },
        {
          "output_type": "stream",
          "text": [
            "\n",
            " 67%|██████▋   | 334/502 [02:40<01:23,  2.02it/s]\u001b[A"
          ],
          "name": "stderr"
        },
        {
          "output_type": "stream",
          "text": [
            "Train 0.5737902795033472\n",
            "Test 0.5286944446258566\n"
          ],
          "name": "stdout"
        },
        {
          "output_type": "stream",
          "text": [
            "\n",
            " 67%|██████▋   | 335/502 [02:40<01:24,  1.99it/s]\u001b[A"
          ],
          "name": "stderr"
        },
        {
          "output_type": "stream",
          "text": [
            "Train 0.6114754071556356\n",
            "Test 0.5622074695879543\n"
          ],
          "name": "stdout"
        },
        {
          "output_type": "stream",
          "text": [
            "\n",
            " 67%|██████▋   | 336/502 [02:41<01:23,  1.99it/s]\u001b[A"
          ],
          "name": "stderr"
        },
        {
          "output_type": "stream",
          "text": [
            "Train 0.6180539075953728\n",
            "Test 0.5751262232972343\n"
          ],
          "name": "stdout"
        },
        {
          "output_type": "stream",
          "text": [
            "\n",
            " 67%|██████▋   | 337/502 [02:41<01:23,  1.99it/s]\u001b[A"
          ],
          "name": "stderr"
        },
        {
          "output_type": "stream",
          "text": [
            "Train 0.6579040013359574\n",
            "Test 0.6778817729639381\n"
          ],
          "name": "stdout"
        },
        {
          "output_type": "stream",
          "text": [
            "\n",
            " 67%|██████▋   | 338/502 [02:42<01:22,  1.99it/s]\u001b[A"
          ],
          "name": "stderr"
        },
        {
          "output_type": "stream",
          "text": [
            "Train 0.5355601272294604\n",
            "Test 0.5427159696463493\n"
          ],
          "name": "stdout"
        },
        {
          "output_type": "stream",
          "text": [
            "\n",
            " 68%|██████▊   | 339/502 [02:42<01:22,  1.98it/s]\u001b[A"
          ],
          "name": "stderr"
        },
        {
          "output_type": "stream",
          "text": [
            "Train 0.5188735582031068\n",
            "Test 0.4378362475730926\n"
          ],
          "name": "stdout"
        },
        {
          "output_type": "stream",
          "text": [
            "\n",
            " 68%|██████▊   | 340/502 [02:43<01:21,  1.99it/s]\u001b[A"
          ],
          "name": "stderr"
        },
        {
          "output_type": "stream",
          "text": [
            "Train 0.608170913665009\n",
            "Test 0.6190429527300607\n"
          ],
          "name": "stdout"
        },
        {
          "output_type": "stream",
          "text": [
            "\n",
            " 68%|██████▊   | 341/502 [02:44<01:21,  1.97it/s]\u001b[A"
          ],
          "name": "stderr"
        },
        {
          "output_type": "stream",
          "text": [
            "Train 0.6272688209692073\n",
            "Test 0.6019119985283207\n"
          ],
          "name": "stdout"
        },
        {
          "output_type": "stream",
          "text": [
            "\n",
            " 68%|██████▊   | 342/502 [02:44<01:21,  1.96it/s]\u001b[A"
          ],
          "name": "stderr"
        },
        {
          "output_type": "stream",
          "text": [
            "Train 0.5696316153041168\n",
            "Test 0.5077498266322438\n"
          ],
          "name": "stdout"
        },
        {
          "output_type": "stream",
          "text": [
            "\n",
            " 68%|██████▊   | 343/502 [02:45<01:21,  1.95it/s]\u001b[A"
          ],
          "name": "stderr"
        },
        {
          "output_type": "stream",
          "text": [
            "Train 0.5517912255817995\n",
            "Test 0.55978735699865\n"
          ],
          "name": "stdout"
        },
        {
          "output_type": "stream",
          "text": [
            "\n",
            " 69%|██████▊   | 344/502 [02:45<01:20,  1.96it/s]\u001b[A"
          ],
          "name": "stderr"
        },
        {
          "output_type": "stream",
          "text": [
            "Train 0.5378825707930925\n",
            "Test 0.4727938673011881\n"
          ],
          "name": "stdout"
        },
        {
          "output_type": "stream",
          "text": [
            "\n",
            " 69%|██████▊   | 345/502 [02:46<01:19,  1.97it/s]\u001b[A"
          ],
          "name": "stderr"
        },
        {
          "output_type": "stream",
          "text": [
            "Train 0.5878505590065997\n",
            "Test 0.5239812775685705\n"
          ],
          "name": "stdout"
        },
        {
          "output_type": "stream",
          "text": [
            "\n",
            " 69%|██████▉   | 346/502 [02:46<01:19,  1.97it/s]\u001b[A"
          ],
          "name": "stderr"
        },
        {
          "output_type": "stream",
          "text": [
            "Train 0.5908038571660272\n",
            "Test 0.5354013203569463\n"
          ],
          "name": "stdout"
        },
        {
          "output_type": "stream",
          "text": [
            "\n",
            " 69%|██████▉   | 347/502 [02:47<01:17,  1.99it/s]\u001b[A"
          ],
          "name": "stderr"
        },
        {
          "output_type": "stream",
          "text": [
            "Train 0.6251328018741138\n",
            "Test 0.660373006969531\n"
          ],
          "name": "stdout"
        },
        {
          "output_type": "stream",
          "text": [
            "\n",
            " 69%|██████▉   | 348/502 [02:47<01:17,  1.98it/s]\u001b[A"
          ],
          "name": "stderr"
        },
        {
          "output_type": "stream",
          "text": [
            "Train 0.636280682039634\n",
            "Test 0.6291890850658106\n"
          ],
          "name": "stdout"
        },
        {
          "output_type": "stream",
          "text": [
            "\n",
            " 70%|██████▉   | 349/502 [02:48<01:17,  1.98it/s]\u001b[A"
          ],
          "name": "stderr"
        },
        {
          "output_type": "stream",
          "text": [
            "Train 0.5489864970956664\n",
            "Test 0.4736685445689983\n"
          ],
          "name": "stdout"
        },
        {
          "output_type": "stream",
          "text": [
            "\n",
            " 70%|██████▉   | 350/502 [02:48<01:18,  1.94it/s]\u001b[A"
          ],
          "name": "stderr"
        },
        {
          "output_type": "stream",
          "text": [
            "Train 0.6013751800736336\n",
            "Test 0.5776624339190866\n"
          ],
          "name": "stdout"
        },
        {
          "output_type": "stream",
          "text": [
            "\n",
            " 70%|██████▉   | 351/502 [02:49<01:19,  1.91it/s]\u001b[A"
          ],
          "name": "stderr"
        },
        {
          "output_type": "stream",
          "text": [
            "Train 0.5594723670659489\n",
            "Test 0.5014865234953597\n"
          ],
          "name": "stdout"
        },
        {
          "output_type": "stream",
          "text": [
            "\n",
            " 70%|███████   | 352/502 [02:49<01:17,  1.93it/s]\u001b[A"
          ],
          "name": "stderr"
        },
        {
          "output_type": "stream",
          "text": [
            "Train 0.5860800470501186\n",
            "Test 0.5887344264317725\n"
          ],
          "name": "stdout"
        },
        {
          "output_type": "stream",
          "text": [
            "\n",
            " 70%|███████   | 353/502 [02:50<01:17,  1.92it/s]\u001b[A"
          ],
          "name": "stderr"
        },
        {
          "output_type": "stream",
          "text": [
            "Train 0.3775338367481412\n",
            "Test 0.2929146784257437\n"
          ],
          "name": "stdout"
        },
        {
          "output_type": "stream",
          "text": [
            "\n",
            " 71%|███████   | 354/502 [02:50<01:16,  1.94it/s]\u001b[A"
          ],
          "name": "stderr"
        },
        {
          "output_type": "stream",
          "text": [
            "Train 0.3655898452650309\n",
            "Test 0.2416913608342639\n"
          ],
          "name": "stdout"
        },
        {
          "output_type": "stream",
          "text": [
            "\n",
            " 71%|███████   | 355/502 [02:51<01:15,  1.95it/s]\u001b[A"
          ],
          "name": "stderr"
        },
        {
          "output_type": "stream",
          "text": [
            "Train 0.5042290718816553\n",
            "Test 0.46951091268782075\n"
          ],
          "name": "stdout"
        },
        {
          "output_type": "stream",
          "text": [
            "\n",
            " 71%|███████   | 356/502 [02:51<01:15,  1.95it/s]\u001b[A"
          ],
          "name": "stderr"
        },
        {
          "output_type": "stream",
          "text": [
            "Train 0.5268566757583727\n",
            "Test 0.47318163090242016\n"
          ],
          "name": "stdout"
        },
        {
          "output_type": "stream",
          "text": [
            "\n",
            " 71%|███████   | 357/502 [02:52<01:14,  1.95it/s]\u001b[A"
          ],
          "name": "stderr"
        },
        {
          "output_type": "stream",
          "text": [
            "Train 0.439771460525885\n",
            "Test 0.3128040766976433\n"
          ],
          "name": "stdout"
        },
        {
          "output_type": "stream",
          "text": [
            "\n",
            " 71%|███████▏  | 358/502 [02:52<01:14,  1.94it/s]\u001b[A"
          ],
          "name": "stderr"
        },
        {
          "output_type": "stream",
          "text": [
            "Train 0.40046255533010455\n",
            "Test 0.32545007567767836\n"
          ],
          "name": "stdout"
        },
        {
          "output_type": "stream",
          "text": [
            "\n",
            " 72%|███████▏  | 359/502 [02:53<01:13,  1.95it/s]\u001b[A"
          ],
          "name": "stderr"
        },
        {
          "output_type": "stream",
          "text": [
            "Train 0.3861007538361739\n",
            "Test 0.2750391545098815\n"
          ],
          "name": "stdout"
        },
        {
          "output_type": "stream",
          "text": [
            "\n",
            " 72%|███████▏  | 360/502 [02:53<01:13,  1.93it/s]\u001b[A"
          ],
          "name": "stderr"
        },
        {
          "output_type": "stream",
          "text": [
            "Train 0.45034270538134524\n",
            "Test 0.30048114285189964\n"
          ],
          "name": "stdout"
        },
        {
          "output_type": "stream",
          "text": [
            "\n",
            " 72%|███████▏  | 361/502 [02:54<01:13,  1.93it/s]\u001b[A"
          ],
          "name": "stderr"
        },
        {
          "output_type": "stream",
          "text": [
            "Train 0.46029369430740963\n",
            "Test 0.3406348811374267\n"
          ],
          "name": "stdout"
        },
        {
          "output_type": "stream",
          "text": [
            "\n",
            " 72%|███████▏  | 362/502 [02:54<01:11,  1.95it/s]\u001b[A"
          ],
          "name": "stderr"
        },
        {
          "output_type": "stream",
          "text": [
            "Train 0.5616213888249604\n",
            "Test 0.5839252108873216\n"
          ],
          "name": "stdout"
        },
        {
          "output_type": "stream",
          "text": [
            "\n",
            " 72%|███████▏  | 363/502 [02:55<01:11,  1.95it/s]\u001b[A"
          ],
          "name": "stderr"
        },
        {
          "output_type": "stream",
          "text": [
            "Train 0.5714831750647562\n",
            "Test 0.5476868980852923\n"
          ],
          "name": "stdout"
        },
        {
          "output_type": "stream",
          "text": [
            "\n",
            " 73%|███████▎  | 364/502 [02:55<01:10,  1.96it/s]\u001b[A"
          ],
          "name": "stderr"
        },
        {
          "output_type": "stream",
          "text": [
            "Train 0.4235526449489466\n",
            "Test 0.27929878456450874\n"
          ],
          "name": "stdout"
        },
        {
          "output_type": "stream",
          "text": [
            "\n",
            " 73%|███████▎  | 365/502 [02:56<01:09,  1.97it/s]\u001b[A"
          ],
          "name": "stderr"
        },
        {
          "output_type": "stream",
          "text": [
            "Train 0.5098283588043688\n",
            "Test 0.44962631937098607\n"
          ],
          "name": "stdout"
        },
        {
          "output_type": "stream",
          "text": [
            "\n",
            " 73%|███████▎  | 366/502 [02:56<01:09,  1.96it/s]\u001b[A"
          ],
          "name": "stderr"
        },
        {
          "output_type": "stream",
          "text": [
            "Train 0.436256777767025\n",
            "Test 0.30883929668279464\n"
          ],
          "name": "stdout"
        },
        {
          "output_type": "stream",
          "text": [
            "\n",
            " 73%|███████▎  | 367/502 [02:57<01:07,  1.99it/s]\u001b[A"
          ],
          "name": "stderr"
        },
        {
          "output_type": "stream",
          "text": [
            "Train 0.5294214242178703\n",
            "Test 0.5512263484667743\n"
          ],
          "name": "stdout"
        },
        {
          "output_type": "stream",
          "text": [
            "\n",
            " 73%|███████▎  | 368/502 [02:57<01:07,  1.98it/s]\u001b[A"
          ],
          "name": "stderr"
        },
        {
          "output_type": "stream",
          "text": [
            "Train 0.546138721365034\n",
            "Test 0.5148332982116048\n"
          ],
          "name": "stdout"
        },
        {
          "output_type": "stream",
          "text": [
            "\n",
            " 74%|███████▎  | 369/502 [02:58<01:07,  1.97it/s]\u001b[A"
          ],
          "name": "stderr"
        },
        {
          "output_type": "stream",
          "text": [
            "Train 0.4045104698786366\n",
            "Test 0.2416776101847815\n"
          ],
          "name": "stdout"
        },
        {
          "output_type": "stream",
          "text": [
            "\n",
            " 74%|███████▎  | 370/502 [02:58<01:07,  1.96it/s]\u001b[A"
          ],
          "name": "stderr"
        },
        {
          "output_type": "stream",
          "text": [
            "Train 0.48613738839926945\n",
            "Test 0.4105021294103227\n"
          ],
          "name": "stdout"
        },
        {
          "output_type": "stream",
          "text": [
            "\n",
            " 74%|███████▍  | 371/502 [02:59<01:07,  1.95it/s]\u001b[A"
          ],
          "name": "stderr"
        },
        {
          "output_type": "stream",
          "text": [
            "Train 0.4102873854076351\n",
            "Test 0.2631852446094032\n"
          ],
          "name": "stdout"
        },
        {
          "output_type": "stream",
          "text": [
            "\n",
            " 74%|███████▍  | 372/502 [02:59<01:06,  1.95it/s]\u001b[A"
          ],
          "name": "stderr"
        },
        {
          "output_type": "stream",
          "text": [
            "Train 0.5272471997620454\n",
            "Test 0.5160512221372324\n"
          ],
          "name": "stdout"
        },
        {
          "output_type": "stream",
          "text": [
            "\n",
            " 74%|███████▍  | 373/502 [03:00<01:06,  1.95it/s]\u001b[A"
          ],
          "name": "stderr"
        },
        {
          "output_type": "stream",
          "text": [
            "Train 0.5994060269422291\n",
            "Test 0.600373583584326\n"
          ],
          "name": "stdout"
        },
        {
          "output_type": "stream",
          "text": [
            "\n",
            " 75%|███████▍  | 374/502 [03:00<01:06,  1.93it/s]\u001b[A"
          ],
          "name": "stderr"
        },
        {
          "output_type": "stream",
          "text": [
            "Train 0.7090357587085385\n",
            "Test 0.7209928449118268\n"
          ],
          "name": "stdout"
        },
        {
          "output_type": "stream",
          "text": [
            "\n",
            " 75%|███████▍  | 375/502 [03:01<01:05,  1.92it/s]\u001b[A"
          ],
          "name": "stderr"
        },
        {
          "output_type": "stream",
          "text": [
            "Train 0.6617787365207253\n",
            "Test 0.6512342439473037\n"
          ],
          "name": "stdout"
        },
        {
          "output_type": "stream",
          "text": [
            "\n",
            " 75%|███████▍  | 376/502 [03:01<01:06,  1.90it/s]\u001b[A"
          ],
          "name": "stderr"
        },
        {
          "output_type": "stream",
          "text": [
            "Train 0.6509933891742627\n",
            "Test 0.6010378341344724\n"
          ],
          "name": "stdout"
        },
        {
          "output_type": "stream",
          "text": [
            "\n",
            " 75%|███████▌  | 377/502 [03:02<01:05,  1.91it/s]\u001b[A"
          ],
          "name": "stderr"
        },
        {
          "output_type": "stream",
          "text": [
            "Train 0.6123717234530389\n",
            "Test 0.6337371321980173\n"
          ],
          "name": "stdout"
        },
        {
          "output_type": "stream",
          "text": [
            "\n",
            " 75%|███████▌  | 378/502 [03:03<01:05,  1.89it/s]\u001b[A"
          ],
          "name": "stderr"
        },
        {
          "output_type": "stream",
          "text": [
            "Train 0.6749513860185883\n",
            "Test 0.66886350285841\n"
          ],
          "name": "stdout"
        },
        {
          "output_type": "stream",
          "text": [
            "\n",
            " 75%|███████▌  | 379/502 [03:03<01:05,  1.87it/s]\u001b[A"
          ],
          "name": "stderr"
        },
        {
          "output_type": "stream",
          "text": [
            "Train 0.6420225587286845\n",
            "Test 0.5954121869123079\n"
          ],
          "name": "stdout"
        },
        {
          "output_type": "stream",
          "text": [
            "\n",
            " 76%|███████▌  | 380/502 [03:04<01:05,  1.88it/s]\u001b[A"
          ],
          "name": "stderr"
        },
        {
          "output_type": "stream",
          "text": [
            "Train 0.6760965941502111\n",
            "Test 0.6785677426534604\n"
          ],
          "name": "stdout"
        },
        {
          "output_type": "stream",
          "text": [
            "\n",
            " 76%|███████▌  | 381/502 [03:04<01:04,  1.88it/s]\u001b[A"
          ],
          "name": "stderr"
        },
        {
          "output_type": "stream",
          "text": [
            "Train 0.6637839135573431\n",
            "Test 0.6357396478760922\n"
          ],
          "name": "stdout"
        },
        {
          "output_type": "stream",
          "text": [
            "\n",
            " 76%|███████▌  | 382/502 [03:05<01:02,  1.91it/s]\u001b[A"
          ],
          "name": "stderr"
        },
        {
          "output_type": "stream",
          "text": [
            "Train 0.6907774654828471\n",
            "Test 0.6457404779230553\n"
          ],
          "name": "stdout"
        },
        {
          "output_type": "stream",
          "text": [
            "\n",
            " 76%|███████▋  | 383/502 [03:05<01:02,  1.91it/s]\u001b[A"
          ],
          "name": "stderr"
        },
        {
          "output_type": "stream",
          "text": [
            "Train 0.7503903480222547\n",
            "Test 0.7615678299845892\n"
          ],
          "name": "stdout"
        },
        {
          "output_type": "stream",
          "text": [
            "\n",
            " 76%|███████▋  | 384/502 [03:06<01:02,  1.89it/s]\u001b[A"
          ],
          "name": "stderr"
        },
        {
          "output_type": "stream",
          "text": [
            "Train 0.653320165660688\n",
            "Test 0.6394289958707133\n"
          ],
          "name": "stdout"
        },
        {
          "output_type": "stream",
          "text": [
            "\n",
            " 77%|███████▋  | 385/502 [03:06<01:01,  1.89it/s]\u001b[A"
          ],
          "name": "stderr"
        },
        {
          "output_type": "stream",
          "text": [
            "Train 0.640759327461845\n",
            "Test 0.5666245266069379\n"
          ],
          "name": "stdout"
        },
        {
          "output_type": "stream",
          "text": [
            "\n",
            " 77%|███████▋  | 386/502 [03:07<01:01,  1.89it/s]\u001b[A"
          ],
          "name": "stderr"
        },
        {
          "output_type": "stream",
          "text": [
            "Train 0.7063428998612106\n",
            "Test 0.7124235264298266\n"
          ],
          "name": "stdout"
        },
        {
          "output_type": "stream",
          "text": [
            "\n",
            " 77%|███████▋  | 387/502 [03:07<01:00,  1.89it/s]\u001b[A"
          ],
          "name": "stderr"
        },
        {
          "output_type": "stream",
          "text": [
            "Train 0.7201086390557689\n",
            "Test 0.700576215397594\n"
          ],
          "name": "stdout"
        },
        {
          "output_type": "stream",
          "text": [
            "\n",
            " 77%|███████▋  | 388/502 [03:08<01:01,  1.86it/s]\u001b[A"
          ],
          "name": "stderr"
        },
        {
          "output_type": "stream",
          "text": [
            "Train 0.678282630211666\n",
            "Test 0.6158693886226498\n"
          ],
          "name": "stdout"
        },
        {
          "output_type": "stream",
          "text": [
            "\n",
            " 77%|███████▋  | 389/502 [03:08<01:00,  1.87it/s]\u001b[A"
          ],
          "name": "stderr"
        },
        {
          "output_type": "stream",
          "text": [
            "Train 0.6582721254674111\n",
            "Test 0.6619175914913572\n"
          ],
          "name": "stdout"
        },
        {
          "output_type": "stream",
          "text": [
            "\n",
            " 78%|███████▊  | 390/502 [03:09<00:59,  1.87it/s]\u001b[A"
          ],
          "name": "stderr"
        },
        {
          "output_type": "stream",
          "text": [
            "Train 0.6441474110003975\n",
            "Test 0.6051905190429802\n"
          ],
          "name": "stdout"
        },
        {
          "output_type": "stream",
          "text": [
            "\n",
            " 78%|███████▊  | 391/502 [03:09<01:00,  1.85it/s]\u001b[A"
          ],
          "name": "stderr"
        },
        {
          "output_type": "stream",
          "text": [
            "Train 0.691882385879625\n",
            "Test 0.6401536400121237\n"
          ],
          "name": "stdout"
        },
        {
          "output_type": "stream",
          "text": [
            "\n",
            " 78%|███████▊  | 392/502 [03:10<00:59,  1.84it/s]\u001b[A"
          ],
          "name": "stderr"
        },
        {
          "output_type": "stream",
          "text": [
            "Train 0.6879611293566872\n",
            "Test 0.6480723754861213\n"
          ],
          "name": "stdout"
        },
        {
          "output_type": "stream",
          "text": [
            "\n",
            " 78%|███████▊  | 393/502 [03:11<00:59,  1.84it/s]\u001b[A"
          ],
          "name": "stderr"
        },
        {
          "output_type": "stream",
          "text": [
            "Train 0.7167282289434243\n",
            "Test 0.7298522304270376\n"
          ],
          "name": "stdout"
        },
        {
          "output_type": "stream",
          "text": [
            "\n",
            " 78%|███████▊  | 394/502 [03:11<00:58,  1.86it/s]\u001b[A"
          ],
          "name": "stderr"
        },
        {
          "output_type": "stream",
          "text": [
            "Train 0.6158573507987193\n",
            "Test 0.6053464038395179\n"
          ],
          "name": "stdout"
        },
        {
          "output_type": "stream",
          "text": [
            "\n",
            " 79%|███████▊  | 395/502 [03:12<00:57,  1.86it/s]\u001b[A"
          ],
          "name": "stderr"
        },
        {
          "output_type": "stream",
          "text": [
            "Train 0.6078409571141784\n",
            "Test 0.5251494885817194\n"
          ],
          "name": "stdout"
        },
        {
          "output_type": "stream",
          "text": [
            "\n",
            " 79%|███████▉  | 396/502 [03:12<00:57,  1.84it/s]\u001b[A"
          ],
          "name": "stderr"
        },
        {
          "output_type": "stream",
          "text": [
            "Train 0.670849780411811\n",
            "Test 0.6740264275571046\n"
          ],
          "name": "stdout"
        },
        {
          "output_type": "stream",
          "text": [
            "\n",
            " 79%|███████▉  | 397/502 [03:13<00:56,  1.85it/s]\u001b[A"
          ],
          "name": "stderr"
        },
        {
          "output_type": "stream",
          "text": [
            "Train 0.6894043616159615\n",
            "Test 0.6558858224493666\n"
          ],
          "name": "stdout"
        },
        {
          "output_type": "stream",
          "text": [
            "\n",
            " 79%|███████▉  | 398/502 [03:13<00:55,  1.86it/s]\u001b[A"
          ],
          "name": "stderr"
        },
        {
          "output_type": "stream",
          "text": [
            "Train 0.6511111698001715\n",
            "Test 0.5830100427716776\n"
          ],
          "name": "stdout"
        },
        {
          "output_type": "stream",
          "text": [
            "\n",
            " 79%|███████▉  | 399/502 [03:14<00:55,  1.87it/s]\u001b[A"
          ],
          "name": "stderr"
        },
        {
          "output_type": "stream",
          "text": [
            "Train 0.6196388084363919\n",
            "Test 0.6211793496826135\n"
          ],
          "name": "stdout"
        },
        {
          "output_type": "stream",
          "text": [
            "\n",
            " 80%|███████▉  | 400/502 [03:14<00:55,  1.84it/s]\u001b[A"
          ],
          "name": "stderr"
        },
        {
          "output_type": "stream",
          "text": [
            "Train 0.6080949782915033\n",
            "Test 0.5525189321270432\n"
          ],
          "name": "stdout"
        },
        {
          "output_type": "stream",
          "text": [
            "\n",
            " 80%|███████▉  | 401/502 [03:15<00:53,  1.88it/s]\u001b[A"
          ],
          "name": "stderr"
        },
        {
          "output_type": "stream",
          "text": [
            "Train 0.6643049915138846\n",
            "Test 0.6000914527911473\n"
          ],
          "name": "stdout"
        },
        {
          "output_type": "stream",
          "text": [
            "\n",
            " 80%|████████  | 402/502 [03:15<00:53,  1.87it/s]\u001b[A"
          ],
          "name": "stderr"
        },
        {
          "output_type": "stream",
          "text": [
            "Train 0.6588200652003918\n",
            "Test 0.6053567943206428\n"
          ],
          "name": "stdout"
        },
        {
          "output_type": "stream",
          "text": [
            "\n",
            " 80%|████████  | 403/502 [03:16<00:53,  1.87it/s]\u001b[A"
          ],
          "name": "stderr"
        },
        {
          "output_type": "stream",
          "text": [
            "Train 0.7160137728429241\n",
            "Test 0.7393119591808937\n"
          ],
          "name": "stdout"
        },
        {
          "output_type": "stream",
          "text": [
            "\n",
            " 80%|████████  | 404/502 [03:16<00:52,  1.86it/s]\u001b[A"
          ],
          "name": "stderr"
        },
        {
          "output_type": "stream",
          "text": [
            "Train 0.7296862015875173\n",
            "Test 0.7035257029457462\n"
          ],
          "name": "stdout"
        },
        {
          "output_type": "stream",
          "text": [
            "\n",
            " 81%|████████  | 405/502 [03:17<00:51,  1.87it/s]\u001b[A"
          ],
          "name": "stderr"
        },
        {
          "output_type": "stream",
          "text": [
            "Train 0.6653547701624565\n",
            "Test 0.5864690818754639\n"
          ],
          "name": "stdout"
        },
        {
          "output_type": "stream",
          "text": [
            "\n",
            " 81%|████████  | 406/502 [03:18<00:51,  1.86it/s]\u001b[A"
          ],
          "name": "stderr"
        },
        {
          "output_type": "stream",
          "text": [
            "Train 0.6973450562567879\n",
            "Test 0.6582630427666669\n"
          ],
          "name": "stdout"
        },
        {
          "output_type": "stream",
          "text": [
            "\n",
            " 81%|████████  | 407/502 [03:18<00:50,  1.88it/s]\u001b[A"
          ],
          "name": "stderr"
        },
        {
          "output_type": "stream",
          "text": [
            "Train 0.662202935616641\n",
            "Test 0.6054895333944516\n"
          ],
          "name": "stdout"
        },
        {
          "output_type": "stream",
          "text": [
            "\n",
            " 81%|████████▏ | 408/502 [03:19<00:50,  1.86it/s]\u001b[A"
          ],
          "name": "stderr"
        },
        {
          "output_type": "stream",
          "text": [
            "Train 0.6642117256290998\n",
            "Test 0.6617329260858908\n"
          ],
          "name": "stdout"
        },
        {
          "output_type": "stream",
          "text": [
            "\n",
            " 81%|████████▏ | 409/502 [03:19<00:49,  1.88it/s]\u001b[A"
          ],
          "name": "stderr"
        },
        {
          "output_type": "stream",
          "text": [
            "Train 0.514548221356823\n",
            "Test 0.442361637282489\n"
          ],
          "name": "stdout"
        },
        {
          "output_type": "stream",
          "text": [
            "\n",
            " 82%|████████▏ | 410/502 [03:20<00:49,  1.86it/s]\u001b[A"
          ],
          "name": "stderr"
        },
        {
          "output_type": "stream",
          "text": [
            "Train 0.5127196483940613\n",
            "Test 0.39394060463452596\n"
          ],
          "name": "stdout"
        },
        {
          "output_type": "stream",
          "text": [
            "\n",
            " 82%|████████▏ | 411/502 [03:20<00:49,  1.85it/s]\u001b[A"
          ],
          "name": "stderr"
        },
        {
          "output_type": "stream",
          "text": [
            "Train 0.5969258256097782\n",
            "Test 0.5657968873612444\n"
          ],
          "name": "stdout"
        },
        {
          "output_type": "stream",
          "text": [
            "\n",
            " 82%|████████▏ | 412/502 [03:21<00:48,  1.87it/s]\u001b[A"
          ],
          "name": "stderr"
        },
        {
          "output_type": "stream",
          "text": [
            "Train 0.6200191996301185\n",
            "Test 0.5605632502051701\n"
          ],
          "name": "stdout"
        },
        {
          "output_type": "stream",
          "text": [
            "\n",
            " 82%|████████▏ | 413/502 [03:21<00:47,  1.87it/s]\u001b[A"
          ],
          "name": "stderr"
        },
        {
          "output_type": "stream",
          "text": [
            "Train 0.564311728409999\n",
            "Test 0.44931457645577577\n"
          ],
          "name": "stdout"
        },
        {
          "output_type": "stream",
          "text": [
            "\n",
            " 82%|████████▏ | 414/502 [03:22<00:46,  1.88it/s]\u001b[A"
          ],
          "name": "stderr"
        },
        {
          "output_type": "stream",
          "text": [
            "Train 0.506039165876248\n",
            "Test 0.4500915018753424\n"
          ],
          "name": "stdout"
        },
        {
          "output_type": "stream",
          "text": [
            "\n",
            " 83%|████████▎ | 415/502 [03:22<00:46,  1.89it/s]\u001b[A"
          ],
          "name": "stderr"
        },
        {
          "output_type": "stream",
          "text": [
            "Train 0.4966014637580243\n",
            "Test 0.4157171580282789\n"
          ],
          "name": "stdout"
        },
        {
          "output_type": "stream",
          "text": [
            "\n",
            " 83%|████████▎ | 416/502 [03:23<00:45,  1.90it/s]\u001b[A"
          ],
          "name": "stderr"
        },
        {
          "output_type": "stream",
          "text": [
            "Train 0.5659505382750011\n",
            "Test 0.4446628789332784\n"
          ],
          "name": "stdout"
        },
        {
          "output_type": "stream",
          "text": [
            "\n",
            " 83%|████████▎ | 417/502 [03:23<00:45,  1.88it/s]\u001b[A"
          ],
          "name": "stderr"
        },
        {
          "output_type": "stream",
          "text": [
            "Train 0.5630987401113845\n",
            "Test 0.4646166953714004\n"
          ],
          "name": "stdout"
        },
        {
          "output_type": "stream",
          "text": [
            "\n",
            " 83%|████████▎ | 418/502 [03:24<00:44,  1.89it/s]\u001b[A"
          ],
          "name": "stderr"
        },
        {
          "output_type": "stream",
          "text": [
            "Train 0.6665275506977684\n",
            "Test 0.6757221846522237\n"
          ],
          "name": "stdout"
        },
        {
          "output_type": "stream",
          "text": [
            "\n",
            " 83%|████████▎ | 419/502 [03:24<00:44,  1.88it/s]\u001b[A"
          ],
          "name": "stderr"
        },
        {
          "output_type": "stream",
          "text": [
            "Train 0.684125543954778\n",
            "Test 0.6369902248631698\n"
          ],
          "name": "stdout"
        },
        {
          "output_type": "stream",
          "text": [
            "\n",
            " 84%|████████▎ | 420/502 [03:25<00:43,  1.88it/s]\u001b[A"
          ],
          "name": "stderr"
        },
        {
          "output_type": "stream",
          "text": [
            "Train 0.5821730220282808\n",
            "Test 0.4540267586316651\n"
          ],
          "name": "stdout"
        },
        {
          "output_type": "stream",
          "text": [
            "\n",
            " 84%|████████▍ | 421/502 [03:26<00:43,  1.86it/s]\u001b[A"
          ],
          "name": "stderr"
        },
        {
          "output_type": "stream",
          "text": [
            "Train 0.6307569584997652\n",
            "Test 0.5579397515987212\n"
          ],
          "name": "stdout"
        },
        {
          "output_type": "stream",
          "text": [
            "\n",
            " 84%|████████▍ | 422/502 [03:26<00:42,  1.88it/s]\u001b[A"
          ],
          "name": "stderr"
        },
        {
          "output_type": "stream",
          "text": [
            "Train 0.5708593785495515\n",
            "Test 0.4645179634891471\n"
          ],
          "name": "stdout"
        },
        {
          "output_type": "stream",
          "text": [
            "\n",
            " 84%|████████▍ | 423/502 [03:27<00:42,  1.86it/s]\u001b[A"
          ],
          "name": "stderr"
        },
        {
          "output_type": "stream",
          "text": [
            "Train 0.6382258391354794\n",
            "Test 0.6499464243067599\n"
          ],
          "name": "stdout"
        },
        {
          "output_type": "stream",
          "text": [
            "\n",
            " 84%|████████▍ | 424/502 [03:27<00:41,  1.87it/s]\u001b[A"
          ],
          "name": "stderr"
        },
        {
          "output_type": "stream",
          "text": [
            "Train 0.6596777893830721\n",
            "Test 0.6119826278649332\n"
          ],
          "name": "stdout"
        },
        {
          "output_type": "stream",
          "text": [
            "\n",
            " 85%|████████▍ | 425/502 [03:28<00:41,  1.87it/s]\u001b[A"
          ],
          "name": "stderr"
        },
        {
          "output_type": "stream",
          "text": [
            "Train 0.5602533363132953\n",
            "Test 0.4271532967432967\n"
          ],
          "name": "stdout"
        },
        {
          "output_type": "stream",
          "text": [
            "\n",
            " 85%|████████▍ | 426/502 [03:28<00:41,  1.85it/s]\u001b[A"
          ],
          "name": "stderr"
        },
        {
          "output_type": "stream",
          "text": [
            "Train 0.6103231978676187\n",
            "Test 0.5317303120166149\n"
          ],
          "name": "stdout"
        },
        {
          "output_type": "stream",
          "text": [
            "\n",
            " 85%|████████▌ | 427/502 [03:29<00:40,  1.85it/s]\u001b[A"
          ],
          "name": "stderr"
        },
        {
          "output_type": "stream",
          "text": [
            "Train 0.5488753982995196\n",
            "Test 0.4313356666546333\n"
          ],
          "name": "stdout"
        },
        {
          "output_type": "stream",
          "text": [
            "\n",
            " 85%|████████▌ | 428/502 [03:29<00:40,  1.85it/s]\u001b[A"
          ],
          "name": "stderr"
        },
        {
          "output_type": "stream",
          "text": [
            "Train 0.6641174405598995\n",
            "Test 0.6389482351681848\n"
          ],
          "name": "stdout"
        },
        {
          "output_type": "stream",
          "text": [
            "\n",
            " 85%|████████▌ | 429/502 [03:30<00:39,  1.85it/s]\u001b[A"
          ],
          "name": "stderr"
        },
        {
          "output_type": "stream",
          "text": [
            "Train 0.7453888055887483\n",
            "Test 0.7542453203144225\n"
          ],
          "name": "stdout"
        },
        {
          "output_type": "stream",
          "text": [
            "\n",
            " 86%|████████▌ | 430/502 [03:30<00:39,  1.84it/s]\u001b[A"
          ],
          "name": "stderr"
        },
        {
          "output_type": "stream",
          "text": [
            "Train 0.6461476968101676\n",
            "Test 0.6426281767126256\n"
          ],
          "name": "stdout"
        },
        {
          "output_type": "stream",
          "text": [
            "\n",
            " 86%|████████▌ | 431/502 [03:31<00:39,  1.82it/s]\u001b[A"
          ],
          "name": "stderr"
        },
        {
          "output_type": "stream",
          "text": [
            "Train 0.6294677420841301\n",
            "Test 0.5737361187850808\n"
          ],
          "name": "stdout"
        },
        {
          "output_type": "stream",
          "text": [
            "\n",
            " 86%|████████▌ | 432/502 [03:31<00:37,  1.85it/s]\u001b[A"
          ],
          "name": "stderr"
        },
        {
          "output_type": "stream",
          "text": [
            "Train 0.7018963932779458\n",
            "Test 0.7054045310546879\n"
          ],
          "name": "stdout"
        },
        {
          "output_type": "stream",
          "text": [
            "\n",
            " 86%|████████▋ | 433/502 [03:32<00:37,  1.85it/s]\u001b[A"
          ],
          "name": "stderr"
        },
        {
          "output_type": "stream",
          "text": [
            "Train 0.7152784190387114\n",
            "Test 0.6994981459552921\n"
          ],
          "name": "stdout"
        },
        {
          "output_type": "stream",
          "text": [
            "\n",
            " 86%|████████▋ | 434/502 [03:33<00:36,  1.86it/s]\u001b[A"
          ],
          "name": "stderr"
        },
        {
          "output_type": "stream",
          "text": [
            "Train 0.6631134866595956\n",
            "Test 0.6157257255785249\n"
          ],
          "name": "stdout"
        },
        {
          "output_type": "stream",
          "text": [
            "\n",
            " 87%|████████▋ | 435/502 [03:33<00:35,  1.86it/s]\u001b[A"
          ],
          "name": "stderr"
        },
        {
          "output_type": "stream",
          "text": [
            "Train 0.6573693495919706\n",
            "Test 0.6589701463695585\n"
          ],
          "name": "stdout"
        },
        {
          "output_type": "stream",
          "text": [
            "\n",
            " 87%|████████▋ | 436/502 [03:34<00:35,  1.86it/s]\u001b[A"
          ],
          "name": "stderr"
        },
        {
          "output_type": "stream",
          "text": [
            "Train 0.6448686192622961\n",
            "Test 0.6046132506887121\n"
          ],
          "name": "stdout"
        },
        {
          "output_type": "stream",
          "text": [
            "\n",
            " 87%|████████▋ | 437/502 [03:34<00:34,  1.86it/s]\u001b[A"
          ],
          "name": "stderr"
        },
        {
          "output_type": "stream",
          "text": [
            "Train 0.6775785376618559\n",
            "Test 0.6350426754915615\n"
          ],
          "name": "stdout"
        },
        {
          "output_type": "stream",
          "text": [
            "\n",
            " 87%|████████▋ | 438/502 [03:35<00:34,  1.86it/s]\u001b[A"
          ],
          "name": "stderr"
        },
        {
          "output_type": "stream",
          "text": [
            "Train 0.683450293240004\n",
            "Test 0.6439099074443377\n"
          ],
          "name": "stdout"
        },
        {
          "output_type": "stream",
          "text": [
            "\n",
            " 87%|████████▋ | 439/502 [03:35<00:33,  1.89it/s]\u001b[A"
          ],
          "name": "stderr"
        },
        {
          "output_type": "stream",
          "text": [
            "Train 0.7006574491718484\n",
            "Test 0.7271744140849596\n"
          ],
          "name": "stdout"
        },
        {
          "output_type": "stream",
          "text": [
            "\n",
            " 88%|████████▊ | 440/502 [03:36<00:32,  1.89it/s]\u001b[A"
          ],
          "name": "stderr"
        },
        {
          "output_type": "stream",
          "text": [
            "Train 0.7058333377798263\n",
            "Test 0.700275044357604\n"
          ],
          "name": "stdout"
        },
        {
          "output_type": "stream",
          "text": [
            "\n",
            " 88%|████████▊ | 441/502 [03:36<00:32,  1.89it/s]\u001b[A"
          ],
          "name": "stderr"
        },
        {
          "output_type": "stream",
          "text": [
            "Train 0.6212431857925222\n",
            "Test 0.567111607725435\n"
          ],
          "name": "stdout"
        },
        {
          "output_type": "stream",
          "text": [
            "\n",
            " 88%|████████▊ | 442/502 [03:37<00:32,  1.86it/s]\u001b[A"
          ],
          "name": "stderr"
        },
        {
          "output_type": "stream",
          "text": [
            "Train 0.6718272663297606\n",
            "Test 0.6565646389247136\n"
          ],
          "name": "stdout"
        },
        {
          "output_type": "stream",
          "text": [
            "\n",
            " 88%|████████▊ | 443/502 [03:37<00:31,  1.88it/s]\u001b[A"
          ],
          "name": "stderr"
        },
        {
          "output_type": "stream",
          "text": [
            "Train 0.6348364500919161\n",
            "Test 0.5911267506699162\n"
          ],
          "name": "stdout"
        },
        {
          "output_type": "stream",
          "text": [
            "\n",
            " 88%|████████▊ | 444/502 [03:38<00:30,  1.89it/s]\u001b[A"
          ],
          "name": "stderr"
        },
        {
          "output_type": "stream",
          "text": [
            "Train 0.6681710070013247\n",
            "Test 0.6936171505084081\n"
          ],
          "name": "stdout"
        },
        {
          "output_type": "stream",
          "text": [
            "\n",
            " 89%|████████▊ | 445/502 [03:38<00:30,  1.87it/s]\u001b[A"
          ],
          "name": "stderr"
        },
        {
          "output_type": "stream",
          "text": [
            "Train 0.6802384355061578\n",
            "Test 0.6642483473946648\n"
          ],
          "name": "stdout"
        },
        {
          "output_type": "stream",
          "text": [
            "\n",
            " 89%|████████▉ | 446/502 [03:39<00:30,  1.86it/s]\u001b[A"
          ],
          "name": "stderr"
        },
        {
          "output_type": "stream",
          "text": [
            "Train 0.6044299345978069\n",
            "Test 0.527815550372368\n"
          ],
          "name": "stdout"
        },
        {
          "output_type": "stream",
          "text": [
            "\n",
            " 89%|████████▉ | 447/502 [03:40<00:29,  1.86it/s]\u001b[A"
          ],
          "name": "stderr"
        },
        {
          "output_type": "stream",
          "text": [
            "Train 0.6463573102064231\n",
            "Test 0.6150477810960984\n"
          ],
          "name": "stdout"
        },
        {
          "output_type": "stream",
          "text": [
            "\n",
            " 89%|████████▉ | 448/502 [03:40<00:28,  1.86it/s]\u001b[A"
          ],
          "name": "stderr"
        },
        {
          "output_type": "stream",
          "text": [
            "Train 0.6074425721668577\n",
            "Test 0.547339635756307\n"
          ],
          "name": "stdout"
        },
        {
          "output_type": "stream",
          "text": [
            "\n",
            " 89%|████████▉ | 449/502 [03:41<00:29,  1.82it/s]\u001b[A"
          ],
          "name": "stderr"
        },
        {
          "output_type": "stream",
          "text": [
            "Train 0.6449614349961857\n",
            "Test 0.6480090375034436\n"
          ],
          "name": "stdout"
        },
        {
          "output_type": "stream",
          "text": [
            "\n",
            " 90%|████████▉ | 450/502 [03:41<00:28,  1.82it/s]\u001b[A"
          ],
          "name": "stderr"
        },
        {
          "output_type": "stream",
          "text": [
            "Train 0.6008612272350424\n",
            "Test 0.6151750600454683\n"
          ],
          "name": "stdout"
        },
        {
          "output_type": "stream",
          "text": [
            "\n",
            " 90%|████████▉ | 451/502 [03:42<00:27,  1.85it/s]\u001b[A"
          ],
          "name": "stderr"
        },
        {
          "output_type": "stream",
          "text": [
            "Train 0.6101599134035061\n",
            "Test 0.580863552397153\n"
          ],
          "name": "stdout"
        },
        {
          "output_type": "stream",
          "text": [
            "\n",
            " 90%|█████████ | 452/502 [03:42<00:26,  1.86it/s]\u001b[A"
          ],
          "name": "stderr"
        },
        {
          "output_type": "stream",
          "text": [
            "Train 0.468988156515908\n",
            "Test 0.32260875497623387\n"
          ],
          "name": "stdout"
        },
        {
          "output_type": "stream",
          "text": [
            "\n",
            " 90%|█████████ | 453/502 [03:43<00:26,  1.83it/s]\u001b[A"
          ],
          "name": "stderr"
        },
        {
          "output_type": "stream",
          "text": [
            "Train 0.5478910904675518\n",
            "Test 0.4794439680885163\n"
          ],
          "name": "stdout"
        },
        {
          "output_type": "stream",
          "text": [
            "\n",
            " 90%|█████████ | 454/502 [03:43<00:26,  1.83it/s]\u001b[A"
          ],
          "name": "stderr"
        },
        {
          "output_type": "stream",
          "text": [
            "Train 0.4759153416214419\n",
            "Test 0.34310951122035604\n"
          ],
          "name": "stdout"
        },
        {
          "output_type": "stream",
          "text": [
            "\n",
            " 91%|█████████ | 455/502 [03:44<00:25,  1.85it/s]\u001b[A"
          ],
          "name": "stderr"
        },
        {
          "output_type": "stream",
          "text": [
            "Train 0.5858706505539404\n",
            "Test 0.5749196702436051\n"
          ],
          "name": "stdout"
        },
        {
          "output_type": "stream",
          "text": [
            "\n",
            " 91%|█████████ | 456/502 [03:44<00:24,  1.87it/s]\u001b[A"
          ],
          "name": "stderr"
        },
        {
          "output_type": "stream",
          "text": [
            "Train 0.5590168015591284\n",
            "Test 0.5432156543441045\n"
          ],
          "name": "stdout"
        },
        {
          "output_type": "stream",
          "text": [
            "\n",
            " 91%|█████████ | 457/502 [03:45<00:24,  1.84it/s]\u001b[A"
          ],
          "name": "stderr"
        },
        {
          "output_type": "stream",
          "text": [
            "Train 0.7723293548069196\n",
            "Test 0.7794437973806905\n"
          ],
          "name": "stdout"
        },
        {
          "output_type": "stream",
          "text": [
            "\n",
            " 91%|█████████ | 458/502 [03:45<00:24,  1.83it/s]\u001b[A"
          ],
          "name": "stderr"
        },
        {
          "output_type": "stream",
          "text": [
            "Train 0.6820536593998314\n",
            "Test 0.6707088692689243\n"
          ],
          "name": "stdout"
        },
        {
          "output_type": "stream",
          "text": [
            "\n",
            " 91%|█████████▏| 459/502 [03:46<00:23,  1.82it/s]\u001b[A"
          ],
          "name": "stderr"
        },
        {
          "output_type": "stream",
          "text": [
            "Train 0.6712105821344838\n",
            "Test 0.6056166666960545\n"
          ],
          "name": "stdout"
        },
        {
          "output_type": "stream",
          "text": [
            "\n",
            " 92%|█████████▏| 460/502 [03:47<00:23,  1.81it/s]\u001b[A"
          ],
          "name": "stderr"
        },
        {
          "output_type": "stream",
          "text": [
            "Train 0.729559961695484\n",
            "Test 0.7313871787900252\n"
          ],
          "name": "stdout"
        },
        {
          "output_type": "stream",
          "text": [
            "\n",
            " 92%|█████████▏| 461/502 [03:47<00:22,  1.82it/s]\u001b[A"
          ],
          "name": "stderr"
        },
        {
          "output_type": "stream",
          "text": [
            "Train 0.742480868383159\n",
            "Test 0.721804902787917\n"
          ],
          "name": "stdout"
        },
        {
          "output_type": "stream",
          "text": [
            "\n",
            " 92%|█████████▏| 462/502 [03:48<00:21,  1.83it/s]\u001b[A"
          ],
          "name": "stderr"
        },
        {
          "output_type": "stream",
          "text": [
            "Train 0.7034037578934031\n",
            "Test 0.6499800914530903\n"
          ],
          "name": "stdout"
        },
        {
          "output_type": "stream",
          "text": [
            "\n",
            " 92%|█████████▏| 463/502 [03:48<00:21,  1.83it/s]\u001b[A"
          ],
          "name": "stderr"
        },
        {
          "output_type": "stream",
          "text": [
            "Train 0.6870626203025498\n",
            "Test 0.6871812509423145\n"
          ],
          "name": "stdout"
        },
        {
          "output_type": "stream",
          "text": [
            "\n",
            " 92%|█████████▏| 464/502 [03:49<00:20,  1.82it/s]\u001b[A"
          ],
          "name": "stderr"
        },
        {
          "output_type": "stream",
          "text": [
            "Train 0.6744415198373857\n",
            "Test 0.6372267548964299\n"
          ],
          "name": "stdout"
        },
        {
          "output_type": "stream",
          "text": [
            "\n",
            " 93%|█████████▎| 465/502 [03:49<00:20,  1.81it/s]\u001b[A"
          ],
          "name": "stderr"
        },
        {
          "output_type": "stream",
          "text": [
            "Train 0.7155938851623325\n",
            "Test 0.6687996605074384\n"
          ],
          "name": "stdout"
        },
        {
          "output_type": "stream",
          "text": [
            "\n",
            " 93%|█████████▎| 466/502 [03:50<00:19,  1.83it/s]\u001b[A"
          ],
          "name": "stderr"
        },
        {
          "output_type": "stream",
          "text": [
            "Train 0.7137474377137945\n",
            "Test 0.6755245925579119\n"
          ],
          "name": "stdout"
        },
        {
          "output_type": "stream",
          "text": [
            "\n",
            " 93%|█████████▎| 467/502 [03:50<00:19,  1.83it/s]\u001b[A"
          ],
          "name": "stderr"
        },
        {
          "output_type": "stream",
          "text": [
            "Train 0.7609663387036303\n",
            "Test 0.7798246823462909\n"
          ],
          "name": "stdout"
        },
        {
          "output_type": "stream",
          "text": [
            "\n",
            " 93%|█████████▎| 468/502 [03:51<00:18,  1.82it/s]\u001b[A"
          ],
          "name": "stderr"
        },
        {
          "output_type": "stream",
          "text": [
            "Train 0.7693738744276944\n",
            "Test 0.7454704049578168\n"
          ],
          "name": "stdout"
        },
        {
          "output_type": "stream",
          "text": [
            "\n",
            " 93%|█████████▎| 469/502 [03:52<00:18,  1.80it/s]\u001b[A"
          ],
          "name": "stderr"
        },
        {
          "output_type": "stream",
          "text": [
            "Train 0.704454645426093\n",
            "Test 0.6378622782635254\n"
          ],
          "name": "stdout"
        },
        {
          "output_type": "stream",
          "text": [
            "\n",
            " 94%|█████████▎| 470/502 [03:52<00:17,  1.80it/s]\u001b[A"
          ],
          "name": "stderr"
        },
        {
          "output_type": "stream",
          "text": [
            "Train 0.7365035984786321\n",
            "Test 0.7086620007031152\n"
          ],
          "name": "stdout"
        },
        {
          "output_type": "stream",
          "text": [
            "\n",
            " 94%|█████████▍| 471/502 [03:53<00:17,  1.82it/s]\u001b[A"
          ],
          "name": "stderr"
        },
        {
          "output_type": "stream",
          "text": [
            "Train 0.7038521607188999\n",
            "Test 0.6593234155452594\n"
          ],
          "name": "stdout"
        },
        {
          "output_type": "stream",
          "text": [
            "\n",
            " 94%|█████████▍| 472/502 [03:53<00:16,  1.82it/s]\u001b[A"
          ],
          "name": "stderr"
        },
        {
          "output_type": "stream",
          "text": [
            "Train 0.7267477753422378\n",
            "Test 0.747815887833254\n"
          ],
          "name": "stdout"
        },
        {
          "output_type": "stream",
          "text": [
            "\n",
            " 94%|█████████▍| 473/502 [03:54<00:15,  1.82it/s]\u001b[A"
          ],
          "name": "stderr"
        },
        {
          "output_type": "stream",
          "text": [
            "Train 0.7407157716148759\n",
            "Test 0.7106062948254104\n"
          ],
          "name": "stdout"
        },
        {
          "output_type": "stream",
          "text": [
            "\n",
            " 94%|█████████▍| 474/502 [03:54<00:15,  1.82it/s]\u001b[A"
          ],
          "name": "stderr"
        },
        {
          "output_type": "stream",
          "text": [
            "Train 0.6794402736826057\n",
            "Test 0.6007669938785796\n"
          ],
          "name": "stdout"
        },
        {
          "output_type": "stream",
          "text": [
            "\n",
            " 95%|█████████▍| 475/502 [03:55<00:14,  1.81it/s]\u001b[A"
          ],
          "name": "stderr"
        },
        {
          "output_type": "stream",
          "text": [
            "Train 0.7085877346408924\n",
            "Test 0.6666071682187528\n"
          ],
          "name": "stdout"
        },
        {
          "output_type": "stream",
          "text": [
            "\n",
            " 95%|█████████▍| 476/502 [03:55<00:14,  1.80it/s]\u001b[A"
          ],
          "name": "stderr"
        },
        {
          "output_type": "stream",
          "text": [
            "Train 0.6753590499543095\n",
            "Test 0.617406364938337\n"
          ],
          "name": "stdout"
        },
        {
          "output_type": "stream",
          "text": [
            "\n",
            " 95%|█████████▌| 477/502 [03:56<00:13,  1.80it/s]\u001b[A"
          ],
          "name": "stderr"
        },
        {
          "output_type": "stream",
          "text": [
            "Train 0.7379448663687211\n",
            "Test 0.7286552541162036\n"
          ],
          "name": "stdout"
        },
        {
          "output_type": "stream",
          "text": [
            "\n",
            " 95%|█████████▌| 478/502 [03:57<00:13,  1.83it/s]\u001b[A"
          ],
          "name": "stderr"
        },
        {
          "output_type": "stream",
          "text": [
            "Train 0.6756231966714012\n",
            "Test 0.6840267111039819\n"
          ],
          "name": "stdout"
        },
        {
          "output_type": "stream",
          "text": [
            "\n",
            " 95%|█████████▌| 479/502 [03:57<00:12,  1.80it/s]\u001b[A"
          ],
          "name": "stderr"
        },
        {
          "output_type": "stream",
          "text": [
            "Train 0.6935532519753765\n",
            "Test 0.6468667739154956\n"
          ],
          "name": "stdout"
        },
        {
          "output_type": "stream",
          "text": [
            "\n",
            " 96%|█████████▌| 480/502 [03:58<00:12,  1.80it/s]\u001b[A"
          ],
          "name": "stderr"
        },
        {
          "output_type": "stream",
          "text": [
            "Train 0.5897129254433617\n",
            "Test 0.46136557606058803\n"
          ],
          "name": "stdout"
        },
        {
          "output_type": "stream",
          "text": [
            "\n",
            " 96%|█████████▌| 481/502 [03:58<00:11,  1.80it/s]\u001b[A"
          ],
          "name": "stderr"
        },
        {
          "output_type": "stream",
          "text": [
            "Train 0.6401081153966675\n",
            "Test 0.5660644258085519\n"
          ],
          "name": "stdout"
        },
        {
          "output_type": "stream",
          "text": [
            "\n",
            " 96%|█████████▌| 482/502 [03:59<00:11,  1.80it/s]\u001b[A"
          ],
          "name": "stderr"
        },
        {
          "output_type": "stream",
          "text": [
            "Train 0.5794342451722685\n",
            "Test 0.46949927436235717\n"
          ],
          "name": "stdout"
        },
        {
          "output_type": "stream",
          "text": [
            "\n",
            " 96%|█████████▌| 483/502 [03:59<00:10,  1.80it/s]\u001b[A"
          ],
          "name": "stderr"
        },
        {
          "output_type": "stream",
          "text": [
            "Train 0.6943061617006636\n",
            "Test 0.6684421905293441\n"
          ],
          "name": "stdout"
        },
        {
          "output_type": "stream",
          "text": [
            "\n",
            " 96%|█████████▋| 484/502 [04:00<00:09,  1.81it/s]\u001b[A"
          ],
          "name": "stderr"
        },
        {
          "output_type": "stream",
          "text": [
            "Train 0.6695287599209858\n",
            "Test 0.6429565347693782\n"
          ],
          "name": "stdout"
        },
        {
          "output_type": "stream",
          "text": [
            "\n",
            " 97%|█████████▋| 485/502 [04:00<00:09,  1.83it/s]\u001b[A"
          ],
          "name": "stderr"
        },
        {
          "output_type": "stream",
          "text": [
            "Train 0.7565273563557132\n",
            "Test 0.7709722546491851\n"
          ],
          "name": "stdout"
        },
        {
          "output_type": "stream",
          "text": [
            "\n",
            " 97%|█████████▋| 486/502 [04:01<00:08,  1.81it/s]\u001b[A"
          ],
          "name": "stderr"
        },
        {
          "output_type": "stream",
          "text": [
            "Train 0.7623603791488478\n",
            "Test 0.745433559965531\n"
          ],
          "name": "stdout"
        },
        {
          "output_type": "stream",
          "text": [
            "\n",
            " 97%|█████████▋| 487/502 [04:02<00:08,  1.79it/s]\u001b[A"
          ],
          "name": "stderr"
        },
        {
          "output_type": "stream",
          "text": [
            "Train 0.6915560954947839\n",
            "Test 0.6391907810497002\n"
          ],
          "name": "stdout"
        },
        {
          "output_type": "stream",
          "text": [
            "\n",
            " 97%|█████████▋| 488/502 [04:02<00:07,  1.80it/s]\u001b[A"
          ],
          "name": "stderr"
        },
        {
          "output_type": "stream",
          "text": [
            "Train 0.7298616879208899\n",
            "Test 0.705237173327864\n"
          ],
          "name": "stdout"
        },
        {
          "output_type": "stream",
          "text": [
            "\n",
            " 97%|█████████▋| 489/502 [04:03<00:07,  1.79it/s]\u001b[A"
          ],
          "name": "stderr"
        },
        {
          "output_type": "stream",
          "text": [
            "Train 0.6968404597433062\n",
            "Test 0.6536262203357814\n"
          ],
          "name": "stdout"
        },
        {
          "output_type": "stream",
          "text": [
            "\n",
            " 98%|█████████▊| 490/502 [04:03<00:06,  1.79it/s]\u001b[A"
          ],
          "name": "stderr"
        },
        {
          "output_type": "stream",
          "text": [
            "Train 0.7161331370097955\n",
            "Test 0.7178697875954784\n"
          ],
          "name": "stdout"
        },
        {
          "output_type": "stream",
          "text": [
            "\n",
            " 98%|█████████▊| 491/502 [04:04<00:06,  1.80it/s]\u001b[A"
          ],
          "name": "stderr"
        },
        {
          "output_type": "stream",
          "text": [
            "Train 0.6879831066755364\n",
            "Test 0.6833885188092181\n"
          ],
          "name": "stdout"
        },
        {
          "output_type": "stream",
          "text": [
            "\n",
            " 98%|█████████▊| 492/502 [04:04<00:05,  1.80it/s]\u001b[A"
          ],
          "name": "stderr"
        },
        {
          "output_type": "stream",
          "text": [
            "Train 0.6247846090821093\n",
            "Test 0.6101403981537463\n"
          ],
          "name": "stdout"
        },
        {
          "output_type": "stream",
          "text": [
            "\n",
            " 98%|█████████▊| 493/502 [04:05<00:05,  1.79it/s]\u001b[A"
          ],
          "name": "stderr"
        },
        {
          "output_type": "stream",
          "text": [
            "Train 0.7828697077738872\n",
            "Test 0.7975498652172947\n"
          ],
          "name": "stdout"
        },
        {
          "output_type": "stream",
          "text": [
            "\n",
            " 98%|█████████▊| 494/502 [04:05<00:04,  1.77it/s]\u001b[A"
          ],
          "name": "stderr"
        },
        {
          "output_type": "stream",
          "text": [
            "Train 0.7903302044210448\n",
            "Test 0.7640442554259828\n"
          ],
          "name": "stdout"
        },
        {
          "output_type": "stream",
          "text": [
            "\n",
            " 99%|█████████▊| 495/502 [04:06<00:03,  1.77it/s]\u001b[A"
          ],
          "name": "stderr"
        },
        {
          "output_type": "stream",
          "text": [
            "Train 0.7299494774708443\n",
            "Test 0.6681227422733875\n"
          ],
          "name": "stdout"
        },
        {
          "output_type": "stream",
          "text": [
            "\n",
            " 99%|█████████▉| 496/502 [04:07<00:03,  1.73it/s]\u001b[A"
          ],
          "name": "stderr"
        },
        {
          "output_type": "stream",
          "text": [
            "Train 0.7582017344153089\n",
            "Test 0.7285930959264059\n"
          ],
          "name": "stdout"
        },
        {
          "output_type": "stream",
          "text": [
            "\n",
            " 99%|█████████▉| 497/502 [04:07<00:02,  1.71it/s]\u001b[A"
          ],
          "name": "stderr"
        },
        {
          "output_type": "stream",
          "text": [
            "Train 0.7278725910562547\n",
            "Test 0.6845886588916628\n"
          ],
          "name": "stdout"
        },
        {
          "output_type": "stream",
          "text": [
            "\n",
            " 99%|█████████▉| 498/502 [04:08<00:02,  1.72it/s]\u001b[A"
          ],
          "name": "stderr"
        },
        {
          "output_type": "stream",
          "text": [
            "Train 0.778363640312522\n",
            "Test 0.7708696220683404\n"
          ],
          "name": "stdout"
        },
        {
          "output_type": "stream",
          "text": [
            "\n",
            " 99%|█████████▉| 499/502 [04:08<00:01,  1.73it/s]\u001b[A"
          ],
          "name": "stderr"
        },
        {
          "output_type": "stream",
          "text": [
            "Train 0.7487815009802765\n",
            "Test 0.7369015398982637\n"
          ],
          "name": "stdout"
        },
        {
          "output_type": "stream",
          "text": [
            "\n",
            "100%|█████████▉| 500/502 [04:09<00:01,  1.75it/s]\u001b[A"
          ],
          "name": "stderr"
        },
        {
          "output_type": "stream",
          "text": [
            "Train 0.7036183929707645\n",
            "Test 0.6759088822346493\n"
          ],
          "name": "stdout"
        },
        {
          "output_type": "stream",
          "text": [
            "\n",
            "100%|█████████▉| 501/502 [04:09<00:00,  1.75it/s]\u001b[A"
          ],
          "name": "stderr"
        },
        {
          "output_type": "stream",
          "text": [
            "Train 0.7712214743725707\n",
            "Test 0.7632376472667985\n"
          ],
          "name": "stdout"
        },
        {
          "output_type": "stream",
          "text": [
            "\n",
            "100%|██████████| 502/502 [04:10<00:00,  2.00it/s]"
          ],
          "name": "stderr"
        },
        {
          "output_type": "stream",
          "text": [
            "Train 0.7986249209614436\n",
            "Test 0.7851916579918694\n"
          ],
          "name": "stdout"
        },
        {
          "output_type": "stream",
          "text": [
            "\n"
          ],
          "name": "stderr"
        }
      ]
    },
    {
      "cell_type": "code",
      "metadata": {
        "id": "ZuNsz5QNy2wf",
        "colab": {
          "base_uri": "https://localhost:8080/",
          "height": 419
        },
        "outputId": "18231869-4851-4102-db58-dce15f8696b1"
      },
      "source": [
        "top_5"
      ],
      "execution_count": null,
      "outputs": [
        {
          "output_type": "execute_result",
          "data": {
            "text/html": [
              "<div>\n",
              "<style scoped>\n",
              "    .dataframe tbody tr th:only-of-type {\n",
              "        vertical-align: middle;\n",
              "    }\n",
              "\n",
              "    .dataframe tbody tr th {\n",
              "        vertical-align: top;\n",
              "    }\n",
              "\n",
              "    .dataframe thead th {\n",
              "        text-align: right;\n",
              "    }\n",
              "</style>\n",
              "<table border=\"1\" class=\"dataframe\">\n",
              "  <thead>\n",
              "    <tr style=\"text-align: right;\">\n",
              "      <th></th>\n",
              "      <th>F</th>\n",
              "      <th>Train</th>\n",
              "      <th>Test</th>\n",
              "    </tr>\n",
              "  </thead>\n",
              "  <tbody>\n",
              "    <tr>\n",
              "      <th>0</th>\n",
              "      <td>(encoder__x0_Highly Effective, encoder__x0_Ine...</td>\n",
              "      <td>0.451994</td>\n",
              "      <td>0.472380</td>\n",
              "    </tr>\n",
              "    <tr>\n",
              "      <th>1</th>\n",
              "      <td>(encoder__x0_Highly Effective, encoder__x0_Mar...</td>\n",
              "      <td>0.322747</td>\n",
              "      <td>0.305472</td>\n",
              "    </tr>\n",
              "    <tr>\n",
              "      <th>2</th>\n",
              "      <td>(encoder__x0_Highly Effective, encoder__x0_Mod...</td>\n",
              "      <td>0.282414</td>\n",
              "      <td>0.269454</td>\n",
              "    </tr>\n",
              "    <tr>\n",
              "      <th>3</th>\n",
              "      <td>(encoder__x0_Highly Effective, encoder__x1_Mil...</td>\n",
              "      <td>0.364166</td>\n",
              "      <td>0.325893</td>\n",
              "    </tr>\n",
              "    <tr>\n",
              "      <th>4</th>\n",
              "      <td>(encoder__x0_Highly Effective, encoder__x1_Mod...</td>\n",
              "      <td>0.292893</td>\n",
              "      <td>0.276306</td>\n",
              "    </tr>\n",
              "    <tr>\n",
              "      <th>...</th>\n",
              "      <td>...</td>\n",
              "      <td>...</td>\n",
              "      <td>...</td>\n",
              "    </tr>\n",
              "    <tr>\n",
              "      <th>497</th>\n",
              "      <td>(encoder__x0_Highly Effective, encoder__x0_Ine...</td>\n",
              "      <td>0.778364</td>\n",
              "      <td>0.770870</td>\n",
              "    </tr>\n",
              "    <tr>\n",
              "      <th>498</th>\n",
              "      <td>(encoder__x0_Highly Effective, encoder__x0_Ine...</td>\n",
              "      <td>0.748782</td>\n",
              "      <td>0.736902</td>\n",
              "    </tr>\n",
              "    <tr>\n",
              "      <th>499</th>\n",
              "      <td>(encoder__x0_Highly Effective, encoder__x0_Mar...</td>\n",
              "      <td>0.703618</td>\n",
              "      <td>0.675909</td>\n",
              "    </tr>\n",
              "    <tr>\n",
              "      <th>500</th>\n",
              "      <td>(encoder__x0_Ineffective, encoder__x0_Marginal...</td>\n",
              "      <td>0.771221</td>\n",
              "      <td>0.763238</td>\n",
              "    </tr>\n",
              "    <tr>\n",
              "      <th>501</th>\n",
              "      <td>(encoder__x0_Highly Effective, encoder__x0_Ine...</td>\n",
              "      <td>0.798625</td>\n",
              "      <td>0.785192</td>\n",
              "    </tr>\n",
              "  </tbody>\n",
              "</table>\n",
              "<p>502 rows × 3 columns</p>\n",
              "</div>"
            ],
            "text/plain": [
              "                                                     F     Train      Test\n",
              "0    (encoder__x0_Highly Effective, encoder__x0_Ine...  0.451994  0.472380\n",
              "1    (encoder__x0_Highly Effective, encoder__x0_Mar...  0.322747  0.305472\n",
              "2    (encoder__x0_Highly Effective, encoder__x0_Mod...  0.282414  0.269454\n",
              "3    (encoder__x0_Highly Effective, encoder__x1_Mil...  0.364166  0.325893\n",
              "4    (encoder__x0_Highly Effective, encoder__x1_Mod...  0.292893  0.276306\n",
              "..                                                 ...       ...       ...\n",
              "497  (encoder__x0_Highly Effective, encoder__x0_Ine...  0.778364  0.770870\n",
              "498  (encoder__x0_Highly Effective, encoder__x0_Ine...  0.748782  0.736902\n",
              "499  (encoder__x0_Highly Effective, encoder__x0_Mar...  0.703618  0.675909\n",
              "500  (encoder__x0_Ineffective, encoder__x0_Marginal...  0.771221  0.763238\n",
              "501  (encoder__x0_Highly Effective, encoder__x0_Ine...  0.798625  0.785192\n",
              "\n",
              "[502 rows x 3 columns]"
            ]
          },
          "metadata": {
            "tags": []
          },
          "execution_count": 115
        }
      ]
    },
    {
      "cell_type": "code",
      "metadata": {
        "id": "88Anvz5PN7qu",
        "colab": {
          "base_uri": "https://localhost:8080/",
          "height": 204
        },
        "outputId": "45237a8b-709f-45c3-ab1e-85163dcecbd2"
      },
      "source": [
        "top_5.sort_values(by=['Train'],ascending=False).head()"
      ],
      "execution_count": null,
      "outputs": [
        {
          "output_type": "execute_result",
          "data": {
            "text/html": [
              "<div>\n",
              "<style scoped>\n",
              "    .dataframe tbody tr th:only-of-type {\n",
              "        vertical-align: middle;\n",
              "    }\n",
              "\n",
              "    .dataframe tbody tr th {\n",
              "        vertical-align: top;\n",
              "    }\n",
              "\n",
              "    .dataframe thead th {\n",
              "        text-align: right;\n",
              "    }\n",
              "</style>\n",
              "<table border=\"1\" class=\"dataframe\">\n",
              "  <thead>\n",
              "    <tr style=\"text-align: right;\">\n",
              "      <th></th>\n",
              "      <th>F</th>\n",
              "      <th>Train</th>\n",
              "      <th>Test</th>\n",
              "    </tr>\n",
              "  </thead>\n",
              "  <tbody>\n",
              "    <tr>\n",
              "      <th>501</th>\n",
              "      <td>(encoder__x0_Highly Effective, encoder__x0_Ine...</td>\n",
              "      <td>0.798625</td>\n",
              "      <td>0.785192</td>\n",
              "    </tr>\n",
              "    <tr>\n",
              "      <th>493</th>\n",
              "      <td>(encoder__x0_Highly Effective, encoder__x0_Ine...</td>\n",
              "      <td>0.790330</td>\n",
              "      <td>0.764044</td>\n",
              "    </tr>\n",
              "    <tr>\n",
              "      <th>492</th>\n",
              "      <td>(encoder__x0_Highly Effective, encoder__x0_Ine...</td>\n",
              "      <td>0.782870</td>\n",
              "      <td>0.797550</td>\n",
              "    </tr>\n",
              "    <tr>\n",
              "      <th>497</th>\n",
              "      <td>(encoder__x0_Highly Effective, encoder__x0_Ine...</td>\n",
              "      <td>0.778364</td>\n",
              "      <td>0.770870</td>\n",
              "    </tr>\n",
              "    <tr>\n",
              "      <th>456</th>\n",
              "      <td>(encoder__x0_Highly Effective, encoder__x0_Ine...</td>\n",
              "      <td>0.772329</td>\n",
              "      <td>0.779444</td>\n",
              "    </tr>\n",
              "  </tbody>\n",
              "</table>\n",
              "</div>"
            ],
            "text/plain": [
              "                                                     F     Train      Test\n",
              "501  (encoder__x0_Highly Effective, encoder__x0_Ine...  0.798625  0.785192\n",
              "493  (encoder__x0_Highly Effective, encoder__x0_Ine...  0.790330  0.764044\n",
              "492  (encoder__x0_Highly Effective, encoder__x0_Ine...  0.782870  0.797550\n",
              "497  (encoder__x0_Highly Effective, encoder__x0_Ine...  0.778364  0.770870\n",
              "456  (encoder__x0_Highly Effective, encoder__x0_Ine...  0.772329  0.779444"
            ]
          },
          "metadata": {
            "tags": []
          },
          "execution_count": 116
        }
      ]
    },
    {
      "cell_type": "code",
      "metadata": {
        "id": "iz6ntzUhV9tU"
      },
      "source": [
        "pd.set_option('max_colwidth', 400)"
      ],
      "execution_count": null,
      "outputs": []
    },
    {
      "cell_type": "code",
      "metadata": {
        "id": "VLMYEvt0WtDz"
      },
      "source": [
        ""
      ],
      "execution_count": null,
      "outputs": []
    },
    {
      "cell_type": "markdown",
      "metadata": {
        "id": "NhoN1svUZNtR"
      },
      "source": [
        "![image.png](data:image/png;base64,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)"
      ]
    },
    {
      "cell_type": "code",
      "metadata": {
        "id": "kgDmE4GJZO2n"
      },
      "source": [
        ""
      ],
      "execution_count": null,
      "outputs": []
    },
    {
      "cell_type": "markdown",
      "metadata": {
        "id": "KFdIc2_0X7My"
      },
      "source": [
        "## Ensemble 1"
      ]
    },
    {
      "cell_type": "code",
      "metadata": {
        "id": "Ggd3PjZ_bU9q"
      },
      "source": [
        "\n",
        "from numpy import mean\n",
        "from numpy import std\n",
        "from sklearn.datasets import make_regression\n",
        "from sklearn.model_selection import cross_val_score\n",
        "from sklearn.model_selection import RepeatedKFold\n",
        "from sklearn.linear_model import LinearRegression\n",
        "from sklearn.neighbors import KNeighborsRegressor\n",
        "from sklearn.tree import DecisionTreeRegressor\n",
        "from sklearn.ensemble import StackingRegressor\n",
        "from xgboost import XGBRegressor\n",
        "\n",
        "\n",
        "from sklearn.svm import SVR\n",
        "from matplotlib import pyplot\n",
        "# get a stacking ensemble of models\n",
        "def get_stacking():\n",
        "\t# define the base models\n",
        "  level0 = list()\n",
        "  level0.append(('knn', KNeighborsRegressor()))\n",
        "  level0.append(('cart', DecisionTreeRegressor()))\n",
        "  level0.append(('svm', SVR()))\n",
        "  level0.append(('xg',XGBRegressor()))\n",
        "  level0.append(('rf',RandomForestRegressor(bootstrap=True, ccp_alpha=0.0, criterion='mse',max_depth=600, max_features=8, max_leaf_nodes=None,max_samples=None, min_impurity_decrease=0.0,min_impurity_split=None, min_samples_leaf=2,min_samples_split=10, min_weight_fraction_leaf=0.0,n_estimators=100, n_jobs=None, oob_score=False,random_state=None, verbose=0, warm_start=False)))\n",
        "\t# define meta learner model\n",
        "  level1 = LinearRegression()\n",
        "\t# define the stacking ensemble\n",
        "  model = StackingRegressor(estimators=level0, final_estimator=level1, cv=5)\n",
        "  return model"
      ],
      "execution_count": null,
      "outputs": []
    },
    {
      "cell_type": "code",
      "metadata": {
        "id": "KA8rK0wMYLh8"
      },
      "source": [
        "# get a list of models to evaluate\n",
        "def get_models():\n",
        "  models = dict()\n",
        "  models['knn'] = KNeighborsRegressor()\n",
        "  models['cart'] = DecisionTreeRegressor()\n",
        "  models['svm'] = SVR()\n",
        "  models['xg']=XGBRegressor()\n",
        "  models['rf']=RandomForestRegressor(bootstrap=True, ccp_alpha=0.0, criterion='mse',\n",
        "                      max_depth=600, max_features=8, max_leaf_nodes=None,\n",
        "                      max_samples=None, min_impurity_decrease=0.0,\n",
        "                      min_impurity_split=None, min_samples_leaf=2,\n",
        "                      min_samples_split=10, min_weight_fraction_leaf=0.0,\n",
        "                      n_estimators=100, n_jobs=None, oob_score=False,\n",
        "                      random_state=None, verbose=0, warm_start=False)\n",
        "  models['stacking'] = get_stacking()\n",
        "  return models"
      ],
      "execution_count": null,
      "outputs": []
    },
    {
      "cell_type": "code",
      "metadata": {
        "id": "ZWw3Sg5EYUK9"
      },
      "source": [
        "\n",
        "# evaluate a given model using cross-validation\n",
        "def evaluate_model(model, X, y):\n",
        "\tcv = RepeatedKFold(n_splits=10, n_repeats=3, random_state=1)\n",
        "\tscores = cross_val_score(model, X, y, scoring='r2', cv=cv, n_jobs=-1, error_score='raise')\n",
        "\treturn scores"
      ],
      "execution_count": null,
      "outputs": []
    },
    {
      "cell_type": "code",
      "metadata": {
        "colab": {
          "base_uri": "https://localhost:8080/",
          "height": 374
        },
        "id": "wIio4lKHZ7bY",
        "outputId": "acba458b-b72f-4c7b-83f5-ae71cd0474ad"
      },
      "source": [
        "\n",
        "models = get_models()\n",
        "\n",
        "results, names = list(), list()\n",
        "for name, model in models.items():\n",
        "\tscores = evaluate_model(model, X_train, y_train)\n",
        "\tresults.append(scores)\n",
        "\tnames.append(name)\n",
        "\tprint('>%s %.3f (%.3f)' % (name, mean(scores), std(scores)))\n",
        "# plot model performance for comparison\n",
        "pyplot.boxplot(results, labels=names, showmeans=True)\n",
        "pyplot.show()\n"
      ],
      "execution_count": null,
      "outputs": [
        {
          "output_type": "stream",
          "text": [
            ">knn 0.757 (0.042)\n",
            ">cart 0.782 (0.041)\n",
            ">svm 0.781 (0.040)\n",
            ">xg 0.775 (0.040)\n",
            ">rf 0.785 (0.039)\n",
            ">stacking 0.785 (0.038)\n"
          ],
          "name": "stdout"
        },
        {
          "output_type": "display_data",
          "data": {
            "image/png": "[encoded data removed]",
            "text/plain": [
              "<Figure size 432x288 with 1 Axes>"
            ]
          },
          "metadata": {
            "tags": [],
            "needs_background": "light"
          }
        }
      ]
    },
    {
      "cell_type": "code",
      "metadata": {
        "id": "zkVpj_8Aaded"
      },
      "source": [
        ""
      ],
      "execution_count": null,
      "outputs": []
    },
    {
      "cell_type": "markdown",
      "metadata": {
        "id": "Bc-7mdonovy3"
      },
      "source": [
        "## Ensemble 2"
      ]
    },
    {
      "cell_type": "code",
      "metadata": {
        "id": "z10cYxkhozFr"
      },
      "source": [
        "from sklearn.linear_model import LogisticRegression\n",
        "model1 = DecisionTreeRegressor()\n",
        "model2 = KNeighborsRegressor()\n",
        "model3= LogisticRegression()\n",
        "model4=SVR()\n",
        "\n",
        "\n",
        "model1.fit(X_train,y_train)\n",
        "model2.fit(X_train,y_train)\n",
        "model3.fit(X_train,y_train)\n",
        "model4.fit(X_train,y_train)\n",
        "\n",
        "pred1=model1.predict(X_train)\n",
        "pred2=model2.predict(X_train)\n",
        "pred3=model3.predict(X_train)\n",
        "pred4=model3.predict(X_train)\n",
        "\n"
      ],
      "execution_count": null,
      "outputs": []
    },
    {
      "cell_type": "code",
      "metadata": {
        "id": "EGNnNyLMtr_C"
      },
      "source": [
        "average_ensemble=(0.4*pred1+0.2*pred2+0.2*pred3+0.2*pred4)"
      ],
      "execution_count": null,
      "outputs": []
    },
    {
      "cell_type": "code",
      "metadata": {
        "id": "HMo1sxzKuhwq"
      },
      "source": [
        ""
      ],
      "execution_count": null,
      "outputs": []
    },
    {
      "cell_type": "code",
      "metadata": {
        "colab": {
          "base_uri": "https://localhost:8080/"
        },
        "id": "R3Zsm0IutUjJ",
        "outputId": "e39a3e39-5a17-47da-c48b-ee56399b483a"
      },
      "source": [
        "from sklearn.metrics import r2_score\n",
        "r2_score(average_ensemble,y_train)"
      ],
      "execution_count": null,
      "outputs": [
        {
          "output_type": "execute_result",
          "data": {
            "text/plain": [
              "0.7574446009133193"
            ]
          },
          "metadata": {
            "tags": []
          },
          "execution_count": 148
        }
      ]
    },
    {
      "cell_type": "code",
      "metadata": {
        "colab": {
          "base_uri": "https://localhost:8080/"
        },
        "id": "5bAUjYwUuhHF",
        "outputId": "54e17c4e-e8fd-4b80-d476-b5b3549b62ea"
      },
      "source": [
        "r2_score(pred1,y_train)"
      ],
      "execution_count": null,
      "outputs": [
        {
          "output_type": "execute_result",
          "data": {
            "text/plain": [
              "0.7542326704464328"
            ]
          },
          "metadata": {
            "tags": []
          },
          "execution_count": 149
        }
      ]
    },
    {
      "cell_type": "code",
      "metadata": {
        "colab": {
          "base_uri": "https://localhost:8080/"
        },
        "id": "GJtzNt_bumO8",
        "outputId": "94f5184d-645f-4fe3-d533-8a6b7529043b"
      },
      "source": [
        "r2_score(pred2,y_train)"
      ],
      "execution_count": null,
      "outputs": [
        {
          "output_type": "execute_result",
          "data": {
            "text/plain": [
              "0.7464386379342065"
            ]
          },
          "metadata": {
            "tags": []
          },
          "execution_count": 150
        }
      ]
    },
    {
      "cell_type": "code",
      "metadata": {
        "colab": {
          "base_uri": "https://localhost:8080/"
        },
        "id": "y4_XhH1Luw-g",
        "outputId": "7d60183c-e845-49ab-cda4-c53ece62d10f"
      },
      "source": [
        "r2_score(pred4,y_train)"
      ],
      "execution_count": null,
      "outputs": [
        {
          "output_type": "execute_result",
          "data": {
            "text/plain": [
              "0.6965315249818957"
            ]
          },
          "metadata": {
            "tags": []
          },
          "execution_count": 151
        }
      ]
    },
    {
      "cell_type": "code",
      "metadata": {
        "id": "AD1t3qFEtB6_"
      },
      "source": [
        "finalpred=(pred1*0.3+pred2*0.3+pred3*0.4)\n"
      ],
      "execution_count": null,
      "outputs": []
    },
    {
      "cell_type": "markdown",
      "metadata": {
        "id": "Jt-Fj0-vnG61"
      },
      "source": [
        "## Lazy Predict Regressor"
      ]
    },
    {
      "cell_type": "code",
      "metadata": {
        "id": "Zh-XnbFXnIs1"
      },
      "source": [
        "#!pip install lazypredict\n"
      ],
      "execution_count": null,
      "outputs": []
    },
    {
      "cell_type": "code",
      "metadata": {
        "id": "xm2Z0josnMuE"
      },
      "source": [
        "import lazypredict\n"
      ],
      "execution_count": null,
      "outputs": []
    },
    {
      "cell_type": "code",
      "metadata": {
        "colab": {
          "base_uri": "https://localhost:8080/",
          "height": 436
        },
        "id": "y8ekZdPWsKYF",
        "outputId": "a5cc117b-f4bc-4a9a-d1d3-a4b6224f5cf4"
      },
      "source": [
        "X_test"
      ],
      "execution_count": null,
      "outputs": [
        {
          "output_type": "execute_result",
          "data": {
            "text/html": [
              "<div>\n",
              "<style scoped>\n",
              "    .dataframe tbody tr th:only-of-type {\n",
              "        vertical-align: middle;\n",
              "    }\n",
              "\n",
              "    .dataframe tbody tr th {\n",
              "        vertical-align: top;\n",
              "    }\n",
              "\n",
              "    .dataframe thead th {\n",
              "        text-align: right;\n",
              "    }\n",
              "</style>\n",
              "<table border=\"1\" class=\"dataframe\">\n",
              "  <thead>\n",
              "    <tr style=\"text-align: right;\">\n",
              "      <th></th>\n",
              "      <th>encoder__x0_Highly Effective</th>\n",
              "      <th>encoder__x0_Ineffective</th>\n",
              "      <th>encoder__x0_Marginally Effective</th>\n",
              "      <th>encoder__x0_Moderately Effective</th>\n",
              "      <th>encoder__x1_Mild Side Effects</th>\n",
              "      <th>encoder__x1_Moderate Side Effects</th>\n",
              "      <th>encoder__x1_No Side Effects</th>\n",
              "      <th>encoder__x1_Severe Side Effects</th>\n",
              "      <th>encoder__x2_1</th>\n",
              "    </tr>\n",
              "  </thead>\n",
              "  <tbody>\n",
              "    <tr>\n",
              "      <th>0</th>\n",
              "      <td>1.00</td>\n",
              "      <td>0.00</td>\n",
              "      <td>0.00</td>\n",
              "      <td>0.00</td>\n",
              "      <td>0.00</td>\n",
              "      <td>1.00</td>\n",
              "      <td>0.00</td>\n",
              "      <td>0.00</td>\n",
              "      <td>1.00</td>\n",
              "    </tr>\n",
              "    <tr>\n",
              "      <th>1</th>\n",
              "      <td>0.00</td>\n",
              "      <td>0.00</td>\n",
              "      <td>0.00</td>\n",
              "      <td>0.00</td>\n",
              "      <td>0.00</td>\n",
              "      <td>0.00</td>\n",
              "      <td>1.00</td>\n",
              "      <td>0.00</td>\n",
              "      <td>0.00</td>\n",
              "    </tr>\n",
              "    <tr>\n",
              "      <th>2</th>\n",
              "      <td>1.00</td>\n",
              "      <td>0.00</td>\n",
              "      <td>0.00</td>\n",
              "      <td>0.00</td>\n",
              "      <td>1.00</td>\n",
              "      <td>0.00</td>\n",
              "      <td>0.00</td>\n",
              "      <td>0.00</td>\n",
              "      <td>1.00</td>\n",
              "    </tr>\n",
              "    <tr>\n",
              "      <th>3</th>\n",
              "      <td>1.00</td>\n",
              "      <td>0.00</td>\n",
              "      <td>0.00</td>\n",
              "      <td>0.00</td>\n",
              "      <td>0.00</td>\n",
              "      <td>1.00</td>\n",
              "      <td>0.00</td>\n",
              "      <td>0.00</td>\n",
              "      <td>1.00</td>\n",
              "    </tr>\n",
              "    <tr>\n",
              "      <th>4</th>\n",
              "      <td>1.00</td>\n",
              "      <td>0.00</td>\n",
              "      <td>0.00</td>\n",
              "      <td>0.00</td>\n",
              "      <td>0.00</td>\n",
              "      <td>0.00</td>\n",
              "      <td>1.00</td>\n",
              "      <td>0.00</td>\n",
              "      <td>1.00</td>\n",
              "    </tr>\n",
              "    <tr>\n",
              "      <th>...</th>\n",
              "      <td>...</td>\n",
              "      <td>...</td>\n",
              "      <td>...</td>\n",
              "      <td>...</td>\n",
              "      <td>...</td>\n",
              "      <td>...</td>\n",
              "      <td>...</td>\n",
              "      <td>...</td>\n",
              "      <td>...</td>\n",
              "    </tr>\n",
              "    <tr>\n",
              "      <th>927</th>\n",
              "      <td>1.00</td>\n",
              "      <td>0.00</td>\n",
              "      <td>0.00</td>\n",
              "      <td>0.00</td>\n",
              "      <td>1.00</td>\n",
              "      <td>0.00</td>\n",
              "      <td>0.00</td>\n",
              "      <td>0.00</td>\n",
              "      <td>1.00</td>\n",
              "    </tr>\n",
              "    <tr>\n",
              "      <th>928</th>\n",
              "      <td>1.00</td>\n",
              "      <td>0.00</td>\n",
              "      <td>0.00</td>\n",
              "      <td>0.00</td>\n",
              "      <td>1.00</td>\n",
              "      <td>0.00</td>\n",
              "      <td>0.00</td>\n",
              "      <td>0.00</td>\n",
              "      <td>1.00</td>\n",
              "    </tr>\n",
              "    <tr>\n",
              "      <th>929</th>\n",
              "      <td>1.00</td>\n",
              "      <td>0.00</td>\n",
              "      <td>0.00</td>\n",
              "      <td>0.00</td>\n",
              "      <td>0.00</td>\n",
              "      <td>0.00</td>\n",
              "      <td>0.00</td>\n",
              "      <td>1.00</td>\n",
              "      <td>1.00</td>\n",
              "    </tr>\n",
              "    <tr>\n",
              "      <th>930</th>\n",
              "      <td>1.00</td>\n",
              "      <td>0.00</td>\n",
              "      <td>0.00</td>\n",
              "      <td>0.00</td>\n",
              "      <td>1.00</td>\n",
              "      <td>0.00</td>\n",
              "      <td>0.00</td>\n",
              "      <td>0.00</td>\n",
              "      <td>1.00</td>\n",
              "    </tr>\n",
              "    <tr>\n",
              "      <th>931</th>\n",
              "      <td>0.00</td>\n",
              "      <td>0.00</td>\n",
              "      <td>0.00</td>\n",
              "      <td>0.00</td>\n",
              "      <td>0.00</td>\n",
              "      <td>0.00</td>\n",
              "      <td>1.00</td>\n",
              "      <td>0.00</td>\n",
              "      <td>1.00</td>\n",
              "    </tr>\n",
              "  </tbody>\n",
              "</table>\n",
              "<p>932 rows × 9 columns</p>\n",
              "</div>"
            ],
            "text/plain": [
              "     encoder__x0_Highly Effective  ...  encoder__x2_1\n",
              "0                            1.00  ...           1.00\n",
              "1                            0.00  ...           0.00\n",
              "2                            1.00  ...           1.00\n",
              "3                            1.00  ...           1.00\n",
              "4                            1.00  ...           1.00\n",
              "..                            ...  ...            ...\n",
              "927                          1.00  ...           1.00\n",
              "928                          1.00  ...           1.00\n",
              "929                          1.00  ...           1.00\n",
              "930                          1.00  ...           1.00\n",
              "931                          0.00  ...           1.00\n",
              "\n",
              "[932 rows x 9 columns]"
            ]
          },
          "metadata": {
            "tags": []
          },
          "execution_count": 119
        }
      ]
    },
    {
      "cell_type": "code",
      "metadata": {
        "colab": {
          "base_uri": "https://localhost:8080/"
        },
        "id": "FriqHMTlrs-7",
        "outputId": "b8a525d4-ee53-4243-dc56-36e28ab2f1c0"
      },
      "source": [
        "y_test"
      ],
      "execution_count": null,
      "outputs": [
        {
          "output_type": "execute_result",
          "data": {
            "text/plain": [
              "214      8\n",
              "1814     6\n",
              "2347     9\n",
              "3035     9\n",
              "457     10\n",
              "        ..\n",
              "1160     8\n",
              "195     10\n",
              "1097    10\n",
              "530     10\n",
              "2992     9\n",
              "Name: rating, Length: 932, dtype: int64"
            ]
          },
          "metadata": {
            "tags": []
          },
          "execution_count": 120
        }
      ]
    },
    {
      "cell_type": "code",
      "metadata": {
        "colab": {
          "base_uri": "https://localhost:8080/"
        },
        "id": "d7N0u1Z3neMr",
        "outputId": "09ccd9f1-2a93-48b1-f899-68c3ad51d19d"
      },
      "source": [
        "from lazypredict.Supervised import LazyRegressor\n",
        "reg = LazyRegressor(verbose=0, ignore_warnings=False, custom_metric=None)\n",
        "models, predictions = reg.fit(X_train, X_test, y_train,  y_test)"
      ],
      "execution_count": null,
      "outputs": [
        {
          "output_type": "stream",
          "text": [
            "100%|██████████| 42/42 [00:06<00:00,  6.23it/s]\n"
          ],
          "name": "stderr"
        }
      ]
    },
    {
      "cell_type": "code",
      "metadata": {
        "id": "8dH3ZWI1spk-",
        "colab": {
          "base_uri": "https://localhost:8080/",
          "height": 1000
        },
        "outputId": "d996e99b-faa7-4382-eaaa-2f701401fada"
      },
      "source": [
        "models"
      ],
      "execution_count": null,
      "outputs": [
        {
          "output_type": "execute_result",
          "data": {
            "text/html": [
              "<div>\n",
              "<style scoped>\n",
              "    .dataframe tbody tr th:only-of-type {\n",
              "        vertical-align: middle;\n",
              "    }\n",
              "\n",
              "    .dataframe tbody tr th {\n",
              "        vertical-align: top;\n",
              "    }\n",
              "\n",
              "    .dataframe thead th {\n",
              "        text-align: right;\n",
              "    }\n",
              "</style>\n",
              "<table border=\"1\" class=\"dataframe\">\n",
              "  <thead>\n",
              "    <tr style=\"text-align: right;\">\n",
              "      <th></th>\n",
              "      <th>Adjusted R-Squared</th>\n",
              "      <th>R-Squared</th>\n",
              "      <th>RMSE</th>\n",
              "      <th>Time Taken</th>\n",
              "    </tr>\n",
              "    <tr>\n",
              "      <th>Model</th>\n",
              "      <th></th>\n",
              "      <th></th>\n",
              "      <th></th>\n",
              "      <th></th>\n",
              "    </tr>\n",
              "  </thead>\n",
              "  <tbody>\n",
              "    <tr>\n",
              "      <th>MLPRegressor</th>\n",
              "      <td>0.79</td>\n",
              "      <td>0.79</td>\n",
              "      <td>1.33</td>\n",
              "      <td>2.14</td>\n",
              "    </tr>\n",
              "    <tr>\n",
              "      <th>BaggingRegressor</th>\n",
              "      <td>0.79</td>\n",
              "      <td>0.79</td>\n",
              "      <td>1.34</td>\n",
              "      <td>0.04</td>\n",
              "    </tr>\n",
              "    <tr>\n",
              "      <th>XGBRegressor</th>\n",
              "      <td>0.79</td>\n",
              "      <td>0.79</td>\n",
              "      <td>1.34</td>\n",
              "      <td>0.23</td>\n",
              "    </tr>\n",
              "    <tr>\n",
              "      <th>DecisionTreeRegressor</th>\n",
              "      <td>0.79</td>\n",
              "      <td>0.79</td>\n",
              "      <td>1.34</td>\n",
              "      <td>0.02</td>\n",
              "    </tr>\n",
              "    <tr>\n",
              "      <th>ExtraTreeRegressor</th>\n",
              "      <td>0.79</td>\n",
              "      <td>0.79</td>\n",
              "      <td>1.34</td>\n",
              "      <td>0.02</td>\n",
              "    </tr>\n",
              "    <tr>\n",
              "      <th>ExtraTreesRegressor</th>\n",
              "      <td>0.79</td>\n",
              "      <td>0.79</td>\n",
              "      <td>1.34</td>\n",
              "      <td>0.24</td>\n",
              "    </tr>\n",
              "    <tr>\n",
              "      <th>GaussianProcessRegressor</th>\n",
              "      <td>0.79</td>\n",
              "      <td>0.79</td>\n",
              "      <td>1.34</td>\n",
              "      <td>0.82</td>\n",
              "    </tr>\n",
              "    <tr>\n",
              "      <th>RandomForestRegressor</th>\n",
              "      <td>0.79</td>\n",
              "      <td>0.79</td>\n",
              "      <td>1.34</td>\n",
              "      <td>0.28</td>\n",
              "    </tr>\n",
              "    <tr>\n",
              "      <th>LGBMRegressor</th>\n",
              "      <td>0.79</td>\n",
              "      <td>0.79</td>\n",
              "      <td>1.35</td>\n",
              "      <td>0.07</td>\n",
              "    </tr>\n",
              "    <tr>\n",
              "      <th>HistGradientBoostingRegressor</th>\n",
              "      <td>0.79</td>\n",
              "      <td>0.79</td>\n",
              "      <td>1.35</td>\n",
              "      <td>0.40</td>\n",
              "    </tr>\n",
              "    <tr>\n",
              "      <th>SVR</th>\n",
              "      <td>0.77</td>\n",
              "      <td>0.78</td>\n",
              "      <td>1.39</td>\n",
              "      <td>0.36</td>\n",
              "    </tr>\n",
              "    <tr>\n",
              "      <th>GradientBoostingRegressor</th>\n",
              "      <td>0.77</td>\n",
              "      <td>0.77</td>\n",
              "      <td>1.41</td>\n",
              "      <td>0.13</td>\n",
              "    </tr>\n",
              "    <tr>\n",
              "      <th>TransformedTargetRegressor</th>\n",
              "      <td>0.76</td>\n",
              "      <td>0.77</td>\n",
              "      <td>1.42</td>\n",
              "      <td>0.02</td>\n",
              "    </tr>\n",
              "    <tr>\n",
              "      <th>LinearRegression</th>\n",
              "      <td>0.76</td>\n",
              "      <td>0.77</td>\n",
              "      <td>1.42</td>\n",
              "      <td>0.02</td>\n",
              "    </tr>\n",
              "    <tr>\n",
              "      <th>Lars</th>\n",
              "      <td>0.76</td>\n",
              "      <td>0.77</td>\n",
              "      <td>1.42</td>\n",
              "      <td>0.04</td>\n",
              "    </tr>\n",
              "    <tr>\n",
              "      <th>LarsCV</th>\n",
              "      <td>0.76</td>\n",
              "      <td>0.77</td>\n",
              "      <td>1.42</td>\n",
              "      <td>0.04</td>\n",
              "    </tr>\n",
              "    <tr>\n",
              "      <th>LassoLarsCV</th>\n",
              "      <td>0.76</td>\n",
              "      <td>0.77</td>\n",
              "      <td>1.42</td>\n",
              "      <td>0.08</td>\n",
              "    </tr>\n",
              "    <tr>\n",
              "      <th>LassoLarsIC</th>\n",
              "      <td>0.76</td>\n",
              "      <td>0.77</td>\n",
              "      <td>1.42</td>\n",
              "      <td>0.02</td>\n",
              "    </tr>\n",
              "    <tr>\n",
              "      <th>RidgeCV</th>\n",
              "      <td>0.76</td>\n",
              "      <td>0.77</td>\n",
              "      <td>1.42</td>\n",
              "      <td>0.02</td>\n",
              "    </tr>\n",
              "    <tr>\n",
              "      <th>Ridge</th>\n",
              "      <td>0.76</td>\n",
              "      <td>0.77</td>\n",
              "      <td>1.42</td>\n",
              "      <td>0.01</td>\n",
              "    </tr>\n",
              "    <tr>\n",
              "      <th>BayesianRidge</th>\n",
              "      <td>0.76</td>\n",
              "      <td>0.77</td>\n",
              "      <td>1.42</td>\n",
              "      <td>0.01</td>\n",
              "    </tr>\n",
              "    <tr>\n",
              "      <th>LassoCV</th>\n",
              "      <td>0.76</td>\n",
              "      <td>0.77</td>\n",
              "      <td>1.42</td>\n",
              "      <td>0.18</td>\n",
              "    </tr>\n",
              "    <tr>\n",
              "      <th>NuSVR</th>\n",
              "      <td>0.76</td>\n",
              "      <td>0.77</td>\n",
              "      <td>1.42</td>\n",
              "      <td>0.39</td>\n",
              "    </tr>\n",
              "    <tr>\n",
              "      <th>ElasticNetCV</th>\n",
              "      <td>0.76</td>\n",
              "      <td>0.77</td>\n",
              "      <td>1.42</td>\n",
              "      <td>0.11</td>\n",
              "    </tr>\n",
              "    <tr>\n",
              "      <th>SGDRegressor</th>\n",
              "      <td>0.76</td>\n",
              "      <td>0.76</td>\n",
              "      <td>1.42</td>\n",
              "      <td>0.03</td>\n",
              "    </tr>\n",
              "    <tr>\n",
              "      <th>HuberRegressor</th>\n",
              "      <td>0.76</td>\n",
              "      <td>0.76</td>\n",
              "      <td>1.43</td>\n",
              "      <td>0.05</td>\n",
              "    </tr>\n",
              "    <tr>\n",
              "      <th>KNeighborsRegressor</th>\n",
              "      <td>0.75</td>\n",
              "      <td>0.75</td>\n",
              "      <td>1.46</td>\n",
              "      <td>0.11</td>\n",
              "    </tr>\n",
              "    <tr>\n",
              "      <th>LinearSVR</th>\n",
              "      <td>0.74</td>\n",
              "      <td>0.75</td>\n",
              "      <td>1.48</td>\n",
              "      <td>0.03</td>\n",
              "    </tr>\n",
              "    <tr>\n",
              "      <th>PoissonRegressor</th>\n",
              "      <td>0.72</td>\n",
              "      <td>0.72</td>\n",
              "      <td>1.54</td>\n",
              "      <td>0.02</td>\n",
              "    </tr>\n",
              "    <tr>\n",
              "      <th>RANSACRegressor</th>\n",
              "      <td>0.62</td>\n",
              "      <td>0.62</td>\n",
              "      <td>1.80</td>\n",
              "      <td>0.06</td>\n",
              "    </tr>\n",
              "    <tr>\n",
              "      <th>AdaBoostRegressor</th>\n",
              "      <td>0.61</td>\n",
              "      <td>0.62</td>\n",
              "      <td>1.81</td>\n",
              "      <td>0.04</td>\n",
              "    </tr>\n",
              "    <tr>\n",
              "      <th>GammaRegressor</th>\n",
              "      <td>0.61</td>\n",
              "      <td>0.61</td>\n",
              "      <td>1.83</td>\n",
              "      <td>0.02</td>\n",
              "    </tr>\n",
              "    <tr>\n",
              "      <th>OrthogonalMatchingPursuitCV</th>\n",
              "      <td>0.59</td>\n",
              "      <td>0.60</td>\n",
              "      <td>1.86</td>\n",
              "      <td>0.03</td>\n",
              "    </tr>\n",
              "    <tr>\n",
              "      <th>GeneralizedLinearRegressor</th>\n",
              "      <td>0.58</td>\n",
              "      <td>0.59</td>\n",
              "      <td>1.88</td>\n",
              "      <td>0.02</td>\n",
              "    </tr>\n",
              "    <tr>\n",
              "      <th>TweedieRegressor</th>\n",
              "      <td>0.58</td>\n",
              "      <td>0.59</td>\n",
              "      <td>1.88</td>\n",
              "      <td>0.02</td>\n",
              "    </tr>\n",
              "    <tr>\n",
              "      <th>ElasticNet</th>\n",
              "      <td>0.46</td>\n",
              "      <td>0.47</td>\n",
              "      <td>2.14</td>\n",
              "      <td>0.04</td>\n",
              "    </tr>\n",
              "    <tr>\n",
              "      <th>PassiveAggressiveRegressor</th>\n",
              "      <td>0.44</td>\n",
              "      <td>0.44</td>\n",
              "      <td>2.18</td>\n",
              "      <td>0.02</td>\n",
              "    </tr>\n",
              "    <tr>\n",
              "      <th>OrthogonalMatchingPursuit</th>\n",
              "      <td>0.32</td>\n",
              "      <td>0.33</td>\n",
              "      <td>2.40</td>\n",
              "      <td>0.02</td>\n",
              "    </tr>\n",
              "    <tr>\n",
              "      <th>Lasso</th>\n",
              "      <td>0.30</td>\n",
              "      <td>0.30</td>\n",
              "      <td>2.44</td>\n",
              "      <td>0.03</td>\n",
              "    </tr>\n",
              "    <tr>\n",
              "      <th>DummyRegressor</th>\n",
              "      <td>-0.01</td>\n",
              "      <td>-0.00</td>\n",
              "      <td>2.93</td>\n",
              "      <td>0.03</td>\n",
              "    </tr>\n",
              "    <tr>\n",
              "      <th>LassoLars</th>\n",
              "      <td>-0.01</td>\n",
              "      <td>-0.00</td>\n",
              "      <td>2.93</td>\n",
              "      <td>0.04</td>\n",
              "    </tr>\n",
              "    <tr>\n",
              "      <th>KernelRidge</th>\n",
              "      <td>-5.03</td>\n",
              "      <td>-4.97</td>\n",
              "      <td>7.15</td>\n",
              "      <td>0.39</td>\n",
              "    </tr>\n",
              "  </tbody>\n",
              "</table>\n",
              "</div>"
            ],
            "text/plain": [
              "                               Adjusted R-Squared  R-Squared  RMSE  Time Taken\n",
              "Model                                                                         \n",
              "MLPRegressor                                 0.79       0.79  1.33        2.14\n",
              "BaggingRegressor                             0.79       0.79  1.34        0.04\n",
              "XGBRegressor                                 0.79       0.79  1.34        0.23\n",
              "DecisionTreeRegressor                        0.79       0.79  1.34        0.02\n",
              "ExtraTreeRegressor                           0.79       0.79  1.34        0.02\n",
              "ExtraTreesRegressor                          0.79       0.79  1.34        0.24\n",
              "GaussianProcessRegressor                     0.79       0.79  1.34        0.82\n",
              "RandomForestRegressor                        0.79       0.79  1.34        0.28\n",
              "LGBMRegressor                                0.79       0.79  1.35        0.07\n",
              "HistGradientBoostingRegressor                0.79       0.79  1.35        0.40\n",
              "SVR                                          0.77       0.78  1.39        0.36\n",
              "GradientBoostingRegressor                    0.77       0.77  1.41        0.13\n",
              "TransformedTargetRegressor                   0.76       0.77  1.42        0.02\n",
              "LinearRegression                             0.76       0.77  1.42        0.02\n",
              "Lars                                         0.76       0.77  1.42        0.04\n",
              "LarsCV                                       0.76       0.77  1.42        0.04\n",
              "LassoLarsCV                                  0.76       0.77  1.42        0.08\n",
              "LassoLarsIC                                  0.76       0.77  1.42        0.02\n",
              "RidgeCV                                      0.76       0.77  1.42        0.02\n",
              "Ridge                                        0.76       0.77  1.42        0.01\n",
              "BayesianRidge                                0.76       0.77  1.42        0.01\n",
              "LassoCV                                      0.76       0.77  1.42        0.18\n",
              "NuSVR                                        0.76       0.77  1.42        0.39\n",
              "ElasticNetCV                                 0.76       0.77  1.42        0.11\n",
              "SGDRegressor                                 0.76       0.76  1.42        0.03\n",
              "HuberRegressor                               0.76       0.76  1.43        0.05\n",
              "KNeighborsRegressor                          0.75       0.75  1.46        0.11\n",
              "LinearSVR                                    0.74       0.75  1.48        0.03\n",
              "PoissonRegressor                             0.72       0.72  1.54        0.02\n",
              "RANSACRegressor                              0.62       0.62  1.80        0.06\n",
              "AdaBoostRegressor                            0.61       0.62  1.81        0.04\n",
              "GammaRegressor                               0.61       0.61  1.83        0.02\n",
              "OrthogonalMatchingPursuitCV                  0.59       0.60  1.86        0.03\n",
              "GeneralizedLinearRegressor                   0.58       0.59  1.88        0.02\n",
              "TweedieRegressor                             0.58       0.59  1.88        0.02\n",
              "ElasticNet                                   0.46       0.47  2.14        0.04\n",
              "PassiveAggressiveRegressor                   0.44       0.44  2.18        0.02\n",
              "OrthogonalMatchingPursuit                    0.32       0.33  2.40        0.02\n",
              "Lasso                                        0.30       0.30  2.44        0.03\n",
              "DummyRegressor                              -0.01      -0.00  2.93        0.03\n",
              "LassoLars                                   -0.01      -0.00  2.93        0.04\n",
              "KernelRidge                                 -5.03      -4.97  7.15        0.39"
            ]
          },
          "metadata": {
            "tags": []
          },
          "execution_count": 123
        }
      ]
    },
    {
      "cell_type": "code",
      "metadata": {
        "colab": {
          "base_uri": "https://localhost:8080/",
          "height": 1000
        },
        "id": "dWwpe7PtnvD0",
        "outputId": "e3a28d25-002d-4f50-b0ee-3e00669946d5"
      },
      "source": [
        "predictions"
      ],
      "execution_count": null,
      "outputs": [
        {
          "output_type": "execute_result",
          "data": {
            "text/html": [
              "<div>\n",
              "<style scoped>\n",
              "    .dataframe tbody tr th:only-of-type {\n",
              "        vertical-align: middle;\n",
              "    }\n",
              "\n",
              "    .dataframe tbody tr th {\n",
              "        vertical-align: top;\n",
              "    }\n",
              "\n",
              "    .dataframe thead th {\n",
              "        text-align: right;\n",
              "    }\n",
              "</style>\n",
              "<table border=\"1\" class=\"dataframe\">\n",
              "  <thead>\n",
              "    <tr style=\"text-align: right;\">\n",
              "      <th></th>\n",
              "      <th>Adjusted R-Squared</th>\n",
              "      <th>R-Squared</th>\n",
              "      <th>RMSE</th>\n",
              "      <th>Time Taken</th>\n",
              "    </tr>\n",
              "    <tr>\n",
              "      <th>Model</th>\n",
              "      <th></th>\n",
              "      <th></th>\n",
              "      <th></th>\n",
              "      <th></th>\n",
              "    </tr>\n",
              "  </thead>\n",
              "  <tbody>\n",
              "    <tr>\n",
              "      <th>MLPRegressor</th>\n",
              "      <td>0.79</td>\n",
              "      <td>0.79</td>\n",
              "      <td>1.33</td>\n",
              "      <td>2.14</td>\n",
              "    </tr>\n",
              "    <tr>\n",
              "      <th>BaggingRegressor</th>\n",
              "      <td>0.79</td>\n",
              "      <td>0.79</td>\n",
              "      <td>1.34</td>\n",
              "      <td>0.04</td>\n",
              "    </tr>\n",
              "    <tr>\n",
              "      <th>XGBRegressor</th>\n",
              "      <td>0.79</td>\n",
              "      <td>0.79</td>\n",
              "      <td>1.34</td>\n",
              "      <td>0.23</td>\n",
              "    </tr>\n",
              "    <tr>\n",
              "      <th>DecisionTreeRegressor</th>\n",
              "      <td>0.79</td>\n",
              "      <td>0.79</td>\n",
              "      <td>1.34</td>\n",
              "      <td>0.02</td>\n",
              "    </tr>\n",
              "    <tr>\n",
              "      <th>ExtraTreeRegressor</th>\n",
              "      <td>0.79</td>\n",
              "      <td>0.79</td>\n",
              "      <td>1.34</td>\n",
              "      <td>0.02</td>\n",
              "    </tr>\n",
              "    <tr>\n",
              "      <th>ExtraTreesRegressor</th>\n",
              "      <td>0.79</td>\n",
              "      <td>0.79</td>\n",
              "      <td>1.34</td>\n",
              "      <td>0.24</td>\n",
              "    </tr>\n",
              "    <tr>\n",
              "      <th>GaussianProcessRegressor</th>\n",
              "      <td>0.79</td>\n",
              "      <td>0.79</td>\n",
              "      <td>1.34</td>\n",
              "      <td>0.82</td>\n",
              "    </tr>\n",
              "    <tr>\n",
              "      <th>RandomForestRegressor</th>\n",
              "      <td>0.79</td>\n",
              "      <td>0.79</td>\n",
              "      <td>1.34</td>\n",
              "      <td>0.28</td>\n",
              "    </tr>\n",
              "    <tr>\n",
              "      <th>LGBMRegressor</th>\n",
              "      <td>0.79</td>\n",
              "      <td>0.79</td>\n",
              "      <td>1.35</td>\n",
              "      <td>0.07</td>\n",
              "    </tr>\n",
              "    <tr>\n",
              "      <th>HistGradientBoostingRegressor</th>\n",
              "      <td>0.79</td>\n",
              "      <td>0.79</td>\n",
              "      <td>1.35</td>\n",
              "      <td>0.40</td>\n",
              "    </tr>\n",
              "    <tr>\n",
              "      <th>SVR</th>\n",
              "      <td>0.77</td>\n",
              "      <td>0.78</td>\n",
              "      <td>1.39</td>\n",
              "      <td>0.36</td>\n",
              "    </tr>\n",
              "    <tr>\n",
              "      <th>GradientBoostingRegressor</th>\n",
              "      <td>0.77</td>\n",
              "      <td>0.77</td>\n",
              "      <td>1.41</td>\n",
              "      <td>0.13</td>\n",
              "    </tr>\n",
              "    <tr>\n",
              "      <th>TransformedTargetRegressor</th>\n",
              "      <td>0.76</td>\n",
              "      <td>0.77</td>\n",
              "      <td>1.42</td>\n",
              "      <td>0.02</td>\n",
              "    </tr>\n",
              "    <tr>\n",
              "      <th>LinearRegression</th>\n",
              "      <td>0.76</td>\n",
              "      <td>0.77</td>\n",
              "      <td>1.42</td>\n",
              "      <td>0.02</td>\n",
              "    </tr>\n",
              "    <tr>\n",
              "      <th>Lars</th>\n",
              "      <td>0.76</td>\n",
              "      <td>0.77</td>\n",
              "      <td>1.42</td>\n",
              "      <td>0.04</td>\n",
              "    </tr>\n",
              "    <tr>\n",
              "      <th>LarsCV</th>\n",
              "      <td>0.76</td>\n",
              "      <td>0.77</td>\n",
              "      <td>1.42</td>\n",
              "      <td>0.04</td>\n",
              "    </tr>\n",
              "    <tr>\n",
              "      <th>LassoLarsCV</th>\n",
              "      <td>0.76</td>\n",
              "      <td>0.77</td>\n",
              "      <td>1.42</td>\n",
              "      <td>0.08</td>\n",
              "    </tr>\n",
              "    <tr>\n",
              "      <th>LassoLarsIC</th>\n",
              "      <td>0.76</td>\n",
              "      <td>0.77</td>\n",
              "      <td>1.42</td>\n",
              "      <td>0.02</td>\n",
              "    </tr>\n",
              "    <tr>\n",
              "      <th>RidgeCV</th>\n",
              "      <td>0.76</td>\n",
              "      <td>0.77</td>\n",
              "      <td>1.42</td>\n",
              "      <td>0.02</td>\n",
              "    </tr>\n",
              "    <tr>\n",
              "      <th>Ridge</th>\n",
              "      <td>0.76</td>\n",
              "      <td>0.77</td>\n",
              "      <td>1.42</td>\n",
              "      <td>0.01</td>\n",
              "    </tr>\n",
              "    <tr>\n",
              "      <th>BayesianRidge</th>\n",
              "      <td>0.76</td>\n",
              "      <td>0.77</td>\n",
              "      <td>1.42</td>\n",
              "      <td>0.01</td>\n",
              "    </tr>\n",
              "    <tr>\n",
              "      <th>LassoCV</th>\n",
              "      <td>0.76</td>\n",
              "      <td>0.77</td>\n",
              "      <td>1.42</td>\n",
              "      <td>0.18</td>\n",
              "    </tr>\n",
              "    <tr>\n",
              "      <th>NuSVR</th>\n",
              "      <td>0.76</td>\n",
              "      <td>0.77</td>\n",
              "      <td>1.42</td>\n",
              "      <td>0.39</td>\n",
              "    </tr>\n",
              "    <tr>\n",
              "      <th>ElasticNetCV</th>\n",
              "      <td>0.76</td>\n",
              "      <td>0.77</td>\n",
              "      <td>1.42</td>\n",
              "      <td>0.11</td>\n",
              "    </tr>\n",
              "    <tr>\n",
              "      <th>SGDRegressor</th>\n",
              "      <td>0.76</td>\n",
              "      <td>0.76</td>\n",
              "      <td>1.42</td>\n",
              "      <td>0.03</td>\n",
              "    </tr>\n",
              "    <tr>\n",
              "      <th>HuberRegressor</th>\n",
              "      <td>0.76</td>\n",
              "      <td>0.76</td>\n",
              "      <td>1.43</td>\n",
              "      <td>0.05</td>\n",
              "    </tr>\n",
              "    <tr>\n",
              "      <th>KNeighborsRegressor</th>\n",
              "      <td>0.75</td>\n",
              "      <td>0.75</td>\n",
              "      <td>1.46</td>\n",
              "      <td>0.11</td>\n",
              "    </tr>\n",
              "    <tr>\n",
              "      <th>LinearSVR</th>\n",
              "      <td>0.74</td>\n",
              "      <td>0.75</td>\n",
              "      <td>1.48</td>\n",
              "      <td>0.03</td>\n",
              "    </tr>\n",
              "    <tr>\n",
              "      <th>PoissonRegressor</th>\n",
              "      <td>0.72</td>\n",
              "      <td>0.72</td>\n",
              "      <td>1.54</td>\n",
              "      <td>0.02</td>\n",
              "    </tr>\n",
              "    <tr>\n",
              "      <th>RANSACRegressor</th>\n",
              "      <td>0.62</td>\n",
              "      <td>0.62</td>\n",
              "      <td>1.80</td>\n",
              "      <td>0.06</td>\n",
              "    </tr>\n",
              "    <tr>\n",
              "      <th>AdaBoostRegressor</th>\n",
              "      <td>0.61</td>\n",
              "      <td>0.62</td>\n",
              "      <td>1.81</td>\n",
              "      <td>0.04</td>\n",
              "    </tr>\n",
              "    <tr>\n",
              "      <th>GammaRegressor</th>\n",
              "      <td>0.61</td>\n",
              "      <td>0.61</td>\n",
              "      <td>1.83</td>\n",
              "      <td>0.02</td>\n",
              "    </tr>\n",
              "    <tr>\n",
              "      <th>OrthogonalMatchingPursuitCV</th>\n",
              "      <td>0.59</td>\n",
              "      <td>0.60</td>\n",
              "      <td>1.86</td>\n",
              "      <td>0.03</td>\n",
              "    </tr>\n",
              "    <tr>\n",
              "      <th>GeneralizedLinearRegressor</th>\n",
              "      <td>0.58</td>\n",
              "      <td>0.59</td>\n",
              "      <td>1.88</td>\n",
              "      <td>0.02</td>\n",
              "    </tr>\n",
              "    <tr>\n",
              "      <th>TweedieRegressor</th>\n",
              "      <td>0.58</td>\n",
              "      <td>0.59</td>\n",
              "      <td>1.88</td>\n",
              "      <td>0.02</td>\n",
              "    </tr>\n",
              "    <tr>\n",
              "      <th>ElasticNet</th>\n",
              "      <td>0.46</td>\n",
              "      <td>0.47</td>\n",
              "      <td>2.14</td>\n",
              "      <td>0.04</td>\n",
              "    </tr>\n",
              "    <tr>\n",
              "      <th>PassiveAggressiveRegressor</th>\n",
              "      <td>0.44</td>\n",
              "      <td>0.44</td>\n",
              "      <td>2.18</td>\n",
              "      <td>0.02</td>\n",
              "    </tr>\n",
              "    <tr>\n",
              "      <th>OrthogonalMatchingPursuit</th>\n",
              "      <td>0.32</td>\n",
              "      <td>0.33</td>\n",
              "      <td>2.40</td>\n",
              "      <td>0.02</td>\n",
              "    </tr>\n",
              "    <tr>\n",
              "      <th>Lasso</th>\n",
              "      <td>0.30</td>\n",
              "      <td>0.30</td>\n",
              "      <td>2.44</td>\n",
              "      <td>0.03</td>\n",
              "    </tr>\n",
              "    <tr>\n",
              "      <th>DummyRegressor</th>\n",
              "      <td>-0.01</td>\n",
              "      <td>-0.00</td>\n",
              "      <td>2.93</td>\n",
              "      <td>0.03</td>\n",
              "    </tr>\n",
              "    <tr>\n",
              "      <th>LassoLars</th>\n",
              "      <td>-0.01</td>\n",
              "      <td>-0.00</td>\n",
              "      <td>2.93</td>\n",
              "      <td>0.04</td>\n",
              "    </tr>\n",
              "    <tr>\n",
              "      <th>KernelRidge</th>\n",
              "      <td>-5.03</td>\n",
              "      <td>-4.97</td>\n",
              "      <td>7.15</td>\n",
              "      <td>0.39</td>\n",
              "    </tr>\n",
              "  </tbody>\n",
              "</table>\n",
              "</div>"
            ],
            "text/plain": [
              "                               Adjusted R-Squared  R-Squared  RMSE  Time Taken\n",
              "Model                                                                         \n",
              "MLPRegressor                                 0.79       0.79  1.33        2.14\n",
              "BaggingRegressor                             0.79       0.79  1.34        0.04\n",
              "XGBRegressor                                 0.79       0.79  1.34        0.23\n",
              "DecisionTreeRegressor                        0.79       0.79  1.34        0.02\n",
              "ExtraTreeRegressor                           0.79       0.79  1.34        0.02\n",
              "ExtraTreesRegressor                          0.79       0.79  1.34        0.24\n",
              "GaussianProcessRegressor                     0.79       0.79  1.34        0.82\n",
              "RandomForestRegressor                        0.79       0.79  1.34        0.28\n",
              "LGBMRegressor                                0.79       0.79  1.35        0.07\n",
              "HistGradientBoostingRegressor                0.79       0.79  1.35        0.40\n",
              "SVR                                          0.77       0.78  1.39        0.36\n",
              "GradientBoostingRegressor                    0.77       0.77  1.41        0.13\n",
              "TransformedTargetRegressor                   0.76       0.77  1.42        0.02\n",
              "LinearRegression                             0.76       0.77  1.42        0.02\n",
              "Lars                                         0.76       0.77  1.42        0.04\n",
              "LarsCV                                       0.76       0.77  1.42        0.04\n",
              "LassoLarsCV                                  0.76       0.77  1.42        0.08\n",
              "LassoLarsIC                                  0.76       0.77  1.42        0.02\n",
              "RidgeCV                                      0.76       0.77  1.42        0.02\n",
              "Ridge                                        0.76       0.77  1.42        0.01\n",
              "BayesianRidge                                0.76       0.77  1.42        0.01\n",
              "LassoCV                                      0.76       0.77  1.42        0.18\n",
              "NuSVR                                        0.76       0.77  1.42        0.39\n",
              "ElasticNetCV                                 0.76       0.77  1.42        0.11\n",
              "SGDRegressor                                 0.76       0.76  1.42        0.03\n",
              "HuberRegressor                               0.76       0.76  1.43        0.05\n",
              "KNeighborsRegressor                          0.75       0.75  1.46        0.11\n",
              "LinearSVR                                    0.74       0.75  1.48        0.03\n",
              "PoissonRegressor                             0.72       0.72  1.54        0.02\n",
              "RANSACRegressor                              0.62       0.62  1.80        0.06\n",
              "AdaBoostRegressor                            0.61       0.62  1.81        0.04\n",
              "GammaRegressor                               0.61       0.61  1.83        0.02\n",
              "OrthogonalMatchingPursuitCV                  0.59       0.60  1.86        0.03\n",
              "GeneralizedLinearRegressor                   0.58       0.59  1.88        0.02\n",
              "TweedieRegressor                             0.58       0.59  1.88        0.02\n",
              "ElasticNet                                   0.46       0.47  2.14        0.04\n",
              "PassiveAggressiveRegressor                   0.44       0.44  2.18        0.02\n",
              "OrthogonalMatchingPursuit                    0.32       0.33  2.40        0.02\n",
              "Lasso                                        0.30       0.30  2.44        0.03\n",
              "DummyRegressor                              -0.01      -0.00  2.93        0.03\n",
              "LassoLars                                   -0.01      -0.00  2.93        0.04\n",
              "KernelRidge                                 -5.03      -4.97  7.15        0.39"
            ]
          },
          "metadata": {
            "tags": []
          },
          "execution_count": 122
        }
      ]
    }
  ]
}